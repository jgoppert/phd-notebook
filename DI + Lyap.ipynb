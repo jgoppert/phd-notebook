{
 "metadata": {
  "name": "",
  "signature": "sha256:4b63b1c7546faac870f844bf17a1396fc5565ec211aac1747225179e1e3908ea"
 },
 "nbformat": 3,
 "nbformat_minor": 0,
 "worksheets": [
  {
   "cells": [
    {
     "cell_type": "code",
     "collapsed": false,
     "input": [
      "%load_ext autoreload\n",
      "%autoreload 2\n",
      "from __future__ import print_function\n",
      "import sympy\n",
      "import sympy.physics.mechanics as mech\n",
      "import scipy\n",
      "import numpy as np\n",
      "import matplotlib.pyplot as plt\n",
      "import pylmibisim.lmi\n",
      "%pylab inline\n",
      "sympy.init_printing()\n",
      "%matplotlib inline"
     ],
     "language": "python",
     "metadata": {},
     "outputs": [
      {
       "output_type": "stream",
       "stream": "stdout",
       "text": [
        "The autoreload extension is already loaded. To reload it, use:\n",
        "  %reload_ext autoreload\n",
        "Populating the interactive namespace from numpy and matplotlib\n"
       ]
      },
      {
       "output_type": "stream",
       "stream": "stderr",
       "text": [
        "WARNING: pylab import has clobbered these variables: ['f']\n",
        "`%matplotlib` prevents importing * from pylab and numpy\n"
       ]
      }
     ],
     "prompt_number": 34
    },
    {
     "cell_type": "code",
     "collapsed": false,
     "input": [
      "#derive dynamics using Lagrange's Method\n",
      "const = {'m': 1, 'g': 9.8, 'l': 1}\n",
      "theta, theta_0, u_0, m, g, l, t, u, k1, k2 = \\\n",
      "    sympy.symbols('theta, theta_0, u_0, m, g l, t, u, k1, k2')\n",
      "frame_e = mech.ReferenceFrame('e')\n",
      "frame_b = frame_e.orientnew('b', 'Axis', (theta(t), frame_e.y))\n",
      "\n",
      "point_o = mech.Point('o')\n",
      "point_o.set_vel(frame_e, 0)\n",
      "\n",
      "point_cm = point_o.locatenew('cm', l*frame_b.x)\n",
      "point_cm.set_vel(frame_b, 0)\n",
      "point_cm.v1pt_theory(point_o, frame_e, frame_b)\n",
      "\n",
      "ball = mech.Particle('ball', point_cm, m)\n",
      "ball.set_potential_energy(\n",
      "    m*g*l*sympy.cos(theta(t)))\n",
      "L = mech.Lagrangian(frame_e, ball).collect([theta(t), theta(t).diff(t)])\n",
      "lm = mech.LagrangesMethod(\n",
      "    Lagrangian=L,\n",
      "    qs=[theta(t)],\n",
      "    forcelist=[\n",
      "        (frame_b, u(t)*frame_b.y)\n",
      "    ],\n",
      "    frame=frame_e)\n",
      "lm.form_lagranges_equations()[0].simplify()\n",
      "rhs = lm.rhs()\n",
      "x_vect = sympy.Matrix([theta(t), theta(t).diff(t)])\n",
      "u_vect = sympy.Matrix([u(t)])\n",
      "A = rhs.jacobian(x_vect)\n",
      "B = rhs.jacobian(u_vect)\n",
      "x_v = sympy.DeferredVector('x')\n",
      "u_v = sympy.DeferredVector('u')\n",
      "ss_sub = {theta(t): x_v[0], theta(t).diff(t): x_v[1], u(t): u_v[0]}\n",
      "E = ball.kinetic_energy(frame_e) + ball.potential_energy\n",
      "E_dot = (sympy.Matrix([E]).jacobian(x_vect) * rhs)[0].simplify()\n",
      "f_E = sympy.lambdify((x_v, u_v, theta_0,\n",
      "                      u_0, m, g, l), E.subs(ss_sub), default_array=True)\n",
      "f_rhs = rhs.subs({theta(t): x_v[0], theta(t).diff(t): x_v[1], u(t): u_v[0]})\n",
      "f = sympy.lambdify((t, x_v, u_v, theta_0, u_0, m, g, l), f_rhs, default_array=True)"
     ],
     "language": "python",
     "metadata": {
      "code_folding": []
     },
     "outputs": [],
     "prompt_number": 35
    },
    {
     "cell_type": "code",
     "collapsed": false,
     "input": [
      "E"
     ],
     "language": "python",
     "metadata": {},
     "outputs": [
      {
       "latex": [
        "$$g l m \\cos{\\left (\\theta{\\left (t \\right )} \\right )} + \\frac{l^{2} m}{2} \\left(\\frac{d}{d t} \\theta{\\left (t \\right )}\\right)^{2}$$"
       ],
       "metadata": {},
       "output_type": "pyout",
       "png": "[encoded data removed]",
       "prompt_number": 36,
       "text": [
        "                                 2\n",
        "                   2   \u239bd       \u239e \n",
        "                  l \u22c5m\u22c5\u239c\u2500\u2500(\u03b8(t))\u239f \n",
        "                       \u239ddt      \u23a0 \n",
        "g\u22c5l\u22c5m\u22c5cos(\u03b8(t)) + \u2500\u2500\u2500\u2500\u2500\u2500\u2500\u2500\u2500\u2500\u2500\u2500\u2500\u2500\u2500\u2500\n",
        "                         2        "
       ]
      }
     ],
     "prompt_number": 36
    },
    {
     "cell_type": "code",
     "collapsed": false,
     "input": [
      "u_expr = -k1*(theta(t)-theta_0) - k2*(theta(t).diff(t)) - m*g*l*sympy.sin(theta(t))\n",
      "u_expr"
     ],
     "language": "python",
     "metadata": {},
     "outputs": [
      {
       "latex": [
        "$$- g l m \\sin{\\left (\\theta{\\left (t \\right )} \\right )} - k_{1} \\left(- \\theta_{0} + \\theta{\\left (t \\right )}\\right) - k_{2} \\frac{d}{d t} \\theta{\\left (t \\right )}$$"
       ],
       "metadata": {},
       "output_type": "pyout",
       "png": "[encoded data removed]",
       "prompt_number": 37,
       "text": [
        "                                        d       \n",
        "-g\u22c5l\u22c5m\u22c5sin(\u03b8(t)) - k\u2081\u22c5(-\u03b8\u2080 + \u03b8(t)) - k\u2082\u22c5\u2500\u2500(\u03b8(t))\n",
        "                                        dt      "
       ]
      }
     ],
     "prompt_number": 37
    },
    {
     "cell_type": "code",
     "collapsed": false,
     "input": [
      "u_pe = -sympy.integrate(u_expr.subs({theta(t).diff(t): 0, theta(t): theta}), theta).subs(theta, theta(t))\n",
      "u_pe"
     ],
     "language": "python",
     "metadata": {},
     "outputs": [
      {
       "latex": [
        "$$- g l m \\cos{\\left (\\theta{\\left (t \\right )} \\right )} + k_{1} \\left(- \\theta_{0} \\theta{\\left (t \\right )} + \\frac{1}{2} \\theta^{2}{\\left (t \\right )}\\right)$$"
       ],
       "metadata": {},
       "output_type": "pyout",
       "png": "[encoded data removed]",
       "prompt_number": 38,
       "text": [
        "                      \u239b            2   \u239e\n",
        "                      \u239c           \u03b8 (t)\u239f\n",
        "-g\u22c5l\u22c5m\u22c5cos(\u03b8(t)) + k\u2081\u22c5\u239c-\u03b8\u2080\u22c5\u03b8(t) + \u2500\u2500\u2500\u2500\u2500\u239f\n",
        "                      \u239d             2  \u23a0"
       ]
      }
     ],
     "prompt_number": 38
    },
    {
     "cell_type": "code",
     "collapsed": false,
     "input": [
      "x_vect"
     ],
     "language": "python",
     "metadata": {},
     "outputs": [
      {
       "latex": [
        "$$\\left[\\begin{matrix}\\theta{\\left (t \\right )}\\\\\\frac{d}{d t} \\theta{\\left (t \\right )}\\end{matrix}\\right]$$"
       ],
       "metadata": {},
       "output_type": "pyout",
       "png": "[encoded data removed]",
       "prompt_number": 39,
       "text": [
        "\u23a1  \u03b8(t)  \u23a4\n",
        "\u23a2        \u23a5\n",
        "\u23a2d       \u23a5\n",
        "\u23a2\u2500\u2500(\u03b8(t))\u23a5\n",
        "\u23a3dt      \u23a6"
       ]
      }
     ],
     "prompt_number": 39
    },
    {
     "cell_type": "code",
     "collapsed": false,
     "input": [
      "V = E + u_pe\n",
      "V"
     ],
     "language": "python",
     "metadata": {},
     "outputs": [
      {
       "latex": [
        "$$k_{1} \\left(- \\theta_{0} \\theta{\\left (t \\right )} + \\frac{1}{2} \\theta^{2}{\\left (t \\right )}\\right) + \\frac{l^{2} m}{2} \\left(\\frac{d}{d t} \\theta{\\left (t \\right )}\\right)^{2}$$"
       ],
       "metadata": {},
       "output_type": "pyout",
       "png": "[encoded data removed]",
       "prompt_number": 40,
       "text": [
        "                                       2\n",
        "                         2   \u239bd       \u239e \n",
        "   \u239b            2   \u239e   l \u22c5m\u22c5\u239c\u2500\u2500(\u03b8(t))\u239f \n",
        "   \u239c           \u03b8 (t)\u239f        \u239ddt      \u23a0 \n",
        "k\u2081\u22c5\u239c-\u03b8\u2080\u22c5\u03b8(t) + \u2500\u2500\u2500\u2500\u2500\u239f + \u2500\u2500\u2500\u2500\u2500\u2500\u2500\u2500\u2500\u2500\u2500\u2500\u2500\u2500\u2500\u2500\n",
        "   \u239d             2  \u23a0          2        "
       ]
      }
     ],
     "prompt_number": 40
    },
    {
     "cell_type": "code",
     "collapsed": false,
     "input": [
      "dVdx = sympy.Matrix([V]).jacobian(x_vect)\n",
      "dVdx"
     ],
     "language": "python",
     "metadata": {},
     "outputs": [
      {
       "latex": [
        "$$\\left[\\begin{matrix}k_{1} \\left(- \\theta_{0} + \\theta{\\left (t \\right )}\\right) & l^{2} m \\frac{d}{d t} \\theta{\\left (t \\right )}\\end{matrix}\\right]$$"
       ],
       "metadata": {},
       "output_type": "pyout",
       "png": "[encoded data removed]",
       "prompt_number": 9,
       "text": [
        "\u23a1                  2   d       \u23a4\n",
        "\u23a2k\u2081\u22c5(-\u03b8\u2080 + \u03b8(t))  l \u22c5m\u22c5\u2500\u2500(\u03b8(t))\u23a5\n",
        "\u23a3                      dt      \u23a6"
       ]
      }
     ],
     "prompt_number": 9
    },
    {
     "cell_type": "code",
     "collapsed": false,
     "input": [
      "dxdt = rhs.subs(u(t), u_expr)\n",
      "dxdt"
     ],
     "language": "python",
     "metadata": {},
     "outputs": [
      {
       "latex": [
        "$$\\left[\\begin{matrix}\\frac{d}{d t} \\theta{\\left (t \\right )}\\\\\\frac{1}{l^{2} m} \\left(- k_{1} \\left(- \\theta_{0} + \\theta{\\left (t \\right )}\\right) - k_{2} \\frac{d}{d t} \\theta{\\left (t \\right )}\\right)\\end{matrix}\\right]$$"
       ],
       "metadata": {},
       "output_type": "pyout",
       "png": "[encoded data removed]",
       "prompt_number": 10,
       "text": [
        "\u23a1           d                  \u23a4\n",
        "\u23a2           \u2500\u2500(\u03b8(t))           \u23a5\n",
        "\u23a2           dt                 \u23a5\n",
        "\u23a2                              \u23a5\n",
        "\u23a2                      d       \u23a5\n",
        "\u23a2-k\u2081\u22c5(-\u03b8\u2080 + \u03b8(t)) - k\u2082\u22c5\u2500\u2500(\u03b8(t))\u23a5\n",
        "\u23a2                      dt      \u23a5\n",
        "\u23a2\u2500\u2500\u2500\u2500\u2500\u2500\u2500\u2500\u2500\u2500\u2500\u2500\u2500\u2500\u2500\u2500\u2500\u2500\u2500\u2500\u2500\u2500\u2500\u2500\u2500\u2500\u2500\u2500\u2500\u2500\u23a5\n",
        "\u23a2              2               \u23a5\n",
        "\u23a3             l \u22c5m             \u23a6"
       ]
      }
     ],
     "prompt_number": 10
    },
    {
     "cell_type": "code",
     "collapsed": false,
     "input": [
      "dVdx.dot(dxdt).simplify()"
     ],
     "language": "python",
     "metadata": {},
     "outputs": [
      {
       "latex": [
        "$$- k_{2} \\left(\\frac{d}{d t} \\theta{\\left (t \\right )}\\right)^{2}$$"
       ],
       "metadata": {},
       "output_type": "pyout",
       "png": "[encoded data removed]",
       "prompt_number": 11,
       "text": [
        "              2\n",
        "    \u239bd       \u239e \n",
        "-k\u2082\u22c5\u239c\u2500\u2500(\u03b8(t))\u239f \n",
        "    \u239ddt      \u23a0 "
       ]
      }
     ],
     "prompt_number": 11
    },
    {
     "cell_type": "code",
     "collapsed": false,
     "input": [
      "f = sympy.lambdify((x_v,k1,k2,m,l,theta_0), dxdt.subs(ss_sub), default_array=True)"
     ],
     "language": "python",
     "metadata": {},
     "outputs": [],
     "prompt_number": 12
    },
    {
     "cell_type": "code",
     "collapsed": false,
     "input": [
      "f([1,1],1,1,1,1,1)"
     ],
     "language": "python",
     "metadata": {},
     "outputs": [
      {
       "metadata": {},
       "output_type": "pyout",
       "prompt_number": 13,
       "text": [
        "array([[ 1.],\n",
        "       [-1.]])"
       ]
      }
     ],
     "prompt_number": 13
    },
    {
     "cell_type": "code",
     "collapsed": false,
     "input": [
      "u_max = sympy.Symbol('u_max')\n",
      "boundary_eq = sympy.solve(u_expr - u_max, theta(t).diff(t))[0]\n",
      "boundary_eq"
     ],
     "language": "python",
     "metadata": {},
     "outputs": [
      {
       "latex": [
        "$$\\frac{1}{k_{2}} \\left(- g l m \\sin{\\left (\\theta{\\left (t \\right )} \\right )} + k_{1} \\theta_{0} - k_{1} \\theta{\\left (t \\right )} - u_{max}\\right)$$"
       ],
       "metadata": {},
       "output_type": "pyout",
       "png": "[encoded data removed]",
       "prompt_number": 14,
       "text": [
        "-g\u22c5l\u22c5m\u22c5sin(\u03b8(t)) + k\u2081\u22c5\u03b8\u2080 - k\u2081\u22c5\u03b8(t) - u_max\n",
        "\u2500\u2500\u2500\u2500\u2500\u2500\u2500\u2500\u2500\u2500\u2500\u2500\u2500\u2500\u2500\u2500\u2500\u2500\u2500\u2500\u2500\u2500\u2500\u2500\u2500\u2500\u2500\u2500\u2500\u2500\u2500\u2500\u2500\u2500\u2500\u2500\u2500\u2500\u2500\u2500\u2500\u2500\n",
        "                    k\u2082                    "
       ]
      }
     ],
     "prompt_number": 14
    },
    {
     "cell_type": "code",
     "collapsed": false,
     "input": [
      "f_boundary_eq = sympy.lambdify((theta(t), k1,k2,m,g,l,theta_0, u_max), boundary_eq, default_array=True)"
     ],
     "language": "python",
     "metadata": {},
     "outputs": [],
     "prompt_number": 15
    },
    {
     "cell_type": "code",
     "collapsed": false,
     "input": [
      "import itertools\n",
      "def do_plot():\n",
      "    m = 1\n",
      "    g = 9.8\n",
      "    l = 1\n",
      "    k1 = 20\n",
      "    k2 = 10\n",
      "    u_max = 5\n",
      "    color_cycle = itertools.cycle('rgb')\n",
      "    d = 0.05\n",
      "    pi = np.pi\n",
      "    for theta_0 in [-d, 0, d]:\n",
      "        color = color_cycle.next()\n",
      "        theta_vect = np.linspace(-pi/2, pi/2)\n",
      "        thetad_vect = np.array([f_boundary_eq(theta, k1, k2, m, g, l, theta_0, u_max) for theta in theta_vect])\n",
      "        plt.plot(theta_vect, thetad_vect, color=color, linewidth=3)\n",
      "        thetad_vect = np.array([f_boundary_eq(theta, k1, k2, m, g, l, theta_0, -u_max) for theta in theta_vect])\n",
      "        plt.plot(theta_vect, thetad_vect, color=color, linewidth=3)\n",
      "        plt.plot(theta_0, 0,'o', color=color, markersize=10)\n",
      "        plt.axis([-2*d, 2*d, -0.5, 0.5])\n",
      "        plt.grid()\n",
      "do_plot()\n",
      "savefig('figures/dynamic-inversion-controller-saturation.pdf')"
     ],
     "language": "python",
     "metadata": {},
     "outputs": [
      {
       "ename": "NameError",
       "evalue": "name 'savefig' is not defined",
       "output_type": "pyerr",
       "traceback": [
        "\u001b[1;31m---------------------------------------------------------------------------\u001b[0m\n\u001b[1;31mNameError\u001b[0m                                 Traceback (most recent call last)",
        "\u001b[1;32m<ipython-input-33-da8fbe5b0711>\u001b[0m in \u001b[0;36m<module>\u001b[1;34m()\u001b[0m\n\u001b[0;32m     21\u001b[0m         \u001b[0mplt\u001b[0m\u001b[1;33m.\u001b[0m\u001b[0mgrid\u001b[0m\u001b[1;33m(\u001b[0m\u001b[1;33m)\u001b[0m\u001b[1;33m\u001b[0m\u001b[0m\n\u001b[0;32m     22\u001b[0m \u001b[0mdo_plot\u001b[0m\u001b[1;33m(\u001b[0m\u001b[1;33m)\u001b[0m\u001b[1;33m\u001b[0m\u001b[0m\n\u001b[1;32m---> 23\u001b[1;33m \u001b[0msavefig\u001b[0m\u001b[1;33m(\u001b[0m\u001b[1;34m'figures/dynamic-inversion-controller-saturation.pdf'\u001b[0m\u001b[1;33m)\u001b[0m\u001b[1;33m\u001b[0m\u001b[0m\n\u001b[0m",
        "\u001b[1;31mNameError\u001b[0m: name 'savefig' is not defined"
       ]
      },
      {
       "metadata": {},
       "output_type": "display_data",
       "png": "[encoded data removed]",
       "text": [
        "<matplotlib.figure.Figure at 0x1913950>"
       ]
      }
     ],
     "prompt_number": 33
    },
    {
     "cell_type": "code",
     "collapsed": false,
     "input": [
      "import lmi_bisim"
     ],
     "language": "python",
     "metadata": {},
     "outputs": [],
     "prompt_number": 17
    },
    {
     "cell_type": "code",
     "collapsed": false,
     "input": [
      "def nonsafe_region():\n",
      "    theta_0 = 0\n",
      "    m = 1\n",
      "    g = 9.8\n",
      "    l = 1\n",
      "    k1 = 20\n",
      "    k2 = 10\n",
      "    u_max = 5\n",
      "    color_cycle = itertools.cycle('rgb')\n",
      "    d = 0.05\n",
      "    pi = np.pi\n",
      "    theta_vect = np.linspace(-pi/2, pi/2)\n",
      "    points = np.array([[theta, f_boundary_eq(theta, k1, k2, m, g, l, theta_0, u_max)] for theta in theta_vect])\n",
      "    #points2 = np.array([[theta, f_boundary_eq(theta, k1, k2, m, g, l, theta_0, -u_max)] for theta in theta_vect])\n",
      "    points = np.vstack([points, [pi/2, points[0,1]]])\n",
      "    return points\n",
      "nonsafe_points = nonsafe_region()"
     ],
     "language": "python",
     "metadata": {},
     "outputs": [],
     "prompt_number": 18
    },
    {
     "cell_type": "code",
     "collapsed": false,
     "input": [
      "chull = lmi_bisim.ExpandableConvexHull.from_points(nonsafe_points, 0.5)\n",
      "plt.plot(nonsafe_points[:,0], nonsafe_points[:,1], '.')\n",
      "chull.plot_2D([0,1], 'k')\n",
      "chull.min_dist, chull.max_dist"
     ],
     "language": "python",
     "metadata": {},
     "outputs": [
      {
       "latex": [
        "$$\\left ( -7.60734515114e-15, \\quad 7.60734515114e-15\\right )$$"
       ],
       "metadata": {},
       "output_type": "pyout",
       "png": "[encoded data removed]",
       "prompt_number": 19,
       "text": [
        "(-7.60734515114e-15, 7.60734515114e-15)"
       ]
      },
      {
       "metadata": {},
       "output_type": "display_data",
       "png": "[encoded data removed]",
       "text": [
        "<matplotlib.figure.Figure at 0x5074350>"
       ]
      }
     ],
     "prompt_number": 19
    },
    {
     "cell_type": "code",
     "collapsed": false,
     "input": [
      "chull"
     ],
     "language": "python",
     "metadata": {},
     "outputs": [
      {
       "metadata": {},
       "output_type": "pyout",
       "prompt_number": 20,
       "text": [
        "3\n",
        "16\n",
        "0      1 -3.621592653589794\n",
        "1     -0 -1.570796326794897\n",
        "-0.9381674319619251 -0.3461818447087698 -0.2199403304409493\n",
        "-0.9359847813899106 -0.352040465012875 -0.2379965732713253\n",
        "-0.9379102480741318 -0.3468780283579815 -0.2219633410654912\n",
        "-0.8971840448513957 -0.4416568686934336 -0.6318647376494846\n",
        "-0.9023889451245858 -0.4309224892215968 -0.5758107425553243\n",
        "-0.9071979977142282 -0.4207039255144824 -0.524350151860328\n",
        "-0.9288816467181719 -0.3703766817580953 -0.3024323907959094\n",
        "-0.9194538688873265 -0.3931978929090633 -0.3959497039249844\n",
        "-0.9157097006406293 -0.4018404461383265 -0.4346005386467768\n",
        "-0.9116313381556304 -0.4110088846881227 -0.4773372109087117\n",
        "-0.9338477956648378 -0.3576706509233365 -0.2566089668989429\n",
        "-0.9314851976027868 -0.3637792278936459 -0.2780149811373427\n",
        "-0.9260205773253372 -0.3774730326394846 -0.3300809845182537\n",
        "-0.9228842536654596 -0.3850774653707326 -0.3611807849525137\n",
        "16\n",
        "50 0\n",
        "49 50\n",
        "0 36\n",
        "37 38\n",
        "36 37\n",
        "48 49\n",
        "47 48\n",
        "46 47\n",
        "40 41\n",
        "43 44\n",
        "44 45\n",
        "45 46\n",
        "38 39\n",
        "39 40\n",
        "41 42\n",
        "42 43\n",
        "10 2 51 16 16 16 16 0 0 0 0\n",
        "2 7.607345151135755e-15 -7.607345151135755e-15"
       ]
      }
     ],
     "prompt_number": 20
    },
    {
     "cell_type": "code",
     "collapsed": false,
     "input": [
      "chull2 = chull.expand(0) #chull.max_dist)"
     ],
     "language": "python",
     "metadata": {},
     "outputs": [],
     "prompt_number": 21
    },
    {
     "cell_type": "code",
     "collapsed": false,
     "input": [
      "chull2"
     ],
     "language": "python",
     "metadata": {},
     "outputs": [
      {
       "metadata": {},
       "output_type": "pyout",
       "prompt_number": 22,
       "text": [
        "3\n",
        "16\n",
        "2.827159716856459e-16      1 -3.621592653589794\n",
        "1      0 -1.570796326794897\n",
        "-0.9381674319619251 -0.3461818447087697 -0.219940330440949\n",
        "-0.9359847813899103 -0.3520404650128757 -0.2379965732713276\n",
        "-0.937910248074132 -0.3468780283579807 -0.2219633410654889\n",
        "-0.8971840448513971 -0.4416568686934305 -0.6318647376494679\n",
        "-0.9023889451245859 -0.4309224892215966 -0.5758107425553229\n",
        "-0.9071979977142286 -0.4207039255144813 -0.5243501518603222\n",
        "-0.9288816467181726 -0.3703766817580934 -0.3024323907959023\n",
        "-0.9194538688873255 -0.3931978929090651 -0.3959497039249924\n",
        "-0.9157097006406292 -0.4018404461383265 -0.4346005386467768\n",
        "-0.9116313381556295 -0.4110088846881247 -0.4773372109087208\n",
        "-0.9338477956648376 -0.3576706509233371 -0.2566089668989447\n",
        "-0.9314851976027869 -0.3637792278936454 -0.2780149811373406\n",
        "-0.9260205773253348 -0.3774730326394903 -0.3300809845182764\n",
        "-0.9228842536654616 -0.3850774653707278 -0.3611807849524933\n",
        "16\n",
        "1 0\n",
        "2 1\n",
        "0 4\n",
        "5 7\n",
        "4 5\n",
        "3 2\n",
        "14 3\n",
        "15 14\n",
        "10 11\n",
        "8 12\n",
        "12 13\n",
        "13 15\n",
        "7 6\n",
        "6 10\n",
        "11 9\n",
        "9 8\n",
        "10 2 16 16 16 16 16 0 0 0 0\n",
        "2 7.607345151135756e-15 -7.607345151135756e-15"
       ]
      }
     ],
     "prompt_number": 22
    },
    {
     "cell_type": "code",
     "collapsed": false,
     "input": [
      "chull2 = chull.expand(0) #chull.max_dist)\n",
      "plt.plot(nonsafe_points[:,0], nonsafe_points[:,1], '.')\n",
      "chull.plot_2D([0,1], 'ko')\n",
      "chull2.plot_2D([0,1], 'r')"
     ],
     "language": "python",
     "metadata": {},
     "outputs": [
      {
       "metadata": {},
       "output_type": "pyout",
       "prompt_number": 23,
       "text": [
        "[<matplotlib.lines.Line2D at 0x4e99d50>]"
       ]
      },
      {
       "metadata": {},
       "output_type": "display_data",
       "png": "[encoded data removed]",
       "text": [
        "<matplotlib.figure.Figure at 0x562bdd0>"
       ]
      }
     ],
     "prompt_number": 23
    },
    {
     "cell_type": "code",
     "collapsed": false,
     "input": [
      "chull2.min_dist, chull2.max_dist"
     ],
     "language": "python",
     "metadata": {},
     "outputs": [
      {
       "latex": [
        "$$\\left ( -7.60734515114e-15, \\quad 7.60734515114e-15\\right )$$"
       ],
       "metadata": {},
       "output_type": "pyout",
       "png": "[encoded data removed]",
       "prompt_number": 24,
       "text": [
        "(-7.60734515114e-15, 7.60734515114e-15)"
       ]
      }
     ],
     "prompt_number": 24
    },
    {
     "cell_type": "code",
     "collapsed": false,
     "input": [
      "import pyhull"
     ],
     "language": "python",
     "metadata": {},
     "outputs": [],
     "prompt_number": 25
    },
    {
     "cell_type": "code",
     "collapsed": false,
     "input": [
      "pyhull.qhull_cmd('qconvex', 'n i Fs Qt', nonsafe_points)"
     ],
     "language": "python",
     "metadata": {},
     "outputs": [
      {
       "metadata": {},
       "output_type": "pyout",
       "prompt_number": 26,
       "text": [
        "['3',\n",
        " '16',\n",
        " '0      1 -3.621592653589794',\n",
        " '1     -0 -1.570796326794897',\n",
        " '-0.9381674319619251 -0.3461818447087698 -0.2199403304409493',\n",
        " '-0.9359847813899106 -0.352040465012875 -0.2379965732713253',\n",
        " '-0.9379102480741318 -0.3468780283579815 -0.2219633410654912',\n",
        " '-0.8971840448513957 -0.4416568686934336 -0.6318647376494846',\n",
        " '-0.9023889451245858 -0.4309224892215968 -0.5758107425553243',\n",
        " '-0.9071979977142282 -0.4207039255144824 -0.524350151860328',\n",
        " '-0.9288816467181719 -0.3703766817580953 -0.3024323907959094',\n",
        " '-0.9194538688873265 -0.3931978929090633 -0.3959497039249844',\n",
        " '-0.9157097006406293 -0.4018404461383265 -0.4346005386467768',\n",
        " '-0.9116313381556304 -0.4110088846881227 -0.4773372109087117',\n",
        " '-0.9338477956648378 -0.3576706509233365 -0.2566089668989429',\n",
        " '-0.9314851976027868 -0.3637792278936459 -0.2780149811373427',\n",
        " '-0.9260205773253372 -0.3774730326394846 -0.3300809845182537',\n",
        " '-0.9228842536654596 -0.3850774653707326 -0.3611807849525137',\n",
        " '16',\n",
        " '50 0',\n",
        " '49 50',\n",
        " '0 36',\n",
        " '37 38',\n",
        " '36 37',\n",
        " '48 49',\n",
        " '47 48',\n",
        " '46 47',\n",
        " '40 41',\n",
        " '43 44',\n",
        " '44 45',\n",
        " '45 46',\n",
        " '38 39',\n",
        " '39 40',\n",
        " '41 42',\n",
        " '42 43',\n",
        " '10 2 51 16 16 16 16 0 0 0 0',\n",
        " '2 7.607345151135755e-15 -7.607345151135755e-15']"
       ]
      }
     ],
     "prompt_number": 26
    }
   ],
   "metadata": {}
  }
 ]
}