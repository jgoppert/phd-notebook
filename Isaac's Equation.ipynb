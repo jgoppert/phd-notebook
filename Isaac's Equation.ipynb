{
 "metadata": {
  "name": "",
  "signature": "sha256:5a605a22a869e5eeadb3054ef79951226b80e10ef40128a4da4158a3741a5473"
 },
 "nbformat": 3,
 "nbformat_minor": 0,
 "worksheets": []
}