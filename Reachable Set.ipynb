{
 "metadata": {
  "name": "",
  "signature": "sha256:caed99f223b7e83ab38023de6647edd780f7719ca3a7efafa2f6d3d09545bc5d"
 },
 "nbformat": 3,
 "nbformat_minor": 0,
 "worksheets": [
  {
   "cells": [
    {
     "cell_type": "code",
     "collapsed": false,
     "input": [
      "%pylab inline\n",
      "import control\n",
      "import scipy\n",
      "rcParams['figure.figsize'] = (10,5)\n",
      "rcParams['font.size'] = 12"
     ],
     "language": "python",
     "metadata": {},
     "outputs": [
      {
       "output_type": "stream",
       "stream": "stdout",
       "text": [
        "Populating the interactive namespace from numpy and matplotlib\n"
       ]
      }
     ],
     "prompt_number": 10
    },
    {
     "cell_type": "code",
     "collapsed": false,
     "input": [
      "def plot_poly_set(verts):\n",
      "    # close poly for plot\n",
      "    verts_closed = column_stack([verts, verts[:,0]])\n",
      "    plot(verts_closed[0,:], verts_closed[1,:], '-b')\n",
      "    \n",
      "def add_vector_to_poly(v, poly):\n",
      "    new_poly = zeros(poly.shape)\n",
      "    for j in range(len(v)):\n",
      "        new_poly[j,:] = poly[j,:] + v[j]\n",
      "    return new_poly\n",
      "\n",
      "def plot_traj(A= matrix([[0, 1],[-1,-1]]), x0=[0,0], d_x0=0.1, x_targ=[0,0], dt=0.1, tf=10, d_u=0.01):\n",
      "    \n",
      "    x0_box = d_x0*array([[-1,-1],[-1,1],[1,1],[1,-1]]).T\n",
      "    x0_box = add_vector_to_poly(x0, x0_box)\n",
      "    plot_poly_set(x0_box)\n",
      "    x = x0_box\n",
      "    Psi = matrix(scipy.linalg.expm(A*dt))\n",
      "    t = arange(0, tf, dt)\n",
      "    \n",
      "    for i in range(len(t)):\n",
      "        x_diff = add_vector_to_poly(-array(x_targ), x)\n",
      "        x_diff_new = Psi*x_diff\n",
      "        x = add_vector_to_poly(x_targ, x_diff_new)\n",
      "        \n",
      "        # input effect\n",
      "        # minkowski sum for 2d\n",
      "        n = x.shape[0]\n",
      "        x_min = zeros(n)\n",
      "        x_max = zeros(n)\n",
      "        for i in range(n):\n",
      "            x_min[i] = x[i,:].min()\n",
      "            x_max[i] = x[i,:].max()\n",
      "        verts = array([\n",
      "            [x_min[0] - d_u, x_min[1] - d_u],\n",
      "            [x_min[0] - d_u, x_max[1] + d_u],\n",
      "            [x_max[0] + d_u, x_max[1] + d_u],\n",
      "            [x_max[0] + d_u, x_min[1] - d_u],\n",
      "        ]).T\n",
      "        plot_poly_set(verts)"
     ],
     "language": "python",
     "metadata": {},
     "outputs": [],
     "prompt_number": 11
    },
    {
     "cell_type": "code",
     "collapsed": false,
     "input": [
      "clf()\n",
      "plot_traj(x0=[0,0], x_targ=[1,0])\n",
      "plot_traj(x0=[1,0], x_targ=[0,0])\n",
      "plot_traj(x0=[0,0], x_targ=[-1,0])\n",
      "plot_traj(x0=[-1,0], x_targ=[0,0])\n",
      "plot_traj(x0=[1,0], x_targ=[-1,0])\n",
      "plot_traj(x0=[-1,0], x_targ=[1,0])\n",
      "title('flow pipes')"
     ],
     "language": "python",
     "metadata": {},
     "outputs": [
      {
       "metadata": {},
       "output_type": "pyout",
       "prompt_number": 12,
       "text": [
        "<matplotlib.text.Text at 0x72c9090>"
       ]
      },
      {
       "metadata": {},
       "output_type": "display_data",
       "png": "[encoded data removed]",
       "text": [
        "<matplotlib.figure.Figure at 0x57be710>"
       ]
      }
     ],
     "prompt_number": 12
    }
   ],
   "metadata": {}
  }
 ]
}