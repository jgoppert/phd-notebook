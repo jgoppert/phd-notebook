{
 "metadata": {
  "name": "",
  "signature": "sha256:6261284791dc95da6ff834dc25f3073054612ebe1cf8b1e668d858d01500e141"
 },
 "nbformat": 3,
 "nbformat_minor": 0,
 "worksheets": [
  {
   "cells": [
    {
     "cell_type": "heading",
     "level": 1,
     "metadata": {},
     "source": [
      "Hamilton Jacobi Bellman (HJB) Equation"
     ]
    },
    {
     "cell_type": "markdown",
     "metadata": {},
     "source": [
      "$\n",
      "\\newcommand{\\pd}[2]{\\frac{\\partial#1}{\\partial#2}}\n",
      "\\newcommand{\\B}[1]{\\mathbf{#1}}\n",
      "\\newcommand{\\A}{\\B{A}}\n",
      "\\newcommand{\\x}{\\B{x}}\n",
      "\\newcommand{\\u}{\\B{u}}\n",
      "$\n",
      "Click to see latex command definitions."
     ]
    },
    {
     "cell_type": "markdown",
     "metadata": {},
     "source": [
      "From Bellman's principle of optimality, we can derive the continuous version of Bellman's equation, the Hamilton Jacobi Bellman equation. We start by defining the cost-to-go function $V(x(t), t)$.\n",
      "\n",
      "$$ V(x(t), t) = \\min_{u \\in U} \\left( \\int_t^T C(x(t), u(t)) dt  + D(x(T))\\right) $$\n",
      "with the constraint $ \\frac{d x(t)}{dt} = F(x(t),u(t))$\n",
      "and terminal condition $V(x(T), T) = D(x(T))$"
     ]
    },
    {
     "cell_type": "markdown",
     "metadata": {},
     "source": [
      "Now we use Bellman's principle of optimality:\n",
      "\n",
      "$$V(x(t), t ) = \\min_{u \\in U} \\left( \\int_t^{\\Delta t} C(x(t), u(t)) dt + \\min_{u \\in U} \\left( \\int_{t + \\Delta t}^T C(x(t), u(t)) dt  + D(x(T))\\right) \\right) $$"
     ]
    },
    {
     "cell_type": "markdown",
     "metadata": {},
     "source": [
      "This is a recursive function as before.\n",
      "\n",
      "$$V(x(t), t) = \\min_{u \\in U} \\left( \\int_t^{\\Delta t} C(x(t), u(t)) dt + V(x(t+\\Delta t), t + \\Delta t)\\right) $$"
     ]
    },
    {
     "cell_type": "markdown",
     "metadata": {},
     "source": [
      "Now, approximating the integral using a Taylor series expansion:\n",
      "$$V(x(t), t) = \\min_{u \\in U} \\left(  C(x(t), u(t)) \\Delta t + V(x(t), t) + \\frac{\\partial V(x(t), t) }{\\partial t} \\Delta t  + \\frac{\\partial V(x(t), t)}{\\partial x}  \\frac{dx}{dt} \\Delta t  \\right) $$\n",
      "\n",
      "which when we substitute the dynamics constraint simplifies to the standard form of the Hamilton Jacobi Bellman equation:\n",
      "\n",
      "$$-\\frac{\\partial V(x(t), t) }{\\partial t} = \\min_{u \\in U} \\left(  C(x(t), u(t))  + \\nabla V(x(t), t) \\cdot F(x(t), u(t)) \\right)$$"
     ]
    },
    {
     "cell_type": "markdown",
     "metadata": {},
     "source": [
      "This can be solved backward in time using the terminal condition:\n",
      "$$V(x, T) = D(x)$$"
     ]
    },
    {
     "cell_type": "heading",
     "level": 2,
     "metadata": {},
     "source": [
      "Linear Quadratic Regulator (LQR) Derivation from HJB Equation"
     ]
    },
    {
     "cell_type": "markdown",
     "metadata": {},
     "source": [
      "We define the optimal control problem by specifing the dynamics to be a linear system and the running cost to be quadratic."
     ]
    },
    {
     "cell_type": "markdown",
     "metadata": {},
     "source": [
      "\n",
      "$$ F(x,u) = A x + Bu $$\n",
      "$$ C(x,u) = x^T Q x + u^T R u $$\n",
      "where $Q, R$ are positive definite semetric matrices.\n",
      "\n",
      "\n",
      "Assume a solution of the form:\n",
      "$$ V(x) = x^T P x$$\n",
      "\n",
      "where $P$ is a positive definite semetric matrix.\n",
      "\n",
      "We now apply the Hamilton Jacobi Bellman equation:\n",
      "\n",
      "$$ \\nabla V(x) = x^T (P + P^T) = 2 x^T P $$\n",
      "\n",
      "$$-\\pd{V(x)}{t} = \\min_{u \\in U} \\left( x^T Q x + u^T R u + 2 x^T P(Ax + Bu) \\right)$$\n",
      "\n",
      "We solve for the minimum by taking the partial derivative with respect to $u$:\n",
      "\n",
      "$$2 u^T R + 2 x^TPB = 0$$\n",
      "\n",
      "Taking the transpose and simplifying:\n",
      "$$Ru + B^TPx = 0$$\n",
      "\n",
      "Finally, we solve for $u$:\n",
      "$$u = -R^{-1}B^TPx$$"
     ]
    },
    {
     "cell_type": "markdown",
     "metadata": {},
     "source": [
      "Note that the optimal policy resulting from the application of the Hamilton Jacobi Bellman equation for the LQR example ($u=-R^{-1}B^TPx$) is compactly expressed as a linear combination of the state x(t), and P(t). This is a result of the cost-to-go $V(x,t)$ being a quadratic function of the state."
     ]
    },
    {
     "cell_type": "markdown",
     "metadata": {},
     "source": [
      "We now solve for the evolution of P(t):"
     ]
    },
    {
     "cell_type": "markdown",
     "metadata": {},
     "source": [
      "$$-x^T \\dot{P} x - x^T A^TPx - x^TPAx = x^T Q x + x^T P B R^{-1} B^T P x - 2 x^T P A x - 2 x^T P B R^{-1} B^T P x$$"
     ]
    },
    {
     "cell_type": "markdown",
     "metadata": {},
     "source": [
      "Note, that all of the terms are quadratic in $x$ and we can simplify this expression:"
     ]
    },
    {
     "cell_type": "markdown",
     "metadata": {},
     "source": [
      "$$-\\dot{P} = A^TP + PA - PBR^{-1}B^TP + Q$$"
     ]
    },
    {
     "cell_type": "markdown",
     "metadata": {},
     "source": [
      "If we set $\\dot{P} = 0$ we obtain the infinite horizon LQR solution by solving the continuous algebraic ricatti equation."
     ]
    },
    {
     "cell_type": "heading",
     "level": 2,
     "metadata": {},
     "source": [
      "LQR Example"
     ]
    },
    {
     "cell_type": "code",
     "collapsed": false,
     "input": [
      "%pylab inline\n",
      "import control\n",
      "A = array([[1,2],[3,4]])\n",
      "B = array([[1],[2]])\n",
      "C = eye(2)\n",
      "D = zeros((2,1))\n",
      "ss = control.ss(A,B,C,D)\n",
      "Q = eye(2)\n",
      "R = eye(1)\n",
      "P, L, G = control.care(A, B, Q, R)\n",
      "P"
     ],
     "language": "python",
     "metadata": {},
     "outputs": [
      {
       "output_type": "stream",
       "stream": "stdout",
       "text": [
        "Populating the interactive namespace from numpy and matplotlib\n"
       ]
      },
      {
       "metadata": {},
       "output_type": "pyout",
       "prompt_number": 1,
       "text": [
        "array([[ 1.73598022,  0.49723745],\n",
        "       [ 0.49723745,  1.86941526]])"
       ]
      }
     ],
     "prompt_number": 1
    },
    {
     "cell_type": "code",
     "collapsed": false,
     "input": [
      "K = linalg.inv(R).dot(B.T).dot(P)\n",
      "ss_contr = control.ss(0,array([0,0]).T,0, K)\n",
      "ss_contr\n"
     ],
     "language": "python",
     "metadata": {},
     "outputs": [
      {
       "metadata": {},
       "output_type": "pyout",
       "prompt_number": 2,
       "text": [
        "A = [[ 0.]]\n",
        "\n",
        "B = [[ 0.  0.]]\n",
        "\n",
        "C = [[ 0.]]\n",
        "\n",
        "D = [[ 2.73045511  4.23606798]]"
       ]
      }
     ],
     "prompt_number": 2
    },
    {
     "cell_type": "code",
     "collapsed": false,
     "input": [
      "ss_closed = ss.feedback(ss_contr)\n",
      "ss_closed.pole()"
     ],
     "language": "python",
     "metadata": {},
     "outputs": [
      {
       "metadata": {},
       "output_type": "pyout",
       "prompt_number": 3,
       "text": [
        "array([-5.8182729 , -0.38431817])"
       ]
      }
     ],
     "prompt_number": 3
    },
    {
     "cell_type": "code",
     "collapsed": false,
     "input": [
      "t, y, x = control.forced_response(ss_closed, X0 = 1.0, T=linspace(0,10))\n",
      "plot(t, y.T)"
     ],
     "language": "python",
     "metadata": {},
     "outputs": [
      {
       "metadata": {},
       "output_type": "pyout",
       "prompt_number": 4,
       "text": [
        "[<matplotlib.lines.Line2D at 0x3bc4c90>,\n",
        " <matplotlib.lines.Line2D at 0x3bc4f10>]"
       ]
      },
      {
       "metadata": {},
       "output_type": "display_data",
       "png": "[encoded data removed]",
       "text": [
        "<matplotlib.figure.Figure at 0x3a789d0>"
       ]
      }
     ],
     "prompt_number": 4
    }
   ],
   "metadata": {}
  }
 ]
}