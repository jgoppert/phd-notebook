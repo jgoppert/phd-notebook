{
 "cells": [
  {
   "cell_type": "code",
   "execution_count": 1,
   "metadata": {},
   "outputs": [],
   "source": [
    "import sympy\n",
    "import matplotlib.pyplot as plt\n",
    "import numpy as np\n",
    "import scipy.integrate\n",
    "sympy.init_printing()"
   ]
  },
  {
   "cell_type": "code",
   "execution_count": 2,
   "metadata": {},
   "outputs": [],
   "source": [
    "omega, v = sympy.symbols('omega, v', real=True) # lie algebra for dynamics\n",
    "theta, x_1, x_2 = sympy.symbols('theta, x^1, x^2', real=True) # lie group parameterization\n",
    "alpha, u_1, u_2 = sympy.symbols('alpha, u^1, u^2', real=True) # lie algebra parameterization"
   ]
  },
  {
   "cell_type": "code",
   "execution_count": 3,
   "metadata": {},
   "outputs": [],
   "source": [
    "E = [sympy.Matrix([\n",
    "    [0, -1, 0],\n",
    "    [1, 0, 0],\n",
    "    [0, 0, 0]]),\n",
    "    sympy.Matrix([\n",
    "    [0, 0, 1],\n",
    "    [0, 0, 0],\n",
    "    [0, 0, 0]]),\n",
    "    sympy.Matrix([\n",
    "    [0, 0, 0],\n",
    "    [0, 0, 1],\n",
    "    [0, 0, 0]])]"
   ]
  },
  {
   "cell_type": "code",
   "execution_count": 4,
   "metadata": {},
   "outputs": [
    {
     "data": {
      "image/png": "[encoded data removed]",
      "text/latex": [
       "$$\\left[\\begin{matrix}0 & - \\omega & v\\\\\\omega & 0 & 0\\\\0 & 0 & 0\\end{matrix}\\right]$$"
      ],
      "text/plain": [
       "⎡0  -ω  v⎤\n",
       "⎢        ⎥\n",
       "⎢ω  0   0⎥\n",
       "⎢        ⎥\n",
       "⎣0  0   0⎦"
      ]
     },
     "execution_count": 4,
     "metadata": {},
     "output_type": "execute_result"
    }
   ],
   "source": [
    "nu = E[0]*omega + E[1]*v\n",
    "chi = E[0]*alpha + E[1]*u_1 + E[2]*u_2\n",
    "nu"
   ]
  },
  {
   "cell_type": "code",
   "execution_count": 5,
   "metadata": {},
   "outputs": [
    {
     "data": {
      "image/png": "[encoded data removed]",
      "text/latex": [
       "$$\\left[\\begin{matrix}\\cos{\\left (\\alpha \\right )} & - \\sin{\\left (\\alpha \\right )} & \\frac{u^{1} \\sin{\\left (\\alpha \\right )} + u^{2} \\cos{\\left (\\alpha \\right )} - u^{2}}{\\alpha}\\\\\\sin{\\left (\\alpha \\right )} & \\cos{\\left (\\alpha \\right )} & \\frac{- u^{1} \\cos{\\left (\\alpha \\right )} + u^{1} + u^{2} \\sin{\\left (\\alpha \\right )}}{\\alpha}\\\\0 & 0 & 1\\end{matrix}\\right]$$"
      ],
      "text/plain": [
       "⎡                 u¹⋅sin(α) + u²⋅cos(α) - u² ⎤\n",
       "⎢cos(α)  -sin(α)  ────────────────────────── ⎥\n",
       "⎢                             α              ⎥\n",
       "⎢                                            ⎥\n",
       "⎢                 -u¹⋅cos(α) + u¹ + u²⋅sin(α)⎥\n",
       "⎢sin(α)  cos(α)   ───────────────────────────⎥\n",
       "⎢                              α             ⎥\n",
       "⎢                                            ⎥\n",
       "⎣  0        0                  1             ⎦"
      ]
     },
     "execution_count": 5,
     "metadata": {},
     "output_type": "execute_result"
    }
   ],
   "source": [
    "eta = sympy.exp(chi).simplify()\n",
    "eta"
   ]
  },
  {
   "cell_type": "code",
   "execution_count": 6,
   "metadata": {},
   "outputs": [
    {
     "data": {
      "image/png": "[encoded data removed]",
      "text/latex": [
       "$$\\left[\\begin{matrix}0 & 0 & \\frac{- \\alpha v \\cos{\\left (\\alpha \\right )} + \\alpha v + \\omega u^{1} \\cos{\\left (\\alpha \\right )} - \\omega u^{1} + \\omega u^{2} \\sin{\\left (\\alpha \\right )}}{\\alpha}\\\\0 & 0 & \\frac{\\alpha v \\sin{\\left (\\alpha \\right )} - \\omega u^{1} \\sin{\\left (\\alpha \\right )} + \\omega u^{2} \\cos{\\left (\\alpha \\right )} - \\omega u^{2}}{\\alpha}\\\\0 & 0 & 0\\end{matrix}\\right]$$"
      ],
      "text/plain": [
       "⎡      -α⋅v⋅cos(α) + α⋅v + ω⋅u¹⋅cos(α) - ω⋅u¹ + ω⋅u²⋅sin(α)⎤\n",
       "⎢0  0  ────────────────────────────────────────────────────⎥\n",
       "⎢                               α                          ⎥\n",
       "⎢                                                          ⎥\n",
       "⎢         α⋅v⋅sin(α) - ω⋅u¹⋅sin(α) + ω⋅u²⋅cos(α) - ω⋅u²    ⎥\n",
       "⎢0  0     ─────────────────────────────────────────────    ⎥\n",
       "⎢                               α                          ⎥\n",
       "⎢                                                          ⎥\n",
       "⎣0  0                           0                          ⎦"
      ]
     },
     "execution_count": 6,
     "metadata": {},
     "output_type": "execute_result"
    }
   ],
   "source": [
    "M = (nu - eta.inv()*nu*eta).simplify()\n",
    "M"
   ]
  },
  {
   "cell_type": "code",
   "execution_count": 7,
   "metadata": {},
   "outputs": [
    {
     "data": {
      "image/png": "[encoded data removed]",
      "text/latex": [
       "$$\\left[\\begin{matrix}0 & 0 & 0\\\\0 & 0 & 0\\\\0 & 0 & 0\\end{matrix}\\right]$$"
      ],
      "text/plain": [
       "⎡0  0  0⎤\n",
       "⎢       ⎥\n",
       "⎢0  0  0⎥\n",
       "⎢       ⎥\n",
       "⎣0  0  0⎦"
      ]
     },
     "execution_count": 7,
     "metadata": {},
     "output_type": "execute_result"
    }
   ],
   "source": [
    "M.applyfunc(lambda e: e.limit(alpha, 0).limit(u_1, 0).limit(u_2, 0))"
   ]
  },
  {
   "cell_type": "code",
   "execution_count": 8,
   "metadata": {},
   "outputs": [
    {
     "data": {
      "image/png": "[encoded data removed]",
      "text/latex": [
       "$$\\left[\\begin{matrix}0 & 0 & 0\\\\\\frac{\\alpha^{2} v \\sin{\\left (\\alpha \\right )} - \\alpha \\omega u^{1} \\sin{\\left (\\alpha \\right )} + \\alpha \\omega u^{2} \\cos{\\left (\\alpha \\right )} - \\omega u^{1} \\cos{\\left (\\alpha \\right )} + \\omega u^{1} - \\omega u^{2} \\sin{\\left (\\alpha \\right )}}{\\alpha^{2}} & \\frac{\\omega \\left(\\cos{\\left (\\alpha \\right )} - 1\\right)}{\\alpha} & \\frac{\\omega \\sin{\\left (\\alpha \\right )}}{\\alpha}\\\\\\frac{\\alpha^{2} v \\cos{\\left (\\alpha \\right )} - \\alpha \\omega u^{1} \\cos{\\left (\\alpha \\right )} - \\alpha \\omega u^{2} \\sin{\\left (\\alpha \\right )} + \\omega u^{1} \\sin{\\left (\\alpha \\right )} - \\omega u^{2} \\cos{\\left (\\alpha \\right )} + \\omega u^{2}}{\\alpha^{2}} & - \\frac{\\omega \\sin{\\left (\\alpha \\right )}}{\\alpha} & \\frac{\\omega \\left(\\cos{\\left (\\alpha \\right )} - 1\\right)}{\\alpha}\\end{matrix}\\right]$$"
      ],
      "text/plain": [
       "⎡                                      0                                      \n",
       "⎢                                                                             \n",
       "⎢ 2                                                                           \n",
       "⎢α ⋅v⋅sin(α) - α⋅ω⋅u¹⋅sin(α) + α⋅ω⋅u²⋅cos(α) - ω⋅u¹⋅cos(α) + ω⋅u¹ - ω⋅u²⋅sin(α\n",
       "⎢─────────────────────────────────────────────────────────────────────────────\n",
       "⎢                                       2                                     \n",
       "⎢                                      α                                      \n",
       "⎢                                                                             \n",
       "⎢ 2                                                                           \n",
       "⎢α ⋅v⋅cos(α) - α⋅ω⋅u¹⋅cos(α) - α⋅ω⋅u²⋅sin(α) + ω⋅u¹⋅sin(α) - ω⋅u²⋅cos(α) + ω⋅u\n",
       "⎢─────────────────────────────────────────────────────────────────────────────\n",
       "⎢                                       2                                     \n",
       "⎣                                      α                                      \n",
       "\n",
       "         0               0       ⎤\n",
       "                                 ⎥\n",
       "                                 ⎥\n",
       ")  ω⋅(cos(α) - 1)     ω⋅sin(α)   ⎥\n",
       "─  ──────────────     ────────   ⎥\n",
       "         α               α       ⎥\n",
       "                                 ⎥\n",
       "                                 ⎥\n",
       "                                 ⎥\n",
       "²    -ω⋅sin(α)     ω⋅(cos(α) - 1)⎥\n",
       "─    ──────────    ──────────────⎥\n",
       "         α               α       ⎥\n",
       "                                 ⎦"
      ]
     },
     "execution_count": 8,
     "metadata": {},
     "output_type": "execute_result"
    }
   ],
   "source": [
    "X = sympy.Matrix([alpha, u_1, u_2])\n",
    "Y = sympy.Matrix([M[1, 0], M[0, 2], M[1, 2]])\n",
    "J = Y.jacobian(X).applyfunc(lambda e: e.simplify())\n",
    "J"
   ]
  },
  {
   "cell_type": "markdown",
   "metadata": {},
   "source": [
    "Near the origin, zero error, this looks like the adjoint matrix."
   ]
  },
  {
   "cell_type": "code",
   "execution_count": 9,
   "metadata": {},
   "outputs": [
    {
     "data": {
      "image/png": "[encoded data removed]",
      "text/latex": [
       "$$\\left[\\begin{matrix}0 & 0 & 0\\\\0 & 0 & \\omega\\\\v & - \\omega & 0\\end{matrix}\\right]$$"
      ],
      "text/plain": [
       "⎡0  0   0⎤\n",
       "⎢        ⎥\n",
       "⎢0  0   ω⎥\n",
       "⎢        ⎥\n",
       "⎣v  -ω  0⎦"
      ]
     },
     "execution_count": 9,
     "metadata": {},
     "output_type": "execute_result"
    }
   ],
   "source": [
    "A = J.applyfunc(lambda e: e.limit(alpha, 0).limit(u_1, 0).limit(u_2, 0))\n",
    "A "
   ]
  },
  {
   "cell_type": "markdown",
   "metadata": {},
   "source": [
    "Need to bound the matrix around the origin by looking at multidimensional taylor series residual."
   ]
  },
  {
   "cell_type": "code",
   "execution_count": 10,
   "metadata": {},
   "outputs": [
    {
     "data": {
      "image/png": "[encoded data removed]",
      "text/latex": [
       "$$\\left [ \\left[\\begin{matrix}0 & 0 & 0\\\\0 & 0 & 0\\\\0 & 0 & 0\\end{matrix}\\right], \\quad \\left[\\begin{matrix}v & - \\frac{\\omega}{2} & 0\\\\- \\frac{\\omega}{2} & 0 & 0\\\\0 & 0 & 0\\end{matrix}\\right], \\quad \\left[\\begin{matrix}0 & 0 & - \\frac{\\omega}{2}\\\\0 & 0 & 0\\\\- \\frac{\\omega}{2} & 0 & 0\\end{matrix}\\right]\\right ]$$"
      ],
      "text/plain": [
       "⎡           ⎡     -ω    ⎤  ⎡        -ω ⎤⎤\n",
       "⎢           ⎢ v   ───  0⎥  ⎢ 0   0  ───⎥⎥\n",
       "⎢⎡0  0  0⎤  ⎢      2    ⎥  ⎢         2 ⎥⎥\n",
       "⎢⎢       ⎥  ⎢           ⎥  ⎢           ⎥⎥\n",
       "⎢⎢0  0  0⎥, ⎢-ω         ⎥, ⎢ 0   0   0 ⎥⎥\n",
       "⎢⎢       ⎥  ⎢───   0   0⎥  ⎢           ⎥⎥\n",
       "⎢⎣0  0  0⎦  ⎢ 2         ⎥  ⎢-ω         ⎥⎥\n",
       "⎢           ⎢           ⎥  ⎢───  0   0 ⎥⎥\n",
       "⎣           ⎣ 0    0   0⎦  ⎣ 2         ⎦⎦"
      ]
     },
     "execution_count": 10,
     "metadata": {},
     "output_type": "execute_result"
    }
   ],
   "source": [
    "H = [sympy.Matrix.zeros(3, 3), sympy.Matrix.zeros(3, 3), sympy.Matrix.zeros(3, 3)]\n",
    "for k in range(3):\n",
    "    for i in range(3):\n",
    "        for j in range(3):\n",
    "            H[k][i, j] = Y[k].diff(X[i]).diff(X[j]).limit(alpha, 0).limit(u_1, 0).limit(u_2, 0)\n",
    "H"
   ]
  },
  {
   "cell_type": "code",
   "execution_count": 11,
   "metadata": {},
   "outputs": [
    {
     "data": {
      "image/png": "[encoded data removed]",
      "text/latex": [
       "$$\\left[\\begin{matrix}0\\\\- \\frac{\\alpha \\omega u^{1}}{4} + \\frac{\\alpha \\left(\\alpha v - \\frac{\\omega u^{1}}{2}\\right)}{2}\\\\- \\frac{\\alpha \\omega u^{2}}{2}\\end{matrix}\\right]$$"
      ],
      "text/plain": [
       "⎡            0            ⎤\n",
       "⎢                         ⎥\n",
       "⎢             ⎛      ω⋅u¹⎞⎥\n",
       "⎢           α⋅⎜α⋅v - ────⎟⎥\n",
       "⎢  α⋅ω⋅u¹     ⎝       2  ⎠⎥\n",
       "⎢- ────── + ──────────────⎥\n",
       "⎢    4            2       ⎥\n",
       "⎢                         ⎥\n",
       "⎢        -α⋅ω⋅u²          ⎥\n",
       "⎢        ────────         ⎥\n",
       "⎣           2             ⎦"
      ]
     },
     "execution_count": 11,
     "metadata": {},
     "output_type": "execute_result"
    }
   ],
   "source": [
    "R = sympy.Matrix([X.T*H[0]*X, X.T*H[1]*X, X.T*H[2]*X])/2\n",
    "R"
   ]
  },
  {
   "cell_type": "markdown",
   "metadata": {},
   "source": [
    "Now we need to find the max and min value of this residual over x, y, theta within a fixed range, set by the lyapunov function."
   ]
  },
  {
   "cell_type": "code",
   "execution_count": 12,
   "metadata": {},
   "outputs": [
    {
     "data": {
      "image/png": "[encoded data removed]",
      "text/latex": [
       "$$\\left \\{ \\alpha : 0, \\quad u^{1} : 0\\right \\}$$"
      ],
      "text/plain": [
       "{α: 0, u¹: 0}"
      ]
     },
     "execution_count": 12,
     "metadata": {},
     "output_type": "execute_result"
    }
   ],
   "source": [
    "sympy.solve(R[1].diff(X), X)"
   ]
  },
  {
   "cell_type": "code",
   "execution_count": 13,
   "metadata": {},
   "outputs": [
    {
     "data": {
      "image/png": "[encoded data removed]",
      "text/latex": [
       "$$\\left \\{ \\alpha : 0, \\quad u^{2} : 0\\right \\}$$"
      ],
      "text/plain": [
       "{α: 0, u²: 0}"
      ]
     },
     "execution_count": 13,
     "metadata": {},
     "output_type": "execute_result"
    }
   ],
   "source": [
    "sympy.solve(R[2].diff(X), X)"
   ]
  },
  {
   "cell_type": "code",
   "execution_count": 14,
   "metadata": {},
   "outputs": [
    {
     "data": {
      "image/png": "[encoded data removed]",
      "text/latex": [
       "$$\\left[\\begin{matrix}0 & 0 & \\frac{- \\alpha \\cos{\\left (\\alpha \\right )} + \\alpha + u^{1} \\cos{\\left (\\alpha \\right )} - u^{1} + u^{2} \\sin{\\left (\\alpha \\right )}}{\\alpha}\\\\0 & 0 & \\frac{\\alpha \\sin{\\left (\\alpha \\right )} - u^{1} \\sin{\\left (\\alpha \\right )} + u^{2} \\cos{\\left (\\alpha \\right )} - u^{2}}{\\alpha}\\\\0 & 0 & 0\\end{matrix}\\right]$$"
      ],
      "text/plain": [
       "⎡      -α⋅cos(α) + α + u¹⋅cos(α) - u¹ + u²⋅sin(α)⎤\n",
       "⎢0  0  ──────────────────────────────────────────⎥\n",
       "⎢                          α                     ⎥\n",
       "⎢                                                ⎥\n",
       "⎢        α⋅sin(α) - u¹⋅sin(α) + u²⋅cos(α) - u²   ⎥\n",
       "⎢0  0    ─────────────────────────────────────   ⎥\n",
       "⎢                          α                     ⎥\n",
       "⎢                                                ⎥\n",
       "⎣0  0                      0                     ⎦"
      ]
     },
     "execution_count": 14,
     "metadata": {},
     "output_type": "execute_result"
    }
   ],
   "source": [
    "M.subs({omega: 1, v: 1})"
   ]
  },
  {
   "cell_type": "code",
   "execution_count": 15,
   "metadata": {},
   "outputs": [
    {
     "data": {
      "image/png": "[encoded data removed]",
      "text/latex": [
       "$$\\alpha^{2} + \\left(u^{1}\\right)^{2} + \\left(u^{2}\\right)^{2}$$"
      ],
      "text/plain": [
       " 2     2     2\n",
       "α  + u¹  + u² "
      ]
     },
     "execution_count": 15,
     "metadata": {},
     "output_type": "execute_result"
    }
   ],
   "source": [
    "P = sympy.Matrix.diag([1, 1, 1])\n",
    "P\n",
    "V = (X.T*P*X)[0]\n",
    "V"
   ]
  },
  {
   "cell_type": "code",
   "execution_count": 16,
   "metadata": {},
   "outputs": [],
   "source": [
    "c = sympy.symbols('c', positive=True)"
   ]
  },
  {
   "cell_type": "code",
   "execution_count": 17,
   "metadata": {},
   "outputs": [],
   "source": [
    "lam = sympy.symbols('lambda', nonzero=True)"
   ]
  },
  {
   "cell_type": "code",
   "execution_count": 18,
   "metadata": {},
   "outputs": [
    {
     "data": {
      "image/png": "[encoded data removed]",
      "text/latex": [
       "$$- \\frac{\\alpha \\omega u^{2}}{2}$$"
      ],
      "text/plain": [
       "-α⋅ω⋅u² \n",
       "────────\n",
       "   2    "
      ]
     },
     "execution_count": 18,
     "metadata": {},
     "output_type": "execute_result"
    }
   ],
   "source": [
    "R[2]"
   ]
  },
  {
   "cell_type": "code",
   "execution_count": 19,
   "metadata": {},
   "outputs": [
    {
     "data": {
      "image/png": "[encoded data removed]",
      "text/latex": [
       "$$\\left [ \\left \\{ \\alpha : \\frac{\\sqrt{2} \\sqrt{c} v \\sqrt{- v + \\sqrt{\\omega^{2} + v^{2}}}}{2 \\omega \\sqrt[4]{\\omega^{2} + v^{2}}} + \\frac{\\sqrt{2} \\sqrt{c} \\sqrt{\\omega^{2} + v^{2}} \\sqrt{- \\frac{v}{\\sqrt{\\omega^{2} + v^{2}}} + 1}}{2 \\omega}, \\quad \\lambda : \\frac{v}{4} + \\frac{\\sqrt{\\omega^{2} + v^{2}}}{4}, \\quad u^{1} : - \\frac{\\sqrt{2} \\sqrt{c} \\sqrt{- \\frac{v}{\\sqrt{\\omega^{2} + v^{2}}} + 1}}{2}, \\quad u^{2} : 0\\right \\}, \\quad \\left \\{ \\alpha : - \\frac{\\sqrt{2} \\sqrt{c} v \\sqrt{- v + \\sqrt{\\omega^{2} + v^{2}}}}{2 \\omega \\sqrt[4]{\\omega^{2} + v^{2}}} - \\frac{\\sqrt{2} \\sqrt{c} \\sqrt{\\omega^{2} + v^{2}} \\sqrt{- \\frac{v}{\\sqrt{\\omega^{2} + v^{2}}} + 1}}{2 \\omega}, \\quad \\lambda : \\frac{v}{4} + \\frac{\\sqrt{\\omega^{2} + v^{2}}}{4}, \\quad u^{1} : \\frac{\\sqrt{2} \\sqrt{c} \\sqrt{- \\frac{v}{\\sqrt{\\omega^{2} + v^{2}}} + 1}}{2}, \\quad u^{2} : 0\\right \\}, \\quad \\left \\{ \\alpha : - \\frac{\\sqrt{2} \\sqrt{c} v \\sqrt{v + \\sqrt{\\omega^{2} + v^{2}}}}{2 \\omega \\sqrt[4]{\\omega^{2} + v^{2}}} + \\frac{\\sqrt{2} \\sqrt{c} \\sqrt{\\omega^{2} + v^{2}} \\sqrt{\\frac{v}{\\sqrt{\\omega^{2} + v^{2}}} + 1}}{2 \\omega}, \\quad \\lambda : \\frac{v}{4} - \\frac{\\sqrt{\\omega^{2} + v^{2}}}{4}, \\quad u^{1} : \\frac{\\sqrt{2} \\sqrt{c} \\sqrt{\\frac{v}{\\sqrt{\\omega^{2} + v^{2}}} + 1}}{2}, \\quad u^{2} : 0\\right \\}, \\quad \\left \\{ \\alpha : \\frac{\\sqrt{2} \\sqrt{c} v \\sqrt{v + \\sqrt{\\omega^{2} + v^{2}}}}{2 \\omega \\sqrt[4]{\\omega^{2} + v^{2}}} - \\frac{\\sqrt{2} \\sqrt{c} \\sqrt{\\omega^{2} + v^{2}} \\sqrt{\\frac{v}{\\sqrt{\\omega^{2} + v^{2}}} + 1}}{2 \\omega}, \\quad \\lambda : \\frac{v}{4} - \\frac{\\sqrt{\\omega^{2} + v^{2}}}{4}, \\quad u^{1} : - \\frac{\\sqrt{2} \\sqrt{c} \\sqrt{\\frac{v}{\\sqrt{\\omega^{2} + v^{2}}} + 1}}{2}, \\quad u^{2} : 0\\right \\}\\right ]$$"
      ],
      "text/plain": [
       "⎡⎧                                              _________       ______________\n",
       "⎢⎪                                             ╱  2    2       ╱        v     \n",
       "⎢⎪               ___________________   √2⋅√c⋅╲╱  ω  + v  ⋅    ╱  - ───────────\n",
       "⎢⎪              ╱         _________                          ╱        ________\n",
       "⎢⎪             ╱         ╱  2    2                          ╱        ╱  2    2\n",
       "⎢⎨   √2⋅√c⋅v⋅╲╱   -v + ╲╱  ω  + v                         ╲╱       ╲╱  ω  + v \n",
       "⎢⎪α: ─────────────────────────────── + ───────────────────────────────────────\n",
       "⎢⎪                  _________                               2⋅ω               \n",
       "⎢⎪               4 ╱  2    2                                                  \n",
       "⎢⎪           2⋅ω⋅╲╱  ω  + v                                                   \n",
       "⎣⎩                                                                            \n",
       "\n",
       "______                                        ____________________        ⎫  ⎧\n",
       "                                             ╱        v                   ⎪  ⎪\n",
       "─ + 1                            -√2⋅√c⋅    ╱  - ──────────── + 1         ⎪  ⎪\n",
       "_                 _________                ╱        _________             ⎪  ⎪\n",
       "                 ╱  2    2                ╱        ╱  2    2              ⎪  ⎪\n",
       "           v   ╲╱  ω  + v               ╲╱       ╲╱  ω  + v               ⎬  ⎨\n",
       "──────, λ: ─ + ────────────, u¹: ──────────────────────────────────, u²: 0⎪, ⎪\n",
       "           4        4                            2                        ⎪  ⎪\n",
       "                                                                          ⎪  ⎪\n",
       "                                                                          ⎪  ⎪\n",
       "                                                                          ⎭  ⎩\n",
       "\n",
       "                                                _________       ______________\n",
       "                                               ╱  2    2       ╱        v     \n",
       "                 ___________________   √2⋅√c⋅╲╱  ω  + v  ⋅    ╱  - ───────────\n",
       "                ╱         _________                          ╱        ________\n",
       "               ╱         ╱  2    2                          ╱        ╱  2    2\n",
       "     √2⋅√c⋅v⋅╲╱   -v + ╲╱  ω  + v                         ╲╱       ╲╱  ω  + v \n",
       "α: - ─────────────────────────────── - ───────────────────────────────────────\n",
       "                    _________                               2⋅ω               \n",
       "                 4 ╱  2    2                                                  \n",
       "             2⋅ω⋅╲╱  ω  + v                                                   \n",
       "                                                                              \n",
       "\n",
       "______                                       ____________________       ⎫  ⎧  \n",
       "                                            ╱        v                  ⎪  ⎪  \n",
       "─ + 1                            √2⋅√c⋅    ╱  - ──────────── + 1        ⎪  ⎪  \n",
       "_                 _________               ╱        _________            ⎪  ⎪  \n",
       "                 ╱  2    2               ╱        ╱  2    2             ⎪  ⎪  \n",
       "           v   ╲╱  ω  + v              ╲╱       ╲╱  ω  + v              ⎬  ⎨  \n",
       "──────, λ: ─ + ────────────, u¹: ────────────────────────────────, u²: 0⎪, ⎪α:\n",
       "           4        4                           2                       ⎪  ⎪  \n",
       "                                                                        ⎪  ⎪  \n",
       "                                                                        ⎪  ⎪  \n",
       "                                                                        ⎭  ⎩  \n",
       "\n",
       "                                             _________       _________________\n",
       "                                            ╱  2    2       ╱      v          \n",
       "               __________________   √2⋅√c⋅╲╱  ω  + v  ⋅    ╱  ──────────── + 1\n",
       "              ╱        _________                          ╱      _________    \n",
       "             ╱        ╱  2    2                          ╱      ╱  2    2     \n",
       "   √2⋅√c⋅v⋅╲╱   v + ╲╱  ω  + v                         ╲╱     ╲╱  ω  + v      \n",
       " - ────────────────────────────── + ──────────────────────────────────────────\n",
       "                 _________                              2⋅ω                   \n",
       "              4 ╱  2    2                                                     \n",
       "          2⋅ω⋅╲╱  ω  + v                                                      \n",
       "                                                                              \n",
       "\n",
       "_                                       __________________       ⎫  ⎧         \n",
       "                                       ╱      v                  ⎪  ⎪         \n",
       "                            √2⋅√c⋅    ╱  ──────────── + 1        ⎪  ⎪         \n",
       "             _________               ╱      _________            ⎪  ⎪         \n",
       "            ╱  2    2               ╱      ╱  2    2             ⎪  ⎪         \n",
       "      v   ╲╱  ω  + v              ╲╱     ╲╱  ω  + v              ⎬  ⎨   √2⋅√c⋅\n",
       "─, λ: ─ - ────────────, u¹: ──────────────────────────────, u²: 0⎪, ⎪α: ──────\n",
       "      4        4                          2                      ⎪  ⎪         \n",
       "                                                                 ⎪  ⎪         \n",
       "                                                                 ⎪  ⎪         \n",
       "                                                                 ⎭  ⎩         \n",
       "\n",
       "                                    _________       __________________        \n",
       "                                   ╱  2    2       ╱      v                   \n",
       "      __________________   √2⋅√c⋅╲╱  ω  + v  ⋅    ╱  ──────────── + 1         \n",
       "     ╱        _________                          ╱      _________             \n",
       "    ╱        ╱  2    2                          ╱      ╱  2    2              \n",
       "v⋅╲╱   v + ╲╱  ω  + v                         ╲╱     ╲╱  ω  + v            v  \n",
       "──────────────────────── - ───────────────────────────────────────────, λ: ─ -\n",
       "        _________                              2⋅ω                         4  \n",
       "     4 ╱  2    2                                                              \n",
       " 2⋅ω⋅╲╱  ω  + v                                                               \n",
       "                                                                              \n",
       "\n",
       "                                __________________        ⎫⎤\n",
       "                               ╱      v                   ⎪⎥\n",
       "                   -√2⋅√c⋅    ╱  ──────────── + 1         ⎪⎥\n",
       "    _________                ╱      _________             ⎪⎥\n",
       "   ╱  2    2                ╱      ╱  2    2              ⎪⎥\n",
       " ╲╱  ω  + v               ╲╱     ╲╱  ω  + v               ⎬⎥\n",
       " ────────────, u¹: ────────────────────────────────, u²: 0⎪⎥\n",
       "      4                           2                       ⎪⎥\n",
       "                                                          ⎪⎥\n",
       "                                                          ⎪⎥\n",
       "                                                          ⎭⎦"
      ]
     },
     "execution_count": 19,
     "metadata": {},
     "output_type": "execute_result"
    }
   ],
   "source": [
    "L1 = R[1] - lam*(V - c)\n",
    "sol_L1 = sympy.solve(L1.diff(sympy.Matrix([alpha, u_1, u_2, lam])), [lam, alpha, u_1, u_2], dict=True)\n",
    "for i, s in enumerate(sol_L1):\n",
    "    for k in s.keys():\n",
    "        sol_L1[i][k] = s[k].expand()\n",
    "sol_L1"
   ]
  },
  {
   "cell_type": "code",
   "execution_count": 20,
   "metadata": {},
   "outputs": [
    {
     "data": {
      "image/png": "[encoded data removed]",
      "text/latex": [
       "$$\\frac{c \\left(v \\sqrt{- v + \\sqrt{\\omega^{2} + v^{2}}} + \\sqrt{\\frac{- v + \\sqrt{\\omega^{2} + v^{2}}}{\\sqrt{\\omega^{2} + v^{2}}}} \\left(\\omega^{2} + v^{2}\\right)^{\\frac{3}{4}}\\right) \\left(\\omega^{2} \\sqrt{\\frac{- v + \\sqrt{\\omega^{2} + v^{2}}}{\\sqrt{\\omega^{2} + v^{2}}}} \\sqrt[4]{\\omega^{2} + v^{2}} + \\omega^{2} \\sqrt{- v + \\sqrt{\\omega^{2} + v^{2}}} + 2 v \\left(v \\sqrt{- v + \\sqrt{\\omega^{2} + v^{2}}} + \\sqrt{\\frac{- v + \\sqrt{\\omega^{2} + v^{2}}}{\\sqrt{\\omega^{2} + v^{2}}}} \\left(\\omega^{2} + v^{2}\\right)^{\\frac{3}{4}}\\right)\\right)}{8 \\omega^{2} \\sqrt{\\omega^{2} + v^{2}}}$$"
      ],
      "text/plain": [
       "  ⎛                                    ___________________             ⎞ ⎛    \n",
       "  ⎜      ___________________          ╱         _________              ⎟ ⎜    \n",
       "  ⎜     ╱         _________          ╱         ╱  2    2            3/4⎟ ⎜    \n",
       "  ⎜    ╱         ╱  2    2          ╱   -v + ╲╱  ω  + v    ⎛ 2    2⎞   ⎟ ⎜ 2  \n",
       "c⋅⎜v⋅╲╱   -v + ╲╱  ω  + v    +     ╱    ───────────────── ⋅⎝ω  + v ⎠   ⎟⋅⎜ω ⋅ \n",
       "  ⎜                               ╱           _________                ⎟ ⎜    \n",
       "  ⎜                              ╱           ╱  2    2                 ⎟ ⎜    \n",
       "  ⎝                            ╲╱          ╲╱  ω  + v                  ⎠ ⎝   ╲\n",
       "──────────────────────────────────────────────────────────────────────────────\n",
       "                                                                              \n",
       "                                                                              \n",
       "                                                                              \n",
       "\n",
       "       ___________________                                                 ⎛  \n",
       "      ╱         _________                        ___________________       ⎜  \n",
       "     ╱         ╱  2    2      _________         ╱         _________        ⎜  \n",
       "    ╱   -v + ╲╱  ω  + v    4 ╱  2    2     2   ╱         ╱  2    2         ⎜  \n",
       "   ╱    ───────────────── ⋅╲╱  ω  + v   + ω ⋅╲╱   -v + ╲╱  ω  + v    + 2⋅v⋅⎜v⋅\n",
       "  ╱           _________                                                    ⎜  \n",
       " ╱           ╱  2    2                                                     ⎜  \n",
       "╱          ╲╱  ω  + v                                                      ⎝  \n",
       "──────────────────────────────────────────────────────────────────────────────\n",
       "                                 _________                                    \n",
       "                            2   ╱  2    2                                     \n",
       "                         8⋅ω ⋅╲╱  ω  + v                                      \n",
       "\n",
       "                                  ___________________             ⎞⎞\n",
       "    ___________________          ╱         _________              ⎟⎟\n",
       "   ╱         _________          ╱         ╱  2    2            3/4⎟⎟\n",
       "  ╱         ╱  2    2          ╱   -v + ╲╱  ω  + v    ⎛ 2    2⎞   ⎟⎟\n",
       "╲╱   -v + ╲╱  ω  + v    +     ╱    ───────────────── ⋅⎝ω  + v ⎠   ⎟⎟\n",
       "                             ╱           _________                ⎟⎟\n",
       "                            ╱           ╱  2    2                 ⎟⎟\n",
       "                          ╲╱          ╲╱  ω  + v                  ⎠⎠\n",
       "────────────────────────────────────────────────────────────────────\n",
       "                                                                    \n",
       "                                                                    \n",
       "                                                                    "
      ]
     },
     "execution_count": 20,
     "metadata": {},
     "output_type": "execute_result"
    }
   ],
   "source": [
    "R[1].subs(sol_L1[0]).simplify()"
   ]
  },
  {
   "cell_type": "code",
   "execution_count": 21,
   "metadata": {},
   "outputs": [
    {
     "name": "stdout",
     "output_type": "stream",
     "text": [
      "0.603553390593274\n",
      "0.603553390593274\n",
      "-0.103553390593274\n",
      "-0.103553390593274\n"
     ]
    }
   ],
   "source": [
    "for i in range(4):\n",
    "    print(sympy.N(R[1].subs(sol_L1[i]).subs({c: 1, v: 1, omega: 1})))"
   ]
  },
  {
   "cell_type": "code",
   "execution_count": 22,
   "metadata": {},
   "outputs": [
    {
     "data": {
      "image/png": "[encoded data removed]",
      "text/latex": [
       "$$\\left [ \\left \\{ \\alpha : - \\frac{\\sqrt{2} \\sqrt{c}}{2}, \\quad \\lambda : - \\frac{\\omega}{4}, \\quad u^{1} : 0, \\quad u^{2} : - \\frac{\\sqrt{2} \\sqrt{c}}{2}\\right \\}, \\quad \\left \\{ \\alpha : - \\frac{\\sqrt{2} \\sqrt{c}}{2}, \\quad \\lambda : \\frac{\\omega}{4}, \\quad u^{1} : 0, \\quad u^{2} : \\frac{\\sqrt{2} \\sqrt{c}}{2}\\right \\}, \\quad \\left \\{ \\alpha : \\frac{\\sqrt{2} \\sqrt{c}}{2}, \\quad \\lambda : - \\frac{\\omega}{4}, \\quad u^{1} : 0, \\quad u^{2} : \\frac{\\sqrt{2} \\sqrt{c}}{2}\\right \\}, \\quad \\left \\{ \\alpha : \\frac{\\sqrt{2} \\sqrt{c}}{2}, \\quad \\lambda : \\frac{\\omega}{4}, \\quad u^{1} : 0, \\quad u^{2} : - \\frac{\\sqrt{2} \\sqrt{c}}{2}\\right \\}\\right ]$$"
      ],
      "text/plain": [
       "⎡⎧   -√2⋅√c      -ω              -√2⋅√c ⎫  ⎧   -√2⋅√c      ω             √2⋅√c\n",
       "⎢⎨α: ───────, λ: ───, u¹: 0, u²: ───────⎬, ⎨α: ───────, λ: ─, u¹: 0, u²: ─────\n",
       "⎣⎩      2         4                 2   ⎭  ⎩      2        4               2  \n",
       "\n",
       "⎫  ⎧   √2⋅√c     -ω              √2⋅√c⎫  ⎧   √2⋅√c     ω             -√2⋅√c ⎫⎤\n",
       "⎬, ⎨α: ─────, λ: ───, u¹: 0, u²: ─────⎬, ⎨α: ─────, λ: ─, u¹: 0, u²: ───────⎬⎥\n",
       "⎭  ⎩     2        4                2  ⎭  ⎩     2       4                2   ⎭⎦"
      ]
     },
     "execution_count": 22,
     "metadata": {},
     "output_type": "execute_result"
    }
   ],
   "source": [
    "L2 = R[2] - lam*(V - c)\n",
    "sol_L2 = sympy.solve(L2.diff(sympy.Matrix([alpha, u_1, u_2, lam])), [lam, alpha, u_1, u_2], dict=True)\n",
    "for i, s in enumerate(sol_L2):\n",
    "    for k in s.keys():\n",
    "        sol_L2[i][k] = s[k].expand()\n",
    "sol_L2"
   ]
  },
  {
   "cell_type": "code",
   "execution_count": 23,
   "metadata": {},
   "outputs": [
    {
     "name": "stdout",
     "output_type": "stream",
     "text": [
      "-0.250000000000000\n",
      "0.250000000000000\n",
      "-0.250000000000000\n",
      "0.250000000000000\n"
     ]
    }
   ],
   "source": [
    "for i in range(4):\n",
    "    print(sympy.N(R[2].subs(sol_L2[i]).subs({c: 1, v: 1, omega: 1})))"
   ]
  },
  {
   "cell_type": "code",
   "execution_count": 24,
   "metadata": {},
   "outputs": [],
   "source": [
    "def simulation(x0, tf=5, dt_control=0.1, dt=0.01):\n",
    "\n",
    "    def f(t, x, u):\n",
    "        omega = u[0]\n",
    "        v = u[1]\n",
    "        dx = np.zeros(3)\n",
    "        theta = x[0]\n",
    "        dx[0] = omega\n",
    "        dx[1] = v*np.cos(theta)\n",
    "        dx[2] = v*np.sin(theta)\n",
    "        return dx\n",
    "\n",
    "    def g(t):\n",
    "        u = np.zeros(2)\n",
    "        f = 1\n",
    "        u[0] = 2 + 0.5*np.sin(2*np.pi*f*t)  # omega\n",
    "        u[1] = 2 + np.sin(2*np.pi*f*t)  # v\n",
    "        return u\n",
    "\n",
    "    t_control = np.arange(0, tf, dt_control)\n",
    "\n",
    "    data = {\n",
    "        't': [],\n",
    "        'x': [],\n",
    "        'x_t': [],\n",
    "        'u': []\n",
    "    }\n",
    "    x = x0\n",
    "    x_t = [0, 0, 0]\n",
    "\n",
    "    for t in t_control:\n",
    "        u = g(t)\n",
    "        t_eval = np.arange(t, t + dt_control, dt)\n",
    "        sim = scipy.integrate.solve_ivp(lambda t, x: f(t, x, u), [t_eval[0], t_eval[-1]], x, t_eval=t_eval)\n",
    "        x = sim.y[:, -1]\n",
    "\n",
    "        sim_t = scipy.integrate.solve_ivp(lambda t, x: f(t, x, u), [t_eval[0], t_eval[-1]], x_t, t_eval=t_eval)\n",
    "        x_t = sim_t.y[:, -1]\n",
    "        \n",
    "        # correction, simulate simple kalman filter\n",
    "        y = x_t + 0.1*np.random.randn(3)\n",
    "        K = np.diag([0.2, 0.2, 0.2])\n",
    "        H = np.eye(3)\n",
    "        x = K.dot(y - H.dot(x)) + x\n",
    "        \n",
    "        data['t'].append(sim.t)\n",
    "        data['x'].append(sim.y)\n",
    "        data['x_t'].append(sim_t.y)\n",
    "        data['u'].append(np.array([u]).T*np.ones(len(sim.t)))\n",
    "\n",
    "\n",
    "    for k in data.keys():\n",
    "        data[k] = np.hstack(data[k])    \n",
    "    return data"
   ]
  },
  {
   "cell_type": "code",
   "execution_count": 25,
   "metadata": {},
   "outputs": [],
   "source": [
    "tf = 2\n",
    "mc_data = []\n",
    "for i in range(300):\n",
    "    mc_data.append(simulation(x0=0.3*2*(np.random.rand(3) - 0.5), tf=tf))"
   ]
  },
  {
   "cell_type": "code",
   "execution_count": 26,
   "metadata": {},
   "outputs": [
    {
     "data": {
      "image/png": "[encoded data removed]",
      "text/plain": [
       "<Figure size 432x288 with 1 Axes>"
      ]
     },
     "metadata": {
      "needs_background": "light"
     },
     "output_type": "display_data"
    }
   ],
   "source": [
    "for d in mc_data:\n",
    "    plt.plot(d['x'][1,:], d['x'][2,:], '-r', alpha=0.02)\n",
    "plt.plot(mc_data[0]['x_t'][1,:], mc_data[0]['x_t'][2,:], '-b', linewidth=2)\n",
    "plt.axis('square')\n",
    "plt.plot(0.3*np.array([-1, 1, 1, -1, -1]), 0.3*np.array([-1, -1, 1, 1, -1]))\n",
    "plt.grid()"
   ]
  },
  {
   "cell_type": "code",
   "execution_count": 27,
   "metadata": {},
   "outputs": [],
   "source": [
    "import cvxpy as cvx\n",
    "\n",
    "def find_V_alpha(A, tol=1e-5, i_max=1000):\n",
    "    P = cvx.Variable(shape=A.shape, symmetric=True)\n",
    "    if np.max(np.linalg.eig(A)[0]) >= 0:\n",
    "        raise RuntimeError(\"A must be stable\")\n",
    "    alpha = 0\n",
    "    step = 1\n",
    "    i = 0\n",
    "    while True:\n",
    "        constraints = [\n",
    "            cvx.matmul(A, P) + cvx.matmul(P, A.T) + 2*alpha*P <= 0,\n",
    "            P >= np.eye(2)\n",
    "        ]\n",
    "        prob = cvx.Problem(cvx.Maximize(0), constraints)\n",
    "        prob.solve(verbose=False)\n",
    "\n",
    "        if prob.status == 'optimal':\n",
    "            if step < tol:\n",
    "                P.value = P.value / np.max(P.value)\n",
    "                break\n",
    "            step *= 1.9\n",
    "            alpha += step\n",
    "        else:\n",
    "            alpha -= step\n",
    "            step *= 0.4\n",
    "\n",
    "        i += 1\n",
    "        if i > i_max:\n",
    "            raise RuntimeError('failed to converge')\n",
    "\n",
    "    assert prob.status == 'optimal'\n",
    "    return P.value, alpha"
   ]
  },
  {
   "cell_type": "code",
   "execution_count": 28,
   "metadata": {},
   "outputs": [],
   "source": [
    "def line_search(constraints, objective=cvx.Minimize(0), direction=1, alpha_0=1e-9, tol=1e-5, i_max=100, verbose=False):\n",
    "    \"\"\"\n",
    "    constraints: f(alpha)\n",
    "    \"\"\"\n",
    "    step = 1\n",
    "    i = 0\n",
    "    alpha = alpha_0\n",
    "    \n",
    "    prob = cvx.Problem(objective, constraints(alpha))\n",
    "    prob.solve(verbose=verbose)\n",
    "    if prob.status != 'optimal':\n",
    "        raise RuntimeError('initial alpha must be valid, alpha=', alpha, prob.status)\n",
    "        \n",
    "    while True:\n",
    "        prob = cvx.Problem(objective, constraints(alpha + step))\n",
    "        prob.solve(verbose=verbose)\n",
    "        if prob.status == 'optimal':\n",
    "            if step < tol:\n",
    "                break\n",
    "            alpha += step\n",
    "            step *= 1.9\n",
    "        else:\n",
    "            step *= 0.4\n",
    "        i += 1\n",
    "        if i > i_max:\n",
    "            raise RuntimeError('failed to converge', alpha)\n",
    "        if np.abs(alpha) > 1e6:\n",
    "            raise RuntimeError('alpha diverging', alpha)\n",
    "\n",
    "    assert prob.status == 'optimal'\n",
    "    return alpha"
   ]
  },
  {
   "cell_type": "code",
   "execution_count": 35,
   "metadata": {},
   "outputs": [
    {
     "name": "stdout",
     "output_type": "stream",
     "text": [
      "1.0004316575612788 [[0.48601018 0.54470088]\n",
      " [0.54470088 1.        ]] (array([-1., -2.]), array([[ 1.        , -0.70710678],\n",
      "       [ 0.        ,  0.70710678]]))\n"
     ]
    }
   ],
   "source": [
    "def prob1():\n",
    "    \"\"\"\n",
    "    AAE 66 pg. \n",
    "    \"\"\"\n",
    "    A = np.array([[-1, 1], [0, -2]])\n",
    "    P = cvx.Variable(shape=A.shape, PSD=True)\n",
    "\n",
    "    alpha = line_search(\n",
    "        constraints= lambda alpha: [\n",
    "            P*A + A.T*P + 2*alpha*P <= 0,\n",
    "            P >= np.eye(2)])\n",
    "    P.value = P.value/np.max(P.value)\n",
    "    print(alpha, P.value, np.linalg.eig(A))\n",
    "prob1()"
   ]
  },
  {
   "cell_type": "code",
   "execution_count": 32,
   "metadata": {},
   "outputs": [
    {
     "name": "stdout",
     "output_type": "stream",
     "text": [
      "1.3228753875160437 [[1.14285668 0.28571434]\n",
      " [0.28571434 0.57142842]]\n"
     ]
    }
   ],
   "source": [
    "def prob2():\n",
    "    \"\"\"\n",
    "    AAE 666 pg. 127\n",
    "    \"\"\"\n",
    "    A = np.array([[0, 1], [-2, -1]])\n",
    "    B = np.array([[0, 1]]).T\n",
    "    C = np.array([[1, 0]])\n",
    "    P = cvx.Variable(shape=(2, 2), PSD=True)\n",
    "    beta = cvx.Variable(nonneg=True)\n",
    "    constraints= [cvx.bmat([\n",
    "            [P*A + A.T*P + C.T*C, P*B],\n",
    "            [B.T*P, -beta*np.eye(1)]]) << 0]\n",
    "    prob = cvx.Problem(cvx.Minimize(beta), constraints)\n",
    "    prob.solve(verbose=False)\n",
    "    gamma = beta.value**-0.5\n",
    "    print(gamma, P.value)\n",
    "prob2()"
   ]
  },
  {
   "cell_type": "code",
   "execution_count": 31,
   "metadata": {},
   "outputs": [
    {
     "name": "stdout",
     "output_type": "stream",
     "text": [
      "alpha 0.9990176518936275 mu_1 292.97444048800673 mu_2 5.806107274484295e-07 gamma 17.11649616798419\n"
     ]
    }
   ],
   "source": [
    "def prob3():\n",
    "    A = np.array([[0, 1], [-2, -1]])\n",
    "    B = np.array([[0, 1]]).T\n",
    "    C = np.array([[1, 0]])\n",
    "    D = np.array([[0, 0]])\n",
    "    P = cvx.Variable(shape=(2, 2), PSD=True)\n",
    "    mu_1 = cvx.Variable(nonneg=True)\n",
    "    mu_2 = cvx.Variable(nonneg=True)\n",
    "    g = lambda alpha: [\n",
    "        cvx.bmat([\n",
    "            [P*A + A.T*P + alpha*P, P*B],\n",
    "            [B.T*P, -alpha*mu_1*np.eye(1)]]) << 0,\n",
    "        cvx.bmat([\n",
    "            [C.T*C - P, C.T*D],\n",
    "            [D.T*C, D.T*D - mu_2*np.eye(1)]\n",
    "        ]) << 0\n",
    "    ]\n",
    "    alpha = line_search(\n",
    "        constraints=g,\n",
    "        objective=cvx.Minimize(mu_1 + mu_2),\n",
    "        alpha_0=0.1)\n",
    "    print('alpha', alpha, 'mu_1', mu_1.value, 'mu_2', mu_2.value, 'gamma', np.sqrt(mu_1.value + mu_2.value))\n",
    "prob3()"
   ]
  }
 ],
 "metadata": {
  "kernelspec": {
   "display_name": "phd37",
   "language": "python",
   "name": "phd37"
  },
  "language_info": {
   "codemirror_mode": {
    "name": "ipython",
    "version": 3
   },
   "file_extension": ".py",
   "mimetype": "text/x-python",
   "name": "python",
   "nbconvert_exporter": "python",
   "pygments_lexer": "ipython3",
   "version": "3.7.0"
  }
 },
 "nbformat": 4,
 "nbformat_minor": 2
}
