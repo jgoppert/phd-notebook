{
 "cells": [
  {
   "cell_type": "code",
   "execution_count": 4,
   "id": "e48902b7",
   "metadata": {
    "collapsed": false,
    "jupyter": {
     "outputs_hidden": false
    }
   },
   "outputs": [
    {
     "name": "stdout",
     "output_type": "stream",
     "text": [
      "%pylab is deprecated, use %matplotlib inline and import the required libraries.\n",
      "Populating the interactive namespace from numpy and matplotlib\n"
     ]
    }
   ],
   "source": [
    "%pylab inline\n",
    "import control\n",
    "import pyhull\n",
    "import string\n",
    "import picos as pic\n",
    "import cvxopt as cvx\n",
    "import numpy as np\n",
    "import scipy.linalg\n",
    "import scipy.optimize\n",
    "import scipy.integrate\n",
    "import itertools\n",
    "import sympy\n",
    "import sympy.physics.mechanics as me\n",
    "from matplotlib.patches import Ellipse"
   ]
  },
  {
   "cell_type": "code",
   "execution_count": 5,
   "id": "3e9d6a24",
   "metadata": {
    "collapsed": false,
    "jupyter": {
     "outputs_hidden": false
    }
   },
   "outputs": [],
   "source": [
    "rcParams['lines.linewidth'] = 2\n",
    "rcParams['font.size'] = 12\n",
    "rcParams['animation.writer'] = 'avconv'\n",
    "rcParams['animation.codec'] = 'libx264'"
   ]
  },
  {
   "cell_type": "markdown",
   "id": "d033c010",
   "metadata": {},
   "source": [
    "#LMI characterization of $L\\infty$ gain\n"
   ]
  },
  {
   "cell_type": "markdown",
   "id": "c019b43f",
   "metadata": {},
   "source": [
    "The $L_\\infty$ gain characterizes the ratio of the maximum values of the output to the input. This is useful for computing th reachable set for the output. The reachable set can then be used in formal analysis to verify system safety."
   ]
  },
  {
   "cell_type": "markdown",
   "id": "0535345b",
   "metadata": {},
   "source": [
    "source: [AAE 666 Class Notes](papers/aae666-notes.pdf) (Martin Corless) pg. 178/ pg. 265\n",
    "\n",
    "Consider a disturbed linear system:\n",
    "\n",
    "\\begin{align*}\n",
    "\\dot{x} = Ax + Bw\\\\\n",
    "z = Cx + Dw\n",
    "\\end{align*}\n",
    "\n",
    "where all eigenvalues of A have negative real part and w is a bounded input.\n",
    "Suppose there exists a positive real scalar $\\alpha$ such that:\n",
    "\n",
    "\\begin{align*}\n",
    "\\begin{pmatrix}\n",
    "PA + A^TP + 2\\alpha P & PB\\\\\n",
    "B^TP & -2\\alpha \\mu_1 I\n",
    "\\end{pmatrix} < 0\\\\\n",
    "\\begin{pmatrix}\n",
    "C^TC - P & C^T D \\\\\n",
    "D^TC & D^TD - \\mu_2 I\n",
    "\\end{pmatrix} < 0\n",
    "\\end{align*}\n",
    "\n",
    "Then\n",
    "$||y(t)||_{\\infty} \\leq \\sqrt{\\beta^2 e^{-2 \\alpha t} + \\gamma ||u(t)||_{\\infty} }$\n",
    "where\n",
    "\n",
    "\\begin{align*}\n",
    "\\beta &= \\sqrt{x_0^TPx_0}\\\\\n",
    "\\gamma &= \\sqrt{\\mu_1 + \\mu_2}\n",
    "\\end{align*}\n",
    "\n",
    "Since $\\alpha$ and P cannot both be a variable in the LMI in order for it to be linear, a line search must be performed to minimize $\\gamma$ by changing $\\alpha$. It is beneficial to minimize $\\gamma$ since it is the bound at steady state while $\\alpha$ represents the transient behaviour."
   ]
  },
  {
   "cell_type": "code",
   "execution_count": 8,
   "id": "3d1888bf",
   "metadata": {
    "collapsed": false,
    "jupyter": {
     "outputs_hidden": false
    }
   },
   "outputs": [],
   "source": [
    "def solve_bounded_disturbance(sys):\n",
    "    \n",
    "    A = sys.A\n",
    "    B = sys.B\n",
    "    C = sys.C\n",
    "    D = sys.D\n",
    "    \n",
    "    def solve_lmi(A_data, B_data, C_data, D_data, alpha, verbose=False):\n",
    "        sdp = pic.Problem()\n",
    "\n",
    "        # shape\n",
    "        n_x = A_data.shape[0]\n",
    "        n_u = B_data.shape[1]\n",
    "        \n",
    "        # variables\n",
    "        P = sdp.add_variable('P', (n_x, n_x), vtype='symmetric')\n",
    "        alpha = pic.new_param('alpha', alpha)\n",
    "        mu_1 = sdp.add_variable('mu_1')\n",
    "        mu_2 = sdp.add_variable('mu_2')\n",
    "\n",
    "        # parameters\n",
    "        A = pic.new_param('A', cvx.matrix(A_data))\n",
    "        B = pic.new_param('B', cvx.matrix(B_data))\n",
    "        C = pic.new_param('C', cvx.matrix(C_data))\n",
    "        D = pic.new_param('D', cvx.matrix(D_data))\n",
    "        I_n_u = pic.new_param('I', cvx.sparse(cvx.matrix(np.eye(n_u))))\n",
    "        I_n_x = pic.new_param('I', cvx.sparse(cvx.matrix(np.eye(n_x))))\n",
    "\n",
    "        eps = 1e-10\n",
    "        sdp.add_constraint(\n",
    "            (P*A + A.T*P + 2*alpha*P & P*B) //\n",
    "            (B.T*P &  -2*alpha*mu_1*I_n_u)  << -eps)\n",
    "        sdp.add_constraint(\n",
    "            (C.T*C - P & C.T*D) //\n",
    "            (D.T*C & D.T*D - mu_2*I_n_u)  << -eps)\n",
    "        sdp.add_constraint(P >> eps*I_n_x)\n",
    "        sdp.add_constraint(mu_1 >> eps)\n",
    "        sdp.add_constraint(mu_2 >> eps)\n",
    "        sdp.set_objective('min', mu_1 + mu_2)\n",
    "\n",
    "        sdp.solve(verbose=verbose)\n",
    "        mu_1 =  sdp.variables['mu_1'].value[0,0]\n",
    "        mu_2 =  sdp.variables['mu_2'].value[0,0]\n",
    "        gam = np.sqrt(mu_1 + mu_2)\n",
    "\n",
    "        return gam, sdp\n",
    "    \n",
    "    # we use fmin to solve a line search problem in alpha for minimum gamma\n",
    "    print('line search')\n",
    "    alpha_opt  = scipy.optimize.fmin(lambda alpha: solve_lmi(A, B, C, D, alpha)[0], x0=0.01)\n",
    "    \n",
    "    gam, sdp = solve_lmi(A, B, C, D, alpha_opt)\n",
    "    print(sdp)\n",
    "    \n",
    "    if sdp.status == 'optimal':\n",
    "        P = sdp.variables['P'].value\n",
    "        mu_1 =  sdp.variables['mu_1'].value[0,0]\n",
    "        mu_2 =  sdp.variables['mu_2'].value[0,0]\n",
    "        print('optimal alpha: ', alpha_opt)\n",
    "        print('gamma: ', gam)\n",
    "        print('mu_1: ', mu_1)\n",
    "        print('mu_2: ', mu_2)\n",
    "        print('P: ',  P)\n",
    "    else:\n",
    "        sdp = solve_lmi(A, B, C, D, alpha_opt, verbose=True)\n",
    "        raise RuntimeError('Optimization failed')\n",
    "        \n",
    "    return sdp, P, alpha_opt, gam"
   ]
  },
  {
   "cell_type": "markdown",
   "id": "59ac603b",
   "metadata": {},
   "source": [
    "# Convex Hull"
   ]
  },
  {
   "cell_type": "code",
   "execution_count": 9,
   "id": "019f1d7a",
   "metadata": {
    "collapsed": false,
    "jupyter": {
     "outputs_hidden": false
    }
   },
   "outputs": [],
   "source": [
    "class MyConvexHull(object):\n",
    "    \n",
    "    def __init__(self, res=None, eqs=None, points=None, facets=None, max_dist=None):\n",
    "        self.res = res\n",
    "        self.eqs = eqs\n",
    "        self.points = points\n",
    "        self.facets = facets\n",
    "        self.max_dist = max_dist\n",
    "\n",
    "    @classmethod\n",
    "    def from_points(cls, points, angle=0.99):\n",
    "        res = pyhull.qconvex('n i A{:f} Fs'.format(angle), points)\n",
    "        n_dim = int(res[0])-1\n",
    "        n_eqs = int(res[1])\n",
    "        eqs = array([line.split() for line in res[2:2+n_eqs]]).astype(float)\n",
    "        n_facets = int(res[2+n_eqs])\n",
    "        facets = array([line.split() for line in res[3+n_eqs:3+n_eqs+n_facets]]).astype(int)\n",
    "        max_dist = float(res[4+n_eqs+n_facets].split()[1])\n",
    "        return cls(res, eqs, points, facets, max_dist)\n",
    "    \n",
    "    @classmethod\n",
    "    def from_halfspaces(cls, interior_point, halfspaces):\n",
    "        s = 'H'\n",
    "        for i in range(len(interior_point)):\n",
    "            s += '{:5g},'.format(interior_point[i])\n",
    "        opt = s + ' Fp'\n",
    "        res = pyhull.qhull_cmd('qhalf', opt, halfspaces)\n",
    "        n_dim = int(res[0])\n",
    "        n_vert = int(res[1])\n",
    "        points = array([line.split() for line in res[2:2+n_vert]]).astype(float)\n",
    "        return cls.from_points(points)\n",
    "    \n",
    "    def add_buffer(self, b):\n",
    "        self.eqs[:,-1] -= b\n",
    "        s = zeros(self.points[0].shape)\n",
    "        interior_point = self.points.mean(0)\n",
    "        return MyConvexHull.from_halfspaces(interior_point, self.eqs)\n",
    "    \n",
    "    def __repr__(self):\n",
    "        return string.join(self.res, '\\n')\n",
    "    \n",
    "    def contains(self, p):\n",
    "        return False"
   ]
  },
  {
   "cell_type": "code",
   "execution_count": 10,
   "id": "9712ba42",
   "metadata": {
    "collapsed": false,
    "jupyter": {
     "outputs_hidden": false
    }
   },
   "outputs": [],
   "source": [
    "def create_flow_tube(mode, x_0, u_norm):\n",
    "    \n",
    "    x_t = mode['x_t']\n",
    "    beta = mode['beta']\n",
    "    alpha = mode['alpha']\n",
    "    gam = mode['gam']\n",
    "    sys = mode['sys_b']\n",
    "    \n",
    "    t = linspace(0,20,1000)\n",
    "    u = array([[0,x_t[0],x_t[1]]]).T.dot(ones((1,len(t))))\n",
    "    x0 = array([x_0[0], x_0[1], x_0[0], x_0[1]])\n",
    "\n",
    "    bound = sqrt(beta**2*exp(-2*alpha*t) + (u_norm*gam)**2).T\n",
    "\n",
    "    t, y, x = control.forced_response(sys, T=t, U=u, X0=x0)\n",
    "\n",
    "    nom = y[2:4,:].T # nominal trajecotry\n",
    "\n",
    "    #bounds\n",
    "    p = array([\n",
    "        nom + bound.dot(array([[1,1]])),\n",
    "        nom + bound.dot(array([[-1,1]])),\n",
    "        nom + bound.dot(array([[1,-1]])),\n",
    "        nom + bound.dot(array([[-1,-1]]))\n",
    "    ])\n",
    "\n",
    "    # space using arclength\n",
    "    n_steps = 20\n",
    "    arc_length = cumsum(norm(array([diff(nom[:,0]),diff(nom[:,1])]), axis=0))\n",
    "    norm_arc_length = arc_length/arc_length[-1]\n",
    "    i_steps = [find(norm_arc_length >= per)[0] for per in linspace(0,1,n_steps)]\n",
    "\n",
    "    # find convex sets\n",
    "    flow_tube = []\n",
    "    for i in range(n_steps-1):\n",
    "        i0 = i_steps[i]\n",
    "        i1 = i_steps[i+1]+1\n",
    "        step = i1-i0\n",
    "        p_i = reshape(p[:,i0:i1,:], [p.shape[0]*step,p.shape[2]])\n",
    "        ch = MyConvexHull.from_points(p_i, angle=0.9)\n",
    "        ch = ch.add_buffer(ch.max_dist)\n",
    "        flow_tube.append(ch)\n",
    "    return flow_tube, nom\n"
   ]
  },
  {
   "cell_type": "markdown",
   "id": "35fced94",
   "metadata": {},
   "source": [
    "#Inverted Pendulum Example"
   ]
  },
  {
   "cell_type": "code",
   "execution_count": 11,
   "id": "52f7c349",
   "metadata": {
    "collapsed": false,
    "jupyter": {
     "outputs_hidden": false
    }
   },
   "outputs": [],
   "source": [
    "def derive_pend_eoms():\n",
    "    theta, t, m, g, l = sympy.symbols('theta, t, m, g, l')\n",
    "    values = {'g': 9.8, 'l': 0.4, 'm': 1}\n",
    "    frame_i = me.ReferenceFrame('i') # the inertial frame\n",
    "    frame_b = frame_i.orientnew('b', 'Axis', (theta(t), frame_i.z))  # the body frame\n",
    "    point_o = me.Point('o') # the base of the pendulum\n",
    "    point_o.set_vel(frame_i, 0) # the base of the pendulum is fixed in the inertial frame\n",
    "    point_p = point_o.locatenew('p', l*frame_b.y) # the end of the pendulum\n",
    "    point_p.set_vel(frame_b, 0) # point p is fixed in the body frame\n",
    "    point_p.v1pt_theory(point_o, frame_i, frame_b)\n",
    "    particle_a = me.Particle('a', point_p, m) # define a point mass particle at the end of the pendulum\n",
    "    weight = -m*g*frame_i.y\n",
    "    weight\n",
    "    u = sympy.Symbol('u') # input\n",
    "    d = sympy.Symbol('d') # disturbance\n",
    "    M_o = point_p.pos_from(point_o).cross(weight).dot(frame_b.z) + u(t) + d(t)\n",
    "    H__i_o = particle_a.angular_momentum(point_o, frame_i).dot(frame_i.z)\n",
    "    eom = M_o - H__i_o.diff(t)\n",
    "    eom_theta_dd = sympy.solve(eom, theta(t).diff(t,2))[0]\n",
    "    eom_equil = eom.subs({theta(t).diff(t,2):0})\n",
    "    u_eq = sympy.solve(eom.subs({theta(t).diff(t,2):0}), u(t), theta(t))[0][u(t)]\n",
    "    x_vect = sympy.Matrix([theta(t), theta(t).diff(t)])\n",
    "    u_vect = sympy.Matrix([u(t), d(t)])\n",
    "    y_vect = x_vect\n",
    "    f_vect = sympy.Matrix([theta(t).diff(t), eom_theta_dd])\n",
    "    f_vect\n",
    "    A_eq = f_vect.jacobian(x_vect)\n",
    "    B_eq = f_vect.jacobian(u_vect)\n",
    "    C_eq = y_vect.jacobian(x_vect)\n",
    "    D_eq = y_vect.jacobian(u_vect)\n",
    "    return A_eq, B_eq, C_eq, D_eq, u_eq, values"
   ]
  },
  {
   "cell_type": "code",
   "execution_count": 12,
   "id": "841765f7",
   "metadata": {
    "collapsed": false,
    "jupyter": {
     "outputs_hidden": false
    }
   },
   "outputs": [],
   "source": [
    "def linearize_pend(theta_0, A_eq, B_eq, C_eq, D_eq, u_eq, values):\n",
    "    t, d, theta = sympy.symbols('t, d, theta')\n",
    "    u0 = u_eq.subs(values).subs(d(t),0).subs(theta(t), theta_0)\n",
    "    x0 = array([[theta_0, 0]]).T\n",
    "    equil = {theta(t):theta_0}\n",
    "    equil.update(values)\n",
    "    ss_eq = [ np.array(np.array(mat.subs(equil)), dtype=float) for mat in [A_eq,B_eq,C_eq,D_eq]]\n",
    "    return control.StateSpace(ss_eq[0], ss_eq[1], ss_eq[2], ss_eq[3]), x0, u0"
   ]
  },
  {
   "cell_type": "code",
   "execution_count": 13,
   "id": "c03e54b6",
   "metadata": {
    "collapsed": false,
    "jupyter": {
     "outputs_hidden": false
    }
   },
   "outputs": [],
   "source": [
    "def design_lqr(sys):\n",
    "    K, S, E = control.lqr(sys.A,sys.B[:,0],diag([1, 1]), np.eye(1))\n",
    "    closed_loop_lqr = sys[:,0].feedback(K)\n",
    "    return closed_loop_lqr, K"
   ]
  },
  {
   "cell_type": "code",
   "execution_count": 14,
   "id": "0eba52d0",
   "metadata": {
    "collapsed": false,
    "jupyter": {
     "outputs_hidden": false
    }
   },
   "outputs": [],
   "source": [
    "def lmi_design(theta_0):\n",
    "    A_eq, B_eq, C_eq, D_eq, u_eq, values = derive_pend_eoms()\n",
    "    sys, x0, u0 = linearize_pend(theta_0, A_eq, B_eq, C_eq, D_eq, u_eq, values)\n",
    "    closed_loop_lqr, K_lqr = design_lqr(sys)\n",
    "\n",
    "    A = closed_loop_lqr.A\n",
    "    B = closed_loop_lqr.B\n",
    "\n",
    "    Ab = bmat([[A, zeros((2,2))],\n",
    "               [zeros((2,2)), A]])\n",
    "    Bb = bmat([[B, -A], \n",
    "               [zeros((2,1)), -A]])\n",
    "    Cb = bmat([[eye(4)],\n",
    "               [eye(2), -eye(2)]])\n",
    "    Db = zeros((6,3))\n",
    "    sys_e = control.ss(A, B, eye(2), zeros((2,1))) # error system\n",
    "    sys_b = control.ss(Ab, Bb, Cb, Db); # complete system\n",
    "\n",
    "    u_norm = 0.1 # norm of disturbance\n",
    "    d = 0.5 # size of step in pitch angle\n",
    "\n",
    "    sdp, P, alpha, gam = solve_bounded_disturbance(sys_e)\n",
    "    e0 = array([[0.02, 0.02]]).T # initial error, sets ellipse size\n",
    "    beta = sqrt(e0.T.dot(P).dot(e0))\n",
    "    beta\n",
    "    \n",
    "    return{\n",
    "        'sys_b': sys_b,\n",
    "        'x_t': x0,\n",
    "        'u0': u0,\n",
    "        'alpha': alpha,\n",
    "        'beta': beta,\n",
    "        'gam': gam,\n",
    "        'P': P\n",
    "    }"
   ]
  },
  {
   "cell_type": "code",
   "execution_count": 15,
   "id": "9f6ba7ef",
   "metadata": {
    "collapsed": false,
    "jupyter": {
     "outputs_hidden": false
    }
   },
   "outputs": [
    {
     "ename": "TypeError",
     "evalue": "'Symbol' object is not callable",
     "output_type": "error",
     "traceback": [
      "\u001b[0;31m---------------------------------------------------------------------------\u001b[0m",
      "\u001b[0;31mTypeError\u001b[0m                                 Traceback (most recent call last)",
      "Cell \u001b[0;32mIn[15], line 4\u001b[0m\n\u001b[1;32m      1\u001b[0m u_norm \u001b[38;5;241m=\u001b[39m\u001b[38;5;241m1e-5\u001b[39m\n\u001b[1;32m      2\u001b[0m d \u001b[38;5;241m=\u001b[39m \u001b[38;5;241m0.1\u001b[39m\n\u001b[0;32m----> 4\u001b[0m mode_stop \u001b[38;5;241m=\u001b[39m \u001b[43mlmi_design\u001b[49m\u001b[43m(\u001b[49m\u001b[38;5;241;43m1e-3\u001b[39;49m\u001b[43m)\u001b[49m\n\u001b[1;32m      5\u001b[0m mode_bwd \u001b[38;5;241m=\u001b[39m lmi_design(\u001b[38;5;241m-\u001b[39md)\n\u001b[1;32m      6\u001b[0m mode_fwd \u001b[38;5;241m=\u001b[39m lmi_design(d)\n",
      "Cell \u001b[0;32mIn[14], line 2\u001b[0m, in \u001b[0;36mlmi_design\u001b[0;34m(theta_0)\u001b[0m\n\u001b[1;32m      1\u001b[0m \u001b[38;5;28;01mdef\u001b[39;00m \u001b[38;5;21mlmi_design\u001b[39m(theta_0):\n\u001b[0;32m----> 2\u001b[0m     A_eq, B_eq, C_eq, D_eq, u_eq, values \u001b[38;5;241m=\u001b[39m \u001b[43mderive_pend_eoms\u001b[49m\u001b[43m(\u001b[49m\u001b[43m)\u001b[49m\n\u001b[1;32m      3\u001b[0m     sys, x0, u0 \u001b[38;5;241m=\u001b[39m linearize_pend(theta_0, A_eq, B_eq, C_eq, D_eq, u_eq, values)\n\u001b[1;32m      4\u001b[0m     closed_loop_lqr, K_lqr \u001b[38;5;241m=\u001b[39m design_lqr(sys)\n",
      "Cell \u001b[0;32mIn[11], line 5\u001b[0m, in \u001b[0;36mderive_pend_eoms\u001b[0;34m()\u001b[0m\n\u001b[1;32m      3\u001b[0m values \u001b[38;5;241m=\u001b[39m {\u001b[38;5;124m'\u001b[39m\u001b[38;5;124mg\u001b[39m\u001b[38;5;124m'\u001b[39m: \u001b[38;5;241m9.8\u001b[39m, \u001b[38;5;124m'\u001b[39m\u001b[38;5;124ml\u001b[39m\u001b[38;5;124m'\u001b[39m: \u001b[38;5;241m0.4\u001b[39m, \u001b[38;5;124m'\u001b[39m\u001b[38;5;124mm\u001b[39m\u001b[38;5;124m'\u001b[39m: \u001b[38;5;241m1\u001b[39m}\n\u001b[1;32m      4\u001b[0m frame_i \u001b[38;5;241m=\u001b[39m me\u001b[38;5;241m.\u001b[39mReferenceFrame(\u001b[38;5;124m'\u001b[39m\u001b[38;5;124mi\u001b[39m\u001b[38;5;124m'\u001b[39m) \u001b[38;5;66;03m# the inertial frame\u001b[39;00m\n\u001b[0;32m----> 5\u001b[0m frame_b \u001b[38;5;241m=\u001b[39m frame_i\u001b[38;5;241m.\u001b[39morientnew(\u001b[38;5;124m'\u001b[39m\u001b[38;5;124mb\u001b[39m\u001b[38;5;124m'\u001b[39m, \u001b[38;5;124m'\u001b[39m\u001b[38;5;124mAxis\u001b[39m\u001b[38;5;124m'\u001b[39m, (\u001b[43mtheta\u001b[49m\u001b[43m(\u001b[49m\u001b[43mt\u001b[49m\u001b[43m)\u001b[49m, frame_i\u001b[38;5;241m.\u001b[39mz))  \u001b[38;5;66;03m# the body frame\u001b[39;00m\n\u001b[1;32m      6\u001b[0m point_o \u001b[38;5;241m=\u001b[39m me\u001b[38;5;241m.\u001b[39mPoint(\u001b[38;5;124m'\u001b[39m\u001b[38;5;124mo\u001b[39m\u001b[38;5;124m'\u001b[39m) \u001b[38;5;66;03m# the base of the pendulum\u001b[39;00m\n\u001b[1;32m      7\u001b[0m point_o\u001b[38;5;241m.\u001b[39mset_vel(frame_i, \u001b[38;5;241m0\u001b[39m) \u001b[38;5;66;03m# the base of the pendulum is fixed in the inertial frame\u001b[39;00m\n",
      "\u001b[0;31mTypeError\u001b[0m: 'Symbol' object is not callable"
     ]
    },
    {
     "name": "stdout",
     "output_type": "stream",
     "text": [
      "\n"
     ]
    },
    {
     "ename": "ZeroDivisionError",
     "evalue": "float division by zero",
     "output_type": "error",
     "traceback": [
      "\u001b[1;31m---------------------------------------------------------------------------\u001b[0m\n\u001b[1;31mZeroDivisionError\u001b[0m                         Traceback (most recent call last)",
      "\u001b[1;32m<ipython-input-52-e88f0d1a088e>\u001b[0m in \u001b[0;36m<module>\u001b[1;34m()\u001b[0m\n\u001b[0;32m      3\u001b[0m \u001b[1;33m\u001b[0m\u001b[0m\n\u001b[0;32m      4\u001b[0m \u001b[0mmode_stop\u001b[0m \u001b[1;33m=\u001b[0m \u001b[0mlmi_design\u001b[0m\u001b[1;33m(\u001b[0m\u001b[1;36m1e-3\u001b[0m\u001b[1;33m)\u001b[0m\u001b[1;33m\u001b[0m\u001b[0m\n\u001b[1;32m----> 5\u001b[1;33m \u001b[0mmode_bwd\u001b[0m \u001b[1;33m=\u001b[0m \u001b[0mlmi_design\u001b[0m\u001b[1;33m(\u001b[0m\u001b[1;33m-\u001b[0m\u001b[0md\u001b[0m\u001b[1;33m)\u001b[0m\u001b[1;33m\u001b[0m\u001b[0m\n\u001b[0m\u001b[0;32m      6\u001b[0m \u001b[0mmode_fwd\u001b[0m \u001b[1;33m=\u001b[0m \u001b[0mlmi_design\u001b[0m\u001b[1;33m(\u001b[0m\u001b[0md\u001b[0m\u001b[1;33m)\u001b[0m\u001b[1;33m\u001b[0m\u001b[0m\n\u001b[0;32m      7\u001b[0m \u001b[1;33m\u001b[0m\u001b[0m\n",
      "\u001b[1;32m<ipython-input-47-f065f1dd61ac>\u001b[0m in \u001b[0;36mlmi_design\u001b[1;34m(theta_0)\u001b[0m\n\u001b[0;32m     20\u001b[0m     \u001b[0md\u001b[0m \u001b[1;33m=\u001b[0m \u001b[1;36m0.5\u001b[0m \u001b[1;31m# size of step in pitch angle\u001b[0m\u001b[1;33m\u001b[0m\u001b[0m\n\u001b[0;32m     21\u001b[0m \u001b[1;33m\u001b[0m\u001b[0m\n\u001b[1;32m---> 22\u001b[1;33m     \u001b[0msdp\u001b[0m\u001b[1;33m,\u001b[0m \u001b[0mP\u001b[0m\u001b[1;33m,\u001b[0m \u001b[0malpha\u001b[0m\u001b[1;33m,\u001b[0m \u001b[0mgam\u001b[0m \u001b[1;33m=\u001b[0m \u001b[0msolve_bounded_disturbance\u001b[0m\u001b[1;33m(\u001b[0m\u001b[0msys_e\u001b[0m\u001b[1;33m)\u001b[0m\u001b[1;33m\u001b[0m\u001b[0m\n\u001b[0m\u001b[0;32m     23\u001b[0m     \u001b[0me0\u001b[0m \u001b[1;33m=\u001b[0m \u001b[0marray\u001b[0m\u001b[1;33m(\u001b[0m\u001b[1;33m[\u001b[0m\u001b[1;33m[\u001b[0m\u001b[1;36m0.02\u001b[0m\u001b[1;33m,\u001b[0m \u001b[1;36m0.02\u001b[0m\u001b[1;33m]\u001b[0m\u001b[1;33m]\u001b[0m\u001b[1;33m)\u001b[0m\u001b[1;33m.\u001b[0m\u001b[0mT\u001b[0m \u001b[1;31m# initial error, sets ellipse size\u001b[0m\u001b[1;33m\u001b[0m\u001b[0m\n\u001b[0;32m     24\u001b[0m     \u001b[0mbeta\u001b[0m \u001b[1;33m=\u001b[0m \u001b[0msqrt\u001b[0m\u001b[1;33m(\u001b[0m\u001b[0me0\u001b[0m\u001b[1;33m.\u001b[0m\u001b[0mT\u001b[0m\u001b[1;33m.\u001b[0m\u001b[0mdot\u001b[0m\u001b[1;33m(\u001b[0m\u001b[0mP\u001b[0m\u001b[1;33m)\u001b[0m\u001b[1;33m.\u001b[0m\u001b[0mdot\u001b[0m\u001b[1;33m(\u001b[0m\u001b[0me0\u001b[0m\u001b[1;33m)\u001b[0m\u001b[1;33m)\u001b[0m\u001b[1;33m\u001b[0m\u001b[0m\n",
      "\u001b[1;32m<ipython-input-41-1cef7b2fb21f>\u001b[0m in \u001b[0;36msolve_bounded_disturbance\u001b[1;34m(sys)\u001b[0m\n\u001b[0;32m     48\u001b[0m     \u001b[1;31m# we use fmin to solve a line search problem in alpha for minimum gamma\u001b[0m\u001b[1;33m\u001b[0m\u001b[1;33m\u001b[0m\u001b[0m\n\u001b[0;32m     49\u001b[0m     \u001b[1;32mprint\u001b[0m\u001b[1;33m(\u001b[0m\u001b[1;34m'line search'\u001b[0m\u001b[1;33m)\u001b[0m\u001b[1;33m\u001b[0m\u001b[0m\n\u001b[1;32m---> 50\u001b[1;33m     \u001b[0malpha_opt\u001b[0m  \u001b[1;33m=\u001b[0m \u001b[0mscipy\u001b[0m\u001b[1;33m.\u001b[0m\u001b[0moptimize\u001b[0m\u001b[1;33m.\u001b[0m\u001b[0mfmin\u001b[0m\u001b[1;33m(\u001b[0m\u001b[1;32mlambda\u001b[0m \u001b[0malpha\u001b[0m\u001b[1;33m:\u001b[0m \u001b[0msolve_lmi\u001b[0m\u001b[1;33m(\u001b[0m\u001b[0mA\u001b[0m\u001b[1;33m,\u001b[0m \u001b[0mB\u001b[0m\u001b[1;33m,\u001b[0m \u001b[0mC\u001b[0m\u001b[1;33m,\u001b[0m \u001b[0mD\u001b[0m\u001b[1;33m,\u001b[0m \u001b[0malpha\u001b[0m\u001b[1;33m)\u001b[0m\u001b[1;33m[\u001b[0m\u001b[1;36m0\u001b[0m\u001b[1;33m]\u001b[0m\u001b[1;33m,\u001b[0m \u001b[0mx0\u001b[0m\u001b[1;33m=\u001b[0m\u001b[1;36m0.01\u001b[0m\u001b[1;33m)\u001b[0m\u001b[1;33m\u001b[0m\u001b[0m\n\u001b[0m\u001b[0;32m     51\u001b[0m \u001b[1;33m\u001b[0m\u001b[0m\n\u001b[0;32m     52\u001b[0m     \u001b[0mgam\u001b[0m\u001b[1;33m,\u001b[0m \u001b[0msdp\u001b[0m \u001b[1;33m=\u001b[0m \u001b[0msolve_lmi\u001b[0m\u001b[1;33m(\u001b[0m\u001b[0mA\u001b[0m\u001b[1;33m,\u001b[0m \u001b[0mB\u001b[0m\u001b[1;33m,\u001b[0m \u001b[0mC\u001b[0m\u001b[1;33m,\u001b[0m \u001b[0mD\u001b[0m\u001b[1;33m,\u001b[0m \u001b[0malpha_opt\u001b[0m\u001b[1;33m)\u001b[0m\u001b[1;33m\u001b[0m\u001b[0m\n",
      "\u001b[1;32m/home/jgoppert/.virtualenvs/dev/local/lib/python2.7/site-packages/scipy/optimize/optimize.pyc\u001b[0m in \u001b[0;36mfmin\u001b[1;34m(func, x0, args, xtol, ftol, maxiter, maxfun, full_output, disp, retall, callback)\u001b[0m\n\u001b[0;32m    371\u001b[0m             'return_all': retall}\n\u001b[0;32m    372\u001b[0m \u001b[1;33m\u001b[0m\u001b[0m\n\u001b[1;32m--> 373\u001b[1;33m     \u001b[0mres\u001b[0m \u001b[1;33m=\u001b[0m \u001b[0m_minimize_neldermead\u001b[0m\u001b[1;33m(\u001b[0m\u001b[0mfunc\u001b[0m\u001b[1;33m,\u001b[0m \u001b[0mx0\u001b[0m\u001b[1;33m,\u001b[0m \u001b[0margs\u001b[0m\u001b[1;33m,\u001b[0m \u001b[0mcallback\u001b[0m\u001b[1;33m=\u001b[0m\u001b[0mcallback\u001b[0m\u001b[1;33m,\u001b[0m \u001b[1;33m**\u001b[0m\u001b[0mopts\u001b[0m\u001b[1;33m)\u001b[0m\u001b[1;33m\u001b[0m\u001b[0m\n\u001b[0m\u001b[0;32m    374\u001b[0m     \u001b[1;32mif\u001b[0m \u001b[0mfull_output\u001b[0m\u001b[1;33m:\u001b[0m\u001b[1;33m\u001b[0m\u001b[0m\n\u001b[0;32m    375\u001b[0m         \u001b[0mretlist\u001b[0m \u001b[1;33m=\u001b[0m \u001b[0mres\u001b[0m\u001b[1;33m[\u001b[0m\u001b[1;34m'x'\u001b[0m\u001b[1;33m]\u001b[0m\u001b[1;33m,\u001b[0m \u001b[0mres\u001b[0m\u001b[1;33m[\u001b[0m\u001b[1;34m'fun'\u001b[0m\u001b[1;33m]\u001b[0m\u001b[1;33m,\u001b[0m \u001b[0mres\u001b[0m\u001b[1;33m[\u001b[0m\u001b[1;34m'nit'\u001b[0m\u001b[1;33m]\u001b[0m\u001b[1;33m,\u001b[0m \u001b[0mres\u001b[0m\u001b[1;33m[\u001b[0m\u001b[1;34m'nfev'\u001b[0m\u001b[1;33m]\u001b[0m\u001b[1;33m,\u001b[0m \u001b[0mres\u001b[0m\u001b[1;33m[\u001b[0m\u001b[1;34m'status'\u001b[0m\u001b[1;33m]\u001b[0m\u001b[1;33m\u001b[0m\u001b[0m\n",
      "\u001b[1;32m/home/jgoppert/.virtualenvs/dev/local/lib/python2.7/site-packages/scipy/optimize/optimize.pyc\u001b[0m in \u001b[0;36m_minimize_neldermead\u001b[1;34m(func, x0, args, callback, xtol, ftol, maxiter, maxfev, disp, return_all, **unknown_options)\u001b[0m\n\u001b[0;32m    464\u001b[0m         \u001b[0mxbar\u001b[0m \u001b[1;33m=\u001b[0m \u001b[0mnumpy\u001b[0m\u001b[1;33m.\u001b[0m\u001b[0madd\u001b[0m\u001b[1;33m.\u001b[0m\u001b[0mreduce\u001b[0m\u001b[1;33m(\u001b[0m\u001b[0msim\u001b[0m\u001b[1;33m[\u001b[0m\u001b[1;33m:\u001b[0m\u001b[1;33m-\u001b[0m\u001b[1;36m1\u001b[0m\u001b[1;33m]\u001b[0m\u001b[1;33m,\u001b[0m \u001b[1;36m0\u001b[0m\u001b[1;33m)\u001b[0m \u001b[1;33m/\u001b[0m \u001b[0mN\u001b[0m\u001b[1;33m\u001b[0m\u001b[0m\n\u001b[0;32m    465\u001b[0m         \u001b[0mxr\u001b[0m \u001b[1;33m=\u001b[0m \u001b[1;33m(\u001b[0m\u001b[1;36m1\u001b[0m \u001b[1;33m+\u001b[0m \u001b[0mrho\u001b[0m\u001b[1;33m)\u001b[0m \u001b[1;33m*\u001b[0m \u001b[0mxbar\u001b[0m \u001b[1;33m-\u001b[0m \u001b[0mrho\u001b[0m \u001b[1;33m*\u001b[0m \u001b[0msim\u001b[0m\u001b[1;33m[\u001b[0m\u001b[1;33m-\u001b[0m\u001b[1;36m1\u001b[0m\u001b[1;33m]\u001b[0m\u001b[1;33m\u001b[0m\u001b[0m\n\u001b[1;32m--> 466\u001b[1;33m         \u001b[0mfxr\u001b[0m \u001b[1;33m=\u001b[0m \u001b[0mfunc\u001b[0m\u001b[1;33m(\u001b[0m\u001b[0mxr\u001b[0m\u001b[1;33m)\u001b[0m\u001b[1;33m\u001b[0m\u001b[0m\n\u001b[0m\u001b[0;32m    467\u001b[0m         \u001b[0mdoshrink\u001b[0m \u001b[1;33m=\u001b[0m \u001b[1;36m0\u001b[0m\u001b[1;33m\u001b[0m\u001b[0m\n\u001b[0;32m    468\u001b[0m \u001b[1;33m\u001b[0m\u001b[0m\n",
      "\u001b[1;32m/home/jgoppert/.virtualenvs/dev/local/lib/python2.7/site-packages/scipy/optimize/optimize.pyc\u001b[0m in \u001b[0;36mfunction_wrapper\u001b[1;34m(*wrapper_args)\u001b[0m\n\u001b[0;32m    279\u001b[0m     \u001b[1;32mdef\u001b[0m \u001b[0mfunction_wrapper\u001b[0m\u001b[1;33m(\u001b[0m\u001b[1;33m*\u001b[0m\u001b[0mwrapper_args\u001b[0m\u001b[1;33m)\u001b[0m\u001b[1;33m:\u001b[0m\u001b[1;33m\u001b[0m\u001b[0m\n\u001b[0;32m    280\u001b[0m         \u001b[0mncalls\u001b[0m\u001b[1;33m[\u001b[0m\u001b[1;36m0\u001b[0m\u001b[1;33m]\u001b[0m \u001b[1;33m+=\u001b[0m \u001b[1;36m1\u001b[0m\u001b[1;33m\u001b[0m\u001b[0m\n\u001b[1;32m--> 281\u001b[1;33m         \u001b[1;32mreturn\u001b[0m \u001b[0mfunction\u001b[0m\u001b[1;33m(\u001b[0m\u001b[1;33m*\u001b[0m\u001b[1;33m(\u001b[0m\u001b[0mwrapper_args\u001b[0m \u001b[1;33m+\u001b[0m \u001b[0margs\u001b[0m\u001b[1;33m)\u001b[0m\u001b[1;33m)\u001b[0m\u001b[1;33m\u001b[0m\u001b[0m\n\u001b[0m\u001b[0;32m    282\u001b[0m \u001b[1;33m\u001b[0m\u001b[0m\n\u001b[0;32m    283\u001b[0m     \u001b[1;32mreturn\u001b[0m \u001b[0mncalls\u001b[0m\u001b[1;33m,\u001b[0m \u001b[0mfunction_wrapper\u001b[0m\u001b[1;33m\u001b[0m\u001b[0m\n",
      "\u001b[1;32m<ipython-input-41-1cef7b2fb21f>\u001b[0m in \u001b[0;36m<lambda>\u001b[1;34m(alpha)\u001b[0m\n\u001b[0;32m     48\u001b[0m     \u001b[1;31m# we use fmin to solve a line search problem in alpha for minimum gamma\u001b[0m\u001b[1;33m\u001b[0m\u001b[1;33m\u001b[0m\u001b[0m\n\u001b[0;32m     49\u001b[0m     \u001b[1;32mprint\u001b[0m\u001b[1;33m(\u001b[0m\u001b[1;34m'line search'\u001b[0m\u001b[1;33m)\u001b[0m\u001b[1;33m\u001b[0m\u001b[0m\n\u001b[1;32m---> 50\u001b[1;33m     \u001b[0malpha_opt\u001b[0m  \u001b[1;33m=\u001b[0m \u001b[0mscipy\u001b[0m\u001b[1;33m.\u001b[0m\u001b[0moptimize\u001b[0m\u001b[1;33m.\u001b[0m\u001b[0mfmin\u001b[0m\u001b[1;33m(\u001b[0m\u001b[1;32mlambda\u001b[0m \u001b[0malpha\u001b[0m\u001b[1;33m:\u001b[0m \u001b[0msolve_lmi\u001b[0m\u001b[1;33m(\u001b[0m\u001b[0mA\u001b[0m\u001b[1;33m,\u001b[0m \u001b[0mB\u001b[0m\u001b[1;33m,\u001b[0m \u001b[0mC\u001b[0m\u001b[1;33m,\u001b[0m \u001b[0mD\u001b[0m\u001b[1;33m,\u001b[0m \u001b[0malpha\u001b[0m\u001b[1;33m)\u001b[0m\u001b[1;33m[\u001b[0m\u001b[1;36m0\u001b[0m\u001b[1;33m]\u001b[0m\u001b[1;33m,\u001b[0m \u001b[0mx0\u001b[0m\u001b[1;33m=\u001b[0m\u001b[1;36m0.01\u001b[0m\u001b[1;33m)\u001b[0m\u001b[1;33m\u001b[0m\u001b[0m\n\u001b[0m\u001b[0;32m     51\u001b[0m \u001b[1;33m\u001b[0m\u001b[0m\n\u001b[0;32m     52\u001b[0m     \u001b[0mgam\u001b[0m\u001b[1;33m,\u001b[0m \u001b[0msdp\u001b[0m \u001b[1;33m=\u001b[0m \u001b[0msolve_lmi\u001b[0m\u001b[1;33m(\u001b[0m\u001b[0mA\u001b[0m\u001b[1;33m,\u001b[0m \u001b[0mB\u001b[0m\u001b[1;33m,\u001b[0m \u001b[0mC\u001b[0m\u001b[1;33m,\u001b[0m \u001b[0mD\u001b[0m\u001b[1;33m,\u001b[0m \u001b[0malpha_opt\u001b[0m\u001b[1;33m)\u001b[0m\u001b[1;33m\u001b[0m\u001b[0m\n",
      "\u001b[1;32m<ipython-input-41-1cef7b2fb21f>\u001b[0m in \u001b[0;36msolve_lmi\u001b[1;34m(A_data, B_data, C_data, D_data, alpha, verbose)\u001b[0m\n\u001b[0;32m     39\u001b[0m         \u001b[0msdp\u001b[0m\u001b[1;33m.\u001b[0m\u001b[0mset_objective\u001b[0m\u001b[1;33m(\u001b[0m\u001b[1;34m'min'\u001b[0m\u001b[1;33m,\u001b[0m \u001b[0mmu_1\u001b[0m \u001b[1;33m+\u001b[0m \u001b[0mmu_2\u001b[0m\u001b[1;33m)\u001b[0m\u001b[1;33m\u001b[0m\u001b[0m\n\u001b[0;32m     40\u001b[0m \u001b[1;33m\u001b[0m\u001b[0m\n\u001b[1;32m---> 41\u001b[1;33m         \u001b[0msdp\u001b[0m\u001b[1;33m.\u001b[0m\u001b[0msolve\u001b[0m\u001b[1;33m(\u001b[0m\u001b[0mverbose\u001b[0m\u001b[1;33m=\u001b[0m\u001b[0mverbose\u001b[0m\u001b[1;33m)\u001b[0m\u001b[1;33m\u001b[0m\u001b[0m\n\u001b[0m\u001b[0;32m     42\u001b[0m         \u001b[0mmu_1\u001b[0m \u001b[1;33m=\u001b[0m  \u001b[0msdp\u001b[0m\u001b[1;33m.\u001b[0m\u001b[0mvariables\u001b[0m\u001b[1;33m[\u001b[0m\u001b[1;34m'mu_1'\u001b[0m\u001b[1;33m]\u001b[0m\u001b[1;33m.\u001b[0m\u001b[0mvalue\u001b[0m\u001b[1;33m[\u001b[0m\u001b[1;36m0\u001b[0m\u001b[1;33m,\u001b[0m\u001b[1;36m0\u001b[0m\u001b[1;33m]\u001b[0m\u001b[1;33m\u001b[0m\u001b[0m\n\u001b[0;32m     43\u001b[0m         \u001b[0mmu_2\u001b[0m \u001b[1;33m=\u001b[0m  \u001b[0msdp\u001b[0m\u001b[1;33m.\u001b[0m\u001b[0mvariables\u001b[0m\u001b[1;33m[\u001b[0m\u001b[1;34m'mu_2'\u001b[0m\u001b[1;33m]\u001b[0m\u001b[1;33m.\u001b[0m\u001b[0mvalue\u001b[0m\u001b[1;33m[\u001b[0m\u001b[1;36m0\u001b[0m\u001b[1;33m,\u001b[0m\u001b[1;36m0\u001b[0m\u001b[1;33m]\u001b[0m\u001b[1;33m\u001b[0m\u001b[0m\n",
      "\u001b[1;32m/home/jgoppert/.virtualenvs/dev/local/lib/python2.7/site-packages/picos/problem.pyc\u001b[0m in \u001b[0;36msolve\u001b[1;34m(self, **options)\u001b[0m\n\u001b[0;32m   2827\u001b[0m                         or self.options['solver']=='cvxopt'):\n\u001b[0;32m   2828\u001b[0m \u001b[1;33m\u001b[0m\u001b[0m\n\u001b[1;32m-> 2829\u001b[1;33m                                 \u001b[0mprimals\u001b[0m\u001b[1;33m,\u001b[0m\u001b[0mduals\u001b[0m\u001b[1;33m,\u001b[0m\u001b[0mobj\u001b[0m\u001b[1;33m,\u001b[0m\u001b[0msol\u001b[0m\u001b[1;33m=\u001b[0m\u001b[0mself\u001b[0m\u001b[1;33m.\u001b[0m\u001b[0m_cvxopt_solve\u001b[0m\u001b[1;33m(\u001b[0m\u001b[1;33m)\u001b[0m\u001b[1;33m\u001b[0m\u001b[0m\n\u001b[0m\u001b[0;32m   2830\u001b[0m \u001b[1;33m\u001b[0m\u001b[0m\n\u001b[0;32m   2831\u001b[0m                         \u001b[1;31m# For cplex\u001b[0m\u001b[1;33m\u001b[0m\u001b[1;33m\u001b[0m\u001b[0m\n",
      "\u001b[1;32m/home/jgoppert/.virtualenvs/dev/local/lib/python2.7/site-packages/picos/problem.pyc\u001b[0m in \u001b[0;36m_cvxopt_solve\u001b[1;34m(self)\u001b[0m\n\u001b[0;32m   3056\u001b[0m                                                         \u001b[0mG\u001b[0m\u001b[1;33m,\u001b[0m\u001b[0mh\u001b[0m\u001b[1;33m,\u001b[0m\u001b[0mdims\u001b[0m\u001b[1;33m,\u001b[0m\u001b[1;33m\u001b[0m\u001b[0m\n\u001b[0;32m   3057\u001b[0m                                                         \u001b[0mself\u001b[0m\u001b[1;33m.\u001b[0m\u001b[0mcvxoptVars\u001b[0m\u001b[1;33m[\u001b[0m\u001b[1;34m'A'\u001b[0m\u001b[1;33m]\u001b[0m\u001b[1;33m,\u001b[0m\u001b[1;33m\u001b[0m\u001b[0m\n\u001b[1;32m-> 3058\u001b[1;33m                                                         self.cvxoptVars['b'])\n\u001b[0m\u001b[0;32m   3059\u001b[0m                         \u001b[0mprobtype\u001b[0m\u001b[1;33m=\u001b[0m\u001b[1;34m'ConeLP'\u001b[0m\u001b[1;33m\u001b[0m\u001b[0m\n\u001b[0;32m   3060\u001b[0m \u001b[1;33m\u001b[0m\u001b[0m\n",
      "\u001b[1;32m/home/jgoppert/.virtualenvs/dev/local/lib/python2.7/site-packages/cvxopt/coneprog.pyc\u001b[0m in \u001b[0;36mconelp\u001b[1;34m(c, G, h, dims, A, b, primalstart, dualstart, kktsolver, xnewcopy, xdot, xaxpy, xscal, ynewcopy, ydot, yaxpy, yscal)\u001b[0m\n\u001b[0;32m   1394\u001b[0m         \u001b[1;31m# Update lambda and scaling.\u001b[0m\u001b[1;33m\u001b[0m\u001b[1;33m\u001b[0m\u001b[0m\n\u001b[0;32m   1395\u001b[0m \u001b[1;33m\u001b[0m\u001b[0m\n\u001b[1;32m-> 1396\u001b[1;33m         \u001b[0mmisc\u001b[0m\u001b[1;33m.\u001b[0m\u001b[0mupdate_scaling\u001b[0m\u001b[1;33m(\u001b[0m\u001b[0mW\u001b[0m\u001b[1;33m,\u001b[0m \u001b[0mlmbda\u001b[0m\u001b[1;33m,\u001b[0m \u001b[0mds\u001b[0m\u001b[1;33m,\u001b[0m \u001b[0mdz\u001b[0m\u001b[1;33m)\u001b[0m\u001b[1;33m\u001b[0m\u001b[0m\n\u001b[0m\u001b[0;32m   1397\u001b[0m \u001b[1;33m\u001b[0m\u001b[0m\n\u001b[0;32m   1398\u001b[0m         \u001b[1;31m# For kappa, tau block:\u001b[0m\u001b[1;33m\u001b[0m\u001b[1;33m\u001b[0m\u001b[0m\n",
      "\u001b[1;32m/home/jgoppert/.virtualenvs/dev/local/lib/python2.7/site-packages/cvxopt/misc.pyc\u001b[0m in \u001b[0;36mupdate_scaling\u001b[1;34m(W, lmbda, s, z)\u001b[0m\n\u001b[0;32m    626\u001b[0m         \u001b[1;31m# r := r*lambda^{-1/2}; rti := rti*lambda^{-1/2}\u001b[0m\u001b[1;33m\u001b[0m\u001b[1;33m\u001b[0m\u001b[0m\n\u001b[0;32m    627\u001b[0m         \u001b[1;32mfor\u001b[0m \u001b[0mi\u001b[0m \u001b[1;32min\u001b[0m \u001b[0mrange\u001b[0m\u001b[1;33m(\u001b[0m\u001b[0mm\u001b[0m\u001b[1;33m)\u001b[0m\u001b[1;33m:\u001b[0m\u001b[1;33m\u001b[0m\u001b[0m\n\u001b[1;32m--> 628\u001b[1;33m             \u001b[0ma\u001b[0m \u001b[1;33m=\u001b[0m \u001b[1;36m1.0\u001b[0m \u001b[1;33m/\u001b[0m \u001b[0mmath\u001b[0m\u001b[1;33m.\u001b[0m\u001b[0msqrt\u001b[0m\u001b[1;33m(\u001b[0m\u001b[0mlmbda\u001b[0m\u001b[1;33m[\u001b[0m\u001b[0mind\u001b[0m\u001b[1;33m+\u001b[0m\u001b[0mi\u001b[0m\u001b[1;33m]\u001b[0m\u001b[1;33m)\u001b[0m\u001b[1;33m\u001b[0m\u001b[0m\n\u001b[0m\u001b[0;32m    629\u001b[0m             \u001b[0mblas\u001b[0m\u001b[1;33m.\u001b[0m\u001b[0mscal\u001b[0m\u001b[1;33m(\u001b[0m\u001b[0ma\u001b[0m\u001b[1;33m,\u001b[0m \u001b[0mr\u001b[0m\u001b[1;33m,\u001b[0m \u001b[0moffset\u001b[0m \u001b[1;33m=\u001b[0m \u001b[0mm\u001b[0m\u001b[1;33m*\u001b[0m\u001b[0mi\u001b[0m\u001b[1;33m,\u001b[0m \u001b[0mn\u001b[0m \u001b[1;33m=\u001b[0m \u001b[0mm\u001b[0m\u001b[1;33m)\u001b[0m\u001b[1;33m\u001b[0m\u001b[0m\n\u001b[0;32m    630\u001b[0m             \u001b[0mblas\u001b[0m\u001b[1;33m.\u001b[0m\u001b[0mscal\u001b[0m\u001b[1;33m(\u001b[0m\u001b[0ma\u001b[0m\u001b[1;33m,\u001b[0m \u001b[0mrti\u001b[0m\u001b[1;33m,\u001b[0m \u001b[0moffset\u001b[0m \u001b[1;33m=\u001b[0m \u001b[0mm\u001b[0m\u001b[1;33m*\u001b[0m\u001b[0mi\u001b[0m\u001b[1;33m,\u001b[0m \u001b[0mn\u001b[0m \u001b[1;33m=\u001b[0m \u001b[0mm\u001b[0m\u001b[1;33m)\u001b[0m\u001b[1;33m\u001b[0m\u001b[0m\n",
      "\u001b[1;31mZeroDivisionError\u001b[0m: float division by zero"
     ]
    }
   ],
   "source": [
    "u_norm =1e-5\n",
    "d = 0.1\n",
    "\n",
    "mode_stop = lmi_design(1e-3)\n",
    "mode_bwd = lmi_design(-d)\n",
    "mode_fwd = lmi_design(d)\n",
    "\n",
    "flow_tube_stop2fwd, nom_stop2fwd = create_flow_tube(mode_fwd, [0,0], u_norm)\n",
    "flow_tube_stop2bwd, nom_stop2bwd = create_flow_tube(mode_bwd, [0,0], u_norm)\n",
    "flow_tube_fwd2stop, nom_fwd2stop = create_flow_tube(mode_stop, [d,0], u_norm) \n",
    "flow_tube_fwd2bwd, nom_fwd2bwd = create_flow_tube(mode_bwd, [d,0], u_norm)\n",
    "flow_tube_bwd2stop, nom_bwd2stop = create_flow_tube(mode_stop, [-d,0], u_norm)\n",
    "flow_tube_bwd2fwd, nom_bwd2fwd = create_flow_tube(mode_fwd, [-d, 0], u_norm)\n",
    "\n",
    "nom_traj = [\n",
    "    nom_stop2fwd,\n",
    "    nom_stop2bwd,\n",
    "    nom_fwd2stop,\n",
    "    nom_fwd2bwd,\n",
    "    nom_bwd2stop,\n",
    "    nom_bwd2fwd\n",
    "]\n",
    "\n",
    "flow_tubes = [\n",
    "    flow_tube_stop2fwd,\n",
    "    flow_tube_stop2bwd,\n",
    "    flow_tube_fwd2stop,\n",
    "    flow_tube_fwd2bwd,\n",
    "    flow_tube_bwd2stop,\n",
    "    flow_tube_bwd2fwd,\n",
    "]"
   ]
  },
  {
   "cell_type": "code",
   "execution_count": null,
   "id": "248bfd3a",
   "metadata": {
    "collapsed": false,
    "jupyter": {
     "outputs_hidden": false
    }
   },
   "outputs": [],
   "source": [
    "def create_ellipse(mode):\n",
    "    P = mode['P']\n",
    "    beta = mode['beta']\n",
    "    x_t = mode['x_t']\n",
    "    lam, v = eig(P)\n",
    "    height = sqrt(lam[0])*2*beta\n",
    "    width = sqrt(lam[1])*2*beta\n",
    "    angle = rad2deg(np.arccos(v[0, 0]))\n",
    "    return Ellipse(xy=x_t, width=width, height=height, angle=angle, alpha=0.2)"
   ]
  },
  {
   "cell_type": "code",
   "execution_count": null,
   "id": "178e21ec",
   "metadata": {
    "collapsed": false,
    "jupyter": {
     "outputs_hidden": false
    }
   },
   "outputs": [],
   "source": [
    "figure(figsize(15,5))\n",
    "ax = subplot(111)\n",
    "h_e = ax.add_artist(create_ellipse(mode_fwd))\n",
    "ax.add_artist(create_ellipse(mode_bwd))\n",
    "ax.add_artist(create_ellipse(mode_stop))\n",
    "\n",
    "color_cycle = itertools.cycle(['g', 'b', 'c', 'm', 'y', 'k'])\n",
    "for flow_tube, nom in zip(flow_tubes, nom_traj):\n",
    "    color = next(color_cycle)\n",
    "    h_nom = ax.plot(nom[:,0], nom[:,1], color=color, linestyle='-')\n",
    "    for ch in flow_tube:\n",
    "        for facet in ch.facets:\n",
    "            h_ch = ax.plot(ch.points[facet][:,0], ch.points[facet][:,1], color=color, linestyle='--')\n",
    "    \n",
    "title('flow tubes')\n",
    "xlabel('$\\\\theta$, rad')\n",
    "ylabel('$\\dot{\\\\theta}$, rad/s')\n",
    "theta = linspace(-1,1)\n",
    "a = axis()\n",
    "#plot(theta, theta*K[0,1]/K[0,0] + 2, 'r-*')\n",
    "#h_bound = plot(theta, theta*K[0,1]/K[0,0] - 2, 'r-*')\n",
    "#axis([-d*1.5, d*1.5, -2, 2])\n",
    "legend([h_nom[0], h_ch[0], h_e], ['nominal', 'flow tube', 'invariant state'], loc='best');"
   ]
  },
  {
   "cell_type": "code",
   "execution_count": null,
   "id": "5e3d8ec4",
   "metadata": {
    "collapsed": false,
    "jupyter": {
     "outputs_hidden": false
    }
   },
   "outputs": [],
   "source": []
  }
 ],
 "metadata": {
  "kernelspec": {
   "display_name": "Python 3 (ipykernel)",
   "language": "python",
   "name": "python3"
  },
  "language_info": {
   "codemirror_mode": {
    "name": "ipython",
    "version": 3
   },
   "file_extension": ".py",
   "mimetype": "text/x-python",
   "name": "python",
   "nbconvert_exporter": "python",
   "pygments_lexer": "ipython3",
   "version": "3.12.3"
  }
 },
 "nbformat": 4,
 "nbformat_minor": 5
}
