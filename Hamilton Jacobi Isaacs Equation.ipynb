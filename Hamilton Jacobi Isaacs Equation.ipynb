{
 "metadata": {
  "name": "",
  "signature": "sha256:e7d36beb6fdbc3593ec9925612602eab19aae8b6a6f91535f8d87ec5ec0aa39e"
 },
 "nbformat": 3,
 "nbformat_minor": 0,
 "worksheets": [
  {
   "cells": [
    {
     "cell_type": "markdown",
     "metadata": {},
     "source": [
      "The Hamilton Jacobi Isaacs equation is an extension of the Hamilton Jacobi Bellman equation when there is an opponent. This is known as differential games."
     ]
    },
    {
     "cell_type": "markdown",
     "metadata": {},
     "source": [
      "$\n",
      "\\newcommand{\\pd}[2]{\\frac{\\partial#1}{\\partial#2}}\n",
      "$\n",
      "Click to see latex command definitions."
     ]
    },
    {
     "cell_type": "markdown",
     "metadata": {},
     "source": [
      "$$-\\frac{\\partial V(x, t) }{\\partial t} = \\min_{u \\in U} \\max_{\\phi \\in \\Phi} \\left[  C(x, u, \\phi)  + \\nabla V(x, t) F(x, u) \\right]$$"
     ]
    }
   ],
   "metadata": {}
  }
 ]
}