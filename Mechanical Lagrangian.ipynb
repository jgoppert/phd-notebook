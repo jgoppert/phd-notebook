{
 "metadata": {
  "name": "",
  "signature": "sha256:4b812dde2e1f7a9fc853d29da0343da3746a77e7a854ef6cb86a7080ece69903"
 },
 "nbformat": 3,
 "nbformat_minor": 0,
 "worksheets": [
  {
   "cells": [
    {
     "cell_type": "markdown",
     "metadata": {},
     "source": [
      "$$ \\dot{x} = A(x) x $$\n",
      "\n",
      "$$ A(x) = A_0 + \\Psi(x) \\Delta A $$\n",
      "\n",
      "$$ a \\leq \\Psi(x) \\leq b $$\n",
      "\n",
      "$$ A_1 := A_0 + a \\Delta A$$\n",
      "$$ A_2 := A_0 + b \\Delta A$$\n",
      "\n",
      "Suppose there exists a symmetric matrix P and a positive scalar $\\alpha$ which satisfy (Corless pg. 119):\n",
      "\n",
      "$$ P A_1 + A_1^T P + 2 \\alpha P \\leq 0 $$\n",
      "$$ P A_2 + A_2^T P + 2 \\alpha P \\leq 0 $$\n",
      "$$ P > 0 $$\n",
      "\n",
      "Then the system is globally exponentially stable about the origin with rate of convergence $\\alpha$."
     ]
    },
    {
     "cell_type": "code",
     "collapsed": false,
     "input": [
      "%pylab inline\n",
      "import sympy\n",
      "import sympy.physics.mechanics as mech\n",
      "sympy.init_printing()"
     ],
     "language": "python",
     "metadata": {},
     "outputs": [
      {
       "output_type": "stream",
       "stream": "stdout",
       "text": [
        "Populating the interactive namespace from numpy and matplotlib\n"
       ]
      }
     ],
     "prompt_number": 1
    },
    {
     "cell_type": "code",
     "collapsed": false,
     "input": [
      "theta, t, m, g, l, u, k_p, k_i, k_d, theta_i = sympy.symbols('theta, t, m, g, l, u, k_p, k_i, k_d, theta_i')\n",
      "frame_e = mech.ReferenceFrame('e')\n",
      "frame_b = frame_e.orientnew('b', 'Axis', (theta(t), frame_e.y))\n",
      "point_o = mech.Point('o')\n",
      "point_o.set_vel(frame_e, 0)\n",
      "point_p = point_o.locatenew('p', l*frame_b.x)\n",
      "point_p.set_vel(frame_b, 0)\n",
      "point_p.v1pt_theory(point_o, frame_e, frame_b)\n",
      "ball = mech.Particle('ball', point_p, m)"
     ],
     "language": "python",
     "metadata": {},
     "outputs": [],
     "prompt_number": 2
    },
    {
     "cell_type": "code",
     "collapsed": false,
     "input": [
      "ball.angular_momentum(point_o, frame_e).diff(t, frame_e) - m*g*l*sympy.sin(theta)*frame_b.y"
     ],
     "language": "python",
     "metadata": {},
     "outputs": [
      {
       "latex": [
        "$$(- g l m \\operatorname{sin}\\left(\\theta\\right) + l^{2} m \\ddot{\\theta})\\mathbf{\\hat{b}_y}$$"
       ],
       "metadata": {},
       "output_type": "pyout",
       "png": "[encoded data removed]",
       "prompt_number": 3,
       "text": [
        "\u239b                 2     \u239e\n",
        "\u239d-g\u22c5l\u22c5m\u22c5sin(\u03b8) + l \u22c5m\u22c5\u03b8\u0308\u23a0 b_y"
       ]
      }
     ],
     "prompt_number": 3
    },
    {
     "cell_type": "code",
     "collapsed": false,
     "input": [
      "q = sympy.Matrix([theta(t)])\n",
      "lm = mech.LagrangesMethod(\n",
      "    mech.Lagrangian(frame_e, ball), q, \n",
      "    forcelist=[\n",
      "        (frame_b, (k_p*theta(t) + k_d*theta(t).diff(t))*frame_e.y),\n",
      "        (point_p, -m*g*frame_e.x),\n",
      "    ],\n",
      "    frame=frame_e\n",
      ")\n",
      "lm.form_lagranges_equations()"
     ],
     "language": "python",
     "metadata": {},
     "outputs": [
      {
       "latex": [
        "$$\\left[\\begin{matrix}- g l m \\sin{\\left (\\theta{\\left (t \\right )} \\right )} - k_{d} \\frac{d}{d t} \\theta{\\left (t \\right )} - k_{p} \\theta{\\left (t \\right )} + l^{2} m \\frac{d^{2}}{d t^{2}}  \\theta{\\left (t \\right )}\\end{matrix}\\right]$$"
       ],
       "metadata": {},
       "output_type": "pyout",
       "png": "[encoded data removed]",
       "prompt_number": 4,
       "text": [
        "\u23a1                                                    2      \u23a4\n",
        "\u23a2                       d                      2    d       \u23a5\n",
        "\u23a2-g\u22c5l\u22c5m\u22c5sin(\u03b8(t)) - k_d\u22c5\u2500\u2500(\u03b8(t)) - k_p\u22c5\u03b8(t) + l \u22c5m\u22c5\u2500\u2500\u2500(\u03b8(t))\u23a5\n",
        "\u23a2                       dt                           2      \u23a5\n",
        "\u23a3                                                  dt       \u23a6"
       ]
      }
     ],
     "prompt_number": 4
    },
    {
     "cell_type": "code",
     "collapsed": false,
     "input": [
      "lm.mass_matrix_full, lm.forcing_full"
     ],
     "language": "python",
     "metadata": {},
     "outputs": [
      {
       "latex": [
        "$$\\left ( \\left[\\begin{matrix}1 & 0\\\\0 & l^{2} m\\end{matrix}\\right], \\quad \\left[\\begin{matrix}\\frac{d}{d t} \\theta{\\left (t \\right )}\\\\g l m \\sin{\\left (\\theta{\\left (t \\right )} \\right )} + k_{d} \\frac{d}{d t} \\theta{\\left (t \\right )} + k_{p} \\theta{\\left (t \\right )}\\end{matrix}\\right]\\right )$$"
       ],
       "metadata": {},
       "output_type": "pyout",
       "png": "[encoded data removed]",
       "prompt_number": 5,
       "text": [
        "\u239b           \u23a1                d                        \u23a4\u239e\n",
        "\u239c\u23a11   0  \u23a4, \u23a2                \u2500\u2500(\u03b8(t))                 \u23a5\u239f\n",
        "\u239c\u23a2       \u23a5  \u23a2                dt                       \u23a5\u239f\n",
        "\u239c\u23a2    2  \u23a5  \u23a2                                         \u23a5\u239f\n",
        "\u239c\u23a30  l \u22c5m\u23a6  \u23a2                      d                  \u23a5\u239f\n",
        "\u239c           \u23a2g\u22c5l\u22c5m\u22c5sin(\u03b8(t)) + k_d\u22c5\u2500\u2500(\u03b8(t)) + k_p\u22c5\u03b8(t)\u23a5\u239f\n",
        "\u239d           \u23a3                      dt                 \u23a6\u23a0"
       ]
      }
     ],
     "prompt_number": 5
    },
    {
     "cell_type": "code",
     "collapsed": false,
     "input": [
      "M = lm.mass_matrix"
     ],
     "language": "python",
     "metadata": {},
     "outputs": [],
     "prompt_number": 6
    },
    {
     "cell_type": "code",
     "collapsed": false,
     "input": [
      "F = lm.forcing"
     ],
     "language": "python",
     "metadata": {},
     "outputs": [],
     "prompt_number": 7
    },
    {
     "cell_type": "code",
     "collapsed": false,
     "input": [
      "F_cons = F\n",
      "for q_i in q:\n",
      "    F_cons = F_cons.subs(q_i.diff(t), 0)\n",
      "F_cons"
     ],
     "language": "python",
     "metadata": {},
     "outputs": [
      {
       "latex": [
        "$$\\left[\\begin{matrix}g l m \\sin{\\left (\\theta{\\left (t \\right )} \\right )} + k_{p} \\theta{\\left (t \\right )}\\end{matrix}\\right]$$"
       ],
       "metadata": {},
       "output_type": "pyout",
       "png": "[encoded data removed]",
       "prompt_number": 8,
       "text": [
        "[g\u22c5l\u22c5m\u22c5sin(\u03b8(t)) + k_p\u22c5\u03b8(t)]"
       ]
      }
     ],
     "prompt_number": 8
    },
    {
     "cell_type": "code",
     "collapsed": false,
     "input": [
      "F_ncons = F - F_cons\n",
      "F_ncons"
     ],
     "language": "python",
     "metadata": {},
     "outputs": [
      {
       "latex": [
        "$$\\left[\\begin{matrix}k_{d} \\frac{d}{d t} \\theta{\\left (t \\right )}\\end{matrix}\\right]$$"
       ],
       "metadata": {},
       "output_type": "pyout",
       "png": "[encoded data removed]",
       "prompt_number": 9,
       "text": [
        "\u23a1    d       \u23a4\n",
        "\u23a2k_d\u22c5\u2500\u2500(\u03b8(t))\u23a5\n",
        "\u23a3    dt      \u23a6"
       ]
      }
     ],
     "prompt_number": 9
    },
    {
     "cell_type": "code",
     "collapsed": false,
     "input": [
      "T = q.diff(t).T*M*q.diff(t)/2\n",
      "T"
     ],
     "language": "python",
     "metadata": {},
     "outputs": [
      {
       "latex": [
        "$$\\left[\\begin{matrix}\\frac{l^{2} m}{2} \\left(\\frac{d}{d t} \\theta{\\left (t \\right )}\\right)^{2}\\end{matrix}\\right]$$"
       ],
       "metadata": {},
       "output_type": "pyout",
       "png": "[encoded data removed]",
       "prompt_number": 10,
       "text": [
        "\u23a1               2\u23a4\n",
        "\u23a2 2   \u239bd       \u239e \u23a5\n",
        "\u23a2l \u22c5m\u22c5\u239c\u2500\u2500(\u03b8(t))\u239f \u23a5\n",
        "\u23a2     \u239ddt      \u23a0 \u23a5\n",
        "\u23a2\u2500\u2500\u2500\u2500\u2500\u2500\u2500\u2500\u2500\u2500\u2500\u2500\u2500\u2500\u2500\u2500\u23a5\n",
        "\u23a3       2        \u23a6"
       ]
      }
     ],
     "prompt_number": 10
    },
    {
     "cell_type": "code",
     "collapsed": false,
     "input": [
      "V = sympy.Matrix([0])\n",
      "n = 1\n",
      "for q_i in q:\n",
      "    t1 = sympy.symbols('t1')\n",
      "    V -= sympy.ones(1,n)*F_cons.subs(q_i, t1).integrate(t1).subs(t1, q_i)\n",
      "V.simplify()\n",
      "V"
     ],
     "language": "python",
     "metadata": {},
     "outputs": [
      {
       "latex": [
        "$$\\left[\\begin{matrix}g l m \\cos{\\left (\\theta{\\left (t \\right )} \\right )} - \\frac{k_{p}}{2} \\theta^{2}{\\left (t \\right )}\\end{matrix}\\right]$$"
       ],
       "metadata": {},
       "output_type": "pyout",
       "png": "[encoded data removed]",
       "prompt_number": 11,
       "text": [
        "\u23a1                       2   \u23a4\n",
        "\u23a2                  k_p\u22c5\u03b8 (t)\u23a5\n",
        "\u23a2g\u22c5l\u22c5m\u22c5cos(\u03b8(t)) - \u2500\u2500\u2500\u2500\u2500\u2500\u2500\u2500\u2500\u23a5\n",
        "\u23a3                      2    \u23a6"
       ]
      }
     ],
     "prompt_number": 11
    },
    {
     "cell_type": "code",
     "collapsed": false,
     "input": [
      "E = T + V\n",
      "E"
     ],
     "language": "python",
     "metadata": {},
     "outputs": [
      {
       "latex": [
        "$$\\left[\\begin{matrix}g l m \\cos{\\left (\\theta{\\left (t \\right )} \\right )} - \\frac{k_{p}}{2} \\theta^{2}{\\left (t \\right )} + \\frac{l^{2} m}{2} \\left(\\frac{d}{d t} \\theta{\\left (t \\right )}\\right)^{2}\\end{matrix}\\right]$$"
       ],
       "metadata": {},
       "output_type": "pyout",
       "png": "[encoded data removed]",
       "prompt_number": 12,
       "text": [
        "\u23a1                                             2\u23a4\n",
        "\u23a2                               2   \u239bd       \u239e \u23a5\n",
        "\u23a2                       2      l \u22c5m\u22c5\u239c\u2500\u2500(\u03b8(t))\u239f \u23a5\n",
        "\u23a2                  k_p\u22c5\u03b8 (t)        \u239ddt      \u23a0 \u23a5\n",
        "\u23a2g\u22c5l\u22c5m\u22c5cos(\u03b8(t)) - \u2500\u2500\u2500\u2500\u2500\u2500\u2500\u2500\u2500 + \u2500\u2500\u2500\u2500\u2500\u2500\u2500\u2500\u2500\u2500\u2500\u2500\u2500\u2500\u2500\u2500\u23a5\n",
        "\u23a3                      2              2        \u23a6"
       ]
      }
     ],
     "prompt_number": 12
    },
    {
     "cell_type": "code",
     "collapsed": false,
     "input": [
      "x = sympy.Matrix([theta(t), theta(t).diff(t)])\n",
      "x"
     ],
     "language": "python",
     "metadata": {},
     "outputs": [
      {
       "latex": [
        "$$\\left[\\begin{matrix}\\theta{\\left (t \\right )}\\\\\\frac{d}{d t} \\theta{\\left (t \\right )}\\end{matrix}\\right]$$"
       ],
       "metadata": {},
       "output_type": "pyout",
       "png": "[encoded data removed]",
       "prompt_number": 13,
       "text": [
        "\u23a1  \u03b8(t)  \u23a4\n",
        "\u23a2        \u23a5\n",
        "\u23a2d       \u23a5\n",
        "\u23a2\u2500\u2500(\u03b8(t))\u23a5\n",
        "\u23a3dt      \u23a6"
       ]
      }
     ],
     "prompt_number": 13
    },
    {
     "cell_type": "code",
     "collapsed": false,
     "input": [
      "E.jacobian(x)"
     ],
     "language": "python",
     "metadata": {},
     "outputs": [
      {
       "latex": [
        "$$\\left[\\begin{matrix}- g l m \\sin{\\left (\\theta{\\left (t \\right )} \\right )} - k_{p} \\theta{\\left (t \\right )} & l^{2} m \\frac{d}{d t} \\theta{\\left (t \\right )}\\end{matrix}\\right]$$"
       ],
       "metadata": {},
       "output_type": "pyout",
       "png": "[encoded data removed]",
       "prompt_number": 14,
       "text": [
        "\u23a1                              2   d       \u23a4\n",
        "\u23a2-g\u22c5l\u22c5m\u22c5sin(\u03b8(t)) - k_p\u22c5\u03b8(t)  l \u22c5m\u22c5\u2500\u2500(\u03b8(t))\u23a5\n",
        "\u23a3                                  dt      \u23a6"
       ]
      }
     ],
     "prompt_number": 14
    },
    {
     "cell_type": "code",
     "collapsed": false,
     "input": [
      "lm.rhs()"
     ],
     "language": "python",
     "metadata": {},
     "outputs": [
      {
       "latex": [
        "$$\\left[\\begin{matrix}\\frac{d}{d t} \\theta{\\left (t \\right )}\\\\\\frac{1}{l^{2} m} \\left(g l m \\sin{\\left (\\theta{\\left (t \\right )} \\right )} + k_{d} \\frac{d}{d t} \\theta{\\left (t \\right )} + k_{p} \\theta{\\left (t \\right )}\\right)\\end{matrix}\\right]$$"
       ],
       "metadata": {},
       "output_type": "pyout",
       "png": "[encoded data removed]",
       "prompt_number": 15,
       "text": [
        "\u23a1                d                        \u23a4\n",
        "\u23a2                \u2500\u2500(\u03b8(t))                 \u23a5\n",
        "\u23a2                dt                       \u23a5\n",
        "\u23a2                                         \u23a5\n",
        "\u23a2                      d                  \u23a5\n",
        "\u23a2g\u22c5l\u22c5m\u22c5sin(\u03b8(t)) + k_d\u22c5\u2500\u2500(\u03b8(t)) + k_p\u22c5\u03b8(t)\u23a5\n",
        "\u23a2                      dt                 \u23a5\n",
        "\u23a2\u2500\u2500\u2500\u2500\u2500\u2500\u2500\u2500\u2500\u2500\u2500\u2500\u2500\u2500\u2500\u2500\u2500\u2500\u2500\u2500\u2500\u2500\u2500\u2500\u2500\u2500\u2500\u2500\u2500\u2500\u2500\u2500\u2500\u2500\u2500\u2500\u2500\u2500\u2500\u2500\u2500\u23a5\n",
        "\u23a2                    2                    \u23a5\n",
        "\u23a3                   l \u22c5m                  \u23a6"
       ]
      }
     ],
     "prompt_number": 15
    },
    {
     "cell_type": "code",
     "collapsed": false,
     "input": [
      "(E.jacobian(x).dot(lm.rhs())).simplify()"
     ],
     "language": "python",
     "metadata": {},
     "outputs": [
      {
       "latex": [
        "$$k_{d} \\left(\\frac{d}{d t} \\theta{\\left (t \\right )}\\right)^{2}$$"
       ],
       "metadata": {},
       "output_type": "pyout",
       "png": "[encoded data removed]",
       "prompt_number": 16,
       "text": [
        "              2\n",
        "    \u239bd       \u239e \n",
        "k_d\u22c5\u239c\u2500\u2500(\u03b8(t))\u239f \n",
        "    \u239ddt      \u23a0 "
       ]
      }
     ],
     "prompt_number": 16
    }
   ],
   "metadata": {}
  }
 ]
}