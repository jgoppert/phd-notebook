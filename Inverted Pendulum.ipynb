{
 "metadata": {
  "name": "",
  "signature": "sha256:cdd1fbe18b44a83cba5254f8fb4b613197d92ce88a1041adf5b1175f2bd11f9b"
 },
 "nbformat": 3,
 "nbformat_minor": 0,
 "worksheets": [
  {
   "cells": [
    {
     "cell_type": "heading",
     "level": 1,
     "metadata": {},
     "source": [
      "Setup"
     ]
    },
    {
     "cell_type": "code",
     "collapsed": false,
     "input": [
      "import sympy.physics.mechanics as me\n",
      "import sympy\n",
      "import control\n",
      "import matplotlib.animation\n",
      "import matplotlib.pyplot as plt\n",
      "import scipy.integrate\n",
      "import itertools\n",
      "from mpl_toolkits.mplot3d.axes3d import Axes3D\n",
      "\n",
      "# video animation\n",
      "from tempfile import NamedTemporaryFile\n",
      "from IPython.display import HTML\n",
      "\n",
      "%matplotlib inline\n",
      "import numpy as np\n",
      "sympy.init_printing()"
     ],
     "language": "python",
     "metadata": {},
     "outputs": [],
     "prompt_number": 1
    },
    {
     "cell_type": "code",
     "collapsed": false,
     "input": [
      "#plt.rcParams.keys()"
     ],
     "language": "python",
     "metadata": {},
     "outputs": [],
     "prompt_number": 2
    },
    {
     "cell_type": "code",
     "collapsed": false,
     "input": [
      "plt.rcParams['lines.linewidth'] = 2\n",
      "plt.rcParams['font.size'] = 12\n",
      "plt.rcParams['animation.writer'] = 'avconv'\n",
      "plt.rcParams['animation.codec'] = 'libx264'"
     ],
     "language": "python",
     "metadata": {},
     "outputs": [],
     "prompt_number": 3
    },
    {
     "cell_type": "code",
     "collapsed": false,
     "input": [
      "def anim_to_html(anim):\n",
      "    plt.close(anim._fig)\n",
      "    if not hasattr(anim, '_encoded_video'):\n",
      "        with NamedTemporaryFile(suffix='.mp4') as f:\n",
      "            anim.save(f.name, fps=20, extra_args=['-vcodec', 'libx264'])\n",
      "            video = open(f.name, \"rb\").read()\n",
      "        anim._encoded_video = video.encode(\"base64\")\n",
      "    \n",
      "    return \"\"\"<video controls>\n",
      "    <source src=\"data:video/x-m4v;base64,{0}\" type=\"video/mp4\">\n",
      "     Your browser does not support the video tag.\n",
      "    </video>\"\"\".format(anim._encoded_video)\n",
      "matplotlib.animation.Animation._repr_html_ = anim_to_html"
     ],
     "language": "python",
     "metadata": {},
     "outputs": [],
     "prompt_number": 4
    },
    {
     "cell_type": "heading",
     "level": 1,
     "metadata": {},
     "source": [
      "Definition of the System"
     ]
    },
    {
     "cell_type": "markdown",
     "metadata": {},
     "source": [
      "First we will define the variables and parameters for the system."
     ]
    },
    {
     "cell_type": "code",
     "collapsed": false,
     "input": [
      "theta, t, m, g, l = sympy.symbols('theta, t, m, g, l')\n",
      "values = {'g': 9.8, 'l': 0.1, 'm': 1}"
     ],
     "language": "python",
     "metadata": {},
     "outputs": [],
     "prompt_number": 5
    },
    {
     "cell_type": "markdown",
     "metadata": {},
     "source": [
      "Now we will define the inertial reference frame (i), the body reference frame (b)."
     ]
    },
    {
     "cell_type": "code",
     "collapsed": false,
     "input": [
      "frame_i = me.ReferenceFrame('i') # the inertial frame\n",
      "frame_b = frame_i.orientnew('b', 'Axis', (theta(t), frame_i.z))  # the body frame"
     ],
     "language": "python",
     "metadata": {},
     "outputs": [],
     "prompt_number": 6
    },
    {
     "cell_type": "markdown",
     "metadata": {},
     "source": [
      "Next we define the base and end of the pendulum in terms of the given coordinate frames."
     ]
    },
    {
     "cell_type": "code",
     "collapsed": false,
     "input": [
      "point_o = me.Point('o') # the base of the pendulum\n",
      "point_o.set_vel(frame_i, 0) # the base of the pendulum is fixed in the inertial frame\n",
      "point_p = point_o.locatenew('p', l*frame_b.y) # the end of the pendulum\n",
      "point_p.set_vel(frame_b, 0) # point p is fixed in the body frame\n",
      "point_p.v1pt_theory(point_o, frame_i, frame_b)\n",
      "particle_a = me.Particle('a', point_p, m) # define a point mass particle at the end of the pendulum"
     ],
     "language": "python",
     "metadata": {},
     "outputs": [],
     "prompt_number": 7
    },
    {
     "cell_type": "markdown",
     "metadata": {},
     "source": [
      "For this simple problem we assume that the only force acting on the pendulum is the weight due to gravity."
     ]
    },
    {
     "cell_type": "code",
     "collapsed": false,
     "input": [
      "weight = -m*g*frame_i.y\n",
      "weight"
     ],
     "language": "python",
     "metadata": {},
     "outputs": [
      {
       "latex": [
        "$$-  g m\\mathbf{\\hat{i}_y}$$"
       ],
       "metadata": {},
       "output_type": "pyout",
       "png": "[encoded data removed]",
       "prompt_number": 8,
       "text": [
        "- g\u22c5m \u001b[94m\u001b[1mi_y\u001b[0;0m\u001b[0;0m"
       ]
      }
     ],
     "prompt_number": 8
    },
    {
     "cell_type": "markdown",
     "metadata": {},
     "source": [
      "We can then calculate the moment acting on the pendulum."
     ]
    },
    {
     "cell_type": "code",
     "collapsed": false,
     "input": [
      "u = sympy.Symbol('u') # input\n",
      "d = sympy.Symbol('d') # disturbance\n",
      "M_o = point_p.pos_from(point_o).cross(weight).dot(frame_b.z) + u(t) + d(t)\n",
      "sympy.Eq(sympy.Symbol('M_o'), M_o)"
     ],
     "language": "python",
     "metadata": {},
     "outputs": [
      {
       "latex": [
        "$$M_{o} = g l m \\sin{\\left (\\theta{\\left (t \\right )} \\right )} + d{\\left (t \\right )} + u{\\left (t \\right )}$$"
       ],
       "metadata": {},
       "output_type": "pyout",
       "png": "[encoded data removed]",
       "prompt_number": 9,
       "text": [
        "M\u2092 = g\u22c5l\u22c5m\u22c5sin(\u03b8(t)) + d(t) + u(t)"
       ]
      }
     ],
     "prompt_number": 9
    },
    {
     "cell_type": "heading",
     "level": 1,
     "metadata": {},
     "source": [
      "Deriving Equations of Motion"
     ]
    },
    {
     "cell_type": "heading",
     "level": 2,
     "metadata": {},
     "source": [
      "Direct Application of Euler's 2nd Law of Motion"
     ]
    },
    {
     "cell_type": "code",
     "collapsed": true,
     "input": [
      "H__i_o = particle_a.angular_momentum(point_o, frame_i).dot(frame_i.z)\n",
      "sympy.Eq(sympy.Symbol('H__i_o'), H__i_o)"
     ],
     "language": "python",
     "metadata": {},
     "outputs": [
      {
       "latex": [
        "$$H^{i}_{o} = l^{2} m \\frac{d}{d t} \\theta{\\left (t \\right )}$$"
       ],
       "metadata": {},
       "output_type": "pyout",
       "png": "[encoded data removed]",
       "prompt_number": 10,
       "text": [
        "       2   d       \n",
        "H\u2071\u2092 = l \u22c5m\u22c5\u2500\u2500(\u03b8(t))\n",
        "           dt      "
       ]
      }
     ],
     "prompt_number": 10
    },
    {
     "cell_type": "markdown",
     "metadata": {},
     "source": [
      "We can then use Euler's 2nd law of rotational motion."
     ]
    },
    {
     "cell_type": "code",
     "collapsed": false,
     "input": [
      "eom = M_o - H__i_o.diff(t)\n",
      "sympy.Eq(eom, 0)"
     ],
     "language": "python",
     "metadata": {},
     "outputs": [
      {
       "latex": [
        "$$g l m \\sin{\\left (\\theta{\\left (t \\right )} \\right )} - l^{2} m \\frac{d^{2}}{d t^{2}}  \\theta{\\left (t \\right )} + d{\\left (t \\right )} + u{\\left (t \\right )} = 0$$"
       ],
       "metadata": {},
       "output_type": "pyout",
       "png": "[encoded data removed]",
       "prompt_number": 11,
       "text": [
        "                         2                        \n",
        "                   2    d                         \n",
        "g\u22c5l\u22c5m\u22c5sin(\u03b8(t)) - l \u22c5m\u22c5\u2500\u2500\u2500(\u03b8(t)) + d(t) + u(t) = 0\n",
        "                         2                        \n",
        "                       dt                         "
       ]
      }
     ],
     "prompt_number": 11
    },
    {
     "cell_type": "markdown",
     "metadata": {},
     "source": [
      "This can be simplified by solving for the second derivative of $\\theta$."
     ]
    },
    {
     "cell_type": "code",
     "collapsed": false,
     "input": [
      "eom_theta_dd = sympy.solve(eom, theta(t).diff(t,2))[0]\n",
      "sympy.Eq(theta(t).diff(t,2), eom_theta_dd)"
     ],
     "language": "python",
     "metadata": {},
     "outputs": [
      {
       "latex": [
        "$$\\frac{d^{2}}{d t^{2}}  \\theta{\\left (t \\right )} = \\frac{1}{l^{2} m} \\left(g l m \\sin{\\left (\\theta{\\left (t \\right )} \\right )} + d{\\left (t \\right )} + u{\\left (t \\right )}\\right)$$"
       ],
       "metadata": {},
       "output_type": "pyout",
       "png": "[encoded data removed]",
       "prompt_number": 12,
       "text": [
        "  2                                      \n",
        " d          g\u22c5l\u22c5m\u22c5sin(\u03b8(t)) + d(t) + u(t)\n",
        "\u2500\u2500\u2500(\u03b8(t)) = \u2500\u2500\u2500\u2500\u2500\u2500\u2500\u2500\u2500\u2500\u2500\u2500\u2500\u2500\u2500\u2500\u2500\u2500\u2500\u2500\u2500\u2500\u2500\u2500\u2500\u2500\u2500\u2500\u2500\n",
        "  2                       2              \n",
        "dt                       l \u22c5m            "
       ]
      }
     ],
     "prompt_number": 12
    },
    {
     "cell_type": "markdown",
     "metadata": {},
     "source": [
      "At equilibrium, if we set the derivatives of theta to zero, we get the equilibrium input."
     ]
    },
    {
     "cell_type": "code",
     "collapsed": false,
     "input": [
      "eom_equil = eom.subs({theta(t).diff(t,2):0})\n",
      "sympy.Eq(eom_equil, 0)"
     ],
     "language": "python",
     "metadata": {},
     "outputs": [
      {
       "latex": [
        "$$g l m \\sin{\\left (\\theta{\\left (t \\right )} \\right )} + d{\\left (t \\right )} + u{\\left (t \\right )} = 0$$"
       ],
       "metadata": {},
       "output_type": "pyout",
       "png": "[encoded data removed]",
       "prompt_number": 13,
       "text": [
        "g\u22c5l\u22c5m\u22c5sin(\u03b8(t)) + d(t) + u(t) = 0"
       ]
      }
     ],
     "prompt_number": 13
    },
    {
     "cell_type": "code",
     "collapsed": false,
     "input": [
      "u_eq = sympy.solve(eom.subs({theta(t).diff(t,2):0}), u(t), theta(t))[0][u(t)]\n",
      "u_eq"
     ],
     "language": "python",
     "metadata": {},
     "outputs": [
      {
       "latex": [
        "$$- g l m \\sin{\\left (\\theta{\\left (t \\right )} \\right )} - d{\\left (t \\right )}$$"
       ],
       "metadata": {},
       "output_type": "pyout",
       "png": "[encoded data removed]",
       "prompt_number": 14,
       "text": [
        "-g\u22c5l\u22c5m\u22c5sin(\u03b8(t)) - d(t)"
       ]
      }
     ],
     "prompt_number": 14
    },
    {
     "cell_type": "code",
     "collapsed": false,
     "input": [
      "x_vect = sympy.Matrix([theta(t), theta(t).diff(t)])\n",
      "u_vect = sympy.Matrix([u(t), d(t)])\n",
      "y_vect = x_vect"
     ],
     "language": "python",
     "metadata": {},
     "outputs": [],
     "prompt_number": 15
    },
    {
     "cell_type": "code",
     "collapsed": false,
     "input": [
      "f_vect = sympy.Matrix([theta(t).diff(t), eom_theta_dd])\n",
      "f_vect"
     ],
     "language": "python",
     "metadata": {},
     "outputs": [
      {
       "latex": [
        "$$\\left[\\begin{matrix}\\frac{d}{d t} \\theta{\\left (t \\right )}\\\\\\frac{1}{l^{2} m} \\left(g l m \\sin{\\left (\\theta{\\left (t \\right )} \\right )} + d{\\left (t \\right )} + u{\\left (t \\right )}\\right)\\end{matrix}\\right]$$"
       ],
       "metadata": {},
       "output_type": "pyout",
       "png": "[encoded data removed]",
       "prompt_number": 16,
       "text": [
        "\u23a1          d                  \u23a4\n",
        "\u23a2          \u2500\u2500(\u03b8(t))           \u23a5\n",
        "\u23a2          dt                 \u23a5\n",
        "\u23a2                             \u23a5\n",
        "\u23a2g\u22c5l\u22c5m\u22c5sin(\u03b8(t)) + d(t) + u(t)\u23a5\n",
        "\u23a2\u2500\u2500\u2500\u2500\u2500\u2500\u2500\u2500\u2500\u2500\u2500\u2500\u2500\u2500\u2500\u2500\u2500\u2500\u2500\u2500\u2500\u2500\u2500\u2500\u2500\u2500\u2500\u2500\u2500\u23a5\n",
        "\u23a2              2              \u23a5\n",
        "\u23a3             l \u22c5m            \u23a6"
       ]
      }
     ],
     "prompt_number": 16
    },
    {
     "cell_type": "code",
     "collapsed": false,
     "input": [
      "A = f_vect.jacobian(x_vect)\n",
      "B = f_vect.jacobian(u_vect)\n",
      "C = y_vect.jacobian(x_vect)\n",
      "D = y_vect.jacobian(u_vect)\n",
      "(A,B,C,D)"
     ],
     "language": "python",
     "metadata": {},
     "outputs": [
      {
       "latex": [
        "$$\\begin{pmatrix}\\left[\\begin{matrix}0 & 1\\\\\\frac{g}{l} \\cos{\\left (\\theta{\\left (t \\right )} \\right )} & 0\\end{matrix}\\right], & \\left[\\begin{matrix}0 & 0\\\\\\frac{1}{l^{2} m} & \\frac{1}{l^{2} m}\\end{matrix}\\right], & \\left[\\begin{matrix}1 & 0\\\\0 & 1\\end{matrix}\\right], & \\left[\\begin{matrix}0 & 0\\\\0 & 0\\end{matrix}\\right]\\end{pmatrix}$$"
       ],
       "metadata": {},
       "output_type": "pyout",
       "png": "[encoded data removed]",
       "prompt_number": 17,
       "text": [
        "\u239b\u23a1     0       1\u23a4, \u23a1 0     0  \u23a4, \u23a11  0\u23a4, \u23a10  0\u23a4\u239e\n",
        "\u239c\u23a2              \u23a5  \u23a2          \u23a5  \u23a2    \u23a5  \u23a2    \u23a5\u239f\n",
        "\u239c\u23a2g\u22c5cos(\u03b8(t))   \u23a5  \u23a2 1     1  \u23a5  \u23a30  1\u23a6  \u23a30  0\u23a6\u239f\n",
        "\u239c\u23a2\u2500\u2500\u2500\u2500\u2500\u2500\u2500\u2500\u2500\u2500\u2500  0\u23a5  \u23a2\u2500\u2500\u2500\u2500  \u2500\u2500\u2500\u2500\u23a5                \u239f\n",
        "\u239c\u23a3     l        \u23a6  \u23a2 2     2  \u23a5                \u239f\n",
        "\u239d                  \u23a3l \u22c5m  l \u22c5m\u23a6                \u23a0"
       ]
      }
     ],
     "prompt_number": 17
    },
    {
     "cell_type": "heading",
     "level": 2,
     "metadata": {},
     "source": [
      "Kane's Method"
     ]
    },
    {
     "cell_type": "markdown",
     "metadata": {},
     "source": [
      "Kane's method is a systematic way of deriving the equation of motion for a complicated possibly containing complicated constraints. It is overkill to apply it to this problem, but we will use it to introduce the method."
     ]
    },
    {
     "cell_type": "code",
     "collapsed": false,
     "input": [
      "Q = sympy.Symbol('Q')\n",
      "force_moment_list = [(point_p, weight), (frame_b, u(t)*frame_b.z)]\n",
      "body_list = [particle_a]\n",
      "q_ind = [theta(t)] # generalized coordinates\n",
      "u_ind = [Q(t)] # generalized speeds\n",
      "kd_eqs = [Q(t) - theta(t).diff(t)] # kinematic differential equations\n",
      "km = me.KanesMethod(frame_i, q_ind, u_ind, kd_eqs=kd_eqs)\n",
      "km.kanes_equations(force_moment_list, body_list)"
     ],
     "language": "python",
     "metadata": {},
     "outputs": [
      {
       "latex": [
        "$$\\begin{pmatrix}\\left[\\begin{matrix}g l m \\sin{\\left (\\theta{\\left (t \\right )} \\right )} + u{\\left (t \\right )}\\end{matrix}\\right], & \\left[\\begin{matrix}- l^{2} m \\frac{d}{d t} Q{\\left (t \\right )}\\end{matrix}\\right]\\end{pmatrix}$$"
       ],
       "metadata": {},
       "output_type": "pyout",
       "png": "[encoded data removed]",
       "prompt_number": 18,
       "text": [
        "\u239b                          \u23a1  2   d       \u23a4\u239e\n",
        "\u239c[g\u22c5l\u22c5m\u22c5sin(\u03b8(t)) + u(t)], \u23a2-l \u22c5m\u22c5\u2500\u2500(Q(t))\u23a5\u239f\n",
        "\u239d                          \u23a3      dt      \u23a6\u23a0"
       ]
      }
     ],
     "prompt_number": 18
    },
    {
     "cell_type": "code",
     "collapsed": false,
     "input": [
      "km_mass = km.mass_matrix_full\n",
      "km_mass_inv= km_mass.inv()\n",
      "\n",
      "km_forcing_full = km.forcing_full\n",
      "km_linear = km.linearize()\n",
      "km_rhs = km.rhs()\n",
      "(km_mass, km_mass_inv, km_forcing_full)"
     ],
     "language": "python",
     "metadata": {},
     "outputs": [
      {
       "latex": [
        "$$\\begin{pmatrix}\\left[\\begin{matrix}1 & 0\\\\0 & l^{2} m\\end{matrix}\\right], & \\left[\\begin{matrix}1 & 0\\\\0 & \\frac{1}{l^{2} m}\\end{matrix}\\right], & \\left[\\begin{matrix}Q{\\left (t \\right )}\\\\g l m \\sin{\\left (\\theta{\\left (t \\right )} \\right )} + u{\\left (t \\right )}\\end{matrix}\\right]\\end{pmatrix}$$"
       ],
       "metadata": {},
       "output_type": "pyout",
       "png": "[encoded data removed]",
       "prompt_number": 19,
       "text": [
        "\u239b\u23a11   0  \u23a4, \u23a11   0  \u23a4, \u23a1         Q(t)         \u23a4\u239e\n",
        "\u239c\u23a2       \u23a5  \u23a2       \u23a5  \u23a2                      \u23a5\u239f\n",
        "\u239c\u23a2    2  \u23a5  \u23a2    1  \u23a5  \u23a3g\u22c5l\u22c5m\u22c5sin(\u03b8(t)) + u(t)\u23a6\u239f\n",
        "\u239c\u23a30  l \u22c5m\u23a6  \u23a20  \u2500\u2500\u2500\u2500\u23a5                          \u239f\n",
        "\u239c           \u23a2    2  \u23a5                          \u239f\n",
        "\u239d           \u23a3   l \u22c5m\u23a6                          \u23a0"
       ]
      }
     ],
     "prompt_number": 19
    },
    {
     "cell_type": "code",
     "collapsed": false,
     "input": [
      "(km_linear, km_rhs)"
     ],
     "language": "python",
     "metadata": {},
     "outputs": [
      {
       "latex": [
        "$$\\begin{pmatrix}\\begin{pmatrix}\\left[\\begin{matrix}0 & 1\\\\g l m \\cos{\\left (\\theta{\\left (t \\right )} \\right )} & 0\\end{matrix}\\right], & \\left[\\begin{matrix}0\\\\1\\end{matrix}\\right], & \\left[\\begin{matrix}u{\\left (t \\right )}\\end{matrix}\\right]\\end{pmatrix}, & \\left[\\begin{matrix}Q{\\left (t \\right )}\\\\\\frac{1}{l^{2} m} \\left(g l m \\sin{\\left (\\theta{\\left (t \\right )} \\right )} + u{\\left (t \\right )}\\right)\\end{matrix}\\right]\\end{pmatrix}$$"
       ],
       "metadata": {},
       "output_type": "pyout",
       "png": "[encoded data removed]",
       "prompt_number": 20,
       "text": [
        "\u239b\u239b\u23a1       0         1\u23a4, \u23a10\u23a4, [u(t)]\u239e, \u23a1         Q(t)         \u23a4\u239e\n",
        "\u239c\u239c\u23a2                  \u23a5  \u23a2 \u23a5        \u239f  \u23a2                      \u23a5\u239f\n",
        "\u239c\u239d\u23a3g\u22c5l\u22c5m\u22c5cos(\u03b8(t))  0\u23a6  \u23a31\u23a6        \u23a0  \u23a2g\u22c5l\u22c5m\u22c5sin(\u03b8(t)) + u(t)\u23a5\u239f\n",
        "\u239c                                     \u23a2\u2500\u2500\u2500\u2500\u2500\u2500\u2500\u2500\u2500\u2500\u2500\u2500\u2500\u2500\u2500\u2500\u2500\u2500\u2500\u2500\u2500\u2500\u23a5\u239f\n",
        "\u239c                                     \u23a2          2           \u23a5\u239f\n",
        "\u239d                                     \u23a3         l \u22c5m         \u23a6\u23a0"
       ]
      }
     ],
     "prompt_number": 20
    },
    {
     "cell_type": "code",
     "collapsed": false,
     "input": [
      "km_A = km_mass_inv*km_linear[0]\n",
      "km_B = km.mass_matrix_full.inv()*km.linearize()[1]\n",
      "km_C = sympy.zeros(2)\n",
      "km_D = sympy.zeros(2,1)\n",
      "km_x = sympy.Matrix([theta(t), Q(t)])\n",
      "km_u = sympy.Matrix([u(t)])\n",
      "km_A, km_B, km_C, km_D, km_x\n"
     ],
     "language": "python",
     "metadata": {},
     "outputs": [
      {
       "latex": [
        "$$\\begin{pmatrix}\\left[\\begin{matrix}0 & 1\\\\\\frac{g}{l} \\cos{\\left (\\theta{\\left (t \\right )} \\right )} & 0\\end{matrix}\\right], & \\left[\\begin{matrix}0\\\\\\frac{1}{l^{2} m}\\end{matrix}\\right], & \\left[\\begin{matrix}0 & 0\\\\0 & 0\\end{matrix}\\right], & \\left[\\begin{matrix}0\\\\0\\end{matrix}\\right], & \\left[\\begin{matrix}\\theta{\\left (t \\right )}\\\\Q{\\left (t \\right )}\\end{matrix}\\right]\\end{pmatrix}$$"
       ],
       "metadata": {},
       "output_type": "pyout",
       "png": "[encoded data removed]",
       "prompt_number": 21,
       "text": [
        "\u239b\u23a1     0       1\u23a4, \u23a1 0  \u23a4, \u23a10  0\u23a4, \u23a10\u23a4, \u23a1\u03b8(t)\u23a4\u239e\n",
        "\u239c\u23a2              \u23a5  \u23a2    \u23a5  \u23a2    \u23a5  \u23a2 \u23a5  \u23a2    \u23a5\u239f\n",
        "\u239c\u23a2g\u22c5cos(\u03b8(t))   \u23a5  \u23a2 1  \u23a5  \u23a30  0\u23a6  \u23a30\u23a6  \u23a3Q(t)\u23a6\u239f\n",
        "\u239c\u23a2\u2500\u2500\u2500\u2500\u2500\u2500\u2500\u2500\u2500\u2500\u2500  0\u23a5  \u23a2\u2500\u2500\u2500\u2500\u23a5                     \u239f\n",
        "\u239c\u23a3     l        \u23a6  \u23a2 2  \u23a5                     \u239f\n",
        "\u239d                  \u23a3l \u22c5m\u23a6                     \u23a0"
       ]
      }
     ],
     "prompt_number": 21
    },
    {
     "cell_type": "code",
     "collapsed": false,
     "input": [
      "km_forcing_full"
     ],
     "language": "python",
     "metadata": {},
     "outputs": [
      {
       "latex": [
        "$$\\left[\\begin{matrix}Q{\\left (t \\right )}\\\\g l m \\sin{\\left (\\theta{\\left (t \\right )} \\right )} + u{\\left (t \\right )}\\end{matrix}\\right]$$"
       ],
       "metadata": {},
       "output_type": "pyout",
       "png": "[encoded data removed]",
       "prompt_number": 22,
       "text": [
        "\u23a1         Q(t)         \u23a4\n",
        "\u23a2                      \u23a5\n",
        "\u23a3g\u22c5l\u22c5m\u22c5sin(\u03b8(t)) + u(t)\u23a6"
       ]
      }
     ],
     "prompt_number": 22
    },
    {
     "cell_type": "markdown",
     "metadata": {},
     "source": [
      "We can also solve for the equilibrium conditions using the matrices from Kane's method."
     ]
    },
    {
     "cell_type": "code",
     "collapsed": false,
     "input": [
      "sympy.solve(km_mass_inv*km_forcing_full, [Q(t), u(t)])"
     ],
     "language": "python",
     "metadata": {},
     "outputs": [
      {
       "latex": [
        "$$\\begin{Bmatrix}Q{\\left (t \\right )} : 0, & u{\\left (t \\right )} : - g l m \\sin{\\left (\\theta{\\left (t \\right )} \\right )}\\end{Bmatrix}$$"
       ],
       "metadata": {},
       "output_type": "pyout",
       "png": "[encoded data removed]",
       "prompt_number": 23,
       "text": [
        "{Q(t): 0, u(t): -g\u22c5l\u22c5m\u22c5sin(\u03b8(t))}"
       ]
      }
     ],
     "prompt_number": 23
    },
    {
     "cell_type": "heading",
     "level": 2,
     "metadata": {},
     "source": [
      "Lagrangian Mechanics"
     ]
    },
    {
     "cell_type": "code",
     "collapsed": false,
     "input": [
      "L = me.Lagrangian(frame_i, particle_a)\n",
      "L"
     ],
     "language": "python",
     "metadata": {},
     "outputs": [
      {
       "latex": [
        "$$\\frac{l^{2} m}{2} \\left(\\frac{d}{d t} \\theta{\\left (t \\right )}\\right)^{2}$$"
       ],
       "metadata": {},
       "output_type": "pyout",
       "png": "[encoded data removed]",
       "prompt_number": 24,
       "text": [
        "               2\n",
        " 2   \u239bd       \u239e \n",
        "l \u22c5m\u22c5\u239c\u2500\u2500(\u03b8(t))\u239f \n",
        "     \u239ddt      \u23a0 \n",
        "\u2500\u2500\u2500\u2500\u2500\u2500\u2500\u2500\u2500\u2500\u2500\u2500\u2500\u2500\u2500\u2500\n",
        "       2        "
       ]
      }
     ],
     "prompt_number": 24
    },
    {
     "cell_type": "code",
     "collapsed": false,
     "input": [
      "lm = me.LagrangesMethod(L, [theta(t)], forcelist=force_moment_list, frame=frame_i)\n",
      "lm.form_lagranges_equations()"
     ],
     "language": "python",
     "metadata": {},
     "outputs": [
      {
       "latex": [
        "$$\\left[\\begin{matrix}- g l m \\sin{\\left (\\theta{\\left (t \\right )} \\right )} + l^{2} m \\frac{d^{2}}{d t^{2}}  \\theta{\\left (t \\right )} - u{\\left (t \\right )}\\end{matrix}\\right]$$"
       ],
       "metadata": {},
       "output_type": "pyout",
       "png": "[encoded data removed]",
       "prompt_number": 25,
       "text": [
        "\u23a1                          2             \u23a4\n",
        "\u23a2                    2    d              \u23a5\n",
        "\u23a2-g\u22c5l\u22c5m\u22c5sin(\u03b8(t)) + l \u22c5m\u22c5\u2500\u2500\u2500(\u03b8(t)) - u(t)\u23a5\n",
        "\u23a2                          2             \u23a5\n",
        "\u23a3                        dt              \u23a6"
       ]
      }
     ],
     "prompt_number": 25
    },
    {
     "cell_type": "markdown",
     "metadata": {},
     "source": [
      "For this simple problem the Lagrangian method is more direct than Kane's method, but both give the same result."
     ]
    },
    {
     "cell_type": "code",
     "collapsed": false,
     "input": [
      "lm.rhs(), km.rhs()"
     ],
     "language": "python",
     "metadata": {},
     "outputs": [
      {
       "latex": [
        "$$\\begin{pmatrix}\\left[\\begin{matrix}\\frac{d}{d t} \\theta{\\left (t \\right )}\\\\\\frac{1}{l^{2} m} \\left(g l m \\sin{\\left (\\theta{\\left (t \\right )} \\right )} + u{\\left (t \\right )}\\right)\\end{matrix}\\right], & \\left[\\begin{matrix}Q{\\left (t \\right )}\\\\\\frac{1}{l^{2} m} \\left(g l m \\sin{\\left (\\theta{\\left (t \\right )} \\right )} + u{\\left (t \\right )}\\right)\\end{matrix}\\right]\\end{pmatrix}$$"
       ],
       "metadata": {},
       "output_type": "pyout",
       "png": "[encoded data removed]",
       "prompt_number": 26,
       "text": [
        "\u239b\u23a1       d              \u23a4                          \u239e\n",
        "\u239c\u23a2       \u2500\u2500(\u03b8(t))       \u23a5, \u23a1         Q(t)         \u23a4\u239f\n",
        "\u239c\u23a2       dt             \u23a5  \u23a2                      \u23a5\u239f\n",
        "\u239c\u23a2                      \u23a5  \u23a2g\u22c5l\u22c5m\u22c5sin(\u03b8(t)) + u(t)\u23a5\u239f\n",
        "\u239c\u23a2g\u22c5l\u22c5m\u22c5sin(\u03b8(t)) + u(t)\u23a5  \u23a2\u2500\u2500\u2500\u2500\u2500\u2500\u2500\u2500\u2500\u2500\u2500\u2500\u2500\u2500\u2500\u2500\u2500\u2500\u2500\u2500\u2500\u2500\u23a5\u239f\n",
        "\u239c\u23a2\u2500\u2500\u2500\u2500\u2500\u2500\u2500\u2500\u2500\u2500\u2500\u2500\u2500\u2500\u2500\u2500\u2500\u2500\u2500\u2500\u2500\u2500\u23a5  \u23a2          2           \u23a5\u239f\n",
        "\u239c\u23a2          2           \u23a5  \u23a3         l \u22c5m         \u23a6\u239f\n",
        "\u239d\u23a3         l \u22c5m         \u23a6                          \u23a0"
       ]
      }
     ],
     "prompt_number": 26
    },
    {
     "cell_type": "heading",
     "level": 1,
     "metadata": {},
     "source": [
      "Linearization"
     ]
    },
    {
     "cell_type": "markdown",
     "metadata": {},
     "source": [
      "Given the jacobian, we can linearize the dynamics at the equilibrium conditions. We will linearize about $\\theta = 0$, the pendulum is inverted."
     ]
    },
    {
     "cell_type": "code",
     "collapsed": false,
     "input": [
      "equil = {theta(t):0}\n",
      "equil.update(values)\n",
      "ss_eq = [ np.array(np.array(mat.subs(equil)), dtype=float) for mat in [A,B,C,D]]\n",
      "sys = control.StateSpace(ss_eq[0], ss_eq[1], ss_eq[2], ss_eq[3])"
     ],
     "language": "python",
     "metadata": {},
     "outputs": [],
     "prompt_number": 27
    },
    {
     "cell_type": "markdown",
     "metadata": {},
     "source": [
      "Here we see that the system is unstable."
     ]
    },
    {
     "cell_type": "code",
     "collapsed": false,
     "input": [
      "tout, xout, yout = control.forced_response(sys, X0=[0, 0.001], T=np.linspace(0,1))"
     ],
     "language": "python",
     "metadata": {},
     "outputs": [],
     "prompt_number": 28
    },
    {
     "cell_type": "code",
     "collapsed": false,
     "input": [
      "plt.plot(tout, yout.T);\n",
      "plt.legend([r'$\\theta$', r'$\\dot{\\theta}$'], loc='best');\n",
      "plt.show()"
     ],
     "language": "python",
     "metadata": {},
     "outputs": [
      {
       "metadata": {},
       "output_type": "display_data",
       "png": "[encoded data removed]",
       "text": [
        "<matplotlib.figure.Figure at 0x4d9b850>"
       ]
      }
     ],
     "prompt_number": 29
    },
    {
     "cell_type": "heading",
     "level": 1,
     "metadata": {},
     "source": [
      "Control Design"
     ]
    },
    {
     "cell_type": "heading",
     "level": 2,
     "metadata": {},
     "source": [
      "Classical Frequency Domain Design"
     ]
    },
    {
     "cell_type": "code",
     "collapsed": false,
     "input": [
      "control.ss2tf(sys)"
     ],
     "language": "python",
     "metadata": {},
     "outputs": [
      {
       "metadata": {},
       "output_type": "pyout",
       "prompt_number": 30,
       "text": [
        "\n",
        "Input 1 to output 1:\n",
        "      100\n",
        "---------------\n",
        "s^2 + -0 s - 98\n",
        "\n",
        "Input 1 to output 2:\n",
        "     100 s\n",
        "---------------\n",
        "s^2 + -0 s - 98\n",
        "\n",
        "Input 2 to output 1:\n",
        "      100\n",
        "---------------\n",
        "s^2 + -0 s - 98\n",
        "\n",
        "Input 2 to output 2:\n",
        "     100 s\n",
        "---------------\n",
        "s^2 + -0 s - 98"
       ]
      }
     ],
     "prompt_number": 30
    },
    {
     "cell_type": "markdown",
     "metadata": {},
     "source": [
      "Looking at the root locus plot we see that the system is marginally stable at high gains as both poles approach the real axis. The system must be stabilized with derivative gain to pull the poles to the left hand side of the complex plane."
     ]
    },
    {
     "cell_type": "code",
     "collapsed": false,
     "input": [
      "    control.root_locus(sys[0,0], kvect=np.linspace(0,1,1000));"
     ],
     "language": "python",
     "metadata": {},
     "outputs": [
      {
       "metadata": {},
       "output_type": "display_data",
       "png": "[encoded data removed]",
       "text": [
        "<matplotlib.figure.Figure at 0x4f03110>"
       ]
      }
     ],
     "prompt_number": 31
    },
    {
     "cell_type": "markdown",
     "metadata": {},
     "source": [
      "The bode plot shows that the phase margin is zero and that the system is unstable and we must increase the phase margin to around 70 degress/ gain margin of 10 dB to make the system robust to disturbances."
     ]
    },
    {
     "cell_type": "code",
     "collapsed": false,
     "input": [
      "control.bode_plot(sys[0,0], omega=np.logspace(0, 2), );"
     ],
     "language": "python",
     "metadata": {},
     "outputs": [
      {
       "metadata": {},
       "output_type": "display_data",
       "png": "[encoded data removed]",
       "text": [
        "<matplotlib.figure.Figure at 0x54a4e50>"
       ]
      }
     ],
     "prompt_number": 32
    },
    {
     "cell_type": "markdown",
     "metadata": {},
     "source": [
      "We choose a PD type controller because we know that a zero must be added to the left hand plane from observing the root locus plot. We implement the PD controller with proportional gain from the $\\theta$ and $\\dot{\\theta}$ plant states to avoid noise due to numerical differentiation. The gains were iteratively changed until the desired bandwidth and phase/gain margin were achieved."
     ]
    },
    {
     "cell_type": "code",
     "collapsed": false,
     "input": [
      "kp_th = 2\n",
      "kp_thd = 0.15\n",
      "contr = [kp_th, kp_thd]\n",
      "contr"
     ],
     "language": "python",
     "metadata": {},
     "outputs": [
      {
       "latex": [
        "$$\\begin{bmatrix}2, & 0.15\\end{bmatrix}$$"
       ],
       "metadata": {},
       "output_type": "pyout",
       "png": "[encoded data removed]",
       "prompt_number": 33,
       "text": [
        "[2, 0.15]"
       ]
      }
     ],
     "prompt_number": 33
    },
    {
     "cell_type": "code",
     "collapsed": false,
     "input": [
      "tfm = control.ss2tf(sys)\n",
      "tfm"
     ],
     "language": "python",
     "metadata": {},
     "outputs": [
      {
       "metadata": {},
       "output_type": "pyout",
       "prompt_number": 34,
       "text": [
        "\n",
        "Input 1 to output 1:\n",
        "      100\n",
        "---------------\n",
        "s^2 + -0 s - 98\n",
        "\n",
        "Input 1 to output 2:\n",
        "     100 s\n",
        "---------------\n",
        "s^2 + -0 s - 98\n",
        "\n",
        "Input 2 to output 1:\n",
        "      100\n",
        "---------------\n",
        "s^2 + -0 s - 98\n",
        "\n",
        "Input 2 to output 2:\n",
        "     100 s\n",
        "---------------\n",
        "s^2 + -0 s - 98"
       ]
      }
     ],
     "prompt_number": 34
    },
    {
     "cell_type": "code",
     "collapsed": false,
     "input": [
      "closed_loop = sys[:,0].feedback(contr)\n",
      "prescaler = 1.0/np.linalg.norm(closed_loop.horner(0))\n",
      "closed_loop *= prescaler\n",
      "open_loop = prescaler*contr*sys"
     ],
     "language": "python",
     "metadata": {},
     "outputs": [],
     "prompt_number": 35
    },
    {
     "cell_type": "code",
     "collapsed": false,
     "input": [
      "control.root_locus(closed_loop[0,0], kvect=np.linspace(0,1,100));"
     ],
     "language": "python",
     "metadata": {},
     "outputs": [
      {
       "metadata": {},
       "output_type": "display_data",
       "png": "[encoded data removed]",
       "text": [
        "<matplotlib.figure.Figure at 0x576d510>"
       ]
      }
     ],
     "prompt_number": 36
    },
    {
     "cell_type": "code",
     "collapsed": false,
     "input": [
      "control.bode_plot(open_loop[0,0], omega=np.logspace(-1, 2), );"
     ],
     "language": "python",
     "metadata": {},
     "outputs": [
      {
       "metadata": {},
       "output_type": "display_data",
       "png": "[encoded data removed]",
       "text": [
        "<matplotlib.figure.Figure at 0x595f750>"
       ]
      }
     ],
     "prompt_number": 37
    },
    {
     "cell_type": "code",
     "collapsed": false,
     "input": [
      "gm, pm, sm, gc, pc, sc = control.stability_margins(open_loop[0,0])\n",
      "gm, pm, sm, gc, pc, sc"
     ],
     "language": "python",
     "metadata": {},
     "outputs": [
      {
       "metadata": {},
       "output_type": "pyout",
       "prompt_number": 38,
       "text": [
        "(None,\n",
        " 45.910447258290475,\n",
        " 0.90924251168982306,\n",
        " 13.763953660529673,\n",
        " None,\n",
        " 4.2265522274077174)"
       ]
      }
     ],
     "prompt_number": 38
    },
    {
     "cell_type": "code",
     "collapsed": false,
     "input": [
      "control.bode_plot(closed_loop[0,0], omega=np.logspace(-1, 2), );"
     ],
     "language": "python",
     "metadata": {},
     "outputs": [
      {
       "metadata": {},
       "output_type": "display_data",
       "png": "[encoded data removed]",
       "text": [
        "<matplotlib.figure.Figure at 0x54639d0>"
       ]
      }
     ],
     "prompt_number": 39
    },
    {
     "cell_type": "code",
     "collapsed": false,
     "input": [
      "closed_loop.damp()"
     ],
     "language": "python",
     "metadata": {},
     "outputs": [
      {
       "metadata": {},
       "output_type": "pyout",
       "prompt_number": 40,
       "text": [
        "(array([ 10.09950494,  10.09950494]),\n",
        " array([ 0.74261066,  0.74261066]),\n",
        " array([-7.5+6.76387463j, -7.5-6.76387463j]))"
       ]
      }
     ],
     "prompt_number": 40
    },
    {
     "cell_type": "code",
     "collapsed": false,
     "input": [
      "tout, yout, xout = control.forced_response(closed_loop, X0=[1, 1], T=np.linspace(0,1))\n",
      "plt.plot(tout, yout.T);"
     ],
     "language": "python",
     "metadata": {},
     "outputs": [
      {
       "metadata": {},
       "output_type": "display_data",
       "png": "[encoded data removed]",
       "text": [
        "<matplotlib.figure.Figure at 0x4f31d90>"
       ]
      }
     ],
     "prompt_number": 41
    },
    {
     "cell_type": "heading",
     "level": 2,
     "metadata": {},
     "source": [
      "Linear Quadratic Regulator Design"
     ]
    },
    {
     "cell_type": "code",
     "collapsed": false,
     "input": [
      "K, S, E = control.lqr(sys.A,sys.B[:,0],np.diag([1, 0]), 1*np.eye(1))\n",
      "contr_lqr = K\n",
      "contr_lqr"
     ],
     "language": "python",
     "metadata": {},
     "outputs": [
      {
       "metadata": {},
       "output_type": "pyout",
       "prompt_number": 42,
       "text": [
        "array([[ 2.38014285,  0.21818079]])"
       ]
      }
     ],
     "prompt_number": 42
    },
    {
     "cell_type": "code",
     "collapsed": false,
     "input": [
      "closed_loop_lqr = sys[:,0].feedback(contr_lqr)\n",
      "prescaler_lqr = 1.0/np.linalg.norm(closed_loop_lqr.horner(0))\n",
      "closed_loop_lqr *= prescaler_lqr\n",
      "open_loop_lqr = sys[:,0]*contr_lqr"
     ],
     "language": "python",
     "metadata": {},
     "outputs": [],
     "prompt_number": 43
    },
    {
     "cell_type": "code",
     "collapsed": false,
     "input": [
      "control.bode_plot(open_loop_lqr[0,0], omega=np.logspace(-1, 2), );"
     ],
     "language": "python",
     "metadata": {},
     "outputs": [
      {
       "metadata": {},
       "output_type": "display_data",
       "png": "[encoded data removed]",
       "text": [
        "<matplotlib.figure.Figure at 0x4bed650>"
       ]
      }
     ],
     "prompt_number": 44
    },
    {
     "cell_type": "code",
     "collapsed": false,
     "input": [
      "gm, pm, sm, gc, pc, sc = control.stability_margins(open_loop_lqr[0,0])\n",
      "gm, pm, sm, gc, pc, sc"
     ],
     "language": "python",
     "metadata": {},
     "outputs": [
      {
       "metadata": {},
       "output_type": "pyout",
       "prompt_number": 45,
       "text": [
        "(None, 0.0, 0.0, 11.832763201615128, None, 11.832763201615132)"
       ]
      }
     ],
     "prompt_number": 45
    },
    {
     "cell_type": "code",
     "collapsed": false,
     "input": [
      "control.bode_plot(closed_loop_lqr[0,0], omega=np.logspace(-1, 2), );"
     ],
     "language": "python",
     "metadata": {},
     "outputs": [
      {
       "metadata": {},
       "output_type": "display_data",
       "png": "[encoded data removed]",
       "text": [
        "<matplotlib.figure.Figure at 0x5777310>"
       ]
      }
     ],
     "prompt_number": 46
    },
    {
     "cell_type": "code",
     "collapsed": false,
     "input": [
      "closed_loop_lqr.damp()"
     ],
     "language": "python",
     "metadata": {},
     "outputs": [
      {
       "metadata": {},
       "output_type": "pyout",
       "prompt_number": 47,
       "text": [
        "(array([ 11.8327632,  11.8327632]),\n",
        " array([ 0.92193508,  0.92193508]),\n",
        " array([-10.90903949+4.58335494j, -10.90903949-4.58335494j]))"
       ]
      }
     ],
     "prompt_number": 47
    },
    {
     "cell_type": "code",
     "collapsed": false,
     "input": [
      "tout, yout, xout = control.forced_response(closed_loop_lqr, X0=[1, 1], T=np.linspace(0,1,1000))\n",
      "plt.plot(tout, yout.T);"
     ],
     "language": "python",
     "metadata": {},
     "outputs": [
      {
       "metadata": {},
       "output_type": "display_data",
       "png": "[encoded data removed]",
       "text": [
        "<matplotlib.figure.Figure at 0x4dbebd0>"
       ]
      }
     ],
     "prompt_number": 48
    },
    {
     "cell_type": "heading",
     "level": 1,
     "metadata": {},
     "source": [
      "Nonlinear Simulation"
     ]
    },
    {
     "cell_type": "code",
     "collapsed": false,
     "input": [
      "f = sympy.lambdify((theta(t), Q(t), u(t)), km_rhs.subs(values))"
     ],
     "language": "python",
     "metadata": {},
     "outputs": [],
     "prompt_number": 49
    },
    {
     "cell_type": "code",
     "collapsed": false,
     "input": [
      "u_eq.subs(values)"
     ],
     "language": "python",
     "metadata": {},
     "outputs": [
      {
       "latex": [
        "$$- d{\\left (t \\right )} - 0.98 \\sin{\\left (\\theta{\\left (t \\right )} \\right )}$$"
       ],
       "metadata": {},
       "output_type": "pyout",
       "png": "[encoded data removed]",
       "prompt_number": 50,
       "text": [
        "-d(t) - 0.98\u22c5sin(\u03b8(t))"
       ]
      }
     ],
     "prompt_number": 50
    },
    {
     "cell_type": "code",
     "collapsed": false,
     "input": [
      "feed_forward = sympy.lambdify(theta(t), (u_eq).subs(values).subs(d(t),0))\n",
      "feed_forward(1)"
     ],
     "language": "python",
     "metadata": {},
     "outputs": [
      {
       "latex": [
        "$$-0.824641565112$$"
       ],
       "metadata": {},
       "output_type": "pyout",
       "png": "[encoded data removed]",
       "prompt_number": 51,
       "text": [
        "-0.824641565112"
       ]
      }
     ],
     "prompt_number": 51
    },
    {
     "cell_type": "code",
     "collapsed": false,
     "input": [
      "np.array(contr).dot(np.array([1,1])) + feed_forward(1)"
     ],
     "language": "python",
     "metadata": {},
     "outputs": [
      {
       "latex": [
        "$$1.32535843489$$"
       ],
       "metadata": {},
       "output_type": "pyout",
       "png": "[encoded data removed]",
       "prompt_number": 52,
       "text": [
        "1.32535843489"
       ]
      }
     ],
     "prompt_number": 52
    },
    {
     "cell_type": "code",
     "collapsed": false,
     "input": [
      "def simulate(contr, tf=1.0, dt=1.0/1000.0, dt_cont= 1.0/50.0, x0=[1,1]):\n",
      "    data = {}\n",
      "    sim = scipy.integrate.ode(lambda t,x,u: f(x[0],x[1],u))\n",
      "    sim.set_integrator('dopri5')\n",
      "    sim.set_initial_value(x0)\n",
      "    n_t = int(tf/dt)\n",
      "    data['x'] = np.zeros((n_t, 2))\n",
      "    data['u'] = np.zeros((n_t, 2))\n",
      "    data['t'] = np.zeros(n_t)\n",
      "    i = 0\n",
      "    t_last_control = 0\n",
      "    u_i = contr(x0)\n",
      "    while sim.successful() and i < n_t:\n",
      "        x_i = sim.y\n",
      "        data['x'][i,:] = x_i\n",
      "        data['u'][i,:] = u_i\n",
      "        data['t'][i] = sim.t\n",
      "        if (sim.t - t_last_control) >= dt_cont:\n",
      "            t_last_control = sim.t\n",
      "            u_i = contr(x_i)\n",
      "        sim.set_f_params(u_i)\n",
      "        sim.integrate(sim.t + dt)\n",
      "        i += 1\n",
      "    return data"
     ],
     "language": "python",
     "metadata": {},
     "outputs": [],
     "prompt_number": 53
    },
    {
     "cell_type": "code",
     "collapsed": false,
     "input": [
      "x = sympy.DeferredVector('x')\n",
      "cont_lqr_f = lambda x: -np.array(contr_lqr).dot(x)"
     ],
     "language": "python",
     "metadata": {},
     "outputs": [],
     "prompt_number": 54
    },
    {
     "cell_type": "code",
     "collapsed": false,
     "input": [
      "plt.figure(figsize=(15,5))\n",
      "h = []\n",
      "freq_list = [15, 11, 10]\n",
      "for freq in freq_list:\n",
      "    data = simulate(cont_lqr_f,  dt_cont=1.0/freq);\n",
      "    plt.subplot(121)\n",
      "    h.append(plt.plot(data['t'], np.rad2deg(data['x'][:,0])))\n",
      "    plt.subplot(122)\n",
      "    plt.plot(data['t'], data['u'])\n",
      "    \n",
      "plt.subplot(121)\n",
      "plt.legend([h_i[0] for h_i in h ], ['{:g} Hz'.format(freq) for freq in freq_list], loc='best')\n",
      "plt.title('control sampling time effect (output)')\n",
      "plt.xlabel('t, sec')\n",
      "plt.ylabel(r'$\\theta$, deg')\n",
      "\n",
      "plt.subplot(122)\n",
      "plt.xlabel('t, sec')\n",
      "plt.ylabel('u')\n",
      "plt.title('control sampling time effect (control)');"
     ],
     "language": "python",
     "metadata": {},
     "outputs": [
      {
       "metadata": {},
       "output_type": "display_data",
       "png": "[encoded data removed]",
       "text": [
        "<matplotlib.figure.Figure at 0x53bd490>"
       ]
      }
     ],
     "prompt_number": 55
    },
    {
     "cell_type": "heading",
     "level": 1,
     "metadata": {},
     "source": [
      "Digital Control"
     ]
    },
    {
     "cell_type": "markdown",
     "metadata": {},
     "source": [
      "From the nonlinear simulation, it is clear that we need to account for the control sampling if the control will be sampled below 20 Hz. We do this using digital control design techniques. First, we will discretize the state space system at 10 Hz."
     ]
    },
    {
     "cell_type": "code",
     "collapsed": false,
     "input": [
      "dt = 1.0/10\n",
      "sysd = scipy.signal.cont2discrete((sys.A, sys.B, sys.C, sys.D), dt)\n",
      "sysd = control.ss(sysd[0], sysd[1], sysd[2], sysd[3], dt)\n",
      "sysd"
     ],
     "language": "python",
     "metadata": {},
     "outputs": [
      {
       "metadata": {},
       "output_type": "pyout",
       "prompt_number": 56,
       "text": [
        "A = [[  1.531347     0.1171526 ]\n",
        " [ 11.48095456   1.531347  ]]\n",
        "\n",
        "B = [[  0.54219082   0.54219082]\n",
        " [ 11.71525976  11.71525976]]\n",
        "\n",
        "C = [[ 1.  0.]\n",
        " [ 0.  1.]]\n",
        "\n",
        "D = [[ 0.  0.]\n",
        " [ 0.  0.]]\n",
        "\n",
        "dt = 0.1"
       ]
      }
     ],
     "prompt_number": 56
    },
    {
     "cell_type": "markdown",
     "metadata": {},
     "source": [
      "Now we use the discrete algebraic ricatti equation to solve for the LQR gain for the discrete controller."
     ]
    },
    {
     "cell_type": "code",
     "collapsed": false,
     "input": [
      "Q = np.diag([1, 0])\n",
      "R = np.eye(1)\n",
      "X, L, G1 = control.dare(sysd.A, sysd.B[:,0], Q, R)\n",
      "X = scipy.linalg.solve_discrete_are(sysd.A, sysd.B[:,0], Q, R)\n",
      "G = np.linalg.inv(R + sysd.B[:,0].T.dot(X).dot(sysd.B[:,0])).dot(sysd.B[:,0].T).dot(X).dot(sysd.A)\n",
      "contr_lqrd = G\n",
      "cont_lqrd_f = lambda x: -contr_lqrd.dot(x)"
     ],
     "language": "python",
     "metadata": {},
     "outputs": [],
     "prompt_number": 57
    },
    {
     "cell_type": "markdown",
     "metadata": {},
     "source": [
      "Why doesn't this give the same answer? It seems that python control might have a bug here, most of the number are the same except for the diagonal."
     ]
    },
    {
     "cell_type": "code",
     "collapsed": false,
     "input": [
      "X2, L2, G2 = control.dare(sysd.A, sysd.B[:,0], Q, R)\n",
      "print X\n",
      "print X2"
     ],
     "language": "python",
     "metadata": {},
     "outputs": [
      {
       "output_type": "stream",
       "stream": "stdout",
       "text": [
        "[[ 3.87377252  0.25714186]\n",
        " [ 0.25714186  0.02409592]]\n",
        "[[-2.87377252  0.25714186]\n",
        " [ 0.25714186 -0.02409592]]\n"
       ]
      }
     ],
     "prompt_number": 58
    },
    {
     "cell_type": "code",
     "collapsed": false,
     "input": [
      "np.array(contr_lqr).dot(x[0])"
     ],
     "language": "python",
     "metadata": {},
     "outputs": [
      {
       "metadata": {},
       "output_type": "pyout",
       "prompt_number": 59,
       "text": [
        "array([[2.38014284985497*x[0], 0.218180789706838*x[0]]], dtype=object)"
       ]
      }
     ],
     "prompt_number": 59
    },
    {
     "cell_type": "markdown",
     "metadata": {},
     "source": [
      "Now we compare the new discrete and previously designed continuous LQR gains."
     ]
    },
    {
     "cell_type": "code",
     "collapsed": false,
     "input": [
      "plt.figure(figsize=(15,5))\n",
      "\n",
      "plt.subplot(121)\n",
      "plt.title('discrete vs. continuous LQR at 10 Hz (output)')\n",
      "plt.xlabel('t, sec')\n",
      "plt.ylabel(r'$\\theta$, deg')\n",
      "data_lqr = simulate(cont_lqr_f, dt_cont=dt, tf=2);\n",
      "hc = plt.plot(data_lqr['t'], np.rad2deg(data_lqr['x'][:,0]));\n",
      "\n",
      "plt.subplot(122)\n",
      "plt.title('discrete vs. continuous LQR at 10 Hz (control)')\n",
      "plt.xlabel('t, sec')\n",
      "plt.ylabel('u')\n",
      "hcc = plt.plot(data_lqr['t'], data_lqr['u']);\n",
      "\n",
      "plt.subplot(121)\n",
      "data_lqrd = simulate(cont_lqrd_f, dt_cont=dt, tf=2);\n",
      "hd = plt.plot(data_lqrd['t'], np.rad2deg(data_lqrd['x'][:,0]));\n",
      "plt.legend([hd[0], hc[0]], ['discrete','continuous']);\n",
      "\n",
      "plt.subplot(122)\n",
      "hdc = plt.plot(data_lqrd['t'], data_lqrd['u'])"
     ],
     "language": "python",
     "metadata": {},
     "outputs": [
      {
       "metadata": {},
       "output_type": "display_data",
       "png": "[encoded data removed]",
       "text": [
        "<matplotlib.figure.Figure at 0x578ce10>"
       ]
      }
     ],
     "prompt_number": 60
    },
    {
     "cell_type": "heading",
     "level": 1,
     "metadata": {},
     "source": [
      "Dynamic Inversion Control"
     ]
    },
    {
     "cell_type": "markdown",
     "metadata": {},
     "source": [
      "Dynamic inversion control is useful for nonlinear systems that operate around many different equilibirum condiions. Dynamic inversion control allows you to design one controller that will work for all equilbirum conditoins, but it may saturate actuators or use more control effort to follow the desired dynamics."
     ]
    },
    {
     "cell_type": "markdown",
     "metadata": {},
     "source": [
      "Here we will make the pendulum follow the dynamics given by the natural frequency and damping ratio of a second order systems."
     ]
    },
    {
     "cell_type": "code",
     "collapsed": false,
     "input": [
      "s, zeta, wn, Theta = sympy.symbols('s, zeta, \\omega_n, Theta')"
     ],
     "language": "python",
     "metadata": {},
     "outputs": [],
     "prompt_number": 61
    },
    {
     "cell_type": "code",
     "collapsed": false,
     "input": [
      "char_poly = Theta*(s**2 + 2*zeta*wn*s + wn**2)\n",
      "char_poly"
     ],
     "language": "python",
     "metadata": {},
     "outputs": [
      {
       "latex": [
        "$$\\Theta \\left(\\omega_{n}^{2} + 2 \\omega_{n} s \\zeta + s^{2}\\right)$$"
       ],
       "metadata": {},
       "output_type": "pyout",
       "png": "[encoded data removed]",
       "prompt_number": 62,
       "text": [
        "  \u239b        2                     2\u239e\n",
        "\u0398\u22c5\u239d\\omega_n  + 2\u22c5\\omega_n\u22c5s\u22c5\u03b6 + s \u23a0"
       ]
      }
     ],
     "prompt_number": 62
    },
    {
     "cell_type": "code",
     "collapsed": false,
     "input": [
      "char_poly_theta = char_poly.expand().subs({Theta*s**2: theta(t).diff(t,2), Theta*s: theta(t).diff(t), Theta: theta(t)})\n",
      "char_poly_theta"
     ],
     "language": "python",
     "metadata": {},
     "outputs": [
      {
       "latex": [
        "$$\\omega_{n}^{2} \\theta{\\left (t \\right )} + 2 \\omega_{n} \\zeta \\frac{d}{d t} \\theta{\\left (t \\right )} + \\frac{d^{2}}{d t^{2}}  \\theta{\\left (t \\right )}$$"
       ],
       "metadata": {},
       "output_type": "pyout",
       "png": "[encoded data removed]",
       "prompt_number": 63,
       "text": [
        "                                           2      \n",
        "        2                     d           d       \n",
        "\\omega_n \u22c5\u03b8(t) + 2\u22c5\\omega_n\u22c5\u03b6\u22c5\u2500\u2500(\u03b8(t)) + \u2500\u2500\u2500(\u03b8(t))\n",
        "                              dt           2      \n",
        "                                         dt       "
       ]
      }
     ],
     "prompt_number": 63
    },
    {
     "cell_type": "code",
     "collapsed": false,
     "input": [
      "theta_dd_des = sympy.solve(char_poly_theta, theta(t).diff(t,2))[0].expand()\n",
      "theta_dd_des"
     ],
     "language": "python",
     "metadata": {},
     "outputs": [
      {
       "latex": [
        "$$- \\omega_{n}^{2} \\theta{\\left (t \\right )} - 2 \\omega_{n} \\zeta \\frac{d}{d t} \\theta{\\left (t \\right )}$$"
       ],
       "metadata": {},
       "output_type": "pyout",
       "png": "[encoded data removed]",
       "prompt_number": 64,
       "text": [
        "          2                     d       \n",
        "- \\omega_n \u22c5\u03b8(t) - 2\u22c5\\omega_n\u22c5\u03b6\u22c5\u2500\u2500(\u03b8(t))\n",
        "                                dt      "
       ]
      }
     ],
     "prompt_number": 64
    },
    {
     "cell_type": "code",
     "collapsed": false,
     "input": [
      "eom_des = eom.subs({theta(t).diff(t,2): theta_dd_des.subs({wn:10, zeta:0.8})})\n",
      "eom_des"
     ],
     "language": "python",
     "metadata": {},
     "outputs": [
      {
       "latex": [
        "$$g l m \\sin{\\left (\\theta{\\left (t \\right )} \\right )} - l^{2} m \\left(- 100 \\theta{\\left (t \\right )} - 16.0 \\frac{d}{d t} \\theta{\\left (t \\right )}\\right) + d{\\left (t \\right )} + u{\\left (t \\right )}$$"
       ],
       "metadata": {},
       "output_type": "pyout",
       "png": "[encoded data removed]",
       "prompt_number": 65,
       "text": [
        "                   2   \u239b                 d       \u239e              \n",
        "g\u22c5l\u22c5m\u22c5sin(\u03b8(t)) - l \u22c5m\u22c5\u239c-100\u22c5\u03b8(t) - 16.0\u22c5\u2500\u2500(\u03b8(t))\u239f + d(t) + u(t)\n",
        "                       \u239d                 dt      \u23a0              "
       ]
      }
     ],
     "prompt_number": 65
    },
    {
     "cell_type": "code",
     "collapsed": false,
     "input": [
      "dyn_inv_f = sympy.solve(eom_des, u(t))[0]\n",
      "dyn_inv_f"
     ],
     "language": "python",
     "metadata": {},
     "outputs": [
      {
       "latex": [
        "$$- g l m \\sin{\\left (\\theta{\\left (t \\right )} \\right )} - 100.0 l^{2} m \\theta{\\left (t \\right )} - 16.0 l^{2} m \\frac{d}{d t} \\theta{\\left (t \\right )} - d{\\left (t \\right )}$$"
       ],
       "metadata": {},
       "output_type": "pyout",
       "png": "[encoded data removed]",
       "prompt_number": 66,
       "text": [
        "                          2                2   d              \n",
        "-g\u22c5l\u22c5m\u22c5sin(\u03b8(t)) - 100.0\u22c5l \u22c5m\u22c5\u03b8(t) - 16.0\u22c5l \u22c5m\u22c5\u2500\u2500(\u03b8(t)) - d(t)\n",
        "                                               dt             "
       ]
      }
     ],
     "prompt_number": 66
    },
    {
     "cell_type": "code",
     "collapsed": false,
     "input": [
      "cont_dyn_inv_f  = sympy.lambdify(x, dyn_inv_f.subs(values).subs({theta(t): x[0], theta(t).diff(t): x[1], d(t):0}))"
     ],
     "language": "python",
     "metadata": {},
     "outputs": [],
     "prompt_number": 67
    },
    {
     "cell_type": "code",
     "collapsed": false,
     "input": [
      "plt.figure(figsize=(15,5))\n",
      "\n",
      "plt.subplot(121)\n",
      "plt.title('dynamic inversion controller vs. discrete LQR (output)')\n",
      "plt.xlabel('t, sec')\n",
      "plt.ylabel(r'$\\theta$, deg')\n",
      "data_dyn_inv = simulate(cont_dyn_inv_f,  dt_cont=1.0/10, tf=2);\n",
      "h_dyn_inv = plt.plot(data_dyn_inv['t'], np.rad2deg(data_dyn_inv['x'][:,0]));\n",
      "h_lqrd = plt.plot(data_lqrd['t'], np.rad2deg(data_lqrd['x'][:,0]));\n",
      "plt.legend([h_dyn_inv[0], h_lqrd[0]], ['dynamic inversion', 'discrete LQR'])\n",
      "\n",
      "plt.subplot(122)\n",
      "plt.title('(control)')\n",
      "plt.plot(data_dyn_inv['t'], data_dyn_inv['u'])\n",
      "plt.plot(data_lqrd['t'], data_lqrd['u'])"
     ],
     "language": "python",
     "metadata": {},
     "outputs": [
      {
       "metadata": {},
       "output_type": "pyout",
       "prompt_number": 68,
       "text": [
        "[<matplotlib.lines.Line2D at 0x521cd50>,\n",
        " <matplotlib.lines.Line2D at 0x5219e90>]"
       ]
      },
      {
       "metadata": {},
       "output_type": "display_data",
       "png": "[encoded data removed]",
       "text": [
        "<matplotlib.figure.Figure at 0x5785910>"
       ]
      }
     ],
     "prompt_number": 68
    },
    {
     "cell_type": "markdown",
     "metadata": {},
     "source": [
      "Dynamical inversion doesn't work perfectly here because we are stil sampling the control at a slow rate."
     ]
    },
    {
     "cell_type": "heading",
     "level": 1,
     "metadata": {},
     "source": [
      "Inverted Pendulum Controller Animation"
     ]
    },
    {
     "cell_type": "code",
     "collapsed": false,
     "input": [
      "def pend_anim(data_list, data_names, tf=1.0, fps=20, rate=1.0):\n",
      "    fig = plt.figure(figsize=(10,5))\n",
      "    ax = fig.gca()\n",
      "    def update(i):\n",
      "        i_fig = 1\n",
      "        ax.cla()\n",
      "        h = []\n",
      "        colors = itertools.cycle(['b', 'g', 'r', 'c', 'm', 'y', 'k'])\n",
      "        for data in data_list:\n",
      "            theta = data['x'][50*i*rate,0]\n",
      "            x = -1.0*np.sin(theta)\n",
      "            y = 1.0*np.cos(theta)\n",
      "            #ax = plt.subplot(1,3,i_fig)\n",
      "            ax.set_aspect('equal')\n",
      "            ax.axis(1.1*np.array([-1, 1, -1, 1]))\n",
      "            h.append(ax.plot(x, y, 'ro', markersize=10, c=colors.next())[0])\n",
      "            ax.plot([0, x], [0, y], 'k-')\n",
      "            i_fig += 1\n",
      "        ax.legend(h, data_names, loc='lower left')\n",
      "    return matplotlib.animation.FuncAnimation(plt.gcf(), update, frames=int(tf*fps/rate))"
     ],
     "language": "python",
     "metadata": {},
     "outputs": [],
     "prompt_number": 69
    },
    {
     "cell_type": "code",
     "collapsed": false,
     "input": [
      "pend_anim([data_lqr, data_lqrd, data_dyn_inv], ['LQR', 'discrete LQR', 'dynamic inversoin'], rate=0.2)"
     ],
     "language": "python",
     "metadata": {},
     "outputs": [
      {
       "html": [
        "<video controls>\n",
        "    <source src=\"data:video/x-m4v;base64,AAAAIGZ0eXBpc29tAAACAGlzb21pc28yYXZjMW1wNDEAAAAIZnJlZQAAljBtZGF0AAACrgYF//+q\n",
        "3EXpvebZSLeWLNgg2SPu73gyNjQgLSBjb3JlIDE0MiByMjM4OSA5NTZjOGQ4IC0gSC4yNjQvTVBF\n",
        "Ry00IEFWQyBjb2RlYyAtIENvcHlsZWZ0IDIwMDMtMjAxNCAtIGh0dHA6Ly93d3cudmlkZW9sYW4u\n",
        "b3JnL3gyNjQuaHRtbCAtIG9wdGlvbnM6IGNhYmFjPTEgcmVmPTMgZGVibG9jaz0xOjA6MCBhbmFs\n",
        "eXNlPTB4MzoweDExMyBtZT1oZXggc3VibWU9NyBwc3k9MSBwc3lfcmQ9MS4wMDowLjAwIG1peGVk\n",
        "X3JlZj0xIG1lX3JhbmdlPTE2IGNocm9tYV9tZT0xIHRyZWxsaXM9MSA4eDhkY3Q9MSBjcW09MCBk\n",
        "ZWFkem9uZT0yMSwxMSBmYXN0X3Bza2lwPTEgY2hyb21hX3FwX29mZnNldD0tMiB0aHJlYWRzPTYg\n",
        "bG9va2FoZWFkX3RocmVhZHM9MSBzbGljZWRfdGhyZWFkcz0wIG5yPTAgZGVjaW1hdGU9MSBpbnRl\n",
        "cmxhY2VkPTAgYmx1cmF5X2NvbXBhdD0wIGNvbnN0cmFpbmVkX2ludHJhPTAgYmZyYW1lcz0zIGJf\n",
        "cHlyYW1pZD0yIGJfYWRhcHQ9MSBiX2JpYXM9MCBkaXJlY3Q9MSB3ZWlnaHRiPTEgb3Blbl9nb3A9\n",
        "MCB3ZWlnaHRwPTIga2V5aW50PTI1MCBrZXlpbnRfbWluPTIwIHNjZW5lY3V0PTQwIGludHJhX3Jl\n",
        "ZnJlc2g9MCByY19sb29rYWhlYWQ9NDAgcmM9Y3JmIG1idHJlZT0xIGNyZj0yMy4wIHFjb21wPTAu\n",
        "NjAgcXBtaW49MCBxcG1heD02OSBxcHN0ZXA9NCBpcF9yYXRpbz0xLjI1IGFxPTE6MS4wMACAAAAU\n",
        "4WWIhAA///73aJ8Cm1pDeoDklcUl20+B/6tncHyP6QMAAAMAAAMAAAMAI/wLkC83lWGBYAAAAwAz\n",
        "9BE+6hr+E/AAiJnKlGaOPL8eV/grfpwb/Vd0y4yOhQ3ZRNGg4S2ZIorqhNOGQU9B79sl8jDlvjyk\n",
        "lBC4Y6IV6jrkDtuWcUyQLeXuzCiXXhWC/gUeRKc0NP/zqi11u/hgfhCuQfXH9amA2EsrlcOJPvRc\n",
        "qcdBsDsGlRmGjDcvhNAxxfFAmBkY0wlLsc+xhndRdAlkQcSQtgpoYGN60cxpIYyAEesmMAiXj4Rh\n",
        "vGWrh9GtwsZbP7oHYWJHW9lXv//+yPpmsZh3Erfz9EbqDSCh4K2l6W/RFh2wRukhxRfqcGOLCGsY\n",
        "cQW4cN/VcGB0It89C7DUH/wyAovZSETZ2QAGhJN8xun7rbL+YqTGh2HqqCa31Wd4OS5mnXtiH+z9\n",
        "jWnvaUU/ZfWx0npd38igeTUku7g7wj2I7+vVzdylnl7ecDuAW+Ua4bvqhnv3Wx3WR1sPsMdUD0Zh\n",
        "GdPag76TgdXZxJU8fv1eGUIKv2FvpnD2iaMwo37H7orQBJQCUAt2Qs0ZlwpRTMbS+4O6ik3DAMJI\n",
        "p0CpaUJ2eh6Z7EcG+DGWlk6KHI/fu/HRJOhEow077yhQ0rNjLX/3sVKXcOuPpEJbfOO04h1We4Lu\n",
        "lTr93ClKa8k1k2X3xSwApVVFRnuC5UilupUmFIFtKBxdIYIDaT0MAwU8kpwU7bPnlg7lDRHILjfa\n",
        "4I/dqGnMPayox9QbbIDVO7b5P4duySMJ91BfCTMVqmkqiamxM6fMdoqhz5MCydtxELlb928LX+tR\n",
        "Xbg4JyjuisYuDkOg7L8vyy720hValjcmV9ww8TReIVXOkTUfg+VcGlH4RTCTxNNWm4jXIMJXuf6M\n",
        "00OQdv6UNY1CdEky+3zgw95PcYkX2KFB0dxvFUZfNVQ6A+n1bvM87uLMBPaIspbbmY2q69leOz0Y\n",
        "ayEe6YxVPKKpaIeV887I4YNm93TrXywkZhJrNqPl8ZnQk8kHvxz9o4gvPII7zZ/ZD/mCuTL1q+JZ\n",
        "XD1+nVbMxKfylAFhU8UkR2V3x2EYAxueDuQS6L9IHN7CWkjeiUYUGEi3zehxuIceYfQMK3sLum/V\n",
        "Ogw6iAjmo6zrId0W4pKbXWj+O0KnbgYQ398sA6pAQEeEtZn1g+wmAhLB9Nj+xvrZIUAsYSiIsXu0\n",
        "lAC96ujrvjQN3gWAnENkkDBB9AhXR4OLjbmCBZd/2Jpck+MYB7heCqSHgbHOdxQOLNFcAxj3IxLl\n",
        "tKHFON+Kq7kLWS+0tJbJuDwlIW2dfX7Fiiv5C2D7/MX7ES1tBv6amWfRpoDqGTDZC3fwIse/JH0q\n",
        "cwnT3hSp79aHHP5kkILAIOJ6jvUuce+WfovkNtyeAq5mqL08J9o6zyf0AGeEEt/DJOtv24W2T3z5\n",
        "jYRWjey3k22ZTsQ7UEgLwV0zuZr5QK2BN7RDnMzdzhaQI6nDUW1p/uHYT9/Co6p4q14rzheeO0kK\n",
        "HjP+5Hmowx6thmlChAkgZO59nHmkOPHl1tgQNLps8IeV2ItOKGPu8ReuU9Byr/VFNH/4RhVvLytp\n",
        "bUoysWzxg/osFtSLh3uaAZTuq77wrz+FhB9QV3IPwwXf/PPvanGuwV+3POqpw4zXdLrCIwjftyfJ\n",
        "TgJcjC4xlLDncLWnhqIG5In5GQm31HQaBEhnXn5WHLu54Aa6OqQfIU/+OsmdYkIhrS2iombx6CdS\n",
        "oQlz5I543vTjJM9hlBBeyj7iiPwBjOnMuJ7z+kN3BlIWONE4HAmIVjm6ioyKL/lLwncKcR3Yz/IP\n",
        "XRSIqmYMZtvyVuUoEABVDKoBGQmDB1AXFI9ID2MQ9yDkyoPat4D/Cm3C52l856oJGssST1GoolVb\n",
        "cexUkdm9ytnJfBq6Ad4z+o0L6B33stkq6u8/Yrua/mRyeSxzRbcrYMZx3S/Ub6wIvojkwGw9RKth\n",
        "0m9I/Clhzc/NcvsStc9IfTnKshGUGce6UkJNPBIF3s7EG2w3pDLaovj8zFHUs9AwOSkCB63GXb1r\n",
        "fKKoB3ZqgXeUUOmGbnyCWM0xd6ivjnzce5EHDJPlDywuTiCkHfDdj1pmHGXJCllngvurWERNAdhu\n",
        "Vu/P0UCDJFOqyBr8j09Sfe8o/tPzpRIOobuqkb1fHrSaaPyP2bvVpbeW31vf7stSjw0aMkzOMWp9\n",
        "oFZP2JHK6RQTptv6B7IhOl/S5Y2au1sBW/w93guxskgKwise9SmvKaEzOdYuGm5of7YDgbabl9Nq\n",
        "FB10KedojXoB4Tet3+2A2iiWtti2Rwfi7vwCPn1w9o+l1WSr4KgMwBlN/1jPW4wQt5vbxphfu78d\n",
        "W6FKiXdeKnx+GFnaXcOm6Y26KnaYBB3hLPwl4Mz828VNAv7pdUCuACmz/U3Qgzje4sgp8g997idq\n",
        "bsMtMebZZR8Ay65yz9YR8Bq3qU01o7rDfUFs1hGMFK6PMvU7iEV+xnSCWBRvO/PdlqZ/2vSzFXSH\n",
        "dzlCV6jWK/Uuq9VBxUg8XgbUm6DVxpEliRjXZYN77gMkww3Sr3Hj3Cv/oaCQzFCiBYwHhHwSr8h9\n",
        "6PoF7ND0KYeoYnyfoexaxBNRqk5mrfMA2wK5BsWIVItcp+yH9c3LC9u8TWExG0FOa9+vvuQKf/lh\n",
        "6U9kYUp7z/gMPrZ7/zDt4j1JMfu3kHFqvfW1gx5/Gh/CB8566vmnKEtJz1LIjb68o9veSdWOc/0a\n",
        "Co/KZVRMLmMfPzPptAq54uKzoKAdL8JT2nkwDqYlLdkl6w7sOEJipQgav1NIGUfxCsVHU+2rav0C\n",
        "6eBgWx0fHiofNeomjyhBE2+bdajxOzcK4R4TWorv9l96ChICJ+iNwB+HsrcOC7NnMJdJB4xsf2/2\n",
        "I5cPM7NIgyx2zZsj/47y/QK/AlUtAqwyx4lNnCJnv26QyyBLURiB1TLWlxJd5B726gbf7qz/V8sV\n",
        "rYXttSVgLykOq/vDkWkikhr/72PB64/1WEbnKOweP3HaMgKY1SdUR1qTNvuUnIxBn2MTSWEHnsaF\n",
        "6EU5NuUu6Vf/bT6AcYeJunrUEzvfMmtNUCnthWW41joPWES5+G+6fxbnU0eLRvtiBY8nmJvCbs24\n",
        "V+r4GuVSBD6p2IDsEyTo8ptH441aLJplVCHtkRVV+Ep5jiszqEpZ/5vH42mKdmEON5BkZMG8MJ/s\n",
        "p3nu4n2J+ltrZ8GpESsGH40/rGHvpVDGluWsLr5cxw/1H+i1hFvb4SMCpmoC3RRtOmoXV1uTu8Xi\n",
        "u3vqf2sRXpvKKidUXL6Bp5OWXcGJMqgdVzAXEIg1sQcQK5fj1/cgDH1EkBu7DZ/ihyMi2GivdFul\n",
        "c2ZJBD6I6Gx0Nm8W9K/YcwtVa/LEFx5Bf5dFtuG0uNF4GWj8RyFrLV66jdn9YOZggdugp2eYK6Ev\n",
        "wLyrei2OFlFNKGhDb4zaMjED9RBiJW5fEIsDXzSJtbhVS2wlpHymSYbTgb7spCbtUvb0q/PPvE9I\n",
        "Xeypjx1xYeos5DrRN0menoJLOxXmclOlhGXx1CvQ1ME2mS33DOBH9PtJJXyDhMY84+qqQZVyVTxw\n",
        "thi+9bZRyNy651A6Wjo7iHxkYNHbWdYeRnE1ohaZLBhMZ2Z8vdb2f1h24JaZsoX3LfyF94pJDg5w\n",
        "TArqnnhmyTvq1mwagx7RZ1hKAoNjk4IlNn1sIwGaSZSqsNT8qvHfdjJWUOSxI0RcEUQ+uNHQYtbD\n",
        "rV7OP38Z3Rp2C2sracPmErp2jg2T2XshmLp9nyt5Ag2VqsdOuXMat8bpx77fYbwWZToTiKl6dOnG\n",
        "Iy3pwNdVVkvYK1AQfncd+o8GoMMLWwi1/FzaK38TcYOw02M1lP8C3NfaTfqRVvPXL5CyPx2rVPBX\n",
        "MyQn0uyXAuezYHXh1szOCdV/4dYRrWWhO6kycH8RYbvfZ0MHZw0Kz4+B33CIwAN6t1m9yxfru+a/\n",
        "/7pJY2nO/O9VtsWoO9/WHYvTpqgclzr7oI+ZkgvRTvynkW2jYTgYEBIxUneVsyFiLaZpkU0m5fGP\n",
        "Wb0fjc4qC/rRVVLMEWEFwKPUZgCftrwuYojC/mgmFe6SbUrHQflmaDsM+6OnD8Uhfe2Iw440pn4q\n",
        "IGNwQIjTOc0z/K2+VEGrTcI+qdrBJK9uSG60ZByeCGRIaKggKVpGmNotv/C2UYoyuklidUu4t+18\n",
        "5jVVwuiPT46fHM+ucieu7Onzxggj2U81UiedHSPZYaeli9E28ESWOZWX+eOagW/vR/a7myiXnpr0\n",
        "Pib708MzD9BMDPU++wVg9bBHhX94zJf5ADqUr3IPs2CxS7Mv1C3Og0pOExRlsqhO+nC81I4pYZMr\n",
        "UOMSmZNWsgnU2o207rb/78qGZiFY8fPQkpXDpHjBPVezGQ0IUAQCSXkbO3sHAjUFyuQL9UTs0UM9\n",
        "4LG28NBolMeyu/Gd0qUfGAGOVDtevJJo0SllU/9wm3rRzI2Z6FgIA3BAQ7QBePkvqzi7Gto6IKu8\n",
        "IPXYj9mh6JCBG381Y4a4g7hBaiNOsXWCpZF2/obfhacssonrAWwpyesF3WJu43Dyiu75gYT+oq92\n",
        "0QY805KvddC89AKUOoksrXk1bYH+AJPOqRFk81G4TxO2siltNHTz6H4U2UfEmUKoAIALgHExoIFP\n",
        "AXXm/s+WllQTQFMkLu1WozG7epDk2gOqbgZJAa8Mb/xcnM/PMQpIgXmjvcZab6Gu0XslWvrhr3JE\n",
        "wHwhi/nu2qXgpgQGGajzG0aubxTnf+7mPl1GS6dm3haw0XgHFK7GoBndzNrItGDVctqdEva3THQy\n",
        "Wi8LKhSM2PEpXoObE35NjvEr+2eNEyjnUOJ+8jpsg3E9gAWWEMkeC1vNCdE0xHyGkpJHbF5uumLD\n",
        "kGPTrvpXKQVbJdJ5eU0tA/6lbd7VQCwy9+V2mokm4vobiZlMIvR6/QODeQEz1TkYi5xmp8IS6oLo\n",
        "yXrhX1K240kQDRRVg+x9Tf5mckCqT4bXP5V2jvA0nya8s4akAGN1E5GmuaZdC1EDSf9fYQgEnkTs\n",
        "OaNY14nt82ovldkn0H4YQgGTrpxa3GjrpfPp2+6kywNSJzk7m9m1ZfL7mPRMoSiEJogezrhF259Q\n",
        "+ntUmePb7l5Q/dX0nIklNv2tvQyGJOqYl1HSVEgnDiqPJZs1+4MgOZBbDuCn6s245BVblyXin2Z1\n",
        "0nrzTsmQS3vIkA2sKzFRiOCu2hjzdCHgYHxOxn5LgNcjzAvwZywrPt4BoHWleWsVO2z5wShkyRBO\n",
        "aN91y+bguefddvKS+gB86jCLn8xX/jS5z6svgQAL1BHu23gC4C9GX6OxB8QW9xJJPbcMhY/BH8SC\n",
        "Fr5HaMNOUZzjWpMmF4fiNBSE/1kH8lar0qPABkQnFiFrhD+7FpE6fXA4Wf0z1oPLWmW0NFFJUZz+\n",
        "ns+sfV2eYbOM9YPkHzULUQn7nIOnS6HmP9MIfblmtD+p7qdXIOOJ2xglAKVKoE9e+sdRUZ/Umbth\n",
        "KhT4HP+J4AJYht17UPt1JN4TQnFWTGh6t2qCxmnqfHKlPM38gZTcX8izecKZYVLPzQnHz3+xR3pq\n",
        "q9i8K9EW01WeFm3EexAfWh6MFybNl0GQNJsRKsOfJsuL638JmjqkkVYArVN8YpEs/ZdA+6XrPWrW\n",
        "7gSKK+BfIFwJbRHGVIflY2HKlLY7tXdk7BQaNB4dspLxXUVk5oyuI1LafDW3lebpuQeaxTh1MbGR\n",
        "LhVmrcepl1/vEoQ9t8Icv8Xt/lfG9RfA9s9eTwndglblIWoXoMfYCHug2jDsg7l7i61LQ5drrO0q\n",
        "15EcYL7Dsyr/g/Mrwlz1SSmCzc6K1athk01PAxEnDRkiJ2pG75h8hR40AWNMmASLPUlBWtz3KjXQ\n",
        "b2YxjbwjKD50Te7wXeVDqQiXVtebJibqjhYDEP6Sij8c24FQS0DxWA/KhP9SADCzABmRh07cf4oz\n",
        "ZBI2HjyeWKz+k+FtTat8w5nttkd8ViAlPiKa+4MvOobPtRWCsbrY4I++QhMPY0qDVNiOG3xtE95F\n",
        "zUC/IxhATM81CWFhqqyBNu/ot/8sSbRYkHiPm+WbkbYt1dI6rgrWvHodR1GDKjQ/GkRYNh0+e8M2\n",
        "kenKGS87J3gLXDbJ4mpUwUj8uuinkDj90AdF2hXsUuryr8AEZABeH/u1E4ArFSj0RgmsrcYAAAMD\n",
        "11nlC3zIPMG4bnwA/MLaB3P8iLieaHe4afhNvM7kRb7XwAOSkYz3wkGun9P1Q0+T85GRoUHW4M/+\n",
        "p7PjwJdj20JcutXWJWp+wNHDuBFM3JK2WI46PvHEuCubKqlm4YpjsZFoZ5yA+T5txjLsNOOkPH9K\n",
        "eaLKZU/F2Bo0LgDEp/O32etDe/1VYieH06vTsvp8XqrV8+VcnSvr2woa/oXtCG9U0oY5Ng+Al9Ie\n",
        "xRpG4HkcLNhFVz0fQFK21hLEyEIW885lpSVG0qx9LCmQyOHs3lE6KfJ9C2Dc4hMo3ayDwBYzztnU\n",
        "n86S1+q1TTCOdMPwKdIoQ9SLbEip5vArNhwpTT5lSmj1xKyIJc4t+WzD4p7DC2lNoMB8/44JpPH4\n",
        "P41Upjn5ZPINjz2gQVfeBj7LREYQaLO1gAn7hAWj/BoltkZOgjmhTHD/LxNh6Up0wKKZjgnxFgO2\n",
        "bCSjvoYF9UlJxVj9rLTnCkYLO2RIbmmKz+rqCq48yG9IXniJ8oaLtTDc+wnLbWitzY7TRL1JLEzD\n",
        "096misz98X/j4nuL9y/HwSJ76M+EWQ2iIn88V6cXtdFDDe5bUPS07iRaJuePFcABUPb1f/Q/oXGN\n",
        "zm9Ncw5ebP6Ib7r9Y7bFH119e0IFy2ybtv1OOweFJ/mhtyKeblnIOs8GShQ9YlefRbieAN6Zv1or\n",
        "0GMgpOVGi0qR3P+EGv+iNLzbg3xzt/7cg28bLOuLza3VZL0MQfgSKbszVarF/f9MzdTn7smHECui\n",
        "cD84j/yVBFWkgYS170jVmwnPKT1UEGFgYABcX7cuXfDSoTjK4BUZT16fTGS//v3CIoRE73B3gETU\n",
        "vj6h9oZFa0v/+1AAni2/I1QJ0hHqI5Q8PRBOO+pnehBXdFVSqb0TI255zroZ5yz3cIt2ElIOFliV\n",
        "3ftgJGntJcAXsmSRgaNRgIwfMCYVm+Y3vInbjctqrBZoAAHZRQACvgAAAwJbAAAC9UGaJGxD//6p\n",
        "lgAB9dn/wvjC+ABoSfKkP/NihVjWt0kyS6/w+hRhqpKD7xr6rLcZeg63fBRIxD4uixZyHpdP8SO6\n",
        "m+Xxq1TweI1q7sp+VU4RMOfh4DXlA5HUMkLlWhhMWHccmXqde2vTwtvUDY+NFHrDH78GMCroCci4\n",
        "ZNe9T36uXFQPtJo4ZR8EWUtGctxrbIxB0gQ01ACrLGkK3SdOirkPfemSfBYduqyS12dj8BenVMYU\n",
        "VXbDgEd45lnbrXfGFVt/1hBBI7SUtLO1arqVmPtl9j1w/B5KTdRR5HyaOqJfoKVSzKbDDVdGKoAs\n",
        "nOfb/WZfDOUcy8qXs7a2Gv87TolyI/Vj4RuhOsYzxb4dLtaFvntJkn4zqi2eeMHKGx1U447dYrAA\n",
        "H9iDbXK+BeN6RVJBYGK2Wig0IKSphsY92TCsTNvR0V59Vt1eugdl5v1gw2Z25XkFPn3kMzJC7rj4\n",
        "Rc+PRJtOJoMlcpzFZ9wfWq3Mb7bqv0bUfIDtLTA17hNlMkt/4SrkKrU85TwS1gtJZwWGlDEiDmKj\n",
        "JN2JnOvmXpLqfUsqOfojS5KuzhVDrsem0lDPczv0F8sgyxESPNmTsT/BGbanJdAWXrdd00h6zvpI\n",
        "Y/p7Aj4kbkM5JHGBdRTyq9fsgBWE5P4qJOeGMM0rsimd5NUg1AXACPxZwnhq83cSugcYYTIlGad+\n",
        "kmK8tQLV5yzVyGsf3q0w3tnAnY3FaguiZAfxhOVH3Ty9vfpD2VN9HzNtbZfWHoKGxsKqVrz9AqgT\n",
        "nc0tezYBRg3N5TCb8SIsbBHiEHx1igiHk8wcL/voJeDOeAt7gSaouyX5ODzQTmVwN3h/h9ywDR9R\n",
        "ce+bu7vYt80W2HOw9lUmvieEP4rsMN/H/N2L8f77/akAuT6fpczAkvvd2i+h0LL4Pa2cKRTRm5BX\n",
        "SLhBpR+ApZzojDjVhbxW9XQvewzKa24V0Mh8OBMIci6qyhUT2WqIo1Wp2rqgRgGYl6Z0LcHZrhO7\n",
        "TZ2LwGohRdwAAAEEQZ5CeIZ/AAG6SgeexAvRq/W1TSwD5BWABo2dzIGd/HvVcKxFWK8DvDo6rfDw\n",
        "l7v3u8RjBrnh5qjbgRamDDMeIs6AP0NzxuF8JOLCWHx5qOq5J9L/Hp9aH5chwG76PNAin6bsrRvx\n",
        "OBMiDfoYE9jt17lQHWk8iDhflM2LnHxFUh4YjLnmqRAyU3i4JipE9Od6PaLrv7RGnN8u9mYHpiPU\n",
        "Uwit+/62G7VXIVylYjLoy93LhyD9cMa0UkRJMn6HGkaIAtB45NIF5ONw9Rf+J3Fje/ybQMo0fcjb\n",
        "D6KgayTBGBwKco//2M9ufrBYsb6+KD3EMXOr+3eDsagyefDs/sy7rCRuEfEAAABoAZ5hdEK/AAM5\n",
        "HWeWhiACIL4vxZ4/zFdZcEFp4s40Rj+I9Gdgj3SRcCVdzn+JwC0Bw2a/d6xvOicZ1LKqlsuYRbzS\n",
        "mmus46weA79acsaHO9fEp+cZ4j+Dir0vVp0sYDOcRgQNEQRgGVAAAAFOAZ5jakK/AAM5YVuxKaum\n",
        "rQtVHGrAuUAEOd7/eRPflJSv6J3zEY1zcVeyn8+Rxb9jtJICCeWiVpuDmwYBGjP2ufPbDBYEq8lp\n",
        "8p5yDC4dfO+CRHyFwMgiglT9wedtC5o7OL6L3OUKSDx9ir6ia0tQI4XJVVxDyqinDAjR7D8GypTP\n",
        "bwGXSFIcUAz9xpNeOapRc0xbG0tbQirgKfPrJtGVwolCHhYlmzbAbcCjoUXLzeus32xc4lmUI+UQ\n",
        "yyUCCPe1BgS68uSfXvwyBrTgnFJ+nZsPPH89PiyeLZTBGW2ABVOFj5szrVW087I/V5u3+gSFTDph\n",
        "Yrid297yuF0OQMJ/JYfgNXqvJNEw8IPgWlCD03a26yICfQnn4Dx+OHtv553h/i9cerXaKJPBFuSb\n",
        "YrhkWDwoODB1T7SwQYRQdVkudFy6RaxxPa4ICrlItBVH+QAAA9dBmmhJqEFomUwId//+qZYANomg\n",
        "v2H2J+Br4QCa/DPLAMIWdYhQq/9zdehclaOP052cz1jQNWHPOrZo+Dw+0NKFMlb3D9Z3RDnPk9Rj\n",
        "rIGLcC0h96T9TgXi6mGuhIsSu5hX8bwyki0cPN7il302hioJE3o3xhXj/HTkDk8QCwM3H3ol99g9\n",
        "Z7Na8+zutb+0h3TxE0A4RJb6iY9AvNx4Ie4XkCgmKCZOedwGbJbbwbJDAWhNQFzz8p1+qZM+U1A3\n",
        "mO77TeVHaN6bEotujWyIxXgx/ohTBwx6EJ5uYTVeLRXzRAsiRoyTS1GwB38u1zzac2XEmlyZjm2c\n",
        "Z5TtCytJDuFIpZlwXqQfaOfOSy2A9zTxV5vbLCXxiqD8ZTLjw/sAQgfCFfv9vFHanx1RLUIc7tr6\n",
        "fEWSxgp+Sc1ab+KQCwgKSCotbSTQaSqTwSav0k5/D7DNZWC8Qn1oZY+zI4GjZm/7uVBzDpI2kVwy\n",
        "8b78TX+H9lO6/cu8csPdz7vtji6XDR02W+rbxnarGIVs5kVk2lrX9l5fK9JaDRpgGnaef1+w1ja+\n",
        "Ej9I5BeQk3/N2knuYZ5KOThlZqiVOCbjwXz76tU7u39QzqOjpIwOQVezdOLrugroue1B7IUu/kAH\n",
        "IPe5O8/gqxgFTEu/ShOyBe6V+v77WLWC2ULIg0+BLXZifdzIoEfEOs8aPkkm+vA3eSh3irkAJi4P\n",
        "XFjAgnXyWbgWy5ceinAL3vVc6t5x10tn7Sifqk3UjhReY9/c0It+5OZEeDZad+3OPjas0rUtfSKq\n",
        "zxYDxpvP/I69FWBuK0u/8Dpn6POpbpYGpzV79EsjESyLtZTjTc64lWs8wbgDw4dG8QImzZYlEK08\n",
        "IgYPm97w2GVuhRqR71Om2CVOpn1mkvVovpH/gs1iq+G/p7LaGQHklgT+4ThjdLfFPxvv2K12fZHV\n",
        "JYwi4kFvAh98772xV2BTePoOdcR0mFrHb5juk5qPyJsRUN3HdXhcGa1TrOakQ8umRO0KhAe+VNUW\n",
        "mNZWj89MQmuctTaLZBnSq+yS47zw/sPjUlueGMldjWrje4dQWL45WkQJ3uWx0wCWRh+r8f8w+wQE\n",
        "25kvh0FSMVp2N1MDFoH58heWHaj5vkQoftTfZu+7Q73sOYVvqyjYEMKc9PyVBQ/PMWk5mJmbd9eU\n",
        "Rp2U8H7vn16LmqDzFPql6NxwaI7bvtw5HS+8BWvdH1BJBCKBcv+kD7uZFEkeHzCBfd7vxTettWKP\n",
        "fVSrA+eegbrcSVcnSpuHWWE5xPzdpQk+snO8xWiab8KKhKiHmF0qUUxbL2v3rpCoHRoCkwAAAq1B\n",
        "noZFESwz/wAQW4gHvJ4BWyNygA2g7URk5/kQXTRE8sh+ntk5tERZeh9B5LRR/BYoIz+yFSuMpAis\n",
        "A4mgF2ITMUTXdG0/Oth86VwYdHnMqYnzdUgtmlpaERz7ZK6Weu9N8vPLwczObuye8O/rWOT9Rdl6\n",
        "x1hes4tdlPDGytOQ1jravSqBgI8D3ddtVWJVcars9qLu33wvkEfHd4VNEbvFmYNxLAqNXzYw7/a3\n",
        "rms71yIj4Bb++LotRjAIgnhqCiCxU7xtPTeBO3cV+0nm7f1kuZBnLrClVIrws4onpnXwT9GY5RlA\n",
        "HhiTrRxLJkBdIS769EMmEdPgdeHdx0ccCDilnh/HM0vys1ewtfiFcJJiNHxyXeKq5Clq9/oDAwe9\n",
        "5px6xi1TugORJbsVZP02ec9g0/LsOHuLv93hLIY3FjuKtYtr//O5Wub8ePnudkxYZGQKEqiaRQy/\n",
        "a1caxYbiYypsaifmzG7ixR0RPIpqnNwnjw8XkIScS6IIzza93HUBPpK/A3iWKME6YLVye26+fEr4\n",
        "WPxLkgH9jfEzT/xzjzyD8CCgjZauYDtZMhmmcN8sJv+hcE3lZL2igRQyuMKM7t6OK66KezVqV9em\n",
        "7zFO84zIalhoAWX5eLih+S97dZ5Ig9PieqpT29yyyNp/VsOnz2ys+62PTOUVCl2ygwPRhcHlzc3Q\n",
        "EnbRZYMRXBTEnvAdO+7YZHHl+6digdBtOYR4zuqXy8lstPCu+Q+IynS3eZcoIagvWIaAQFbwJ6B+\n",
        "Wgc9IhGnUUcW+/dD6a5sLdZsl7yLKLHUAS1ldV8a5UK9oJG5cgWrvpnwZ7YrvgFpedrdVclwnhX9\n",
        "8MMYDl0Kr6t3n1XpDF+DQFWt5UhcgrK7DYsc4AhqhszUw/C7y5IAv+Zky/Ck08BOcZ22ScCHawz5\n",
        "AAABewGepXRCvwAJ9kMh9lGrzVJxngAm2nuvvObT27tifcGpO1xBZ+syyo1qdsgiIlC9sdrv9ATv\n",
        "n9nNx0Byn5xtTLQZD3VTbs70o+hf+6/XBDRtOC7c1luyVLi+xV1qOC5adgfsMO+UNN+7G0lK/dE1\n",
        "xP/QR5crViHxY6HbNA0e0fQeinE7MfDIr+/rAR+neS0EJ1vWMEejP93oQfxjPSef0zzbT8WUMsUF\n",
        "CsinJRAzQ1jLmsecgaMNbCLFQDfIwX/oD3neV9FhNZrbs2kfUaG9YqSwQCsQMVqVdBOkIYRA3zm0\n",
        "Ci7bU5RNl9LmwlXhl21As74t0XqF0W27P/cbqgzwIH5qhIIrkCfl/X7QTsWRchgFXSX2U94A+Fno\n",
        "+u29gZU1LIb3PY97yWgjROIkpIopbcPHNawTP82q+1B4ryi12Yh7pKFHvNMAoGnUR+Qo9r5SPSOS\n",
        "ODBRFYTSzPGg2TCdjLqO/D6Yj/2KPZQmQ0HN4tB47zoP1DTX3REyCFkAAAG9AZ6nakK/AB5mSVeU\n",
        "JP+WFDJsQAcz9/lN1ouSMO8pMmO7ij6OeIBlPH4sUNVecq0JHzZPiC+TUAHKY1kGxDQNKGQ7z/Sz\n",
        "MH4jym+zUHs/KoVtTUilujGxiuxEL/VQ7SIMOhUMGe2+sCOOgf2h9WIavWAOmTEpQ4Z/a4dwQoEV\n",
        "UWnf53Scrw3gH6KiFMD3rTMyP3/Tokqw9LlsTgTHh4MHybvPRwVQ9o51glkZD+tDHD9vbRi08mc3\n",
        "mGbgIhckzIR3JptpdDMPqB0O2jxngqs0a0knku2IExtZeJlFIrn/esQwJl2HG1+qMgI8TFo3qrm3\n",
        "wBuo89e2kcdI39s4mjHvG1ceIqxk8ZQoI8wCITAmmuAQJ7XKtXJCc5NeRha7YCM2dmdKxX1aEIkA\n",
        "+vGtByJbAu5YpqrIm+f9BOgKt9OpOwqhxUeNL0+uB6OrI/Y6TJnD6/sccVngkXdDp1BhbD8wWC2l\n",
        "q+NK1kCtX+pePze57Vocg3AGNF+Oy+rdVB9EoasUQvIen5AIcbLzmmK+82mMXvlTEQ2qfa80deEl\n",
        "orDzCSXoHv6vsamhw++bK1mWK8OjfIECXkglXDiNYOB/gAAABBFBmqxJqEFsmUwId//+qZYANRJg\n",
        "kAEvrb4F4QDITnetY3yxEokx26/mecZPhbw7Zr2V5Px8ZRtrwMhfAYsoFHTaJ8K8d8l+5ZTKZlPI\n",
        "0HBG2eqYxPsicO+T/2JQMVU9NJ4keiCNFru3od1PStfJehxEx2X7LUr+GGu1q8vXCmzE60+nQACW\n",
        "YAD0BjVRJHvthCU+6mOx4PzQGHjJp4VRWqsF6ATzyhLxGsRb/hcjmYKND1q1g9v/hRCM7XdmX/Hi\n",
        "bn4pJ9kH8ysCMDwBlgSsvs6vRMBjMEdjSENLNjhW4ZEw0BNNwWMs3d3O/ErxWace+pDaAf3NOm2W\n",
        "WT+bFb6V5GtrI1Q1S0hgvW5r/DZebcPq9dAQ+A8CMR0LhfLsDHIPTF0D3L3RuIp01MgD+FQ1Qxdc\n",
        "PW4wgkP41nLKiOGwlhKO9NKhQXJbwcdnw9JD//RLWz/eBGtR24FFJgIZ42kQCMKe2IR0v3XyS9Kj\n",
        "dpFnYGQvKjdHNBEUFDSe8g90p4tOkLpIg5gGYDgwTRPxzNspMUEU5FstqdtmDHoSy4r5uxky3/92\n",
        "8F51iZ65DGNcfQ+wc8wgSnYRphhMeWcYVIQ1TAFiGxeRneRHLSifOpRr+rlP8qM4woeQFs3P8U/F\n",
        "1F1OgNKy7ovWc2rFZaCAk+wG+pFg8r3H8iSNSXQNDFBP0+IOj9aTshpKiN8WJnnQtJr6RueyUAJ0\n",
        "hTxyAv+YX26J9I7LgguBQTVFMyg7/Nyr6VWeYdys8fgnJPGy706pXzco+Er5rhHXX1NCgBG5+ii/\n",
        "GNHBL1XQRcfTtgWcTzZE16cbXQtmWVpNtUwlZo2cVvQ8MLSrge5+bNBxXteLcV1sbw4PBzznqgT9\n",
        "buYx2JFQHWKh6mnzNrixiM+Thy6QimXWtjLWntkk+qYAsi07WSJCCbLckRl34Rux2+3V0m9bO7aa\n",
        "OJkEILd/5s02CZv0i4cE4O1O/JPZhQGY/rNJNHPHzoHCzndxHXn37YRQ2Itc0VhrFTv2iWaBu2V3\n",
        "mDZtEiBNrTYNSioGvlO3elfAggLrIVyDXSeyak7U4Xb04lj7+Y2pAAgE1ZIOl5dpOVDsNIzoLG5N\n",
        "4Zh2ywv5jpF1vJiUOQKJYS7GOpTJSoMr0Qw4cI4wH9KXb/aSHeg3ZW2u1ir2QR5dWCo0pC3KBZT5\n",
        "Wso5Qhyv0Xqb0BU7qKR3hS610joDVh4q1ePE7dYmxRXrTxKrNaMMCqUd6xUdct+De1kGN3/CvcYX\n",
        "pR7VlgCo3O+ER/ooUxy9xCjlGBEMt33MxjGn1R6MFh+8ZlqEhYiQqzExGoPnBytVgMc2sKV2W+xC\n",
        "eR0AORlTzt1Ib9JmQlKX/gtByjfjBxTzrehhXQEhXW4hEM/crpHh4gG/sHR/WxwjxTXsgd0AAAJg\n",
        "QZ7KRRUsM/8AMIUHfDaDdAAHaH3CzrxoTV9t5QKdYcR/ek+LRAGNT1oAhu8Kk07oddWk1fxo49ks\n",
        "6rZbTF1+y30it/7rRA3BW3m5Qattz7Xviw6/59XJ2x/zLP7njNxK49g4CtxCkgPGbL996V40Q6bC\n",
        "NG0re7I5nVPJUWE3npxvDBW7G2Z1ciVMYIKEmzJIWj2ltdgR/NzVt5VqiDN9RJ5aFrWuLu4SyD4x\n",
        "8qX4fl8vORfIQ24iRI1e0Zl5jT8T0+H1McOfndMKYQFi/tUhWoBW4ocoGhaQdxvemWjFYKu+KJaX\n",
        "kfrBt0D7J+NMZRx8zuUgRRgFKtl9aNvosPq+9IhOaFMFOJEjIoDid+bEN2j8pjLR0x/yRf0V3PNb\n",
        "ijd2k/TMsldPo/ypUV5dW0+0VWABCJRQliyHncQKDd/BfhAt9xTOATJsBBmUVfHY/5fu4QVfpZ/m\n",
        "nGDAoI5W7chDg3BGptW8H2rqXE8Nm3SfOwvhRBaqgdmhKkbzKcWKj3hEWlSb/CvQdj5Pw7JB/yLc\n",
        "lDG469QLI+HilUxhaOQ7PGUZucKTHZAxNy3UbZ29LsdbDcgB00gz5GcmlOmgttx28RhbQAE0oGH0\n",
        "StXZAftCVJ7X2AsJBK3nHu5/q6aYhtRag2/thw1nfo6ASdsjz5zNo6ogzSCqJWkXp21o93ycpPUq\n",
        "9g3I9APSxaC6GSz1n8d1jS1+CXAVeajPGSFTF23R29mSv+A1kbpTR+KA7PVNVm/G6q+8Z0eJo9TV\n",
        "oLg+1O45Q7TWiAC0J7rcb77gTgzJpzIiCv8H5B+3+6Ofq9mI9p8AAAGdAZ7pdEK/AFryR+kYusdm\n",
        "JclAA7I3Y1+ODJt8nReBgN2/ErknWwkLYcc5yRUo7jgoF6k4aGCfAg86IDGm+T5Y614aOvs/70Mr\n",
        "OHx+Y3Kk8oo8FKDYKTgpw37lNHgDiAfNdfiARr0VYwcmi0hOeQsEr71FyNEu5sEqaJdGdEE9s3WI\n",
        "AjcG9129BFnqfDWgH30t2VVGPrZcr5hqWpwDGmeFS+UPoD1PFlz17V7Ky3Y3xWYM6AzeE38DG84m\n",
        "3czkg+9P/7ULAOAgg7HPBAsjecLPwZVMq2yxK8yZM+qaMJqjZFYxeSxGr+LwSMAhAAL2ZloDFrjL\n",
        "SKbY0JC38OnXHjD31xVgLqNLeAB4bkHZmC24V/GJ9kumdp3rLwMlSgB/LTGjMylJWd5d9ZSxq6se\n",
        "QtwNpWf0m5xK3wwzTdBGF2ACaEYgJ22rUw5X8vnLmX9jxfZWMF/gMmvjyQ7RAs6gBIcyNL6HdbIW\n",
        "xADtS7uZsLZM0F0fSyfKTyH/elLrW7WXejadIBm1QOEGiPT4k58+z5quz/BSsmSwQ6LiesYgOOAA\n",
        "AAGYAZ7rakK/AFrZe7fgo8twAfueKJjfru4aoSWs8I5rPM8DE9QLJ8SY/ZKcTdFdObW+u2H/KdBb\n",
        "mC1RhD2pCZ1NINC5QiKaWlRBx+D0KaUFwXT76KESspq4Hxzb3aKwkztVIMJx7owOt+v3HGupt1A7\n",
        "q2zL42Xen3oQbgEMoI0aifwWkbOnus5pPVxhSUTaERfhKxtkt3GFPjBTlkNsCallOcvaRmp/m+hu\n",
        "c5SdjejKWjgk0KjPWsqBfWdf3M4ENqIDo7xScvGMf/pPN6KjAmeMsp3WsDtHCjBrnuo1eXb5Q1bu\n",
        "yO4teT/NW/DP6g46Sr/O7ic2r+HkpnKUs5ysJHE6tvX8CgqJ+i33URqQPHmIs5quPRUixzgoh7gJ\n",
        "szIxb4/c0oqAIALc8+SiIh3S98+jibcA7R64skuHs4dR/I3tR1MQ1HERESjs88Ey+ySdd806iFW6\n",
        "X99JqJpiFpPCSInBFhnTSkIL+MwaCM8DxkglYzI3C7thHxzArNMgBWYpU6MrBsyMSeJ31yC+GCgw\n",
        "ybRBuq4jvBbAFw0bAAACGkGa7UmoQWyZTAh///6plgA3loGwRkAFqkR8MmJFGSTQvXNwm5CvvoZ6\n",
        "/tkM+az8IFT7QGhkha8O6hDLcDJCmQGbNzp23IIInpETLs470RCe5jgI1VG0liZ2CKoLNzU/b4lc\n",
        "7RIYGV8Ae+QP3Smyk/WiIrzex8vJ9irSRfmVnphr76KedAMN3vPOFyITT69wOk5T5di/tadhqb++\n",
        "8iDq0VDz8GOb52R+YUaompdXOFto48Cs/88Zz1+oPVkF60AZRYprLw69EaEPNdxsdKYCojT19/s3\n",
        "yQtEY+bmEYPVDYklHMReHLSu2jkvhuXn1Mkir3/6fPGXKM+wVsX0XXVzs1Um+3zoMUlFTVe2A6lT\n",
        "JdSncaD+vBExejngmVNHdbeYNkHfRuum0J+Bi0s7pqeMa3x4kfeRt7A1OW3S440df5/ec/2lnIoj\n",
        "0QWTuhVY6TB9bAiwoQbkWSZvi2CxitKMonCZSeKcZP3cvPgbAoX6R3av5s524GZUybP1wCWSqujx\n",
        "k8Gn1oXxQhBO/VFii50IbQjQ4ZZ5CBr9DWx+Er0gyRtBTvG2P+kaIAYcLtYKeEW2c101LzIOzPUU\n",
        "HldeB88UiQSIMtiPz0IUViyIJ/+gqRDaBTR9K0q5yyf2swRMGWpoEN0HbLKnmoLkJB4jgEz7h2L0\n",
        "0qofRgiNURUi4Qmn1Lw9+TEjOxZutx827dJykDCcqi7v3n/eG4fO81MAAAKVQZsRSeEKUmUwId/+\n",
        "qZYAOSd2o1oQ7CMWM+7TGaUO2PZAwuUfpj71wXkZ345AyFf1mrMJJY8pFWcynz+niTTMU8Ko+Eqv\n",
        "Y2R7uieMj0MO4dKxR0zX+OePtroqAMi+OWfMVjMIc3LpTxVbg6Ql7VwvRA0yCS+cHgejh8ni/Bi8\n",
        "095Atul8Juq0q8Mm+37XvmFRxdakjFl2jsOxFFYMod8vz38dDVhEt102/VAqWnG4bM5hCoLqFodo\n",
        "P8HVTqJG3NnFhK9v3unULqllcuyyMYUG28HExH/COudE9/tgrTQxtBMiwCV5mcIRWo+HKfROtKLh\n",
        "tp42Zjh+gfLsDltndRiC6A1mO1qrFk0oBpJbQ3v/mQYCfQ6L+tgrqppqO29zBtv2vIoyMBOLhL2J\n",
        "amhAEh1W4ef78+88VGlQnUBnrK1MIHsIVmEE5dF11MGL9nLru0YQcWkxF4z1XCQCtUcQmyWWp4Rd\n",
        "rlXB3iKKwfnpaFxEjb2XfnOykReMyKrRs9qNZZf4qCTOSGC44uqFYuYcvg9NmvW/Qa8+BBJMuADv\n",
        "gjtJ5m4/8Yf9IVXOlRm99y7qj28Nv6NR9pmLfo9R/QfiR5pgXcyuzE514Fd/F/g0eHjBHxQvoG99\n",
        "B0bQGwL13L4Vp/UA82bRQ4ImhT7RP8hBohI8YwbyjhtTPHXJqOReE9kuDD7ujBw5E7owvv6rpb/+\n",
        "bgIkMCioDbjw8dJDMBCYsQEc3pLQgXxVZH+JhLWcv2FR/r7bUHEpu9hiwxcHnnAJojnPntYtvsFa\n",
        "IyQoLQif0VwPwQfVfov97465XKyFwoHVcpU3zAfizCMzhXIG5ZacG9FSAI1I3JydE+DfUAZtRuWm\n",
        "f3veZ/Zx0nDd6xSSa9qZU5qVhHPIeQAAAeRBny9FNEwz/wAyPs1OxMv5Hq6sPKx8goXhywXkeAE1\n",
        "BOR50h/x1U9UBitpHpD4KewewRuaTxKImUk7eyKQ7k1g9cAA/DbtYzHDzJ8rJ8R5TIfSZE1hiWU0\n",
        "dywgXzlGMDOYzJ03QsxsuvG1PnOpMyZTmWSnDCpNLWN/bLFdIvngBNjoFkF4KXINh3LXei1yVZzg\n",
        "uI85oO3X2pwzyISoW47RVYxKUn2jK0xF5zTPu2ovpZfbwxuHaEmpvZYm3hFLHURe3V8U0tbyZwKD\n",
        "QZ/rD6xTrDq3pZhAZVVIWllJiYLbhLR8UXnjoBtf9AOE3hiW2sJGpveOajgc++6zljYZmNzKXXnw\n",
        "td65mFb8+TY15/wNOt6/YWFZ4E1i6oSYh5yh5fL6GFr7tYDLe3K578Sjn19enerGG06LH8L7RSoC\n",
        "a25/T9KyDSOlvyIU5pDT/jD4JO3ZCtqDOUXW2Qt0nQTZ9CWD/cJg6oGfQho1hxbjMSEFMxFfz9Z1\n",
        "2ts3Y9iWBOTJa0plnuULe9NMdEew4Tmw/ddDjvhozd6Ng935dDVeuOOmI1NdTruyJoxyekF4U4JM\n",
        "VhhKLoR/CRRQZw/JJimJjeiRsl/PdLZP2XGz4dS6GbrtBgYLkY4BPEFOP0K/kXzV1cAtxcSRAAAB\n",
        "QQGfTnRCvwBamJCZP4ngMACUO06lMUgiMy1QAcLvrGsHBHJe2Kd9Xgnub9UbO8n9jbIjIb3TZoEW\n",
        "G67ilkGmqSz3C38T+VlwlbdHBAg1gTS635+4md3KpYWMWhCkIWWZxQHvOIP/9FS3DbRRyCqmVAW+\n",
        "mpIh/EtSbplSQGw100vssDI60g/xwJHrqadMW9JbVwh+6n3ni49kHS38lbopE9AjRo4p0ItdR33U\n",
        "MqJG052faJcgahEoiTc/V5N3bM4xBUQrnxjBFkF2+RyxlFCGnr28gOxfTclbfFtoOc8RgGkxKEmC\n",
        "1RY5vjFsFJVx1RA+hWYLK0WvYEknN/3+SjzaDuFqNo4qVxLq0NI55VPcrOMzAk2uL/gTLF0rstR6\n",
        "AoZCesMUAW5tCCs6jsdIDGL5XvnEWFfS/KmhIZeQSWQ3i9Uh4AAAAQcBn1BqQr8AV3/GUqq0dz13\n",
        "Clto3Qh8MCl+kw0AEMeeQ2ZPDv0TbE8vBAasSuCvelEzeRKJK9hWXX06+1LYwEJgZPmZvrjztDqF\n",
        "KknJLbPaRl5g2Q0x0mZAr5yvli7g1oHmY455Ja6OrcSA9MzXdUO8K9jGZltm2qOjLeFMATuuc0xy\n",
        "EPnthmWLL8OQQut31DAzYmtxvazAVT+22oVgku5PuqrH37uJMLwmUEIxZoeVNsgPxJPQGl2Y/4R0\n",
        "azUqAUDE+afUqhfYm/DqswnUbd6XGx7gm8cUjQkXzk03RcqoLeEO5DQHdh0XgnDwsouT/udEh+l2\n",
        "7EK9QB+Gh+8LWVQWAF1NyduLUAAAAs1Bm1VJqEFomUwId//+qZYAN7SDV/S6ACdtFtdbJ8u74oWW\n",
        "Lz7ab7e3eMOJOiLBz4UUPxmSrYGsSD7Fa+Jag662rKb6HizZgqKEgkiv71mhfkR1wKcPaD/gjGw0\n",
        "q7lqzoQ7jJ/6Bh+jeYR+mKbFXdxUdKpzOSoYzYpUGEpPjv/uOMpoN/0eFrCDZPN3Pl7BIXQO/XGw\n",
        "7a1e6UWTTYcmDNvVRANB7CY388oo+I2XvMQpN7fIUVPBIXSxwEp7d0WDsgfOviX6Dw1Jj0uenh5x\n",
        "bCTCurLTxCAO81SE/xXJuZDFQOKpAnmZhfze+iNw6J1xnEaOx1pG6XadTCx2VuDnurLMMsk+K0sa\n",
        "8Xd++FcGD/CHGPpIXOEzgOsCYXHJVRbsw5MvJq5auNGDvCE7timjd8jlVHIsaforbRMXtmGOaXOE\n",
        "hP8AD9iXcs0G/8GVC9+TV2uJJxKN3jS1jPWYLvl0andUg0LdJyj9C02gF7pEc0lB9gT6CU4GX/cq\n",
        "mpVTfxbTnKtn2SefI+y27H9YrexYiquqTqILwopgQqvVwli7QdkYxMfuTI+SakvyeLQJT4chadNK\n",
        "Rt6A4MWct5m4AitEdxiR9vjTOjRlPfmhYmc9++KugKvuKmvk0iKOWI631Ki99D5nunWY4EEB+z6s\n",
        "M4jVfV72FXdPxvKZMDgjLqPOvqco1ZxsxYRSdKnB6bIPijsRI/A54J5fcXppF6NaNGdH27GxdN+t\n",
        "K3HomgJhC/T/hPhySXLa8lDCxyBNdtRKxJbUnPtf4d2Q2LN2L9FS+/FwasbpxC4PxtaNnSs+uWvV\n",
        "qrEUdUeD9Lbn+azhz1R7z2VKeue+DOjMFyJIxcTLg+T+x0I6ZRFbEqxGk00gD9cJaykzV7t4k60k\n",
        "o7MObdYIWJFAMRxV2eY/a6L+FY+3sXgwv7n0hR5bqFLsdrgLVGElr2QZDUWvAn8jz4tPPvNdxH0A\n",
        "AAHGQZ9zRREsM/8AMQw1QNN8yG+EAG1HBxNIWnTAflUzwb+o4biCkiswRv53YUjtZMSzpdodjYTH\n",
        "uykrC41pj+7jhM2Mb3vn4G9ccjGM8jO8LrpubxEAvvfUDHIUFHUHtikFm75+N8EC+/Yk+urS6v4j\n",
        "OmnVIV6GtXKBS+RF5di5WDTjn6KS6pdFVj6Xw3K9NHp79pUP/glbEPpT8eVrVdO8CG4C2GNtVSP7\n",
        "XCzs9gA+nFb0qSTgPqUGst+YH7EC03LSaQXqTq0z0YX/Imh5AV+knq4xxXvUuXqdkpApCtqzAeRr\n",
        "xS4/Nwl2qJjzHrQw1B0xH1SCK+rgcbukj4R9xtXG1ASuWY3svSK71q6wJ1kcuS2PVZ9q2IMK2xPj\n",
        "HEVQV15jOWsWPeJ9hvRgdkXSLQOFOcwa15aDfv30RSIu+Pb7duovFpcEFay+hTYeBsFRWp5LG50e\n",
        "FtdCYM1rp/9Pxd1VffiA4wHAD1b5ML4W2VWIs43SHXjQxCK8dYvcg2p17FCSxKxx3Qi7jwPaAJpC\n",
        "pVIzDB6Mq6e44L4/KMk27mW0ocyo4+LrbawmMaIXsmCiheeI30Wp9GLVSrn3GLqP7uXoyRDH0VlD\n",
        "4AAAAXkBn5J0Qr8AWJK+mxJnL9AnP2rAB/PKjNubnp0u+nnEK+TMegD9X2mZcI8K2J/WPB3s+70A\n",
        "vCu91fcyOC0XeyzFyXgcf52zw5pKv8cKkVIXunDn8V/vJi+6IQ91ZfDDh7mkmCtYhzfR8rfqY9k2\n",
        "m/abfVBHYnucYm88QumzFlh8dZ6domXZTc9758iXC0GtLSFYnuW1E9FM7IdJI0Mw09/n2s5s0alY\n",
        "QMvzE+bR98i34gJcxBIJbd9EHbN8DN6z7i7OtHhM5ODFcLI8prya2siamvqpjOo3disT+zZLud+3\n",
        "VYU438e2QOeBfd40owpE49hwDU+zUpvG50aEPF3heZMSRpNynGRkncnklvoDWIlowyPLLwkixWtI\n",
        "ffpto/qNB+AEIKOPqsRiCgugaIcfr7zR1OZqdK4C1Ynyu4NxybH1wZ1Zziy12gsSMy1ZGY8NGlVa\n",
        "3gelZgsSRfQ1W6f1gCJB5BbLsIyNRkqQPyoYyCQcUtPdjFRlprk0IAAAAZ0Bn5RqQr8AWbifrYgB\n",
        "NXJHsTVaxbwVdo6L/vsXNiKnOZwg4qj1pIDia2CQH3tW2wDffRPHfgmCn73Kotji7obsUpEt1UHH\n",
        "U+DLsRhNVeXAJtsrpcg+7QzHWyQE0bdCWxvH/YTBQTS55KGwkFp3GZKhfOdy+CV4Os53BoXbcl/U\n",
        "u46zV6fTRj5EPQGDQv+pnsovjIdT0XbaUE+sItrOgAqe5tYzyfqAKLC+GOVDzopwA5WWsqXZVBY6\n",
        "sX2zB0CgcaxzLTndIAV+OPbskVBEridsEmO/qxgoGI9g6jIAKsPEYNC2oUTTQ/fVvEN2uNKK4tII\n",
        "OFGBis+rsbpzt9GH6bEt+7o2wrmAXRMw8tVqGMXWbeVZrwV0B730NkLW7HzUT8KRm58dH45ME1Wv\n",
        "d+aHm27+SiGbGGXeFk+ffTaAK43GkPdJcfKHYJh+7y62CiZbDOtvXnAz8+MVdS/69xKOrlb1QiOE\n",
        "IU3H+s7FiJSNzAhnR3qrvyf8Urt0OKCurZLAWq4CkAqNY4KSE2Vjk+fNGdj3J9JDtwShlPYMmk8U\n",
        "vwAAAs1Bm5lJqEFsmUwId//+qZYAN5dMqAKDdAL3yHlaoGD68hz3Rf5STc5vL4nGsKd3K7pEOxgC\n",
        "+HafvmDbREJupr+jzvlMtPdRfI//JSbMh0Pag0YHF8zoXb4+TfG1b12kEV5fkeAZEZ+BZPD548aC\n",
        "pZjOrWSP0iO7ISd+qrgr90IM37FIc6zSS/dEfBFDZdZw9wNMm+S+zFj9lvWL1rVBwQ7uajG4wHsV\n",
        "Hc+xmXaLRuSFWCeWGlehRyYMQSAk8Go+acuyhC8zo+3Ydxb+DYkkp2WnuXhg+BefpebUs+49SALh\n",
        "yQ/cNuKsrEPQYwPJUnJQZgJqdU0SrEp+VjY3MhUP4i9vU2O2S8AjNJAkxiQubIZQepftl6sIuI3O\n",
        "IT+OdkJc615/5aZlGPBq3jQzK6g0URI/KFKIOzOzPv+zpYWKJUCQw6aR0lIUiZI6q5FhhFt2Mxe/\n",
        "Y/w8eQ3S+lXU+u1lmJkj6jnrA0MSNMTmjNQP83++63Fe+j+LLn2hNCXWE4FnetqKF3YLd2NQTFv2\n",
        "5BGkVMAAqSalkhQ6AkDPNGgVBol7Z2nXen01SyYrdCglujmMHRQRNiNlxfjpICudwf1GbrZiEcK1\n",
        "x8kDilZGIM+FJa6Z5bPjT8xQsbSOURXx7yEt252zJ5ynjr0kk5ctRaM3PUOBZo6SYMPbr/b9Mm/Z\n",
        "P6hiSdqcKfECuITSdY31g8UwBkObwzGzcRZ+q7EMwRIY6TLsmE2Llzyz78UVq2A55jf0gHNwrIpZ\n",
        "dgJDliglQyWAZxM1pnN0F2YK1Qvnb1zDsDtZ2dJc7MnmYAt1c5vP9QdnJxkRWhlpgrKRHrBceXrn\n",
        "qMASRNBpwdk2Fg22Vm9cRqa6ZqM6do3C+WpTzdtmAAQH2oWWwn1QQqmsWHKOTBTch8gjckMJjPz1\n",
        "0nrj4DyS4c0Y+T6O9X9Klsnk9hwCb5vAzzaLhUtfDo060n5zONAAAAEpQZ+3RRUsM/8AMPEFw2kq\n",
        "Wu4V6orsTkiK9hMkRwAO0Pt+/1h+bvdXrJCWdUJY56DknqN9IdK+nsRAVa1TQk6vKLpULVJjhfL8\n",
        "5k3QpdwgOPu85ruoJb8K7oRGC9kptvVY/J66kso7xbXcgpru1Th0u98zkgBIaKKoupKxW421fE9l\n",
        "ymEK0zOjpFDYx0dIuxDvEJwc6VudqOkNBRCZ2Z8wguo2XWVsFcXeyeOcCkgwKjKuXk7NdbARpS8r\n",
        "4P9YKZiviONRnSaJ7rvhfmYZixWxWIEBy62uFezGs2/bY/8/l8XzzGyK/1KsScYsM+a/jDxelYmA\n",
        "UOZuURmY32aP9ghavCgRTP+8oDQVIvQuxhzSicwgmxXDqgPMSK8S00QtlTA/cEnzdStvpHXBAAAB\n",
        "IwGf1nRCvwBaz2vHtmgS+Cl9PXuYf9QAA7IZgepgI2B4nRBEHvgei5WdA1D5LWBDgGE61W/jfuVx\n",
        "n2VIL/JP8styAd2OzS1sT9AXRBnbCMCrShmcWzW7gCfMFYXpL9SubfWN+AweMxOldmF4j1mUSk05\n",
        "fZsSq1stHYg39MEOo0J49ZA7vPy8tK5pwfPws5Y26yUKhiR2nMzAUmAN/pJduKRMPIuL04wsX8cw\n",
        "Yj+GltUB0j0c7jEVleqRH853+48DLzUWbcsmHZeSIDD4WCizhHwACm6t5oIA8TeLOr0wi9JJM3/V\n",
        "GaVAUBg5AV7cDejCZzfeXfCaWLjIoEgv93VLhVoT8oXagGXNjgMsIBETUEAV1lBuXf/XoD2xF/gU\n",
        "SJWYY7NvHwAAAIcBn9hqQr8AWulroxj179y9MAG0fBAc9PrrVtjy34PdQ2u5kMbPO9B9FRjgU9fa\n",
        "ZueXyyfdBUorkR0tpQqZ0Fumb9/ztNoygQ/W9cH5KDddDs8cLH+q6Ic52N8QUHAGQ7Cg+qiVx+v5\n",
        "yxeU480kY8DIQX6Rn/WCMZ0DAsWkZwL1x1dSSyGiD8AAAADwQZvaSahBbJlMCHf//qmWADeoZraz\n",
        "A5+ujkPeXXFGlAAMQ4+pBs2idedGFqrblFhdhjmB2rNHlmSFiwQILGXWXHvrQqTCkXfvyBhWp079\n",
        "24h7671F9/r8NFSb+h/ksjeA0vBelYupZzyMlNIR8GMIuRdpb8NHU1zJkgCNkgQ6f0yURwLwBDAK\n",
        "4/DO5rQxxlZtXUuVBKC2GN/ICT3JelG+j0MiqYNZXCpRgQT05WVvMfTz0PI8s01D29t0S3Z9BQDw\n",
        "2FKJPziTKfK/X48HKXbcx059KfZmzesXZsWZoKlWfk77mWRd4smrPqCT/kFhLGdDAAABEUGb+0nh\n",
        "ClJlMCH//qmWADZRsTAUp6t8V2ADuk0Yho5VA8FDveYmaI1gWTPYQ10JQ9jPqhcAwufMyPKNKujf\n",
        "ggpU4b/2gr2BUxP8RES+t3uP92Z3wBbMycDVipmclWn+PoJ8cLf/fubnXPwlQnK/t6+ms2qnEum+\n",
        "5zJ9pm3ihws2463sipVmJQ1O+rmA9BuV1IebCK1yQlZhG7UoCcyiadyGfpNWqw6y/GDhDdFSk5Xk\n",
        "H3GICR6RcpHbXXqTaqlvh+tBuCDl1/nPFUpCBHXHV4JhQFU1lOHmC/yRVf0iURtXNva8+Q9u+324\n",
        "/vL/N/lz8dliMyyjbEuxl5gSTiIRbAdkToK6SQk14kSf8KE852J0IAAAAfFBmh9J4Q6JlMCH//6p\n",
        "lgA2UX14lACw8/6eZLBIsL+3vYK6lKRdS0CUzuDsOeP+xw6oTU8jiBwdNpcJLjsu87/lJGNYp/Uj\n",
        "Sp85Bq019L1HLHs4LbYjHQ7lf/J5zibSMzMxuPEzBYDjmdwuYYh+1JR8ylyjtOzk0stcgsUcA9ex\n",
        "XxmKc4k53FB1WswHcoJd0rc5L0XDetn9SSrfQ9v7BnGd0e2A96osCBgQy6ozalBruayxPGqRj7Eg\n",
        "0KLn+UjjAGWQ7vi+Vm9EwkdLS3k5JGZUXa+mEq9049iPP/K1TLSYOPUI8bwCn1XsQ1HOgiaq42D0\n",
        "6bruS2Mrlx9f39rYbdaWzvx6OnMJPaR4qQUj7tQ6mF6ZCEbEUroT1IVDOTcgIacmWkCPIZYKmHeL\n",
        "o08WIyp5PjknRhiZQSa7d9BZltl5i0z0BFw7wStHJlNu0nzHs2t1QgxtKjpLPdjjdI92RRW2/JmJ\n",
        "AGXR06n7zvdlTxc74eZwjv/TMEXeNYb0HcnH5tE88dVHobUocV7ClHwgAxe1gwICdZT/Zy0zp6Qu\n",
        "SNOtdJRbEbfPIJVDHEbxSR3eo/5IdF6n9Q/cHHwMA6r3kCwC4YRcUM5sUMiVk9AFzeEM7cjsUOo8\n",
        "Al3NPjMqyhVv9RF5/Q1zKtjBCfiM4yK0ekbzoQAAAUBBnj1FETwz/wAxCZAiAAAyEvjVfW9lfwmU\n",
        "NkBx7/NWIJIc60riBchXJnKDTDTy0AL0e1SZGOBc1djtL2gwT1y8eiZIdvhZaLfNRWVdFM1eJGLN\n",
        "amXm+aNntH56TIC2CfnItJ85jjco+Drx73ekTkthyefgAduCScyfKji/S51Sxe4VTumxiR1cyIHt\n",
        "+f3XhXU5uc/5iFd5yy7Prp2RNoYIFVl5AZZZMOEgesJPvl61eFVKvbak/gTZdpdP/xQqClNQ7NZt\n",
        "qNhRbG8RFl/6kaAK8Rz7Rpm9v8su2bgBR+WJ/+J4/RwYxHTqY4w1h1D9UamYOTjbM4+rZ2QM1IHR\n",
        "bFDvV8UnbNCOy7+ACQQdHyhw7rEnpuXyJSbSroXlo0lLrqT6r2Gfez9e5r3aVdBurmcvPiXudo1O\n",
        "AMf2zD36oYsb0QAAAR4Bnlx0Qr8AWvIU5MLobOvLntLBXS4iEAH6nR/v0cZ1/s0pQZyCy4aXkz6k\n",
        "+rKw3BV5JGtP51R08xO0Slxi/nwIpvG8AXyfk8I3bSHfVj25LR88x1iYJwmMfjqnUR+mz+5Nh9j0\n",
        "mOTyU0CJccRGpIImkAGRTXy7oPw/O7aDryG5XdWkA8h7sa3P/pthH++a1KyVWnzay8BN9JpMclGc\n",
        "JO9Uh738tulyGWVHdGFaSsHnPuPIU5IkUrDpcPQUMrqykPQ63JpV5GtIx/VAsD+IIKW7qgXszUrI\n",
        "PogYSjdjZ0h1QahjgQLSwvM+1HYKSbqQIlc+7/HnqLB9G0IOAaX7+H/3JHje2Y12vFHFLjwNXCPD\n",
        "aKSVBzMQopBA1+vn7EXAAAAA6AGeXmpCvwBa2iHLPLIwRrioQAhMwJqhptf9YBcVAmjdxh/EtfWF\n",
        "f0WS+TF7hO6o5vV3hbPuaOZF2my+uT9vKqGGgo8IguypWkkYkZc4DK76ENbLbf7J+RS7oi5feAsc\n",
        "oy7Dv7OqvKcCd198LHewZ41z0YoHCBltaNCscTM+oMOBLr6KuDhLWMSO8q/vQjXflw+3Ya6Pukwz\n",
        "+fY4b01DA6pJUmEQxrX5Cr50N8Rg2qvkLM1hmtqkLoXUUn7o06XixjO56ntf6DX7spi/VAliw9WI\n",
        "WAFcxEWCnAs0KSNOAdRiLrPNNqZ2YtQAAAKEQZpDSahBaJlMCH///qmWADZRsT6z14rwXMAJGtOa\n",
        "9lBdjRrwlxdTEbrlF1SzrSoi6MFXPjn5EPZmNyzjSPraQJZHKYNnne4Lao93eoaicj+BhHK7Wj9p\n",
        "s+tqqnLA+bGw3rMlmTZ3BURCpx2iUpgJ0F8bKNaF/zY3AXkD8237mTO6P614bHmcqrl0Fh8MD7Bn\n",
        "whw79qeWs/S5RzvIGDbsvCVutyUPNWRFRBCh1DhtcdytcnuwmcIStUd96T5VKo5l19FfSSkH4iFK\n",
        "dsuevE0/XEhNuQ24JmX/7r9ovbBPNzpDDJMq1A6aANYbc7aEhC2sP1xxgusKZh/jEJDSJFJFo3zW\n",
        "8OnjNx1LSdqVXHEEfbStP2lJMjt/1X2Py6IKsJTUjxLa8GPqlS3K3acyGLd/j/ksuU1634gCIAtp\n",
        "BltvaDctRSlsj7UpiLTu2I6po2pUdz8+JeppLo/GHQzm+eIM6DWXmGYXzz6H0QaQ4ZvpHWCVgYut\n",
        "RZ7j1POplowmo1bJNikn5r2b2D8whI2+fEYld6iwYQl3wl4X2erH20eFgg32L+kBqSFBoe71S9kf\n",
        "NoAhY4ogrsye0L1KIDudm/SYyTXJF9fNa9/8O/81xP/nLDSUXgZDiiDwt3xiV/IvYJCLNE5mIxgJ\n",
        "DWMV658Djz+cprHoUKT+UbTfLUMaMZHFA5HqGaqmR7Y2qwFk+fEznTJhIzvdzPLfIZr5v58xTlTL\n",
        "9k7L4ag83QrRhz2ItSZzkkpx7taUSy28j9jCRgFPguX9MJd0/6BqUfALaeOTCm2teC3ADZGWFN2t\n",
        "Mc/bnSu0CSxhtaIqeLGBQYeTolkX5mZRaLr7p3EdofAfjD2Een6WS4vgQ68AAAF/QZ5hRREsM/8A\n",
        "L8X32N0nLukAHLoVvT3CN2AKV1eSY7IoVeeh+chQjQfNhFz6d1Og3xKqqpXGRfUEh63hzSQ2FIRC\n",
        "PK1bNqWxrYBKHppbOIXBu+BtIzcmKBs6VAH2oQzl8751HQa4Vcy2DZcibb6zH0hz55GW4hG3DGhK\n",
        "qs4Q9UDSiLKx4cUr8F4X7mD6/ipCFIHQK/xwIky3uFdNP5SS49AbwQFzFDE+zd7dX8OKWppHxxFv\n",
        "E2kZG/Zfd7dvMn5AIV+3rQpBU/En0Gg4up/gOGKsJazdA4Mg1E3kdUACbFMaqm6V0kY1VFWfn4aR\n",
        "6M9CjcKa2Zf2ZlI46ShjbGwijJyo68rNKSf7tmhQPX+OizB7aurnpNctC1SKtvFjxaoOfQwms1Qs\n",
        "cGQtgL7XIDsvB24301wej8DwLkVRf3rl2uTdMOMdO061gZldGA+8yI90oZDxIkOZu7HUorfoZZWI\n",
        "+QHmixV4C3VRTyVtb8PNrQFum82goeZ+0pvzxaiSF8AAAAE7AZ6AdEK/AFixgbnlkWAEJrxOAtdl\n",
        "saE+uLLQPruiXeK71UqFQJh11TsMJ4NhvvC9XMlSy1S0u5FSSe6b7VDjxS2ocKG0pMV0fgykOF4W\n",
        "OM6j1lFJAK/SCjk9+OmL27Z79+nkpgdvi/SdQonUWAJQ1DGNS5ARHyl2aH7TCcGvvmG6n3sPxpp/\n",
        "ts6c1VRbcnW9tlP7pthVgQNKfI6ue7hgL7RNzU4RKCkVQ3WbN2gce2BgBUchONkWq2nIg5cXKUKG\n",
        "OBF4RFItL21IMrT3JbeoYYY5qQ1NBLwaXW1vABrXc84z9xsaB2GLRWhOo+IBbq9uc3CiqEMmAJuP\n",
        "g6SfXhUdLcCsms8wzC7ZrUATzmKiIbsN63V3BmI+ROlEagFgo5vLg/Ibe+YVdfYdSQ6+P9+ba84K\n",
        "ojJeV5uF+QrTAAAAngGegmpCvwBYmgYud7wAe9PiQZzV5tPHKawNVfxldeSZIBHmaIKrQiWsqkOS\n",
        "WDsFNpCCNvMlvvju4alIKnP6rBqzC03QMxS+SYEH3Tdu1O1UtgfDFFrmc27FCIpMNa9yktud31hA\n",
        "sUBsqvP1+/b7tckVDJ2BYLqz4qObdT61/dRrgjZBaMHU45P0ARUe3DCjUnvIK0C9b4r10k4Ec9Wm\n",
        "AAABkkGah0moQWyZTAh3//6plgA2UM18wBf4Vo+XfVs2Fpi+C6LE1VD/xhtBJBFUvhb1L8Q9p109\n",
        "djEyGrVbh0uxGxjJ5PNANlOsp3snpUNGa83eyK1FhKQZVcoUcf4xN3Sinhw4Kw0yXuDD02e/MUs8\n",
        "aq6unyMFbj2MmPzLZuu+jjBplcV3CuRPoZTbiV6z1ortlG2ZF/uLhlEbV/Ddfem1k8AessFZMVJe\n",
        "Hp7MiUSXWok+IJpjz7PQb1W8693LyQG8Qvo3kAGtT3YT2HZYTU2tyH5ZNPg6tdFhJgfHRhHaC+nj\n",
        "HAy2mkmT7eGA8gPkF8C3jzUw9w6mxfDUDUDne82WgiCeuVDVGZdVQHT9g6EL1Mt2AMUjJZLhLPeU\n",
        "JdiqPyzDbBlxQ/G8tJnRRAj1Rmi+zshwvf1ybxLtnzJytiAPL2CBZY5qkESDfZi95aKpvkAC1mba\n",
        "5zl6x8qT9fa9hZgOXchGCrl0zFI38sff7zEOC5u/tKWkY09L+rDpYx3HO3MArHAWJx+Zuo/PyBIo\n",
        "bIXBmKg+cQAAAOpBnqVFFSwz/wAvv4XACVk3Qa4GMybK3gGCaiqx3AXnZCeIDk6npc8QFy7G8805\n",
        "v7N/JxBxtYh32/pGwc+wjPDtPl6q8WCbV64S/n3lxzkXcAJbcJKb6j7MsBDm8tTnc8mYcwMzyLGv\n",
        "JeyGX1pU2iD+XYKgCQXKaGGnFBs7ml/CFG9xm5DnE5Pgu/s3VPwt+6f3kVjclVZ7vBb9Pet5uAFl\n",
        "Qjz1uLsXb0pVmQqqqovnb3lIQYdVaYYWZyEmSAp2Y5crLxLPUx7DLJ82673lEgyxWwY3lZ3K4aN4\n",
        "5CcyKa5N5AIqBJAT9t82ZqUAAADPAZ7EdEK/AFiHxxDFMYSzHn+WEAJg6u2L5Br4geAXQCt7ao0r\n",
        "FlfBVSRt5HWwxH+9p9mAVm9x3viqWBL6CzJTPSWhmTtwoa2HMS5Mpd8omagxY8M/daIUGh2jwj7n\n",
        "4ciCYeAk6F8FfmY/Txk2PIm0EFk/nK5CdP/gSixmAY1uSKsf64O4o5msI4EmjfjkjyVDQlouxsSZ\n",
        "HCsvf+kiJ2yhPPzfGT6RhMS1XMe5Ai3VLpOMZ42Wp6JrwGosMfcw5I0OswDttaZGIPk06/oLfWzx\n",
        "AAABXQGexmpCvwBYloqPWraKWuJc0AHt/+fG3YVA2eW0LVXhXpxg9p55QelvTFDtBRDs3yFO7r6P\n",
        "GLIL7HSY6KUCv3Azv7EHPKEL70Yqqryc97qIuSf9PENrJwU914b2I/+Xt+98I8S/3GxURzuS8OJL\n",
        "mCyCFdtjEhCG5QdRXhgFyRsfiKGrWyQM10fP/Lbqi//UJlUEG5rsHDktTF26WtANzW1iN7xDf3yz\n",
        "Gzsoh6nGcyQsgiRW4dYElLfqqzOQbM5oIQe2slgwgmMe8N/BKqFz2sFmfd/8kAj5Ait2aH3vyZ06\n",
        "oX1ANUAX5GvIJPh27a3W9K3gXeGz2bCZdjTEwGvB9rU5GFcXtkmnfOb4xDflYuDaLl00rk9d/Co1\n",
        "dHb3vfjoGyaGdS1QjvDZMWBeTdT9LfdhOr4ytXF3rrDfpBzEzOxUwuv+89QqLWGcDSLAtopKyjlR\n",
        "lAPL/KZTRYqygkkAAAJdQZrLSahBbJlMCHf//qmWADaCu8dQAuw1KD0Ri3ctPi+LiYMl84lzqybK\n",
        "r0xDgC0owCosv5fNUPS5uKtzKIfobZWTlj3O3xh8iZc/0wZp66mw8XOZKihNmEmzyHw2mT1Vewo1\n",
        "p/hrxa879KSfoG9q0NzVM1/bX0854NAee+wrwIrjQ/feG7N0r4ekCdg3tbk65fIaaqZGav1WyaRc\n",
        "q6/skhR2mvsUP/RZFDCpcg6UOGw53V+n1gQ5MzieHreI5gFBdGRvS8reL3jwqiTkpehUK40cyLc9\n",
        "5kuWOP6T10pOTAY+h3lJcOYCrn75djpM3fsQ2DKzAyoPKiiHnZ5P2+aMqicMDsHfHt7WQPAqPp1o\n",
        "7AwDSzzXZMWds/ACy1fjnGd08Ic9SIrTt0dXF7HMM7OZhil7wnYscmn30oXs/uEg4FVcNmSuLFwF\n",
        "R3jIMywNOOmMRbOKK+rCEWqpPQuHrOatVs8mH0jJGSBNNDeMnj8mzY/vk2PhmjYLEgo/2cyRVy8n\n",
        "21XRbolw1IASmnJp/FP5DETjXoVRkbYs3rXaUpez745Fcg2ISnWphIoapRh9+uMepY8w3V5ONur/\n",
        "Zc80wcNKaXaAQMvEOaKvnHwsceWJPoHMUuxAvOm1iswtiGOfQJ2yz6SMkQPAB3AwhthFGT6dFdyc\n",
        "gVgu1AQI9JZ56ma0yeXlii6Y7TYkGcJlnzSs3zOTM/zuJn5rjbk6QGODz8UPGPU844VlDrhaE8Jt\n",
        "t+rAAYckIwffEYN6fXUTd/r1cDEA7vJ4+aNIyQXpBoPoBNejHYfXSVqJaOcCAKNRxoAAAAGPQZ7p\n",
        "RRUsM/8AMIUHfDaDdAAHaHqku7zALfFW2cwO6LI+Ue6jwXziaiZP2dM4XnVd10u9Xhn98wkLkgII\n",
        "wlMoclwtq8m9xOjKqEK5dLj143zyAtPucu1emrc5HWoGv28l3NwKC+R0c32iggZvdV5O2j1l25fD\n",
        "a9ebXwlblNcuGIgwgk9y7y3tMPySdU3zNQj5GHbio4Q3uBbSNTKV9OW0UZnShnxhY80fdUf2GCI7\n",
        "vmJevwiElq8Ol4c2iRFHqQTTkChq/h8L0de/0FnnrfpSfMs7397MMvBPDWgw6IcYriFzXvhtiNIF\n",
        "VPMJkQhC1pwR6KkVcuc9oghQtSmcNYib9C5fsVLRMfO9PsUlsVansY7sbX6AabNMK5HZYjp5ErS/\n",
        "7V5nlZwNdh+jhSREXo17kCOLTLbriVsgyBAY7y6MpADoU4wAd1KJA+no/vvuT77wv3LBNQ8HN3hx\n",
        "irXT9lM2NnwUqg7/2kaMb+uJ2Fe8/k+uT7dbCq2pGgo+FE+neH6hhye25BjyDV9kLaOsb/UPAAAA\n",
        "gwGfCHRCvwBa8gjeiACH5H8cTx+Md5BjxD/ifjc6l7ARVB0eOj9exMDoyiTYtACtuV2bcZ6hzRB6\n",
        "kzFbv9lwR5UnJw6hCyA4dJtl5I4G3luNBwSa2uO+dsrn3mLGJuC+HFErm1G8ZxvCYgxHdvhCbBe9\n",
        "3obzqEtb92A0DznQ+0rO9WmBAAAA4gGfCmpCvwBa2icltyAraR/tiABfTA6kCSsflWiUYMsRsXtl\n",
        "wvjLiJTg6anptk7hiRULLNM404MnbJR7zO8m1yvmloRzERl36sAJ9t01Houc5yAtcE4RQC1l1j4C\n",
        "g0FSBTFF7fJjTX/OqSvgBIbolFntzBbyyFYaUI+9rugBccuq8zZlNyjnfanBDjOLHsNirtGw3/nY\n",
        "bE7yn4wNDnobn7Ev1LoLtQ0WK0KPZ45PHhfiiRwBw9rIMFJI9ki1fYiHlSWhnzpHabRatkJPxlZ5\n",
        "DrI6OBby7TfxNTtZGNK9hIqbV4AAAAE7QZsMSahBbJlMCHf//qmWADZShaAHSudndY8VIgDec5fz\n",
        "ScjDDpC1vc8N49EZQrFpLHqrp7cHce/eNcLiRPNE2ZjEd3+6OWI2woTrz7g5rBeqk8UJ6/9/P9ZQ\n",
        "l79DFR0wYIlQ3h+HQEL9WMxm9MP/F0RRBholnv5zkljFTQcoqpvHxHSdYzhYq7CUMpYu8dqT2svu\n",
        "kwVrzi9nx0IFDcaWotw5n+qUXLnfC5ZO1OGiR/qL0tMMVI4N1T1b5ovKMTz0ajlsG6DKVEunYvLQ\n",
        "zALxx0dm81rvcp0VK4U8KWo1PyY94Se6Fbx8Bsawi4cPwD6kJC29UCApzFeGkO4AsgmQ/m3F3yNt\n",
        "d1vtYh4PV+BFfjxLRAej6oYWVsmUzOQN3sTnJmiQ7OZ8nmhtZCVwq55ea9bcsFL7RRtWqdCAAAAB\n",
        "l0GbMEnhClJlMCHf/qmWABKF+7q0hHKs/HpABQZ3VaS5UKP5b+fwvUCfdj7V8XXhzrNXMWu/gZNz\n",
        "7jozkGzX3rf8pZ4vVsdvNtTIac5f5APZ9gSHYDnDMUXMESinPbkoYn1Loipeml6m1WQC7rZLYnik\n",
        "rWf8S4dQgzq/FMy01Q+vel7zP3Oph6qBkAerkli3iLbA7q63/UjHhikMY7Cd5HNotzjM6Yo+EEBf\n",
        "kJFFNx+MZmBpWdcIh5QEBNMayPl/6QFLoOuC4hJctf/rpDDyi1dXqLeV4bxnGTXdU7wzk6plqsnD\n",
        "tc84YcVLgEN0xAkKAsoTqbsm0AWbskdUe0Z7s2J2d7lbOKFqeVh9UteJYyVmyEahb2pqLG3IB+3Q\n",
        "96vcnfQS+PhXt2ENZyc9J2Wya9Cl6OmvLabB/pBPY6+g2KQWbHVAfzyS1Hn4rEPXXr3sQbG2g9Hj\n",
        "/6EONeAwzGyVWzsPXwqjE8arDb5N9hNY3Hhll2bseJrqIr8p2hq/kCUSZJvCHYYlzinprJYN7CmA\n",
        "Go7lEJbIonGhAAAAaUGfTkU0TDP/AA/W2IIQAO/vP+bB+b8tehqJ6TIIsGo3PVEONB7k/VTXAe0G\n",
        "LMX9abjnyMf/377BQKa8pPQ4WxYvq6XBNRtTu0gAERcakKQwCigyx6QgGVsc/BgNJ55HYC/68XlJ\n",
        "NTI7oQAAAFQBn210Qr8AHa0HCY2ADO4gvBTNd9mjsfqCn3EZq8ORc5X9CH4/iF515Pf7bOVtb+tG\n",
        "uT/XiqyeGQQpuFbKk/KzNiNEzfRqnVSojR8rIvGGM7qMiLkAAAChAZ9vakK/AB21ZHDvTAB3/MNW\n",
        "i6NV7F90gEj/o5DHJoDUBAa4LyZCl9Yme1Qdvk4aJZbuCHoq3vbFCuooe/9NI24r/0h8uLgfe3ae\n",
        "q/592QY06GYODFBqIQLU1Ca53qYNln9k48s5G5jfVOgBjLEvzCXt/05r/b7PGlFGr4nLaSDupyR5\n",
        "n0guOcDxNdV3jtBRbAbJBK41cjt55ZF0ApJVkvAAAAIpQZt0SahBaJlMCG///qeEAGveYb4BEV6O\n",
        "CYb51J/rWDVXN/WofpPkd0LPxXwnZP/sm9N0Thy83KOfsw1Q2wIf9+jDVm4xMAYndlvGmxMKXBEp\n",
        "99W4+XJ71Lf+T693rN4SBHTD7fLH7nASkA4bCyalFTzAnXbdOr3zXLh0Sf4gXa93YtG+8CWhrE6g\n",
        "M6SVHfVXNuOp6GTXw2Q2f8MMFq6QGqA+FV3sPI1x3wFjcq2ueif/1ang6QK/fEsiv40dF4vDjB9S\n",
        "WurASqHUmoAbJeUemOVZGm8sFN1DHAhI55Hjm4Lu7/Ag8UwN6CuhBt4MOazdF0zNo/z2Ru4xTCkp\n",
        "VHw4qLipAI9GLolZm3blhliRYjCTOEI0EgmufY6dBmPDFL+m/2dPMjN8ijQmv6jLSpjlg/4t1Aif\n",
        "nBBYW4rUGfrnXlErRhjpOiMuDicHizg/n8q00NiWIaBgdTuSXT/pB3FudmJCial0XE89Y/0pfYEm\n",
        "+J4wj99WWTZJpSYGiyRFOu+rE4epSbB2DgahjzVd7r4aLGWzLcPAMdGZ7O/FyP6Nl11BVyOl3Mox\n",
        "wLLgDsvR/s4qlKOMyaQ9sKP2hY5MEZ5pO4HWMjZPL8VOhApWUU+a67BNUCDymzX9Q5HK5vl7k3bp\n",
        "voGsBhPgtAbwDFgaOaRVEjrk3CalFl5cuNvHaSZh5LvK7prZJIcCAXrbwSobstB4Baw7ibaOJozo\n",
        "6PGZgxZ0wInBdpcvNDMZwAAAALRBn5JFESwz/wAvxrOKWgAVGctjcDwzbvcN6+Ak03kn8MyJIoTa\n",
        "mk1H+vEVcpSvIssQBXeUqiF3IR6HI+fqr4ri4nCNGViCBiPxlMbfV8H9fXBlVJCicyyBEdgBPka8\n",
        "McNCOMEoTPHbnohMhdm0MXB1eaf9lq3q1rIvwKZ1i6nfVYhcuxiMCyTt6jsRWitiCDAeuEuzB3Nd\n",
        "S3p5DAgikpAudHMHIFLQizkNhGIRQoWogREg9IEAAAFEAZ+xdEK/AFn8ZvBRzJgA2gWv6p1sl5W0\n",
        "KP+OGWm44d+koU3CZulzTjkMifceqiLWsX0du1kkUOeiDg/TOCPICN3wUphTET6Hw7e92qgor2fQ\n",
        "CL3SYN5FwP2DGhUt8ofvNTdSlVh0wPtzBO6tMCxoag6C4Id0K6zBDdq8WMG/t9vGM1TBBsz+FhFH\n",
        "meSE0Oo0rXH5VRHb0jqTy2m5BXJmOT+yh7/8v+OpSTbti/dAK/DBfO6/1MDnxzwQBe0nbnC60Wlb\n",
        "QzY5b+I/hPh+Yj2aHsZA1jDtP+qZsF9pdU5gjFN4wtBQ7PRfUaYdAndvq3K4dAmvBQSz1naDSFqe\n",
        "Xbx+qgpHD9OO52Shf3ikQBr2OgZzjcSlb6ee+LlCREvm5/7GT+FJMcuPMFGlbd0f5LNkOTr4UVyP\n",
        "PpedE2ThZFhhqA+mbg/AAAABOAGfs2pCvwBYmiY8V+4OrasAH886OuOn967I6jFQiVLhlM2IAl8U\n",
        "p4GOqrX158Unxs3mceV6nS0DhsUF5PusiTnjCbKzJ3374RIft3yXkTtzsuCFBX6Pfn9CNVI1IJKr\n",
        "8v+71JGWETS5rTMy22AtatcHEXa+NK/jCeTE+p5crGPrxK0CoMkTli5No/97T3jYj4Kpk62EzJwN\n",
        "LZcLBaMvziyMgEpTUDfp3kNK3Y+PKU908KfaYsOVPZSZ+wgF8Yq4NaXgDaPM1d4pn9D7rKCA/Lzg\n",
        "/kUXsgwElcptaaFr8ItIRfXEXGiDANWdVa7Q4kqtUebNL7399qZM5aFC5WcUuabRBmeFOUZHCISQ\n",
        "YBcmpikmbpPPbruI6UnjblayHFdqoJakzOtIvilS8DqgtYvRHhhbwp0/Jy/YPwAAAVxBm7VJqEFs\n",
        "mUwId//+qZYAEQIDmAAWnbecWSAxcfj6VBnfJLQs2x4x/oNA4my5PFT8Xe4boQ+I4Fxj1RHLX4Mh\n",
        "RFQAqvb+37TwSyG/vlQlQwjMwMZeHlFKHGrMrGIpb1v0j77PCIwA676Wx8vKvby74iNSV3dzoAEy\n",
        "BC/yxPxDmw+4fff7moDHXoQRGgH54cmZjSOwGmHMOpwtqQR3+zkWmzVhi6x5S/kxgGVUh4IerriX\n",
        "ohVIuSc7RTWAirYLxuoC8ueew9N2beAhq9N+AjTDZMvdtY6xBX4Nm+sica9iJcKFZtDpLGoFkKS1\n",
        "+/wCKVYp69MIzX5SQAW6HonRKT7Kn366pzDHkVTwyMQU+9mOKXNZXFMsPw4uod4SDXaeZpovo0G2\n",
        "VRFlDBxQuRWkdWprvVq3CCWIqHqwIkyZkfDMTx2r51XNF0SHbF82lp++9xQfUnkV4MHlWzfCmSkA\n",
        "AAFhQZvWSeEKUmUwIf/+qZYANlipS/d+oAV+J4eZhfPu0pliPvV4yBakEvEAPy8Pz1HycbrTHWXf\n",
        "lU+zx5wq6snRWCkFKlryeLG3v07OuPU2yuf5tkrddLV0KdAjMjya/gQE4ZtsDq/Ni5HEQ6MmW9Bv\n",
        "6zYJ0qmH/ix5Nxanm/VZ+CxfIyf1H9zixGJXn8G6cHtbTay0YnVJrIulQhxyCXu6eRkeljsh4DI+\n",
        "QuyC7STDSHLQX2QadboDlRr0hFBrbsgRtu9xI5lsxm7wmTahoKz3IJWZGrRKuYxFmn+Se2m+6IGp\n",
        "q2+tMdNxoUu8vTD+71ronk8DmzJ4QOkAyzkmHey+Pwb4whRU+LOQ4P/L3Axjjp9aRmX755Rx9bnu\n",
        "NgQQkiS7Ej5rXlkvKb2m1sDnv4w4winUtaj5BjxWQav/kPoZYboutmjqrEJM480TA4Qh+Bqxl6I8\n",
        "GmRcgO5AI3e/nnmW+LMAAAEiQZv6SeEOiZTAh3/+qZYANlaWaEABQaQVcLtPlLZuHwcphNllVA53\n",
        "q0G8e14xR+1o4Hrh0SRfiEyDFcowIW9yGb6hAdp+aOpkp1sT4ARK1hRnCZUW7rZ/KnJFqRYzkuuI\n",
        "4ULUKKDoZzZE9ueySBOERyjhsJltwcQd/Oz5OgGbjWra/H6A3tUp8APyMCu1BxKXP0QLhpghOSkL\n",
        "hG+Qo5QHCJ4LcrH/+bR5JAPkPNeq0m8CSv5bpqo6Xf1MB4t3xhMU+stv9mw+ghNOMM1k/z+jgcK5\n",
        "7AIVNF7+tmmpthuxwRRz7iMFUL8n8QXlTrJe2nKDXfSC0KK1t1Rot7sbmxFTyCPRCaDKs3g28bcd\n",
        "GtkE8dk1EZ1T0ymCfn3moxr5zEDYHTkAAABrQZ4YRRE8M/8AL8azVU0ykbJAB/ONiu1sYhfy8oW6\n",
        "Uy15Ar9vWJKPqH7V/4B1ee5w568Hx+iSU9syRYDjkUJ1l88AnsidrjGfi7p4P+qJQyXUHAHpNzCO\n",
        "c+blHGsSZ4fCC1U913uSg0P481EAAABcAZ43dEK/ABu0CwAQnWG9Zuv6kfpeN0oXC7Ie8dQyJLch\n",
        "6/5cQgj/Vhu0epKrQ72zP63ppi+dfNmn7XvY6ZXJW+lGAKj6VJk/n9aOYmst8wAkz5iHqRsPyp0S\n",
        "0UEAAACzAZ45akK/AFi5IgDRw3ECAEi3MDqsT6twQD+eO5MJpwD8QlksUyiLVplNcj6ggzR94tJK\n",
        "6Ckwt5WgJdSBYQWplIj4YZlpuv1nyk2Iez1L1P6WBiZn/eXu+Le63/enQwtawHpgtxM81i5PFibM\n",
        "SN39PuAD2Mkaei3XSYDIBuGd1M4mP+VaG0qNMhNVMCWCI6zrhkgo9/8yS4nZHMMbDjz7TpR17AW0\n",
        "l3WkqdfSC4jRkOeZUSUAAAHOQZo+SahBaJlMCHf//qmWABIeRiqwtTN79i8AESRcxbpj2Mvuab7U\n",
        "y7q1lkKEH94zz+pDjfoBs2DnouuG2POitCh4N4ioj5nSBo8fFqMqq6LBQ7AHSI9dMFhHDu+mMhar\n",
        "aQQsY0DPacvDj1jQlCisO5MCMY7nF0DcWqlfuyD52w9lXzDWJRn25Ob+/1iqPhyef/Us/ctrZqam\n",
        "ySSQMqh5PDeDFJ3/S6/EKradNdIMO4/NDlKtaAp1NwLL11ZYbg9rHC+4fVuvkpxmpL/PhrAb9BHc\n",
        "xCTYc2c9krBGLmsgCMgckXeRbbiOJlXqxE45orBrupiWCjqmYxjgz1z1da5kLsXPm5JFbWsb70hT\n",
        "WLFvfDcHAsUa7KyDc0lRtk+sGT2mYclGIsrVwGu7YKpe+UuCfKdfUXKfg1/7x1cmVv+RMbnHxwId\n",
        "mqtpLBqwk/48V4iFbiHgGZPCIHUMljqa4l4Mm+0yDD6DXExRfWlvLLK42DnNd5DOPR4GVoytVhfz\n",
        "S1C61Wz3Yr3cw9oRZ6++3eY+TXtgpBPaoYl6EpStz5sV7ypUwwe1kFqrI+EsRQdi8bReBeb9rJ0u\n",
        "2pNWYkYDJJMv0eKCYQubtzOhg51UFgBgAAAAmUGeXEURLDP/AC/ghwAZbSHbKtUKcwyEcARuNxGy\n",
        "1voMgda3m7mS6OneNw2ti8D8oXN1cBEOsFlMJ7sk3KUVBOlCNGu90/7nBXMvQJP0gDXMzBmUX93E\n",
        "9mPyJcEFrsliINQ+9xkIWCnXZ3m6EzCERnS+yFRrxps9OZ0fNrJ0oV/z/gbwtpyDSvGr8xp3t1k5\n",
        "2quEM6kOgfR5qQAAAWcBnnt0Qr8AWLKJD/vCUvhdACE5FkxKRDmBxVYW95pYKuZzMSt38g9644KS\n",
        "MawrhIbM/lsZLQ2ubXXdc3fpPtuLWXG3VGC7hHHluVMcoHTp5xKGou0qm3IXQId2ONO9w7smuQsb\n",
        "pZd1LRtF9/atknzS4lp+KdUwqURjLFXRvg2fJwBVXDWuxi86dxkJl602cuZ+ov6uTffSMON8Bqng\n",
        "0UGk7IdYzDtQAjdMD0igBjUb9O+QaI9YzqmGBAMo60H1fQi5IQ1xfVh602B6u/EXZknIK5Mybxng\n",
        "xVZSsxr9txq2L90AF3/VTB3Uc5QIbtJ+zxFIjCeSAztCZ5KwZqc1pFZNx1Ba5J1+2fTT2LtiJK8O\n",
        "ZEZHXUBF1EYiiYrMm3YFJJc8LS/XHfbmrRdcK54iKiCcEZrN8gr3PGSfqbZOVMNC24h17HmlQU/j\n",
        "1KnjPFPu1nuHpaz434BJaedd75HfJVveElL4OdU81QAAASABnn1qQr8AWfxm8F3teAD+eVGbc3PT\n",
        "pd9POIV8mY9AH6vtMy4R4VsLcyy3Blato/Wmc9oea6H1D7ALOFgEjZAf+PGjrWrqVjbw7aWMH3z4\n",
        "wvZvVE2z+FxSqEXlvdigRBE5KUN4SgmDgP8e0ROKoTmUyXjupvwK6puv+Xh7KfvnBWWlJIQpPjz8\n",
        "8omF/iczFh/lk+udKq31YI5FPvOliyY+1L7IsvZ9VPCX1abrm5TNFmQYPGQHyJnadnaxyyToxbDu\n",
        "Hs2A8OALPXOK6/30YJ5fgTBRxO48qFpmorC2eS8ehGdbK7Dz/bC0zdy3Z+zVUcBBli6EDrQvldpG\n",
        "0sWoFzm2dYqygFnHEa4Ar4EbBk+fhk8w8N0CKeU4GhQi7M8Q9oAAAAHaQZpiSahBbJlMCG///qeE\n",
        "AGvZcSAG4BlmXZbe/otZxxZFboft1r0dsveXfXhDCtOYtASJTQJqp/t45JActzl/Elr+nlczo/9x\n",
        "pXjNmLCRri7cdblWuAYV/oawKT3rKUXVPVuKMsA2jjAhoFWTeG8zFJ2TKPFC6dhxPXk7izzealH+\n",
        "VYswQOjxG6eWwAF1L+7S+EEiqgSjDZot+LScIEEkMhQKS2bybIMm4sgzA3coLUuC0RXZlV8vf0V0\n",
        "fBRWVe0yC/GDJUmyVQeNy379h+EFv8TCug24cbN3/j1Q9x9s6HCeHWjoBljgOFGryOSFLmguFcIa\n",
        "l9oh+CoisIY/Uy/WtgICoJfXhlnh947tOYNel3o9mT7J2FotNIUT4dl1EH7IVAU9Hw6uFxq1aeMP\n",
        "dpqd+6zxtH7B41Ji8kx5Vy6OejT6IWFXnEHzn6bIPhBw1QDW5SdlRdKq/w5VNj7Wj8F/DD5YqMpZ\n",
        "Uj6EEaty85wPZe9Ihl8yezqgPDvI0hdrGOhWenC6avs4alI5YSgLsdzFM8CcbkoAZcODXd2K8WF1\n",
        "uYVIgrJKfolekJrgcW9tsqmXZm3b8p1+EeleDyECXyzl0we5gOfc2BpVt5s+92KF6aF2RZwEj55C\n",
        "4CtMAAAAaEGegEUVLDP/AC/Gs1YQJfqZYAHEaIUS293iRoH36WjOOPxBEy0ZXu3sU+xQvsVYMNXT\n",
        "5p5IJiJKkDfk3X0dhRqo81RgkfKzT/5PN/KF25gA1HBkhaciOnu1Moox5sA15N7+hddnkkfBAAAA\n",
        "oQGev3RCvwAdtrboYYYANo9wKTVW/r2ueQ/WYmjslPzfv//ZPOMwMj0CO810inHnsy/Io8HqIw1Z\n",
        "tCBYCWbaRf8TN9D4Bv8ihEwTLfAE879v8XvFBTIj9R5NIEvzZlq4GET3TFEm4ZQ01VF57rSlZQZH\n",
        "rAXFRWAyDMoZa6HLpZj8Z+Bh97wqOqkOnvkLDaxYSBZftzrTmihK+YQepn/7AKCAAAAAZAGeoWpC\n",
        "vwBYmiecZCxo98tcqXR/g4r8EYfw/1NAAhwtgNlVYhyA17o2GrqLAYe1dK76mxFn1p4CKt8WRQXz\n",
        "tXNPfHHruiCq0IgptiM9pA929yApBk7bcp7UoMrVnCdjEbzIuIEAAADlQZqjSahBbJlMCHf//qmW\n",
        "ABMfkaaE9ARGwAZua8AURgDs+pv4HIPECOVDlakW9WLfy68Hh7hIl0G6S1yRNOCyqPdxInxHaNjO\n",
        "02713bqpGaXaalAfT4ipNvHEgGICmHQ1CkJWIbfUoM5AZETHPVT9dDea6lGN78eLVlPVFBNivQDm\n",
        "Nf+v2qd4TK/ABiSDDjcjbJjiLHbm5FkvhxX07aDlZvphnUQt3EzVy6eoC+ZeD1b+l1OcVMs4CiyP\n",
        "3CWnC2uji2bJZe479hRDK+FTfuOd5u9XJ8WEEBojdQKtb9an+NFafRWrwAAAAQ5BmsRJ4QpSZTAh\n",
        "3/6plgAShQUrdn+rNgtAAqcRvgL3qnA7BQlcd69T+ZuXmFXEIByuwXI38EdvwB/9CuamQAT+Ir85\n",
        "DobIK3XjtDq7okLE6ybmsR3p5iLf2VEzeBicEBZEnf/zWokd1qRLMHWa5kPwfqLFdRDV7YC4AgHI\n",
        "5CP6TrVo5CwbNtGeNMSheD6ZSeI6PKySKZ3Mw0302NF0nQ/laKhtd2jXIWzJGon2d8j3E11YbvES\n",
        "wD5XLOMH9Xkafq2BID43WUQfi6br0TTuP4mizn119I/QS7YMXfHvL3xOJkulMMBYWP4Y3B80KTCk\n",
        "BaUl7m7Acba89J48REAJ0Ieoetx/PIIQh72ygqoskl8AAAISQZroSeEOiZTAh3/+qZYANoINCgB0\n",
        "rdlQQYux742D6uJXDViv1GlcvRHwuJhdCcy0e1lUNlN+w6AGQSxSJ+Qiun1SUk1GkOuaOyQgx+cJ\n",
        "CMk8KLx3qU3IqG//b9c+TCfwu7OTM8roYrxxtUmKDXoj826ZXtwoaOqUqkx8jy22RnzdxJ81O1vl\n",
        "olMydNCImleU4d5qR1WSCWDQfDmuW92SQ8lG1fLfO9StNWQbCCyczrRKN6RttCwI0PDLVf1IGqI8\n",
        "jTRH+gpQNueeYfuFXgwlv9YpAXXEGy1rvsfTRJiK2rGmn/kUmRWBF65mMl84KP3/nrnROcyC/e0/\n",
        "FPaCzx6wgibTst33UMruUARfjScUIPcXiFAvQaCgd2V5HEqalrcwTYyEUHmxFkIbjv/W8QozAC4K\n",
        "7Xvcanzg3+QyO+oLnjpSxEpjLV3fu8Ugg8TIDJXkFxCd2diErrmea3Dr8uMWtNv5E7KVLt81AELT\n",
        "+PJF/xiEMABQKj7DOmItAtsVif6m2x2MKgVWkQJgpc2Wgj7E0hwNFOWVCIUREAAGgQ9K6gnU1ad1\n",
        "Phk5LhdVpAGKy2pN6Z/kvAkoVE6WjUgh1euoomO6c5/rJo+QQltbhBWvt7yXmf+122gDW1/Yb8pr\n",
        "pAnAm6qu+kmN/GcHvz87LSVUL3uSaRIT/ikfFDCbcqJES9hsuceH8dEcGBC94KeRJrHGZUEAAACx\n",
        "QZ8GRRE8M/8AL8a3eFABl3kOcEXvv2uYCLanXNJhadK2RHM0k8EFo+hbbgVfXzfQqv8f5QPJEiCE\n",
        "kRJrIMnFgzEdnJ32lAvq7hTpvfCaXEk+sA5Nv9OairW1a1gVQ+7g9wBoGcqVTiBFr8foUUaHpnug\n",
        "OzoHBPFAsU4J3QdIJidE1TsxTzcngCwacETsVr+Onw9sG72YHB06IG9oBaTtCZrw2hhZ9w3QCLUI\n",
        "P/PmCG1tAAABLAGfJXRCvwBbGaMAITlGaetFyVKTyoOFrkO+DpamPg77bSJX0Em8Z/PV7WtMZxJJ\n",
        "U7c3KLQjA2rV7pqMy0sFBd/ZnYHYbTVNYJCpCcmwOXnhfexrH3MQX0dcn73BnIA17DwfI7IloMEC\n",
        "p+H00H7BvpJV3j3heFJ6RPqv/grVD55Q/Z8JL1a1KTnkPdtSLFhXyEXLfo5tROwsL5B55t8e2yiH\n",
        "OIX9oEfAXZeraYUcZdQ3tkK6U0el8TdJZagIGVr7YtHmWf/Fni7PZj+6OByieO//p3Bdm+rkFiu+\n",
        "MWy/gw0p6QBt3HvuXagKFJF9BzMIXiMXbTHjS7aus+zcwFGd2D+fTNqj7JEoFZFxD/g0TwpZdgXV\n",
        "6v/KO65OqGZLGQL90kLpcpNlgxErTNcH4QAAAV0BnydqQr8AWJomPFfhAqhyABO3nR2HWNCavhoE\n",
        "DGFOUy60kLqWEfXvpwC6Wu4p9YKT5xdIC/4BBsFrgRbkWDaEWOVgb8mefwauNM/ipLFj/QQoZJs0\n",
        "Yqq4fRJ3VhUMHFgZGYAoInum5LwBkvVMzzHmkUX+vaINr5DQqRHiK6A3Twv67m3FdqKKSCZPj5Ch\n",
        "d1Yb/9JIkTxJF4azQrF5mwBNziz559J7NjpsYMARsS748oNHmJKYiOMkjEA2bDDO6HkynmFhhdF6\n",
        "sZ6y+n6JjxGEpVAxjET5VcY2xVaMtnU7xwCRMoR+NDgj3/hzfBni+u9D8TPCZ4LWLJ16fQcs680G\n",
        "Sn5PjujsapqwMN2s2+p82UYQAIRY0ieGWwkePSyhAVtcqES9n/2H2t3y14ycldW6dukmPRBaxzku\n",
        "2OXqzzTQB6I8K2er9pBuBfiEqJrlEEzWMv+9dibbFIQl1VpgAAABZUGbKUmoQWiZTAh3//6plgAQ\n",
        "g4pEgByGBnYotCW7DKXZ51+0W/txZ7ztXelP/wlCli3kn78v6OBQBgRq+9/6tjOL6JUU71UvyESA\n",
        "8WJJYDiZQ3pdMwmA4Zjv8IgAU5Ts1Mci4UONZfSxntJsDu5tg/04xO6GFV7QXRuF+0wMTEqZqtUD\n",
        "/VH/Yza4kFjwspsacvVajHFvcS1RLh0glZvAh29mM2ZCp4qM78JbS7m4FlT4GkDZYYEhrxLr3RmX\n",
        "NRZIBDMpY1SNaPUHjmNxwdu8KlI7rjvdsCDOdCecroKoguGTqG6tv9BsaVJsXtIDFQk08NlJVgrT\n",
        "dUb09aI7unEkKqdtXtGl8JR/hj+E6GlH/azmaYUrkB4H053wNbVBnmb1d1HAQO9hY5DSstVJegYd\n",
        "/dRL9xcFfrwuykWFZF8KSAtsyrHGJoaENe/4vl8ThGZk2n26O2lT71WSxgC5b0Lw41tgBhxkgAAA\n",
        "ASpBm0pJ4QpSZTAh//6plgAQhHcOoAW15LWJoADnmdKkCSAbgwtkyMNW3/1TvNAenTBszSiWtwwr\n",
        "vg73k9h6oLy106aX19FgIS3FSDOMGB/x2zW6YIVf0yM3rLk3WV1sjLddhrxBec5ijYVmscfI/Nhm\n",
        "//OYd3BWwhzgkNOrT7X32QUmYEitvnqqYosGcYUBkpBbbzGmRqdcgbQRQnw4eOSX1xLa4gl9OGSH\n",
        "CoEbMexTar6j1vk+eqN9erCxovVVtcOvlvRDNZtO2w0B7AnHJuMGCQT7X7KnGS8yP90YbagNIn5I\n",
        "dC0nfIna3POzf/GM9WpBoLEBkv+6X8tUDHest5WxOacl9p2SSuydZqD/NN4iYDYj1A9ari/QxI7n\n",
        "v0Pb6iJnw5tL94nz6WrxAAAAtEGbbknhDomUwIf//qmWABCV6ZBwAjuVSOTh66hvwBR+EK/zXRK1\n",
        "m4Y0drZmkEfCMYzBZ63ei9tDGE2AGR/2qdulNp/Uxgfrb5/aM3XaQZwxPW82Xfyznk0CqhFrOko6\n",
        "mcw/peqRVdVdKHjxNCJi1QmHjyh7HjOz1oYOHihTck+InTZDbGg2vshUNMveio8/xyffZEfc4yau\n",
        "5lWN33mIp42qSsiW0fZtLRSznP0WriSd9QAKSAAAAFZBn4xFETwz/wAOKV7UWwOeUAH1pgF2xQqq\n",
        "CQ8hIXBVCFnEzrsxb/s3ZI10HodAgtRfNfUeRft/9rJc98ssneMdCdAvn05REGztfKALLZCykRVU\n",
        "tP/1gAAAAFMBn6t0Qr8AGR7f9FBQNsn7hZiHQAa2DUAqNFBClIagIIPHG2SXXk+Y8ultU+8qhmCp\n",
        "ycat5UYlY8Y0Rl0d5uYeXAdoofK/46PzpmbPAcEFG5PtPwAAAL4Bn61qQr8AGmdDK6ktyMjIAQVS\n",
        "zi22P8EzTZC+rwO5AlmnEFjGrvcnP36FatGR4+SVJBiOpwzrr/zzmvE4eO35coTWASpNpHr2lHNM\n",
        "tO/zOAs+g+Bp5jc3Hh1461AzOjli80L9ICqP6Vp361lW2Cq2PZheuY5dJmUPIllqGGFrZjs/Sfxm\n",
        "3HpmA4wZwRbLYV3DkdFNshSLCFy14StqObcJtcZ+JOOpv4dlit3IDjkdabWQC7fimzMI0Z+x8Er1\n",
        "AAABgEGbskmoQWiZTAh///6plgASnlf+IyCVgAl9dlehLXMI1a4U4yfLyig6uN6fxmI+FnXdZHMH\n",
        "zNeCz4BxyvvMG7v09E/bydkvCHG2lbLFOiQ+X60f8ATdwbBU0G8c3LOIQWky2dUi+qO7AFtuMZ/W\n",
        "++1nl6qUgZRwxlE7hzLXNxgJoFzCT3hqvHw06HcYJa73jWdIMHDRiLHNV4gB1aw1v5Iti+u6j9J8\n",
        "VW1yjJ1E1xNiaZc7O7RLLWBGSPDUhb3dpDOh3tV+n3CIEzfDKRauLsxnCsSqNEoEzFtxJpm9Ikze\n",
        "zyqMiZURC8DGWikxXh2nbJrBrSBHjlrYX2yEl/NNKODAk1ij7XCUvj3yedfkV1CYEF+G35AKhFXE\n",
        "T3mEVc8MHSwyxaTqBja9pQGHhLwkO6GnqsnX//ImC7iTOSvS1SRQK3T1/oPUsgz+8+i9fqQECz5Y\n",
        "gpGrcgbkcPDzyBtHJEN9WSuCphXIZOFu+ObI6ed0XVuIjpOuua8fB3lIOAAbMQAAAJ5Bn9BFESwz\n",
        "/wAv4IcAGW0h3T5AfhwIdFwO/5KzmXsLzjIHWt5u5oujp9EbCPEy5dcwD/G6XBh0EolAFQTpQjRr\n",
        "vdP+547vmPZGpI/aaTun1YYHokuow3cmoQXOyKQHoI+seTtple/BFGblusi+A9WQlBUwogFsVIMq\n",
        "F3rZbj81oPQybxb6N6ukwmqVCbJ9YlIgT5JMVu/pRdw03rAMnAAAAUcBn+90Qr8AWLKJD/vMLxrK\n",
        "wAfuqImwiSGSREDQKfxOUy60mClDtv8FbzBlOn7XsaePvsP++LZf8Ag4QOuBFoc2Qe4u8oIuXGDG\n",
        "p1lxd9cCU7XuEy0fi9Tr7pDKAvlcblWhbjw2vxn8r/9BW7yEqJCSRrsYPJtdqEhfUFfndI7njlXD\n",
        "UL73oxeR1qRgtv3BwwIr93uqNDMiewq+4LJqj5JIVia5QlKh7rmNvTnZOSNbRjdrGv5Pon1I8MBL\n",
        "g8VWOPOB1i17zC5cwVfP305wUWpIWmIASTqI2CUDISFpslL6FOxov4WQtIvLGyM08fWSymbH/Td/\n",
        "mmKHjR5T9xnnj81rDy6ja6ZcccISfYALdQEU/9KPsWAQPco/BZAq2RdtGHBeQRzggqKS9A0CRJNN\n",
        "9dF3IhvNSXWIHmZ/xXm88cSfVvH2cF4AJWAAAAE8AZ/xakK/AFsjMAATt5wd4jYCV9VIjjHXkJ4j\n",
        "RRGSbvckqBIHSmQzgn3629V/BIB+e6N5kWmhdeRtQAFUGlhNO+iPN7nhClxK7PurfP81/Vy15Chv\n",
        "WqcqVov8UtZSl4jtkCeSFitNQMJ8DfoWoUGPGbgoz9kRdOxsAWjcu678aquK+AzSEb4gJlSHu1Ob\n",
        "IIWjLgkYR2BcarX/Hn9w36PWxg7TqyYFfoh+yrB+NH+34PUe01juKE5ht6CkB2bp/kZHebl7buOf\n",
        "6z9Gyf7lYD2UHxgKWYhLBlv+n1l0Tv7oHWZuDBJ4906pnH7k6+zxyEyfAOWyCXCPrpecxQsyRcm5\n",
        "l9z+zoKe8se4v4Pt0X713HwMCndLvowDfzXoIA77aLZxdjkD3t69MPTXcZoEthm74geHkhUfNHfF\n",
        "zwAu4QAAAZBBm/ZJqEFsmUwId//+qZYAEwNfKACdvTqnFXWgW7I/igDq1jwXUrodxsM992xorjDy\n",
        "hi7HTftVUlQv/jDEGfEDMy0TVn1HoIxUUdzfbYTEN0t9K4+3fP37GAgXuD8cPPWjxFpdCQgoXKj0\n",
        "ErmhZMrPGYCsUsl24+gDyiVL8Kltm6hViOLJqu4/dJFqixwiikch4yHy2FxyM2CHaSqtpEaQCQEY\n",
        "ryU1NDFI0wqgiKu3GmPOmEa623ay8IXxQ3byJoSPAOoCkvcbxK9n3la06dWD/8fsxTwHfYw7uq7/\n",
        "GWqU7MqDvi993wtXKPAkAr5nmXWpxzTlu4OkIH13vY/dJeJf9xCyRzgxeipSw60QqcrrvPmF/kaY\n",
        "l5Wdv6RiEHzPFsRpzyjXjedS+ypwAIPVYQCNLvUtt0BUaPDw3LpyS49EFx4GUNKZFjvs/4O7YbpW\n",
        "YXKEgEGydEJkKYM6bRwOY44mgQ0picik+qfNo3N2oCaVEUam3iOXVL09v7F5q+Jdd1nnwRcl56O/\n",
        "EB9iIEmWAA+4AAAAZkGeFEUVLDP/ABBYDOGFtkd1aADdSieDnw/NriKJjpkxnKehQdHClP0hdecH\n",
        "aY6H4FymdQj8GBmiOY0/oByRr81qOuUKHtQODyjF/eBvjUyi1uqLpdLMTO6Ds1ChZWGSUql7/72g\n",
        "3AAAALcBnjN0Qr8AHmhjBHDyTABnuZZHgpIT7GHfdxpze8ce1TgXAS1Zd3TUVsZ2FhB0A2CNYzXj\n",
        "UvJ4q3HOlBlxCjyFshITLqR1z+4F12zoIDp3QWgBWiIvAN2cQwuSEd7O9qxXkJNTBSUT43cuWK7M\n",
        "DJsUo8Sm3EoKi+WLSLYwyCEln/jbcTtXJ+JvYlcoIeiUxfoOeX0B0NeYYGxWaO71XDxB1ynluSyU\n",
        "iTNUnXNPEELemchQGmdJv8EAAABVAZ41akK/AB5eG9xmuYmODEACBIJhWGjMVR7Sdi7vL4IQpqkX\n",
        "FQtv3pprhcFuxGdGw7YlAl0llyJdLmIPiaikKEirum3QLlODId2u1PzmgpqoJRaOQgAAAO1BmjpJ\n",
        "qEFsmUwId//+qZYANSOsbhwAt1Bq2d/ugQfliqLcaE1c73KZbkFnEgvfJjDzQGhHAONEbL6OU+oH\n",
        "Js/+WTyHsKGzlNugKShAWGljA92AEwkovWua8XIKth1KXMYkQdVmRClJYsTGeqiRrVDu5r5+i0vZ\n",
        "WcLNsCHItckEQPyP6CdoLoiu9CEuBqk4cjC/+TePx8BGUtLaD1fULUEzb17Ufunx1nlVrD9Uj0xB\n",
        "BKkTH7QPsoE8vQEtw5t97QE2Sx2HVvzhpAuqZQ5CTgRKOXEVHWy/qr7YtP7TLdc/4SnsCsCW/MYB\n",
        "FN9AAssAAAB5QZ5YRRUsM/8ALpAa1mq1qWW1agAS76ztaAZ81sviaBd+KXnkRSwJXhVtE6kMFqrg\n",
        "6xD/V/pHFXKVKf2JhhoKDZ8caivO1CzXo2VpJHgWDwen1alKMqAd+yHEEUCjwuvC2efjIkUpLmgf\n",
        "eNF3MTjTZbSS3YL2Sp5CbwAAAKUBnnd0Qr8AHl35vpvGVwbLpL+mT3OQoAIbm/XrXZQiJP3VuV/t\n",
        "Gqmu7tMQRnHtsfMDIZaO5v9mdxzqNlxknYyBG2fh0JHT6XkoB2ynpbiRw2s+MKsC57u2/La5tj+H\n",
        "h5l2GY2Vpf9hGmC5UI9BzwJAvGkllnCmENPqD0aNz37Vn6ESnyjwNiUqeMbPYM0g7kyMqtvGFL5R\n",
        "xDcBzL0rjEUBjAsADfgAAAFJAZ55akK/AFn8ZvCBUSuAD+eVE1NRgPaeI5OTDUWQmov+SYvJkbqR\n",
        "iF7hQASFpMt2k/Sti5Xd7P75EuHR9GRHqJ7540RDNYm9igd+qCxiokM5bkcJROV0Pn1BN6o25R6A\n",
        "tIeuTkY5vFTGa5DqpKmHQccr2F8ICHnAxxLUj7FmH85DwVEgldu5Xa4QrwPz7eFW7Ep3i1aKkC9B\n",
        "kSmzVaGXqFatodYs0w0fc3NCr/tmDil0ajl3LauN4lyLf/0qVRNtkFXFKkX+4nS0U1kO+2DJh/VQ\n",
        "spcgB5DkaWl+KFe/fvVynysCSERfmAC02Ad+3UbnmBrL2OBLQXZjDRYamIMGGxwnOAwzwsHmKgrq\n",
        "1ALDS6C9CXdzfCI4R8RR8vgomwnWlCGjM8vDs9RtmWDbQOzfn9uhswsqSV6zL6/0vqZpg0b5oQcJ\n",
        "kjYAm4EAAAHyQZp+SahBbJlMCHf//qmWADUXOsRhZnRvzj4ZNgBHiCVUlCxoM0oGj6Kj4wHEKPkR\n",
        "kZNiDezTo539u36c3xtMCpQj9LDoCRrbiBYQAS/UR+gixYgFRL4lgOkRAuilxH5q6M2jDQPkWhMK\n",
        "mAZp7SFo6V2dAl0KTL/rN2i5IouIrymBs9dv2Ey1TF/9S374FxKKOYjsQyzVran8AZwWKKVWKZIp\n",
        "Cz1hfcjCgymlOdAvyQvPgKdESRFj2SIg7xRUifhUPRGXs2ypZ6K57XRbo9Fh5yLn8Yx3b9RIKEdX\n",
        "S0kApQcNYijnA1InZnTLGtodWk2LV64GuyfL+H1dA2/QQ79hH4FZezT+mWbAkP2X1JvR2oodIk/M\n",
        "fhyoE9cjoFODtGeTjU0tmdEAaDdlcDHBVn1tz9nLyZsqkLYz65oMZ1BsX3XgJjGaFBfPWGNpb4VN\n",
        "HIKO0w7YstL+aOrVJjSyJPCfUp7d+FrJz2rqwHDIatRU1gKi7gI251Dg3ISkAbvk6ZIoTSq/B4dI\n",
        "MoRqPtmxbI/efdQcnFR+rUWCNBOCuwi2IF5LkIxwqP6E+OV2B3Qm3nXCtiEewNhRXWYzTvlNbQuz\n",
        "Dnqo09czRMjLm+3lt4Fuv2ovy4g8kanF78iQJJn3ku5MOPT/3oUSUvfU8VpZiucEAAccAAABgUGe\n",
        "nEUVLDP/AC6KGutJs38PQ3iwAO0OAVqhnMirLJ6t/8h8O0Cty+S7b48HKBiCaXIf2JbUlKGEOhNh\n",
        "7lruf4YhkbbHM0fHkR4Rw0Oeihv2OLkycX99i7NMdRbbL9+6xGxxaWIxSE7vjA6RrBPmRiitvUbl\n",
        "Cjn9s2LFYAhnzUMFBnIxOvfrYXHbR3az4UoGxmEhtzDSwV0mV57wYXvl2FufyjdW5CfrRrr/EFwc\n",
        "i/Bh/atKEsO5veFIkyCKcrs2En86HE688HrG4b09Zvuw4u45DjVh9+t5T6SmNj4hy18cbv+WXz99\n",
        "F2rRTxYGGZlyQV97j038XKnXg18Z9nlIj8UvnfHRAOmG9OlFDc0JXcTtQMcN8bW0a2bpqVRJmBS/\n",
        "M2KhwTBl1czU+yXKwsmUyxRYPOtW7QIITnwa4heJa5Zs2TFine4QIJJfiRXeWvoHdk3M9Gx8wnpo\n",
        "ARBD5OtyvPFvYg3UaqLAg89jWzdKmaBQDsAkTn62i9WvBWc2OU/XxYEAAAFhAZ67dEK/AFZS+YqA\n",
        "CdvODvDUtSUNP7MWVK/IcLD3hbpOFV4qTEGI6iMvXFUrkW/2bfhe4yst/7x2P4GhsmwJ7eM/nC0A\n",
        "49v6dRlART1eWcltQH4ld7VdMZpgv/MSRNIcvomdoRnmSKuQoifRNZOvr7qeqH1OmhWf/B12q61E\n",
        "GKQX7cQwC8exoASpC+Sy7/qyyi9gv2ds4HKEFPuEQCijetHFmHLDDVqKv8ulh/shGH0FQwgEvQW5\n",
        "vg9DBqx25Ia7pphE9MMOJZyjMAgcx98XdIPi20+4UdEbSDRBWgu4wwr3aPtELodZ5QwhjcQi1c0R\n",
        "f9Pixp9socW8/jK5vcTDmDjE44HG4q7VyEAxnToNE03bNoBAAQxJddGsRT6g3ZBnhvBr4xTpGigM\n",
        "/B8aw8YzvOME7JobKrkwbIyPb+zzk8g4FJzGajrAgnitRVw/C3iGmKRNELbRDwu18+QxuLvYMT0A\n",
        "AAChAZ69akK/ABnB/LKSJDIJWbxSH8S0XqfH7sABpYQSMkRCtzpR8X0Ob8CVCGq+0PO6fwwKbztJ\n",
        "tk5os2YIdZnjcSVJ3l/vqcMqPPGYjL2JABHVd7gVeI5hwlZHLy3wbrrMlxf6tM2IN43cHuTQmc/4\n",
        "NCNxL0XFm+UR5eM1hnoqmtqIRv+rSdzlEMfGsC9PFkMbATSqq/V3FKeFwvXp+3yreNAAAACeQZqi\n",
        "SahBbJlMCGf//p4QAHmBKoRnyADK8ogGxc5xF+aTDaiRttmh3Cx5e8mfVG6s9B9rPpC3f97UI/3m\n",
        "qrmQwFgQEKaVepeZV7mrjs/Y0+B/rL60T0yswbTWMIyUtZscF72dbHjPwa7hjTXaAyrTyRW/ePoq\n",
        "739WMjpb+nkW8gsmZnnUCVixGDEbJbxBG7tTwdEJ/o4x6kfLSRAAPWAAAABqQZ7ARRUsM/8ADdGs\n",
        "vhZ5YlJJYjyfe95DWgARB6knFTsSvC/97UGQvUtmsI4s0zETvn5JyUcF5cmkZRNZ9mIM11GGeTPg\n",
        "23pirDs892TZ0WNWjSzM5mZsZVGAACViP6SlewShC3lPtGjZgQAAAFIBnv90Qr8AGSjb2RqP8ur4\n",
        "OzuI6AByptNmzRHadqepLUoQj9Oz0SDJVRWif9Edq9TgjzrjUonHKhht1blxN4/BbeqXsIwcfRc5\n",
        "Li7HlPWgAN6AAAAAqwGe4WpCvwAZx0TJTiiz697uxpBC8hK8l0AIU3ikw9pxk5JvdjcriyV4IGrW\n",
        "PeWN+c6Fzhlst1RkqpvJUrqbouIsloYiZegnKLbVi/fQQshQXRmi1wVvYy5C12/OnyFYzjNMBduA\n",
        "LjA+hElAIo/G3uLJwEvPJ3vSqcC+wsWl1tDdPm03U46K99Q05UtM9WkvHakPLoih3jhj1P5Udoer\n",
        "uMIGZLUMM9KXWsAD5wAAAVJBmuNJqEFsmUwIV//+OEAGJ03vBd7XgA/nnR1x0/vXZHUYqESpcMpm\n",
        "xAEvilPAx1W3D0zPns7l3FjI9fAAgRuN/s3g9OLh0y/f5Cu3ie6Rj/MZbS4lvDkHfmWT634TJTW9\n",
        "+wwquokcbo85wnVm2SW9hzS2kjq+XwoNQfW/rAa1ODrdqvhBLztcTqxDyUqAwSBh1ehkDBApkwO1\n",
        "8Mr0Ysmc7KyoQax9xEtoE9OIJ3/eH2W13jqOScr5zPc7ucClMzV8NCEktOKUO22YEyX2n6DrZshv\n",
        "IgMd9QhTpNORsMzjsiV0T1kihrnIfSDBXVMmSJaYr5y9hRDEkxOq6qnTgMkVHeAmDS5thQ2iaLUi\n",
        "RYFwiVHQZl50QYn3641FxxaJyewE7Vbvow+e51k9nkiw6zgpZhwfYxJMbnXCTb3C4EIIZbt2AIir\n",
        "xWdvC1BN1hXFhgAYMAAACUVtb292AAAAbG12aGQAAAAAAAAAAAAAAAAAAAPoAAATiAABAAABAAAA\n",
        "AAAAAAAAAAAAAQAAAAAAAAAAAAAAAAAAAAEAAAAAAAAAAAAAAAAAAEAAAAAAAAAAAAAAAAAAAAAA\n",
        "AAAAAAAAAAAAAAAAAAACAAAAGGlvZHMAAAAAEICAgAcAT/////7/AAAIWXRyYWsAAABcdGtoZAAA\n",
        "AA8AAAAAAAAAAAAAAAEAAAAAAAATiAAAAAAAAAAAAAAAAAAAAAAAAQAAAAAAAAAAAAAAAAAAAAEA\n",
        "AAAAAAAAAAAAAAAAAEAAAAAC0AAAAWgAAAAAACRlZHRzAAAAHGVsc3QAAAAAAAAAAQAAE4gAAAAC\n",
        "AAEAAAAAB9FtZGlhAAAAIG1kaGQAAAAAAAAAAAAAAAAAAAAUAAAAZFXEAAAAAAAtaGRscgAAAAAA\n",
        "AAAAdmlkZQAAAAAAAAAAAAAAAFZpZGVvSGFuZGxlcgAAAAd8bWluZgAAABR2bWhkAAAAAQAAAAAA\n",
        "AAAAAAAAJGRpbmYAAAAcZHJlZgAAAAAAAAABAAAADHVybCAAAAABAAAHPHN0YmwAAACYc3RzZAAA\n",
        "AAAAAAABAAAAiGF2YzEAAAAAAAAAAQAAAAAAAAAAAAAAAAAAAAAC0AFoAEgAAABIAAAAAAAAAAEA\n",
        "AAAAAAAAAAAAAAAAAAAAAAAAAAAAAAAAAAAAAAAAAAAY//8AAAAyYXZjQwFkAB7/4QAZZ2QAHqzZ\n",
        "QLQv+WEAAAMAAQAAAwAoDxYtlgEABmjr48siwAAAABhzdHRzAAAAAAAAAAEAAABkAAAAAQAAABRz\n",
        "dHNzAAAAAAAAAAEAAAABAAADEGN0dHMAAAAAAAAAYAAAAAEAAAACAAAAAQAAAAUAAAABAAAAAgAA\n",
        "AAEAAAAAAAAAAQAAAAEAAAABAAAABQAAAAEAAAACAAAAAQAAAAAAAAABAAAAAQAAAAEAAAAFAAAA\n",
        "AQAAAAIAAAABAAAAAAAAAAEAAAABAAAAAQAAAAIAAAABAAAABQAAAAEAAAACAAAAAQAAAAAAAAAB\n",
        "AAAAAQAAAAEAAAAFAAAAAQAAAAIAAAABAAAAAAAAAAEAAAABAAAAAQAAAAUAAAABAAAAAgAAAAEA\n",
        "AAAAAAAAAQAAAAEAAAACAAAAAgAAAAEAAAAFAAAAAQAAAAIAAAABAAAAAAAAAAEAAAABAAAAAQAA\n",
        "AAUAAAABAAAAAgAAAAEAAAAAAAAAAQAAAAEAAAABAAAABQAAAAEAAAACAAAAAQAAAAAAAAABAAAA\n",
        "AQAAAAEAAAAFAAAAAQAAAAIAAAABAAAAAAAAAAEAAAABAAAAAQAAAAIAAAABAAAABQAAAAEAAAAC\n",
        "AAAAAQAAAAAAAAABAAAAAQAAAAEAAAAFAAAAAQAAAAIAAAABAAAAAAAAAAEAAAABAAAAAgAAAAIA\n",
        "AAABAAAABQAAAAEAAAACAAAAAQAAAAAAAAABAAAAAQAAAAEAAAAFAAAAAQAAAAIAAAABAAAAAAAA\n",
        "AAEAAAABAAAAAQAAAAUAAAABAAAAAgAAAAEAAAAAAAAAAQAAAAEAAAACAAAAAgAAAAEAAAAFAAAA\n",
        "AQAAAAIAAAABAAAAAAAAAAEAAAABAAAAAgAAAAIAAAABAAAABQAAAAEAAAACAAAAAQAAAAAAAAAB\n",
        "AAAAAQAAAAEAAAAFAAAAAQAAAAIAAAABAAAAAAAAAAEAAAABAAAAAQAAAAUAAAABAAAAAgAAAAEA\n",
        "AAAAAAAAAQAAAAEAAAABAAAABQAAAAEAAAACAAAAAQAAAAAAAAABAAAAAQAAAAEAAAAFAAAAAQAA\n",
        "AAIAAAABAAAAAAAAAAEAAAABAAAAAQAAAAUAAAABAAAAAgAAAAEAAAAAAAAAAQAAAAEAAAABAAAA\n",
        "AgAAABxzdHNjAAAAAAAAAAEAAAABAAAAAQAAAAEAAAGkc3RzegAAAAAAAAAAAAAAZAAAF5cAAAL5\n",
        "AAABCAAAAGwAAAFSAAAD2wAAArEAAAF/AAABwQAABBUAAAJkAAABoQAAAZwAAAIeAAACmQAAAegA\n",
        "AAFFAAABCwAAAtEAAAHKAAABfQAAAaEAAALRAAABLQAAAScAAACLAAAA9AAAARUAAAH1AAABRAAA\n",
        "ASIAAADsAAACiAAAAYMAAAE/AAAAogAAAZYAAADuAAAA0wAAAWEAAAJhAAABkwAAAIcAAADmAAAB\n",
        "PwAAAZsAAABtAAAAWAAAAKUAAAItAAAAuAAAAUgAAAE8AAABYAAAAWUAAAEmAAAAbwAAAGAAAAC3\n",
        "AAAB0gAAAJ0AAAFrAAABJAAAAd4AAABsAAAApQAAAGgAAADpAAABEgAAAhYAAAC1AAABMAAAAWEA\n",
        "AAFpAAABLgAAALgAAABaAAAAVwAAAMIAAAGEAAAAogAAAUsAAAFAAAABlAAAAGoAAAC7AAAAWQAA\n",
        "APEAAAB9AAAAqQAAAU0AAAH2AAABhQAAAWUAAAClAAAAogAAAG4AAABWAAAArwAAAVYAAAGgc3Rj\n",
        "bwAAAAAAAABkAAAAMAAAF8cAABrAAAAbyAAAHDQAAB2GAAAhYQAAJBIAACWRAAAnUgAAK2cAAC3L\n",
        "AAAvbAAAMQgAADMmAAA1vwAAN6cAADjsAAA59wAAPMgAAD6SAABADwAAQbAAAESBAABFrgAARtUA\n",
        "AEdgAABIVAAASWkAAEteAABMogAATcQAAE6wAABROAAAUrsAAFP6AABUnAAAVjIAAFcgAABX8wAA\n",
        "WVQAAFu1AABdSAAAXc8AAF61AABf9AAAYY8AAGH8AABiVAAAYvkAAGUmAABl3gAAZyYAAGhiAABp\n",
        "wgAAaycAAGxNAABsvAAAbRwAAG3TAABvpQAAcEIAAHGtAABy0QAAdK8AAHUbAAB1wAAAdigAAHcR\n",
        "AAB4IwAAejkAAHruAAB8HgAAfX8AAH7oAACAFgAAgM4AAIEoAACBfwAAgkEAAIPFAACEZwAAhbIA\n",
        "AIbyAACIhgAAiPAAAImrAACKBAAAivUAAItyAACMGwAAjWgAAI9eAACQ4wAAkkgAAJLtAACTjwAA\n",
        "k/0AAJRTAACVAgAAAGB1ZHRhAAAAWG1ldGEAAAAAAAAAIWhkbHIAAAAAAAAAAG1kaXJhcHBsAAAA\n",
        "AAAAAAAAAAAAK2lsc3QAAAAjqXRvbwAAABtkYXRhAAAAAQAAAABMYXZmNTQuMjAuNA==\n",
        "\" type=\"video/mp4\">\n",
        "     Your browser does not support the video tag.\n",
        "    </video>"
       ],
       "metadata": {},
       "output_type": "pyout",
       "prompt_number": 70,
       "text": [
        "<matplotlib.animation.FuncAnimation at 0x5102790>"
       ]
      }
     ],
     "prompt_number": 70
    },
    {
     "cell_type": "heading",
     "level": 1,
     "metadata": {},
     "source": [
      "Estimating Disturbance Envelope"
     ]
    },
    {
     "cell_type": "code",
     "collapsed": false,
     "input": [
      "closed_loop_lqr.A"
     ],
     "language": "python",
     "metadata": {},
     "outputs": [
      {
       "metadata": {},
       "output_type": "pyout",
       "prompt_number": 72,
       "text": [
        "matrix([[   0.        ,    1.        ],\n",
        "        [-140.01428499,  -21.81807897]])"
       ]
      }
     ],
     "prompt_number": 72
    },
    {
     "cell_type": "code",
     "collapsed": false,
     "input": [
      "closed_loop_lqr.B"
     ],
     "language": "python",
     "metadata": {},
     "outputs": [
      {
       "metadata": {},
       "output_type": "pyout",
       "prompt_number": 73,
       "text": [
        "matrix([[  0.],\n",
        "        [100.]])"
       ]
      }
     ],
     "prompt_number": 73
    },
    {
     "cell_type": "code",
     "collapsed": false,
     "input": [
      "closed_loop_lqr.C"
     ],
     "language": "python",
     "metadata": {},
     "outputs": [
      {
       "metadata": {},
       "output_type": "pyout",
       "prompt_number": 74,
       "text": [
        "matrix([[ 1.40014285,  0.        ],\n",
        "        [ 0.        ,  1.40014285]])"
       ]
      }
     ],
     "prompt_number": 74
    },
    {
     "cell_type": "code",
     "collapsed": false,
     "input": [],
     "language": "python",
     "metadata": {},
     "outputs": []
    }
   ],
   "metadata": {}
  }
 ]
}