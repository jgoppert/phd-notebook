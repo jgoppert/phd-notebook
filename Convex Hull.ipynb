{
 "metadata": {
  "name": "",
  "signature": "sha256:5e2483fa6e4537c2ebe30b7be8a475c919fe11bd45ff601a7973a17e9b90e2c3"
 },
 "nbformat": 3,
 "nbformat_minor": 0,
 "worksheets": [
  {
   "cells": [
    {
     "cell_type": "code",
     "collapsed": false,
     "input": [
      "%pylab inline\n",
      "import pyhull\n",
      "import string\n",
      "from pyhull.simplex import Simplex"
     ],
     "language": "python",
     "metadata": {},
     "outputs": [
      {
       "output_type": "stream",
       "stream": "stdout",
       "text": [
        "Populating the interactive namespace from numpy and matplotlib\n"
       ]
      }
     ],
     "prompt_number": 21
    },
    {
     "cell_type": "code",
     "collapsed": false,
     "input": [
      "class MyConvexHull(object):\n",
      "    \n",
      "    def __init__(self, res=None, eqs=None, points=None, facets=None):\n",
      "        self.res = res\n",
      "        self.eqs = eqs\n",
      "        self.points = points\n",
      "        self.facets = facets\n",
      "\n",
      "    @classmethod\n",
      "    def from_points(cls, points):\n",
      "        res = pyhull.qconvex('n i', points)\n",
      "        n_dim = int(res[0])-1\n",
      "        n_eqs = int(res[1])\n",
      "        eqs = array([line.split() for line in res[2:2+n_eqs]]).astype(float)\n",
      "        n_facets = int(res[2+n_eqs])\n",
      "        facets = array([line.split() for line in res[3+n_eqs:3+n_eqs+n_facets]]).astype(int)\n",
      "        return cls(res, eqs, points, facets)\n",
      "    \n",
      "    @classmethod\n",
      "    def from_halfspaces(cls, interior_point, halfspaces):\n",
      "        opt = 'H{:s} Fp'.format(string.join(array([0,0,0]).astype(str),','))\n",
      "        res = pyhull.qhull_cmd('qhalf', opt, halfspaces)\n",
      "        n_dim = int(res[0])\n",
      "        n_vert = int(res[1])\n",
      "        points = array([line.split() for line in res[2:2+n_vert]]).astype(float)\n",
      "        return cls.from_points(points)\n",
      "    \n",
      "    def add_buffer(self, b):\n",
      "        self.eqs[:,-1] -= b\n",
      "        interior_point = (self.points[0] + self.points[1])/2 # since convex \n",
      "        return MyConvexHull.from_halfspaces(interior_point, self.eqs)\n",
      "    \n",
      "    def __repr__(self):\n",
      "        return string.join(self.res, '\\n')\n",
      "    \n",
      "    def contains(self, p):\n",
      "        return False"
     ],
     "language": "python",
     "metadata": {},
     "outputs": [],
     "prompt_number": 22
    },
    {
     "cell_type": "code",
     "collapsed": false,
     "input": [
      "p = rand(10,2) - 0.5\n",
      "p = array(bmat([[p],[0.5*p + [0,1]] ,[0.2*p + [1,2]], [0.1*p + [2,2]]])).astype(float)\n",
      "\n",
      "ch1 = MyConvexHull.from_points(p)\n",
      "ch1 = ch1.add_buffer(0.1)\n",
      "plot(p[:,0], p[:,1], 'k.')\n",
      "for facet in ch1.facets:\n",
      "    plot(ch1.points[facet][:,0], ch1.points[facet][:,1], 'k')"
     ],
     "language": "python",
     "metadata": {},
     "outputs": [
      {
       "metadata": {},
       "output_type": "display_data",
       "png": "[encoded data removed]",
       "text": [
        "<matplotlib.figure.Figure at 0x33da350>"
       ]
      }
     ],
     "prompt_number": 31
    },
    {
     "cell_type": "code",
     "collapsed": false,
     "input": [],
     "language": "python",
     "metadata": {},
     "outputs": []
    }
   ],
   "metadata": {}
  }
 ]
}