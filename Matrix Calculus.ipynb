{
 "metadata": {
  "name": "",
  "signature": "sha256:44ab0ad9fcef6dcb50f78a97cf7a4f3aa46d718ef1a8ca97d844c9d8bed2666a"
 },
 "nbformat": 3,
 "nbformat_minor": 0,
 "worksheets": [
  {
   "cells": [
    {
     "cell_type": "heading",
     "level": 1,
     "metadata": {},
     "source": [
      "Matrix Calculus"
     ]
    },
    {
     "cell_type": "markdown",
     "metadata": {},
     "source": [
      "An important foundation for optimal control is matrix calculus. In this section, we will pick a standard convention known as numerator layout and collect some rules to use. In general, if a quantity is in the numerator it is a scalar, column vector, or matrix. If it is in the denominator it is a transposed scalar, column vector, or matrix."
     ]
    },
    {
     "cell_type": "markdown",
     "metadata": {},
     "source": [
      "$\n",
      "\\newcommand{\\pd}[2]{\\frac{\\partial#1}{\\partial#2}}\n",
      "\\newcommand{\\B}[1]{\\mathbf{#1}}\n",
      "\\newcommand{\\A}{\\B{A}}\n",
      "\\newcommand{\\x}{\\B{x}}\n",
      "\\newcommand{\\u}{\\B{u}}\n",
      "$\n",
      "Click this cell to see defined latex functions."
     ]
    },
    {
     "cell_type": "markdown",
     "metadata": {},
     "source": [
      "Scalar derivative w.r.t. column vector (nx1):\n",
      "\n",
      "$\\pd{y}{\\B{x}} = \\begin{bmatrix} \\pd{y}{x_1} & \\pd{y}{x_2} & \\ldots  & \\pd{y}{x_n} \\end{bmatrix}$"
     ]
    },
    {
     "cell_type": "markdown",
     "metadata": {},
     "source": [
      "Column vector $\\B{y}$ (mx1) derivative w.r.t. scalar $x$:\n",
      "\n",
      "$\\pd{\\B{y}}{x} = \\begin{bmatrix} \\pd{y_1}{x} \\\\ \\pd{y_2}{x} \\\\ \\vdots \\\\ \\pd{y_m}{x} \\end{bmatrix}$"
     ]
    },
    {
     "cell_type": "markdown",
     "metadata": {},
     "source": [
      "Column vector  $\\B{y}$ (mx1) derivative w.r.t. column vector $\\mathbf{x}$, (nx1):\n",
      "\n",
      "$\\pd{\\B{y}}{\\B{x}} = \\begin{bmatrix}\n",
      "\\pd{y_1}{x_1} & \\pd{y_1}{x_2} & \\ldots & \\pd{y_1}{x_n} \\\\\n",
      "\\pd{y_2}{x_1} & \\pd{y_2}{x_2} & \\ldots & \\pd{y_2}{x_n} \\\\\n",
      "\\vdots & \\vdots & \\ddots & \\vdots \\\\\n",
      "\\pd{y_m}{x_1} & \\pd{y_m}{x_2} & \\ldots & \\pd{y_m}{x_n} \\\\\n",
      "\\end{bmatrix}$"
     ]
    },
    {
     "cell_type": "markdown",
     "metadata": {},
     "source": [
      "Scalar y derivative w.r.t. matrix $\\B{X}$, (pxq), note the transpose since $\\B{X}$ is in the denominator:\n",
      "\n",
      "$\\pd{y}{\\B{X}} = \\begin{bmatrix}\n",
      "\\pd{y}{x_{11}} & \\pd{y}{x_{21}} & \\ldots & \\pd{y}{x_{p1}} \\\\\n",
      "\\pd{y}{x_{12}} & \\pd{y_2}{x_{22}} & \\ldots & \\pd{y}{x_{p2}} \\\\\n",
      "\\vdots & \\vdots & \\ddots & \\vdots \\\\\n",
      "\\pd{y}{x_{1q}} & \\pd{y}{x_{2q}} & \\ldots & \\pd{y}{x_{pq}} \\\\\n",
      "\\end{bmatrix}$"
     ]
    },
    {
     "cell_type": "markdown",
     "metadata": {},
     "source": [
      "Matrix $\\B{Y} (pxq)$ derivative w.r.t. scalar $x$:\n",
      "\n",
      "$\\pd{\\mathbf{Y}}{x} = \\begin{bmatrix}\n",
      "\\pd{y_{11}}{x} & \\pd{y_{12}}{x} & \\ldots & \\pd{y_{1q}}{x} \\\\\n",
      "\\pd{y_{21}}{x} & \\pd{y_{22}}{x} & \\ldots & \\pd{y_{2q}}{x} \\\\\n",
      "\\vdots & \\vdots & \\ddots & \\vdots \\\\\n",
      "\\pd{y_{p1}}{x} & \\pd{y_{p2}}{x} & \\ldots & \\pd{y_{pq}}{x} \\\\\n",
      "\\end{bmatrix}$"
     ]
    },
    {
     "cell_type": "markdown",
     "metadata": {},
     "source": [
      "Matrix differential $d\\B{X}$ (pxq):\n",
      "\n",
      "$d\\mathbf{X} = \\begin{bmatrix}\n",
      "dx_{11} & dx_{12} & \\ldots & dx_{1q} \\\\\n",
      "dx_{21} & dx_{22} & \\ldots & dx_{2q} \\\\\n",
      "\\vdots & \\vdots & \\ddots & \\vdots \\\\\n",
      "dx_{p1} & dx_{p2} & \\ldots & dx_{pq}\n",
      "\\end{bmatrix}$"
     ]
    },
    {
     "cell_type": "heading",
     "level": 2,
     "metadata": {},
     "source": [
      "Vector by Vector Identities"
     ]
    },
    {
     "cell_type": "markdown",
     "metadata": {},
     "source": [
      "$\n",
      "\\pd{\\A\\x}{\\x} = \\A \\\\\n",
      "\\pd{\\x^T\\A}{\\x} = \\A^T \\\\\n",
      "\\pd{\\A\\u(\\x)}{\\x} = \\A\\pd{\\u(\\x)}{\\x} \\\\\n",
      "$"
     ]
    },
    {
     "cell_type": "heading",
     "level": 2,
     "metadata": {},
     "source": [
      "Scalar by Vector Identities"
     ]
    },
    {
     "cell_type": "markdown",
     "metadata": {},
     "source": [
      "$\n",
      "\\pd{\\x^T\\A\\x}{\\x} = \\x^T( \\A + \\A^T) \\\\\n",
      "\\pd{\\B{a}^T\\x}{\\x} = \\pd{\\x^T \\B{a}}{\\x} = \\B{a}^T \\\\\n",
      "$"
     ]
    },
    {
     "cell_type": "heading",
     "level": 2,
     "metadata": {},
     "source": [
      "References"
     ]
    },
    {
     "cell_type": "markdown",
     "metadata": {},
     "source": [
      "* http://en.wikipedia.org/wiki/Matrix_calculus"
     ]
    }
   ],
   "metadata": {}
  }
 ]
}