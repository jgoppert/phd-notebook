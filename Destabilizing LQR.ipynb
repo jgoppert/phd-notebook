{
 "metadata": {
  "name": "",
  "signature": "sha256:8f67fe418f8989fe4cb9cd61f043bc49c93d2ad81b4f3f10a3eaa3eb435d9e25"
 },
 "nbformat": 3,
 "nbformat_minor": 0,
 "worksheets": [
  {
   "cells": [
    {
     "cell_type": "code",
     "collapsed": false,
     "input": [
      "%pylab inline\n",
      "import control\n",
      "import scipy.linalg"
     ],
     "language": "python",
     "metadata": {},
     "outputs": [
      {
       "output_type": "stream",
       "stream": "stdout",
       "text": [
        "Populating the interactive namespace from numpy and matplotlib\n"
       ]
      },
      {
       "output_type": "stream",
       "stream": "stderr",
       "text": [
        "WARNING: pylab import has clobbered these variables: ['sys', 'gamma']\n",
        "`%matplotlib` prevents importing * from pylab and numpy\n"
       ]
      }
     ],
     "prompt_number": 155
    },
    {
     "cell_type": "code",
     "collapsed": false,
     "input": [
      "eps = 0.000001\n",
      "A = array([[0, 1], [-1, -1]])\n",
      "B = array([[0],[1]])\n",
      "C = eye(2)\n",
      "D = array([[0],[0]])\n",
      "sys = control.ss(A, B, C, D)\n",
      "sys.damp()"
     ],
     "language": "python",
     "metadata": {},
     "outputs": [
      {
       "metadata": {},
       "output_type": "pyout",
       "prompt_number": 156,
       "text": [
        "(array([ 1.,  1.]),\n",
        " array([ 0.5,  0.5]),\n",
        " array([-0.5+0.8660254j, -0.5-0.8660254j]))"
       ]
      }
     ],
     "prompt_number": 156
    },
    {
     "cell_type": "code",
     "collapsed": false,
     "input": [
      "K = control.care(sys.A, sys.B, eye(2), eye(1))[2]\n",
      "sys_closed = control.feedback(sys, control.ss(0,[0,0],0,K))\n",
      "sys_closed.damp()"
     ],
     "language": "python",
     "metadata": {},
     "outputs": [
      {
       "metadata": {},
       "output_type": "pyout",
       "prompt_number": 157,
       "text": [
        "(array([ 1.18920712,  1.18920712]),\n",
        " array([ 0.70710678,  0.70710678]),\n",
        " array([-0.84089642+0.84089642j, -0.84089642-0.84089642j]))"
       ]
      }
     ],
     "prompt_number": 157
    },
    {
     "cell_type": "code",
     "collapsed": false,
     "input": [
      "Q = diag([1, -1])\n",
      "R = 0.01*eye(1)\n",
      "P = scipy.linalg.solve_continuous_are(sys.A, sys.B, Q, R)\n",
      "K_destab = -linalg.inv(R).dot(B.T).dot(P)\n",
      "sys_destab = control.feedback(\n",
      "    sys_closed, control.ss(0,[0,0],0,K_destab))\n",
      "t, y, x = control.forced_response(\n",
      "    sys_destab,\n",
      "    T=linspace(0,10, 1000), X0=[0.001,0])\n",
      "plot(t, x.T)\n",
      "u = K_destab.dot(x)\n",
      "plot(t, u.T, '--')\n",
      "sys_destab.damp()"
     ],
     "language": "python",
     "metadata": {},
     "outputs": [
      {
       "metadata": {},
       "output_type": "pyout",
       "prompt_number": 176,
       "text": [
        "(array([ 1.96850431,  0.71328852]),\n",
        " array([ 1.,  1.]),\n",
        " array([-1.96850431, -0.71328852]))"
       ]
      },
      {
       "metadata": {},
       "output_type": "display_data",
       "png": "[encoded data removed]",
       "text": [
        "<matplotlib.figure.Figure at 0x50ff350>"
       ]
      }
     ],
     "prompt_number": 176
    },
    {
     "cell_type": "code",
     "collapsed": false,
     "input": [
      "Ac = sys_closed.A\n",
      "Bc = sys_closed.B\n",
      "Ac.T.dot(P) + P.dot(Ac) - P.dot(Bc).dot(linalg.inv(R)).dot(Bc.T).dot(P) + Q"
     ],
     "language": "python",
     "metadata": {},
     "outputs": [
      {
       "metadata": {},
       "output_type": "pyout",
       "prompt_number": 5,
       "text": [
        "matrix([[ -1.44328993e-15,  -1.11022302e-16],\n",
        "        [  2.88657986e-15,   8.88178420e-16]])"
       ]
      }
     ],
     "prompt_number": 5
    },
    {
     "cell_type": "code",
     "collapsed": false,
     "input": [
      "P = scipy.linalg.solve_continuous_are(Ar, Br, Q, R)\n",
      "P"
     ],
     "language": "python",
     "metadata": {},
     "outputs": [
      {
       "metadata": {},
       "output_type": "pyout",
       "prompt_number": 10,
       "text": [
        "array([[  5.99999200e-09,  -3.99999800e-03],\n",
        "       [  1.10000025e-14,  -4.00001000e-09]])"
       ]
      }
     ],
     "prompt_number": 10
    },
    {
     "cell_type": "code",
     "collapsed": false,
     "input": [
      "Ar.T.dot(P) + P.dot(Ar) - P.dot(Br).dot(linalg.inv(R)).dot(Br.T).dot(P) + Q"
     ],
     "language": "python",
     "metadata": {},
     "outputs": [
      {
       "metadata": {},
       "output_type": "pyout",
       "prompt_number": 11,
       "text": [
        "array([[ -5.39801537e-12,   1.28056854e-09],\n",
        "       [  3.00001109e-12,   2.22044605e-15]])"
       ]
      }
     ],
     "prompt_number": 11
    },
    {
     "cell_type": "code",
     "collapsed": false,
     "input": [
      "A = array([[-1]])\n",
      "B = array([[1]])\n",
      "C = array([[1]])\n",
      "D = array([[1]])\n",
      "Q=array([[-1]])\n",
      "R=array([[1]])\n",
      "sys = control.ss(A, B, C, D)\n",
      "P = scipy.linalg.solve_continuous_are(A, B, Q, R)\n",
      "A.T.dot(P) + P.dot(A) - P.dot(B).dot(linalg.inv(R)).dot(B.T).dot(P) + Q"
     ],
     "language": "python",
     "metadata": {},
     "outputs": [
      {
       "metadata": {},
       "output_type": "pyout",
       "prompt_number": 153,
       "text": [
        "array([[-4.]])"
       ]
      }
     ],
     "prompt_number": 153
    },
    {
     "cell_type": "code",
     "collapsed": false,
     "input": [
      "linalg.inv(array([[1]]))"
     ],
     "language": "python",
     "metadata": {},
     "outputs": [
      {
       "metadata": {},
       "output_type": "pyout",
       "prompt_number": 154,
       "text": [
        "array([[ 1.]])"
       ]
      }
     ],
     "prompt_number": 154
    },
    {
     "cell_type": "code",
     "collapsed": false,
     "input": [
      "%pylab inline\n",
      "import picos as pic\n",
      "import cvxopt as cvx\n",
      "import numpy as np\n",
      "import scipy.linalg\n",
      "import scipy.optimize\n",
      "import scipy.integrate\n",
      "def solve_bounded_disturbance(A, B, C, D):\n",
      "    \n",
      "    def solve_lmi(A_data, B_data, C_data, D_data, alpha, verbose=False):\n",
      "        sdp = pic.Problem()\n",
      "\n",
      "        # shape\n",
      "        n_x = A_data.shape[0]\n",
      "        n_u = B_data.shape[1]\n",
      "        \n",
      "        # variables\n",
      "        P = sdp.add_variable('P', (n_x, n_x), vtype='symmetric')\n",
      "        alpha = pic.new_param('alpha', alpha)\n",
      "        mu_1 = sdp.add_variable('mu_1')\n",
      "        mu_2 = sdp.add_variable('mu_2')\n",
      "\n",
      "        # parameters\n",
      "        A = pic.new_param('A', cvx.matrix(A_data))\n",
      "        B = pic.new_param('B', cvx.matrix(B_data))\n",
      "        C = pic.new_param('C', cvx.matrix(C_data))\n",
      "        D = pic.new_param('D', cvx.matrix(D_data))\n",
      "        I_n_u = pic.new_param('I', cvx.sparse(cvx.matrix(np.eye(n_u))))\n",
      "        I_n_x = pic.new_param('I', cvx.sparse(cvx.matrix(np.eye(n_x))))\n",
      "\n",
      "        eps = 1e-10\n",
      "        sdp.add_constraint(\n",
      "            (P*A + A.T*P + 2*alpha*P & P*B) //\n",
      "            (B.T*P &  -2*alpha*mu_1*I_n_u)  << -eps)\n",
      "        sdp.add_constraint(\n",
      "            (C.T*C - P & C.T*D) //\n",
      "            (D.T*C & D.T*D - mu_2*I_n_u)  << -eps)\n",
      "        sdp.add_constraint(P >> eps*I_n_x)\n",
      "        sdp.add_constraint(mu_1 << 0.01)\n",
      "        sdp.add_constraint(mu_2 << 0.01)\n",
      "        sdp.set_objective('max', mu_1 + mu_2)\n",
      "        try:\n",
      "            sdp.solve(verbose=verbose)\n",
      "            mu_1 =  sdp.variables['mu_1'].value[0,0]\n",
      "            mu_2 =  sdp.variables['mu_2'].value[0,0]\n",
      "            gamma = np.sqrt(mu_1 + mu_2)\n",
      "        except Exception as e:\n",
      "            print e\n",
      "            gamma = -1\n",
      "            \n",
      "        return gamma, sdp\n",
      "    \n",
      "    # we use fmin to solve a line search problem in alpha for minimum gamma\n",
      "    print('line search')\n",
      "    alpha_opt  = scipy.optimize.fmin(lambda alpha: -solve_lmi(A, B, C, D, alpha)[0], x0=-1)\n",
      "    \n",
      "    gamma, sdp = solve_lmi(A, B, C, D, alpha_opt)\n",
      "    print sdp\n",
      "    \n",
      "    if sdp.status == 'optimal':\n",
      "        P = sdp.variables['P'].value\n",
      "        mu_1 =  sdp.variables['mu_1'].value[0,0]\n",
      "        mu_2 =  sdp.variables['mu_2'].value[0,0]\n",
      "        print 'optimal alpha: ', alpha_opt\n",
      "        print 'gamma: ', gamma\n",
      "        print 'mu_1: ', mu_1\n",
      "        print 'mu_2: ', mu_2\n",
      "        print 'P: ',  P\n",
      "    else:\n",
      "        sdp = solve_lmi(A, B, C, D, alpha_opt, verbose=True)\n",
      "        raise RuntimeError('Optimization failed')\n",
      "        \n",
      "    return sdp, P, alpha_opt, gamma"
     ],
     "language": "python",
     "metadata": {},
     "outputs": [
      {
       "output_type": "stream",
       "stream": "stdout",
       "text": [
        "Populating the interactive namespace from numpy and matplotlib\n"
       ]
      },
      {
       "output_type": "stream",
       "stream": "stderr",
       "text": [
        "WARNING: pylab import has clobbered these variables: ['gamma']\n",
        "`%matplotlib` prevents importing * from pylab and numpy\n"
       ]
      }
     ],
     "prompt_number": 151
    },
    {
     "cell_type": "code",
     "collapsed": false,
     "input": [
      "A = array([[0,1],[-1,-1]])\n",
      "B = array([[0],[1]])\n",
      "C = eye(2)\n",
      "D = array([[0], [0]])\n",
      "sdp, P, alpha, gamma = solve_bounded_disturbance(A, B, C, D)"
     ],
     "language": "python",
     "metadata": {},
     "outputs": [
      {
       "output_type": "stream",
       "stream": "stdout",
       "text": [
        "line search\n",
        "Warning: Maximum number of function evaluations has been exceeded."
       ]
      },
      {
       "output_type": "stream",
       "stream": "stdout",
       "text": [
        "\n",
        "---------------------\n",
        "optimization problem  (SDP):\n",
        "5 variables, 0 affine constraints, 17 vars in 5 SD cones\n",
        "\n",
        "P \t: (2, 2), symmetric\n",
        "mu_2 \t: (1, 1), continuous\n",
        "mu_1 \t: (1, 1), continuous\n",
        "\n",
        "\tmaximize mu_1 + mu_2\n",
        "such that\n",
        "  [P*A + A.T*P + 2.0*alpha*P,P*B;B.T*P,( ( ( -2.0 )*alpha )*mu_1 )*I] \u227c |-1e-10|\n",
        "  [C.T*C -P,C.T*D;D.T*C,D.T*D -mu_2*I] \u227c |-1e-10|\n",
        "  P \u227d ( 1e-10 )*I\n",
        "  mu_1 \u227c 0.01\n",
        "  mu_2 \u227c 0.01\n",
        "---------------------\n",
        "optimal alpha:  [-1.]\n",
        "gamma:  nan\n",
        "mu_1:  -0.119521546231\n",
        "mu_2:  0.0099999994918\n",
        "P:  [ 5.74e+00 -1.43e+00]\n",
        "[-1.43e+00  1.43e+00]\n",
        "\n"
       ]
      }
     ],
     "prompt_number": 152
    },
    {
     "cell_type": "code",
     "collapsed": false,
     "input": [],
     "language": "python",
     "metadata": {},
     "outputs": []
    }
   ],
   "metadata": {}
  }
 ]
}