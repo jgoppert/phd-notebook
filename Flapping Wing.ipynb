{
 "metadata": {
  "name": "",
  "signature": "sha256:5781d22919184834dd4328e70cdc3c0399da5f27dca829fe17b35857c126fb8d"
 },
 "nbformat": 3,
 "nbformat_minor": 0,
 "worksheets": [
  {
   "cells": [
    {
     "cell_type": "code",
     "collapsed": false,
     "input": [
      "m = 0.3\n",
      "rho = 1.225\n",
      "b = 1.7\n",
      "s = 0.06\n",
      "g = 9.8"
     ],
     "language": "python",
     "metadata": {},
     "outputs": [],
     "prompt_number": 59
    },
    {
     "cell_type": "markdown",
     "metadata": {},
     "source": [
      "From [Pennycuick(1990)](papers/pennycuick-1990.pdf), we can predict the wingbeat frequency of an equivalent bird with the equation:\n",
      "\n",
      "$$ f = 1.08 m^{1/3} g^{1/2} b^{-1} S^{-1/4} \\rho^{-1/3} $$\n",
      "\n",
      "And we can predict the minimum power/ maximum range speed as:\n",
      "\n",
      "$$ V = m^{1/2} g^{1/2} b^{-1} \\rho^{-1/2} $$"
     ]
    },
    {
     "cell_type": "code",
     "collapsed": false,
     "input": [
      "f = 1.08*m**(1.0/3)*g**(1.0/2)*b**(-1)*s**(-1.0/4)*rho**(-1.0/3)\n",
      "f"
     ],
     "language": "python",
     "metadata": {},
     "outputs": [
      {
       "metadata": {},
       "output_type": "pyout",
       "prompt_number": 39,
       "text": [
        "2.514076265424935"
       ]
      }
     ],
     "prompt_number": 39
    },
    {
     "cell_type": "code",
     "collapsed": false,
     "input": [
      "v = 4.77*(m*1.0e3)**(1.0/6)\n",
      "v"
     ],
     "language": "python",
     "metadata": {},
     "outputs": [
      {
       "metadata": {},
       "output_type": "pyout",
       "prompt_number": 38,
       "text": [
        "12.341612929404564"
       ]
      }
     ],
     "prompt_number": 38
    },
    {
     "cell_type": "code",
     "collapsed": false,
     "input": [
      "lam = m**(1.0/6)*s**(1.0/4)*rho**(-1.0/6)\n",
      "lam"
     ],
     "language": "python",
     "metadata": {},
     "outputs": [
      {
       "metadata": {},
       "output_type": "pyout",
       "prompt_number": 58,
       "text": [
        "0.39147317389350833"
       ]
      }
     ],
     "prompt_number": 58
    },
    {
     "cell_type": "code",
     "collapsed": false,
     "input": [
      "lam = v/f\n",
      "lam"
     ],
     "language": "python",
     "metadata": {},
     "outputs": [
      {
       "metadata": {},
       "output_type": "pyout",
       "prompt_number": 41,
       "text": [
        "4.909004988883484"
       ]
      }
     ],
     "prompt_number": 41
    },
    {
     "cell_type": "code",
     "collapsed": false,
     "input": [
      "2/lam"
     ],
     "language": "python",
     "metadata": {},
     "outputs": [
      {
       "metadata": {},
       "output_type": "pyout",
       "prompt_number": 57,
       "text": [
        "5.1089069018661695"
       ]
      }
     ],
     "prompt_number": 57
    },
    {
     "cell_type": "code",
     "collapsed": false,
     "input": [
      "lam "
     ],
     "language": "python",
     "metadata": {},
     "outputs": []
    },
    {
     "cell_type": "markdown",
     "metadata": {},
     "source": [
      "Birds, have higher Reynold's number (Re), bodies smooth to fly with laminar flow."
     ]
    },
    {
     "cell_type": "code",
     "collapsed": false,
     "input": [],
     "language": "python",
     "metadata": {},
     "outputs": []
    }
   ],
   "metadata": {}
  }
 ]
}