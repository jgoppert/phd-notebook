{
 "metadata": {
  "name": "",
  "signature": "sha256:7dc50f9eb0025a58b0c8045dc992b1e44ec135005a8dc633dba222cc205e97bb"
 },
 "nbformat": 3,
 "nbformat_minor": 0,
 "worksheets": [
  {
   "cells": [
    {
     "cell_type": "code",
     "collapsed": false,
     "input": [
      "%pylab inline\n",
      "%pdb on\n",
      "%autoreload 2\n",
      "import pylmibisim.lmi\n",
      "import control\n",
      "\n",
      "\n",
      "import pprint\n",
      "import itertools\n",
      "import collections\n",
      "from __future__ import print_function"
     ],
     "language": "python",
     "metadata": {},
     "outputs": [
      {
       "output_type": "stream",
       "stream": "stdout",
       "text": [
        "Populating the interactive namespace from numpy and matplotlib\n",
        "Automatic pdb calling has been turned ON\n"
       ]
      }
     ],
     "prompt_number": 1
    },
    {
     "cell_type": "code",
     "collapsed": false,
     "input": [
      "A_straight = array([[0, 1], [-1, -1]])\n",
      "A_leaning = array([[0, 1], [-1.1, -1]])\n",
      "B = array([[0], [1]])\n",
      "C = array([[0, 1]])\n",
      "D = array([[0]])\n",
      "lmi_data = pylmibisim.lmi.solve_bounded_disturbance(A_poly=[A_straight, A_leaning], B=B, C=C, D=D)\n",
      "lmi_data"
     ],
     "language": "python",
     "metadata": {},
     "outputs": [
      {
       "metadata": {},
       "output_type": "pyout",
       "prompt_number": 2,
       "text": [
        "LmiData(sdp=---------------------\n",
        "optimization problem  (SDP):\n",
        "5 variables, 2 affine constraints, 18 vars in 3 SD cones\n",
        "\n",
        "mu \t: (2, 1), continuous\n",
        "P \t: (2, 2), symmetric\n",
        "\n",
        "\tminimize \u2329 |1| | mu \u232a\n",
        "such that\n",
        "  [2 constraints (first: [P*A0 + A0.T*P + 2.0*alpha*P,P*B;B.T*P,( ( ( -2.0 )*alpha )*mu[0] )*I] \u227c |1e-05|)]\n",
        "  [C.T*C -P,C.T*D;D.T*C,D.T*D -mu[1]*I] \u227c |1e-05|\n",
        "  mu[i] > 1e-05 for all i in [0,1]\n",
        "---------------------, P=array([[ 0.98833746,  0.25991918],\n",
        "       [ 0.25991918,  1.06835246]]), gam=1.549354332441871, alpha=0.2197656250000004)"
       ]
      }
     ],
     "prompt_number": 2
    },
    {
     "cell_type": "code",
     "collapsed": false,
     "input": [
      "n = A_straight.shape[0]\n",
      "Z = zeros((n,n))\n",
      "I = eye(n)\n",
      "A1_big = bmat([[A_straight, Z],\n",
      "           [Z, A_straight]])\n",
      "A2_big = bmat([[A_straight, Z],\n",
      "           [Z, A_leaning]])\n",
      "A3_big = bmat([[A_leaning, Z],\n",
      "           [Z, A_straight]])\n",
      "A4_big = bmat([[A_leaning, Z],\n",
      "           [Z, A_leaning]])\n",
      "B_big = bmat([[ones((n,1))],\n",
      "          [zeros((n,1))]])\n",
      "C_big = bmat([I, -I])\n",
      "D_big = zeros((n,1))\n",
      "\n",
      "A_poly_big = [A1_big, A4_big]"
     ],
     "language": "python",
     "metadata": {},
     "outputs": [],
     "prompt_number": 3
    },
    {
     "cell_type": "code",
     "collapsed": false,
     "input": [
      "lmi_data_big = pylmibisim.lmi.solve_bounded_disturbance(A_poly=A_poly_big, B=B_big, C=C_big, D=D_big)\n",
      "lmi_data_big"
     ],
     "language": "python",
     "metadata": {},
     "outputs": [
      {
       "metadata": {},
       "output_type": "pyout",
       "prompt_number": 4,
       "text": [
        "LmiData(sdp=---------------------\n",
        "optimization problem  (SDP):\n",
        "12 variables, 2 affine constraints, 45 vars in 3 SD cones\n",
        "\n",
        "mu \t: (2, 1), continuous\n",
        "P \t: (4, 4), symmetric\n",
        "\n",
        "\tminimize \u2329 |1| | mu \u232a\n",
        "such that\n",
        "  [2 constraints (first: [P*A0 + A0.T*P + 2.0*alpha*P,P*B;B.T*P,( ( ( -2.0 )*alpha )*mu[0] )*I] \u227c |1e-05|)]\n",
        "  [C.T*C -P,C.T*D;D.T*C,D.T*D -mu[1]*I] \u227c |1e-05|\n",
        "  mu[i] > 1e-05 for all i in [0,1]\n",
        "---------------------, P=array([[  1.50972092,   0.81085522,  -1.50975454,  -0.81091246],\n",
        "       [  0.81085522,   2.28989269,  -0.81084138,  -2.2899764 ],\n",
        "       [ -1.50975454,  -0.81084138,  18.95837317,   7.56886523],\n",
        "       [ -0.81091246,  -2.2899764 ,   7.56886523,  15.90758194]]), gam=3.5649482515354127, alpha=0.22664062500000046)"
       ]
      }
     ],
     "prompt_number": 4
    },
    {
     "cell_type": "markdown",
     "metadata": {},
     "source": [
      "Note that this is the same as considering all the cases of the matrix combinations since A1_big and A4_big bound all possibilities."
     ]
    },
    {
     "cell_type": "code",
     "collapsed": false,
     "input": [
      "pylmibisim.lmi.solve_bounded_disturbance(A_poly=[A1_big, A2_big, A3_big, A4_big], B=B_big, C=C_big, D=D_big)"
     ],
     "language": "python",
     "metadata": {},
     "outputs": [
      {
       "metadata": {},
       "output_type": "pyout",
       "prompt_number": 5,
       "text": [
        "LmiData(sdp=---------------------\n",
        "optimization problem  (SDP):\n",
        "12 variables, 2 affine constraints, 75 vars in 5 SD cones\n",
        "\n",
        "mu \t: (2, 1), continuous\n",
        "P \t: (4, 4), symmetric\n",
        "\n",
        "\tminimize \u2329 |1| | mu \u232a\n",
        "such that\n",
        "  [4 constraints (first: [P*A0 + A0.T*P + 2.0*alpha*P,P*B;B.T*P,( ( ( -2.0 )*alpha )*mu[0] )*I] \u227c |1e-05|)]\n",
        "  [C.T*C -P,C.T*D;D.T*C,D.T*D -mu[1]*I] \u227c |1e-05|\n",
        "  mu[i] > 1e-05 for all i in [0,1]\n",
        "---------------------, P=array([[  1.50972007e+00,   8.10854069e-01,  -1.45757222e+00,\n",
        "         -7.61943496e-01],\n",
        "       [  8.10854069e-01,   2.28989122e+00,  -7.41683434e-01,\n",
        "         -2.20943836e+00],\n",
        "       [ -1.45757222e+00,  -7.41683434e-01,   1.44479342e+05,\n",
        "          5.93075124e+04],\n",
        "       [ -7.61943496e-01,  -2.20943836e+00,   5.93075124e+04,\n",
        "          1.05013528e+05]]), gam=3.5649484574012953, alpha=0.22664062500000046)"
       ]
      }
     ],
     "prompt_number": 5
    },
    {
     "cell_type": "code",
     "collapsed": false,
     "input": [
      "%%time\n",
      "sys = control.ss(A_straight, B, C, D)\n",
      "flow_tubes = []\n",
      "nom_trajs = []\n",
      "x_0_list = [[1,0], [-1,0]]\n",
      "ch_0 = pylmibisim.lmi.ExpandableConvexHull.from_points(\n",
      "    pylmibisim.lmi.create_nbox([0,0], [0.1, 0.1]))\n",
      "for x_0 in x_0_list:\n",
      "    flow_tubes.append(pylmibisim.lmi.FlowTube(\n",
      "        x_0_nom=x_0, ch_0=ch_0, t=linspace(0,50,1000), lmi_data=lmi_data,\n",
      "        sys=sys, u_norm=0.01, n_steps=30))"
     ],
     "language": "python",
     "metadata": {},
     "outputs": [
      {
       "output_type": "stream",
       "stream": "stdout",
       "text": [
        "CPU times: user 77 ms, sys: 4.07 ms, total: 81 ms\n",
        "Wall time: 79.7 ms\n"
       ]
      }
     ],
     "prompt_number": 6
    },
    {
     "cell_type": "code",
     "collapsed": true,
     "input": [
      "figure(figsize(10,5))\n",
      "pylmibisim.lmi.plot_flow_tubes_2D(flow_tubes)\n",
      "xlabel('x')\n",
      "ylabel('y')\n",
      "title('flow tubes')"
     ],
     "language": "python",
     "metadata": {},
     "outputs": [
      {
       "metadata": {},
       "output_type": "pyout",
       "prompt_number": 7,
       "text": [
        "<matplotlib.text.Text at 0x4980910>"
       ]
      },
      {
       "metadata": {},
       "output_type": "display_data",
       "png": "[encoded data removed]",
       "text": [
        "<matplotlib.figure.Figure at 0x3153910>"
       ]
      }
     ],
     "prompt_number": 7
    }
   ],
   "metadata": {}
  }
 ]
}