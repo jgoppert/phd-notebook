{
 "metadata": {
  "name": "",
  "signature": "sha256:dbd634360116ecaad3fadaa77097a2ef6265fe12acdf8fea1c3c1850378bfb81"
 },
 "nbformat": 3,
 "nbformat_minor": 0,
 "worksheets": [
  {
   "cells": [
    {
     "cell_type": "code",
     "collapsed": false,
     "input": [
      "%pylab inline\n",
      "import control\n",
      "import scipy.integrate\n",
      "import sympy\n",
      "import sympy.physics.mechanics as mech\n",
      "from sympy.utilities.autowrap import ufuncify\n",
      "sympy.init_printing()\n",
      "rcParams['lines.linewidth']=3\n",
      "rcParams['font.size']=15\n",
      "rcParams['figure.figsize']=(15,5)"
     ],
     "language": "python",
     "metadata": {},
     "outputs": [
      {
       "output_type": "stream",
       "stream": "stdout",
       "text": [
        "Populating the interactive namespace from numpy and matplotlib\n"
       ]
      }
     ],
     "prompt_number": 1
    },
    {
     "cell_type": "code",
     "collapsed": false,
     "input": [
      "def derive_eoms(c_dict):\n",
      "    # variables\n",
      "    theta, m, g, J, t, l, T = sympy.symbols('theta, m, g, J, t, l, T')\n",
      "\n",
      "    # frames\n",
      "    frame_e = mech.ReferenceFrame('e')\n",
      "    frame_b = frame_e.orientnew('b', 'Axis', (theta(t), frame_e.y))\n",
      "\n",
      "    # point p at axle\n",
      "    point_p = mech.Point('p')\n",
      "    point_p.set_vel(frame_e, 0)\n",
      "\n",
      "    # center of mass\n",
      "    point_cm = point_p.locatenew('cm', -l*frame_b.z)\n",
      "    point_cm.set_vel(frame_b, 0)\n",
      "    point_cm.v1pt_theory(otherpoint=point_p, outframe=frame_e, interframe=frame_b)\n",
      "\n",
      "    # rigid body\n",
      "    body_pend = mech.RigidBody(\n",
      "        name='pend',\n",
      "        masscenter=point_p,\n",
      "        frame=frame_b,\n",
      "        mass=m,\n",
      "        inertia=(mech.inertia(frame_b, ixx=0, iyy=J, izz=0), point_p))\n",
      "\n",
      "    # lagrangian\n",
      "    L = mech.Lagrangian(frame_e, body_pend)\n",
      "\n",
      "    # lagranges method\n",
      "    lm = mech.LagrangesMethod(\n",
      "        Lagrangian=L,\n",
      "        q_list=[theta(t)],\n",
      "        coneqs=None,\n",
      "        forcelist= [(point_cm, m*g*frame_e.z), (frame_b, T(t)*frame_b.y)],\n",
      "        frame=frame_e)\n",
      "    lm.form_lagranges_equations()\n",
      "    rhs = lm.rhs()\n",
      "\n",
      "    x = sympy.DeferredVector('x')\n",
      "    u = sympy.DeferredVector('u')  \n",
      "    x_dict = {theta(t).diff(t):x[1],theta(t):x[0]}\n",
      "    u_dict = {T(t):u[0]}\n",
      "    f_sim = sympy.lambdify((t,x,u), rhs.subs(x_dict).subs(u_dict).subs(c_dict))\n",
      "    x_vect = [theta(t), theta(t).diff(t)]\n",
      "    u_vect = [T(t)]\n",
      "    return f_sim, rhs.jacobian(x_vect).subs(c_dict), rhs.jacobian(u_vect).subs(c_dict), rhs"
     ],
     "language": "python",
     "metadata": {},
     "outputs": [],
     "prompt_number": 2
    },
    {
     "cell_type": "code",
     "collapsed": false,
     "input": [
      "def linearize_eoms(A_sym, B_sym, x0):\n",
      "    theta, t = sympy.symbols('theta, t')\n",
      "    A = array(A_sym.subs(theta(t), x0[0])).astype(float)\n",
      "    B = array(B_sym.subs(theta(t), x0[0])).astype(float)\n",
      "    return A, B"
     ],
     "language": "python",
     "metadata": {},
     "outputs": [],
     "prompt_number": 3
    },
    {
     "cell_type": "code",
     "collapsed": false,
     "input": [
      "def f_cont_lqr(x, K, x0, u0):\n",
      "    return u0 - K.dot(x - x0)"
     ],
     "language": "python",
     "metadata": {},
     "outputs": [],
     "prompt_number": 4
    },
    {
     "cell_type": "code",
     "collapsed": false,
     "input": [
      "def derive_dyn_inv_contr(A_closed, rhs, c_dict):\n",
      "    theta, t, T, theta_0 = sympy.symbols('theta, t, T, theta_0')\n",
      "    x = sympy.Matrix([theta(t) - theta_0, theta(t).diff(t)])\n",
      "    x_dot_des = A_closed*x\n",
      "    assert(sympy.simplify(x_dot_des[0] - rhs[0]) == 0)\n",
      "    theta_ddot = rhs[1]\n",
      "    theta_ddot_des = x_dot_des[1]\n",
      "    dyn_inv_expr = sympy.solve(theta_ddot_des - theta_ddot, T(t))[0].subs(c_dict)\n",
      "    x = sympy.DeferredVector('x')\n",
      "    u = sympy.DeferredVector('u')  \n",
      "    x_dict = {theta(t).diff(t):x[1],theta(t):x[0]}\n",
      "    f_dyn_inv = sympy.lambdify((x, theta_0), sympy.Matrix([dyn_inv_expr.subs(x_dict)]))\n",
      "    return f_dyn_inv, dyn_inv_expr"
     ],
     "language": "python",
     "metadata": {},
     "outputs": [],
     "prompt_number": 5
    },
    {
     "cell_type": "code",
     "collapsed": false,
     "input": [
      "def derive_dyn_inv_saturation(dyn_inv_expr):\n",
      "    theta, t, a, b, u_max, theta_0 = sympy.symbols('theta, t, a, b, u_max, theta_0')\n",
      "    dyn_inv_sat_expr = sympy.solve(dyn_inv_expr.subs(theta(t).diff(t), b).subs(theta(t), a) - u_max, b)[0]\n",
      "    f_dyn_inv_sat = ufuncify((a, u_max, theta_0), dyn_inv_sat_expr)\n",
      "    return f_dyn_inv_sat, dyn_inv_sat_expr"
     ],
     "language": "python",
     "metadata": {},
     "outputs": [],
     "prompt_number": 6
    },
    {
     "cell_type": "code",
     "collapsed": false,
     "input": [
      "def sim_trajectory(f_sim, f_cont, t, x0, u_max):\n",
      "    sim = scipy.integrate.ode(f_sim)\n",
      "    n_t = len(t)\n",
      "    n_x = len(x0)\n",
      "    sim.set_initial_value(y=x0, t=t[0])\n",
      "    y = zeros((n_t, len(x0)))\n",
      "    y[0,:] = x0\n",
      "    for i in range(1, len(t)):\n",
      "        u = f_cont(sim.y)\n",
      "        if (abs(u) > u_max):\n",
      "            u = sign(u)*u_max\n",
      "        sim.set_f_params(u)\n",
      "        sim.integrate(t[i])\n",
      "        while sim.y[0] > pi:\n",
      "            sim.y[0] -= 2*pi\n",
      "        while sim.y[0] < -pi:\n",
      "            sim.y[0] += 2*pi\n",
      "        if not sim.successful():\n",
      "            break\n",
      "        y[i,:] = sim.y.T\n",
      "    return y"
     ],
     "language": "python",
     "metadata": {},
     "outputs": [],
     "prompt_number": 7
    },
    {
     "cell_type": "code",
     "collapsed": false,
     "input": [
      "def sim_x0_box(f_sim, f_cont, x0_list, t=arange(0, 10, 0.02), u_max=10):\n",
      "    y = zeros((len(x0_list), len(t), len(x0_list[0])))\n",
      "    for i in range(len(x0_list)):\n",
      "        y[i,:,:] = sim_trajectory(f_sim, f_cont, t, x0_list[i,:], u_max)\n",
      "    return y"
     ],
     "language": "python",
     "metadata": {},
     "outputs": [],
     "prompt_number": 8
    },
    {
     "cell_type": "code",
     "collapsed": false,
     "input": [
      "def do_plotting(op, show_legend=False):\n",
      "    \n",
      "    x0 = op['x0']\n",
      "    x0_list = op['x0_list']\n",
      "    y_lqr = op['y_lqr']\n",
      "    y_dyn_inv = op['y_dyn_inv']\n",
      "    f_dyn_inv_sat = op['f_dyn_inv_sat']\n",
      "    u_max = op['u_max']\n",
      "    \n",
      "    hold(True)\n",
      "    for i in range(len(x0_list)):\n",
      "        h_lqr = plot(rad2deg(y_lqr[i,:,0]), rad2deg(y_lqr[i,:,1]), 'k-')\n",
      "        h_dyn_inv = plot(rad2deg(y_dyn_inv[i,:,0]), rad2deg(y_dyn_inv[i,:,1]), 'g-')   \n",
      "        h_x0 = plot(rad2deg(x0_list[:,0]), rad2deg(x0_list[:,1]),'ro')\n",
      "\n",
      "    x = linspace(y_dyn_inv[:,:,0].min(),y_dyn_inv[:,:,0].max())\n",
      "    h_sat = plot(rad2deg(x), rad2deg(f_dyn_inv_sat(x, x0[0], u_max)), 'k--')\n",
      "    plot(rad2deg(x), rad2deg(f_dyn_inv_sat(x, x0[0], -u_max)), 'k--')\n",
      "\n",
      "    xlabel('$\\\\theta$, deg')\n",
      "    ylabel('$\\dot{\\\\theta}$, deg/s')\n",
      "\n",
      "    if show_legend:\n",
      "        legend([h_lqr[0], h_dyn_inv[0], h_x0[0], h_sat[0]],\n",
      "               ['LQR', 'DI', '$x_0$', 'saturation'], loc='best', ncol=4)\n",
      "\n",
      "    #axis(rad2deg([y_dyn_inv[:,:,0].min(), y_dyn_inv[:,:,0].max(),\n",
      "    #     y_dyn_inv[:,:,1].min(), y_dyn_inv[:,:,1].max()]))"
     ],
     "language": "python",
     "metadata": {},
     "outputs": [],
     "prompt_number": 9
    },
    {
     "cell_type": "code",
     "collapsed": false,
     "input": [
      "def operating_point(x0, c_dict, d=None, n_x0=3):\n",
      "    \n",
      "    if d is None:\n",
      "        d = pi/10*ones(len(x0))\n",
      "    \n",
      "    u_max = c_dict['u_max']\n",
      "    \n",
      "    f_sim, A_sym, B_sym, rhs = derive_eoms(c_dict)\n",
      "    \n",
      "    x0_list = x0 + array([[i, j] for i in linspace(-d[0], d[0], n_x0) for j in linspace(-d[1], d[1], n_x0)])\n",
      "    \n",
      "    # lqr control\n",
      "    A, B = linearize_eoms(A_sym, B_sym, x0)\n",
      "    Q = diag([1,0])\n",
      "    R = eye(1)\n",
      "    K = control.care(A, B, Q=Q, R=R)[2]\n",
      "\n",
      "    ss_open = control.ss(A, B, eye(2), zeros((2,1)))\n",
      "    wn_open, zeta_open, P_open = ss_open.damp()\n",
      "    ss_closed = ss_open.feedback(K)\n",
      "    ss_closed *= 1.0/norm(ss_closed.horner(0))\n",
      "    wn_closed, zeta_closed, P_closed = ss_closed.damp()\n",
      "  \n",
      "    # use same speed as lqr for dyn. inv.\n",
      "    f_dyn_inv, dyn_inv_expr = derive_dyn_inv_contr(ss_closed.A, rhs, c_dict)\n",
      "    f_dyn_inv_sat, dyn_inv_sat_expr = derive_dyn_inv_saturation(dyn_inv_expr)\n",
      "    \n",
      "    u0 = f_dyn_inv(x0, x0[0])\n",
      "    \n",
      "    y_lqr = sim_x0_box(f_sim, lambda x: f_cont_lqr(x, K, x0, u0), x0_list, u_max=u_max)\n",
      "    y_dyn_inv = sim_x0_box(f_sim, lambda x: f_dyn_inv(x, x0[0]), x0_list, u_max=u_max)\n",
      "    \n",
      "    return {\n",
      "        'x0': x0,\n",
      "        'x0_list': x0_list,\n",
      "        'y_lqr': y_lqr,\n",
      "        'y_dyn_inv': y_dyn_inv,\n",
      "        'f_dyn_inv_sat': f_dyn_inv_sat,\n",
      "        'ss_closed': ss_closed,\n",
      "        'ss_open': ss_closed,\n",
      "        'u_max': u_max,\n",
      "        'n_x0': n_x0,\n",
      "        'd': d,\n",
      "        'c_dict': c_dict,\n",
      "    }"
     ],
     "language": "python",
     "metadata": {},
     "outputs": [],
     "prompt_number": 10
    },
    {
     "cell_type": "code",
     "collapsed": false,
     "input": [
      "# dynamics\n",
      "c_dict = {'m':1, 'J':1, 'g':9.8, 'l':1, 'u_max': 10}\n",
      "d = [pi/10, pi/5]\n",
      "n_x0 = 3\n",
      "op1 = operating_point([-pi/4,0], c_dict, d, n_x0)\n",
      "op2 = operating_point([0,0], c_dict, d, n_x0)\n",
      "op3 = operating_point([pi/4,0], c_dict, d, n_x0)"
     ],
     "language": "python",
     "metadata": {},
     "outputs": [],
     "prompt_number": 11
    },
    {
     "cell_type": "code",
     "collapsed": false,
     "input": [
      "figure(figsize(15,10))\n",
      "do_plotting(op1,  show_legend=True)\n",
      "do_plotting(op2)\n",
      "do_plotting(op3)\n",
      "grid()\n",
      "text(-60, -250, 'back mode')\n",
      "text(0, -250, 'stop mode')\n",
      "text(40, -250, 'forward mode')\n",
      "title('control modes')"
     ],
     "language": "python",
     "metadata": {},
     "outputs": [
      {
       "metadata": {},
       "output_type": "pyout",
       "prompt_number": 12,
       "text": [
        "<matplotlib.text.Text at 0x58b8190>"
       ]
      },
      {
       "metadata": {},
       "output_type": "display_data",
       "png": "[encoded data removed]",
       "text": [
        "<matplotlib.figure.Figure at 0x54a3150>"
       ]
      }
     ],
     "prompt_number": 12
    },
    {
     "cell_type": "code",
     "collapsed": false,
     "input": [
      "A = op1['ss_closed'].A\n",
      "B = op1['ss_closed'].B\n",
      "control.lyap(A.T.dot(A), eye(2))"
     ],
     "language": "python",
     "metadata": {},
     "outputs": [
      {
       "metadata": {},
       "output_type": "pyout",
       "prompt_number": 13,
       "text": [
        "array([[-0.29439157,  0.376956  ],\n",
        "       [ 0.376956  , -0.5       ]])"
       ]
      }
     ],
     "prompt_number": 13
    },
    {
     "cell_type": "code",
     "collapsed": false,
     "input": [
      "P = row_stack([column_stack([A.T*A, A.T*B]),\n",
      "               column_stack([B.T*A, B.T*B])])\n",
      "Q = 10*eye(2)\n",
      "P = rand(3,3)\n",
      "control.lyap(A, Q)"
     ],
     "language": "python",
     "metadata": {},
     "outputs": [
      {
       "metadata": {},
       "output_type": "pyout",
       "prompt_number": 14,
       "text": [
        "array([[ 4.85209905, -5.        ],\n",
        "       [-5.        ,  7.57931956]])"
       ]
      }
     ],
     "prompt_number": 14
    },
    {
     "cell_type": "code",
     "collapsed": false,
     "input": [
      "P"
     ],
     "language": "python",
     "metadata": {},
     "outputs": [
      {
       "metadata": {},
       "output_type": "pyout",
       "prompt_number": 15,
       "text": [
        "array([[ 0.98996788,  0.79933988,  0.935818  ],\n",
        "       [ 0.29064467,  0.28456943,  0.16764783],\n",
        "       [ 0.87151506,  0.71310796,  0.61510418]])"
       ]
      }
     ],
     "prompt_number": 15
    },
    {
     "cell_type": "code",
     "collapsed": false,
     "input": [
      "shape(P), shape(Q)"
     ],
     "language": "python",
     "metadata": {},
     "outputs": [
      {
       "latex": [
        "$$\\begin{pmatrix}\\begin{pmatrix}3, & 3\\end{pmatrix}, & \\begin{pmatrix}2, & 2\\end{pmatrix}\\end{pmatrix}$$"
       ],
       "metadata": {},
       "output_type": "pyout",
       "png": "[encoded data removed]",
       "prompt_number": 16,
       "text": [
        "((3, 3), (2, 2))"
       ]
      }
     ],
     "prompt_number": 16
    },
    {
     "cell_type": "code",
     "collapsed": false,
     "input": [
      "P.shape"
     ],
     "language": "python",
     "metadata": {},
     "outputs": [
      {
       "latex": [
        "$$\\begin{pmatrix}3, & 3\\end{pmatrix}$$"
       ],
       "metadata": {},
       "output_type": "pyout",
       "png": "[encoded data removed]",
       "prompt_number": 17,
       "text": [
        "(3, 3)"
       ]
      }
     ],
     "prompt_number": 17
    },
    {
     "cell_type": "code",
     "collapsed": false,
     "input": [
      "linalg.eig(P)"
     ],
     "language": "python",
     "metadata": {},
     "outputs": [
      {
       "metadata": {},
       "output_type": "pyout",
       "prompt_number": 18,
       "text": [
        "(array([ 1.93963324, -0.0986551 ,  0.04866335]),\n",
        " array([[-0.76715352, -0.73800436,  0.60344478],\n",
        "        [-0.19656966,  0.29400879, -0.79420226],\n",
        "        [-0.61060286,  0.6073783 ,  0.07139448]]))"
       ]
      }
     ],
     "prompt_number": 18
    },
    {
     "cell_type": "code",
     "collapsed": false,
     "input": [
      "linalg.eig(-P)"
     ],
     "language": "python",
     "metadata": {},
     "outputs": [
      {
       "metadata": {},
       "output_type": "pyout",
       "prompt_number": 19,
       "text": [
        "(array([-1.93963324,  0.0986551 , -0.04866335]),\n",
        " array([[ 0.76715352,  0.73800436,  0.60344478],\n",
        "        [ 0.19656966, -0.29400879, -0.79420226],\n",
        "        [ 0.61060286, -0.6073783 ,  0.07139448]]))"
       ]
      }
     ],
     "prompt_number": 19
    },
    {
     "cell_type": "markdown",
     "metadata": {},
     "source": [
      "$\n",
      "\\newcommand{\\pd}[2]{\\frac{\\partial#1}{\\partial#2}}\n",
      "$\n",
      "Click to see latex command definitions."
     ]
    },
    {
     "cell_type": "markdown",
     "metadata": {},
     "source": [
      "source: [AAE 666 Class Notes](papers/aae666-notes.pdf) (Martin Corless) pg. 178/ pg. 265\n",
      "\n",
      "Consider a disturbed linear system:\n",
      "\n",
      "\\begin{align*}\n",
      "\\dot{x} = Ax + Bw\\\\\n",
      "z = Cx + Dw\n",
      "\\end{align*}\n",
      "\n",
      "where all eigenvalues of A have negative real part and w is a bounded input.\n",
      "Suppose there exiss a positive real scalar $\\alpha$ such that:\n",
      "\n",
      "\\begin{align*}\n",
      "\\begin{pmatrix}\n",
      "PA + A^TP + \\alpha P & PB\\\\\n",
      "B^TP & -\\alpha \\mu_1 I\n",
      "\\end{pmatrix} < 0\\\\\n",
      "\\begin{pmatrix}\n",
      "C^TC - P & C^T D \\\\\n",
      "D^TC & D^TD - \\mu_2 I\n",
      "\\end{pmatrix} < 0\n",
      "\\end{align*}\n",
      "\n",
      "Then\n",
      "$\\lim \\sup_{t \\rightarrow \\infty} ||z(t)||_{\\infty} \\leq \\gamma ||w(t)||_{\\infty}$\n",
      "where\n",
      "\n",
      "\\begin{align*}\n",
      "\\gamma = \\sqrt{\\mu_1 + \\mu_2}\n",
      "\\end{align*}"
     ]
    },
    {
     "cell_type": "code",
     "collapsed": false,
     "input": [
      "import picos as pic\n",
      "import cvxopt as cvx\n",
      "import numpy as np\n",
      "import scipy.linalg\n",
      "import scipy.optimize\n",
      "import control\n",
      "from IPython.core.display import Image "
     ],
     "language": "python",
     "metadata": {},
     "outputs": [],
     "prompt_number": 20
    },
    {
     "cell_type": "code",
     "collapsed": false,
     "input": [
      "def solve_bounded_disturbance():\n",
      "    \n",
      "    def solve_lmi(A_data, B_data, C_data, D_data, alpha, verbose=False):\n",
      "        sdp = pic.Problem()\n",
      "\n",
      "        # variables\n",
      "        P = sdp.add_variable('P', (2,2), vtype='symmetric')\n",
      "        alpha = pic.new_param('alpha', alpha)\n",
      "        mu_1 = sdp.add_variable('mu_1')\n",
      "        mu_2 = sdp.add_variable('mu_2')\n",
      "\n",
      "        # parameters\n",
      "        A = pic.new_param('A', cvx.matrix(A_data))\n",
      "        B = pic.new_param('B', cvx.matrix(B_data))\n",
      "        C = pic.new_param('C', cvx.matrix(C_data))\n",
      "        D = pic.new_param('D', cvx.matrix(D_data))\n",
      "        I = pic.new_param('I', cvx.sparse(cvx.matrix(np.eye(2))))\n",
      "\n",
      "        sdp.add_constraint(\n",
      "            (P*A + A.T*P + alpha*P & P*B) //\n",
      "            (B.T*P &  -alpha*mu_1*I)  << 0)\n",
      "        sdp.add_constraint(\n",
      "            (C.T*C - P & C.T*D) //\n",
      "            (D.T*C & D.T*D - mu_2*I)  << 0)\n",
      "        sdp.add_constraint(P >> 1e-10*I)\n",
      "        sdp.solve(verbose=verbose)\n",
      "        return sdp\n",
      "\n",
      "    A = np.array([[-1,0],[0,-2]])\n",
      "    B = np.eye(2)\n",
      "    C = np.eye(2)\n",
      "    D  = np.zeros((2,2))\n",
      "    sdp = solve_lmi(A, B, C, D, 10.0)\n",
      "\n",
      "    # we use fmin to solve for minimum alpha by iteratively solving lmi\n",
      "    alpha_opt  = scipy.optimize.fmin(lambda alpha: -alpha if (\n",
      "        alpha > 0 and  solve_lmi(A, B, C, D, alpha).status == 'optimal')\n",
      "        else 0.5*abs(alpha), 0)[0]\n",
      "\n",
      "    sdp = solve_lmi(A, B, C, D, alpha_opt)\n",
      "    print sdp\n",
      "    print 'optimal alpha: ', alpha_opt\n",
      "    print 'gamma: ', np.sqrt(\n",
      "    sdp.variables['mu_1'].value[0,0] + \n",
      "    sdp.variables['mu_2'].value[0,0])\n",
      "    \n",
      "solve_bounded_disturbance()"
     ],
     "language": "python",
     "metadata": {},
     "outputs": [
      {
       "output_type": "stream",
       "stream": "stdout",
       "text": [
        "Optimization terminated successfully.\n",
        "         Current function value: -1.999875\n",
        "         Iterations: 31\n",
        "         Function evaluations: 62\n",
        "---------------------\n",
        "optimization problem  (SDP):\n",
        "5 variables, 0 affine constraints, 23 vars in 3 SD cones\n",
        "\n",
        "P \t: (2, 2), symmetric\n",
        "mu_2 \t: (1, 1), continuous\n",
        "mu_1 \t: (1, 1), continuous\n",
        "\n",
        "\tfind vars\n",
        "such that\n",
        "  [P*A + A.T*P + alpha*P,P*B;B.T*P,( ( -alpha )*mu_1 )*I] \u227c |0|\n",
        "  [C.T*C -P,C.T*D;D.T*C,D.T*D -mu_2*I] \u227c |0|\n",
        "  P \u227d ( 1e-10 )*I\n",
        "---------------------\n",
        "optimal alpha:  1.999875\n",
        "gamma:  136.922159979\n"
       ]
      }
     ],
     "prompt_number": 21
    }
   ],
   "metadata": {}
  }
 ]
}