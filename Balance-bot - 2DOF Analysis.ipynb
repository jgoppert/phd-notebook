{
 "cells": [
  {
   "cell_type": "code",
   "execution_count": 1,
   "metadata": {
    "collapsed": false,
    "slideshow": {
     "slide_type": "skip"
    }
   },
   "outputs": [
    {
     "name": "stdout",
     "output_type": "stream",
     "text": [
      "Populating the interactive namespace from numpy and matplotlib\n"
     ]
    }
   ],
   "source": [
    "import sympy\n",
    "import os\n",
    "import sympy.physics.mechanics as mech\n",
    "import control\n",
    "from IPython.display import Latex\n",
    "%pylab inline\n",
    "%load_ext autoreload\n",
    "\n",
    "%autoreload 2\n",
    "import my_util.px4_logutil\n",
    "from my_util.px4_logutil import savitzky_golay\n",
    "import scipy.integrate\n",
    "import scipy.optimize\n",
    "sympy.init_printing()\n",
    "mech.init_vprinting()\n",
    "\n",
    "from my_util.sympy_util import collect_within_terms, \\\n",
    "    labelled_sympy_eq, custom_latex_labelled_eq"
   ]
  },
  {
   "cell_type": "markdown",
   "metadata": {},
   "source": [
    "#Dynamics"
   ]
  },
  {
   "cell_type": "markdown",
   "metadata": {},
   "source": [
    "##Kinematics"
   ]
  },
  {
   "cell_type": "code",
   "execution_count": 2,
   "metadata": {
    "collapsed": false
   },
   "outputs": [],
   "source": [
    "t, x, theta, alpha, m, J, g, l, w, v, m_w, r_w, J_w, V, T = \\\n",
    "    sympy.symbols('t, x, theta, alpha, m, J, g, l, w, v,'\n",
    "                  'm_w, r_w, J_w, V, T')\n",
    "A_x, f, k_emf, k_damp, J_m = sympy.symbols('A_x, f, k_emf, k_damp, J_m')\n",
    "zeta_theta, wn_theta, theta_c, x_c = sympy.symbols(r'zeta_theta, \\omega_{\\theta}, \\theta_c, x_c')\n",
    "zeta_x, wn_x = sympy.symbols(r'zeta_x, \\omega_{x}')\n",
    "x_ddot_d, theta_ddot_d = sympy.symbols(r'\\ddot{x}_d ,\\ddot{\\theta}_d')"
   ]
  },
  {
   "cell_type": "code",
   "execution_count": 3,
   "metadata": {
    "collapsed": false
   },
   "outputs": [],
   "source": [
    "frame_i = mech.ReferenceFrame('i')\n",
    "frame_b = frame_i.orientnew('b', 'Axis', (theta(t), frame_i.y))\n",
    "frame_w = frame_b.orientnew('b', 'Axis', (alpha(t), frame_b.y))"
   ]
  },
  {
   "cell_type": "code",
   "execution_count": 4,
   "metadata": {
    "collapsed": false
   },
   "outputs": [],
   "source": [
    "point_o = mech.Point('o')\n",
    "point_o.set_vel(frame_i, 0)"
   ]
  },
  {
   "cell_type": "code",
   "execution_count": 5,
   "metadata": {
    "collapsed": false
   },
   "outputs": [],
   "source": [
    "point_a = point_o.locatenew('a', x(t)*frame_i.x)\n",
    "point_a.set_vel(frame_b, 0)\n",
    "point_a.set_vel(frame_i, point_a.pos_from(point_o).diff(t, frame_i))\n",
    "point_a.set_acc(frame_i, point_a.vel(frame_i).diff(t, frame_i))"
   ]
  },
  {
   "cell_type": "code",
   "execution_count": 6,
   "metadata": {
    "collapsed": false
   },
   "outputs": [],
   "source": [
    "point_p = point_a.locatenew('p', -l*frame_b.z)\n",
    "point_p.set_vel(frame_b, 0)\n",
    "point_p.v1pt_theory(point_a, frame_i, frame_b)\n",
    "point_p.a2pt_theory(point_a, frame_i, frame_b);"
   ]
  },
  {
   "cell_type": "code",
   "execution_count": 7,
   "metadata": {
    "collapsed": false
   },
   "outputs": [
    {
     "data": {
      "text/latex": [
       "$^i\\mathbf{a}^p=\\ddot{x}\\mathbf{\\hat{i}_x} -  l \\ddot{\\theta}\\mathbf{\\hat{b}_x} + l \\left(\\dot{\\theta}\\right)^{2}\\mathbf{\\hat{b}_z}$"
      ],
      "text/plain": [
       "<IPython.core.display.Latex at 0x20c8250>"
      ]
     },
     "execution_count": 7,
     "metadata": {},
     "output_type": "execute_result"
    }
   ],
   "source": [
    "custom_latex_labelled_eq('^i\\mathbf{a}^p', point_p.acc(frame_i))"
   ]
  },
  {
   "cell_type": "markdown",
   "metadata": {},
   "source": [
    "##No Slip Constraint"
   ]
  },
  {
   "cell_type": "markdown",
   "metadata": {},
   "source": [
    "We assume that the wheel does not slip, so that as the vehicle translates, the wheel rotate accordingly."
   ]
  },
  {
   "cell_type": "code",
   "execution_count": 8,
   "metadata": {
    "collapsed": false
   },
   "outputs": [
    {
     "data": {
      "text/latex": [
       "$0=- r_{w} \\left(\\dot{\\alpha} + \\dot{\\theta}\\right) + \\dot{x}$"
      ],
      "text/plain": [
       "<IPython.core.display.Latex at 0x500a310>"
      ]
     },
     "execution_count": 8,
     "metadata": {},
     "output_type": "execute_result"
    }
   ],
   "source": [
    "no_slip_wheel_1 = (point_a.vel(frame_i) - \\\n",
    "    r_w*frame_w.ang_vel_in(frame_i).dot(frame_i.y)*frame_i.x).dot(frame_i.x)\n",
    "custom_latex_labelled_eq('0', no_slip_wheel_1)"
   ]
  },
  {
   "cell_type": "markdown",
   "metadata": {},
   "source": [
    "The derivative of this constraint equation will also be useful."
   ]
  },
  {
   "cell_type": "code",
   "execution_count": 9,
   "metadata": {
    "collapsed": false
   },
   "outputs": [
    {
     "data": {
      "text/latex": [
       "$0=- r_{w} \\left(\\ddot{\\alpha} + \\ddot{\\theta}\\right) + \\ddot{x}$"
      ],
      "text/plain": [
       "<IPython.core.display.Latex at 0x20c8190>"
      ]
     },
     "execution_count": 9,
     "metadata": {},
     "output_type": "execute_result"
    }
   ],
   "source": [
    "no_slip_wheel_2 = no_slip_wheel_1.diff(t)\n",
    "custom_latex_labelled_eq('0', no_slip_wheel_2)"
   ]
  },
  {
   "cell_type": "markdown",
   "metadata": {},
   "source": [
    "When deriving the equation of motion, we can therefore use the following substitution."
   ]
  },
  {
   "cell_type": "code",
   "execution_count": 10,
   "metadata": {
    "collapsed": false
   },
   "outputs": [
    {
     "data": {
      "image/png": "[encoded data removed]",
      "text/latex": [
       "$$\\left \\{ \\dot{\\alpha} : - \\dot{\\theta} + \\frac{\\dot{x}}{r_{w}}, \\quad \\ddot{\\alpha} : - \\ddot{\\theta} + \\frac{\\ddot{x}}{r_{w}}\\right \\}$$"
      ],
      "text/plain": [
       "⎧           ẋ             ẍ⎫\n",
       "⎨α̇: -θ̇ + ───, α̈: -θ̈ + ───⎬\n",
       "⎩          r_w            r_w⎭"
      ]
     },
     "execution_count": 10,
     "metadata": {},
     "output_type": "execute_result"
    }
   ],
   "source": [
    "no_slip_sub = {\n",
    "    alpha(t).diff(t): sympy.solve(no_slip_wheel_1, alpha(t).diff(t))[0],\n",
    "    alpha(t).diff(t,2): sympy.solve(no_slip_wheel_2, alpha(t).diff(t,2))[0]\n",
    "}\n",
    "no_slip_sub"
   ]
  },
  {
   "cell_type": "markdown",
   "metadata": {},
   "source": [
    "##Motor Dynamics"
   ]
  },
  {
   "cell_type": "markdown",
   "metadata": {},
   "source": [
    "The motor dynamics are described by a second order system with a pole at the origin. This model is simplified but captures the damping of the motor, the torque created by the applied voltage, and the influence of the external torque on the motor."
   ]
  },
  {
   "cell_type": "code",
   "execution_count": 11,
   "metadata": {
    "collapsed": false
   },
   "outputs": [
    {
     "data": {
      "text/latex": [
       "$0=- J_{m} \\ddot{\\alpha} + T + V k_{emf} - k_{damp} \\dot{\\alpha}$"
      ],
      "text/plain": [
       "<IPython.core.display.Latex at 0x501b890>"
      ]
     },
     "execution_count": 11,
     "metadata": {},
     "output_type": "execute_result"
    }
   ],
   "source": [
    "M_motor = T + k_emf*V - k_damp*alpha(t).diff(t)\n",
    "eom_motor_alpha = M_motor - J_m*alpha(t).diff(t,2)\n",
    "sympy.Eq(eom_motor_alpha,0)\n",
    "custom_latex_labelled_eq('0',eom_motor_alpha)"
   ]
  },
  {
   "cell_type": "markdown",
   "metadata": {},
   "source": [
    "where $T$ is the external torque, $J_m$, is the motor inertia, $k_emf$ is the electromotive constant, and $k_damp$ is the motor damping constant."
   ]
  },
  {
   "cell_type": "markdown",
   "metadata": {},
   "source": [
    "If we substitute the no slip wheel condition, we can express this eom in terms of the system states $(\\theta, \\dot{\\theta}, x, \\dot{x})$ and their derivatives."
   ]
  },
  {
   "cell_type": "code",
   "execution_count": 12,
   "metadata": {
    "collapsed": false
   },
   "outputs": [
    {
     "data": {
      "text/latex": [
       "$0=- J_{m} \\left(- \\ddot{\\theta} + \\frac{\\ddot{x}}{r_{w}}\\right) + T + V k_{emf} - k_{damp} \\left(- \\dot{\\theta} + \\frac{\\dot{x}}{r_{w}}\\right)$"
      ],
      "text/plain": [
       "<IPython.core.display.Latex at 0x501b210>"
      ]
     },
     "execution_count": 12,
     "metadata": {},
     "output_type": "execute_result"
    }
   ],
   "source": [
    "eom_motor = eom_motor_alpha.subs(no_slip_sub)\n",
    "custom_latex_labelled_eq('0', eom_motor)"
   ]
  },
  {
   "cell_type": "markdown",
   "metadata": {},
   "source": [
    "##Wheel Dynamics"
   ]
  },
  {
   "cell_type": "markdown",
   "metadata": {},
   "source": [
    "The force on the wheel is located at the bottom of the wheel and given by:"
   ]
  },
  {
   "cell_type": "code",
   "execution_count": 13,
   "metadata": {
    "collapsed": false
   },
   "outputs": [
    {
     "data": {
      "text/latex": [
       "$\\mathbf{F}^{wheel}=(A_{x} - f + v)\\mathbf{\\hat{i}_x}$"
      ],
      "text/plain": [
       "<IPython.core.display.Latex at 0x564dd90>"
      ]
     },
     "execution_count": 13,
     "metadata": {},
     "output_type": "execute_result"
    }
   ],
   "source": [
    "F_wheel = (A_x - f + v)*frame_i.x\n",
    "custom_latex_labelled_eq('\\mathbf{F}^{wheel}',F_wheel)"
   ]
  },
  {
   "cell_type": "markdown",
   "metadata": {},
   "source": [
    "where $A_x$ is the reaction force of the axle, $f$ is the friction force created by the ground to enforce the no slip constraint, and $v$ is an unknown disturbance force that could represent wheel slip or various other unmodelled forces."
   ]
  },
  {
   "cell_type": "markdown",
   "metadata": {},
   "source": [
    "\n",
    "The moment on the wheel about the axle ($a$) is given by:"
   ]
  },
  {
   "cell_type": "code",
   "execution_count": 14,
   "metadata": {
    "collapsed": false
   },
   "outputs": [
    {
     "data": {
      "text/latex": [
       "$\\mathbf{M}_a^{wheel}=(T - f r_{w})\\mathbf{\\hat{b}_y}$"
      ],
      "text/plain": [
       "<IPython.core.display.Latex at 0x564ca90>"
      ]
     },
     "execution_count": 14,
     "metadata": {},
     "output_type": "execute_result"
    }
   ],
   "source": [
    "M_a_wheel = (T - f*r_w)*frame_b.y\n",
    "sympy.Eq(sympy.Symbol('M_a'), M_a_wheel.dot(frame_b.y))\n",
    "custom_latex_labelled_eq('\\mathbf{M}_a^{wheel}',M_a_wheel)"
   ]
  },
  {
   "cell_type": "markdown",
   "metadata": {},
   "source": [
    "where $f$ is the friction force acting on the bottom of the wheel, $r_w$ is the radius of the wheel, and $T$ is the torque acting through the motor shaft."
   ]
  },
  {
   "cell_type": "markdown",
   "metadata": {},
   "source": [
    "The rigid body dynamics of the wheel are goverened by Newton's 2nd Law:"
   ]
  },
  {
   "cell_type": "code",
   "execution_count": 15,
   "metadata": {
    "collapsed": false
   },
   "outputs": [
    {
     "data": {
      "text/latex": [
       "$0=A_{x} - f - m_{w} \\ddot{x} + v$"
      ],
      "text/plain": [
       "<IPython.core.display.Latex at 0x564dcd0>"
      ]
     },
     "execution_count": 15,
     "metadata": {},
     "output_type": "execute_result"
    }
   ],
   "source": [
    "eom_wheel_1 = (F_wheel - m_w*point_a.acc(frame_i)).dot(frame_i.x).subs(no_slip_sub)\n",
    "sympy.Eq(eom_wheel_1, 0)\n",
    "custom_latex_labelled_eq('0',eom_wheel_1)"
   ]
  },
  {
   "cell_type": "markdown",
   "metadata": {},
   "source": [
    "where $A_x$ is the reaction force of the axle, $f$ is the friction force created by the ground to enforce the no slip constraint, $m_w$ is the mass of the wheel, $\\ddot{x}$ is the acceleration of the wheel axle, and $v$ is an unknown disturbance force that could represent wheel slip or various other unmodelled forces."
   ]
  },
  {
   "cell_type": "markdown",
   "metadata": {},
   "source": [
    "The rigid body rotational dynamics of the wheel are goverend by Euler's 2nd law:"
   ]
  },
  {
   "cell_type": "code",
   "execution_count": 16,
   "metadata": {
    "collapsed": false
   },
   "outputs": [
    {
     "data": {
      "text/latex": [
       "$0=- \\frac{J_{w} \\ddot{x}}{r_{w}} + T - f r_{w}$"
      ],
      "text/plain": [
       "<IPython.core.display.Latex at 0x564cad0>"
      ]
     },
     "execution_count": 16,
     "metadata": {},
     "output_type": "execute_result"
    }
   ],
   "source": [
    "eom_wheel_2 = (M_a_wheel - J_w*frame_w.ang_acc_in(frame_i)).dot(frame_b.y).subs(no_slip_sub).simplify()\n",
    "custom_latex_labelled_eq('0',eom_wheel_2)"
   ]
  },
  {
   "cell_type": "markdown",
   "metadata": {},
   "source": [
    "where $J_w$ is the rotational inertia of the wheel, $r_w$ is the radius of the wheel, $f$ is the friction force created by the ground to enforce the no slip constraint, and $T$ is the torque acting through the motor shaft."
   ]
  },
  {
   "cell_type": "markdown",
   "metadata": {},
   "source": [
    "##Pendulum Dynamics"
   ]
  },
  {
   "cell_type": "code",
   "execution_count": 17,
   "metadata": {
    "collapsed": false
   },
   "outputs": [],
   "source": [
    "F_pend = (-2*A_x)*frame_i.x # two wheels\n",
    "M_a_pend = (m*g*l*sympy.sin(theta(t)) - 2*(T + w))*frame_b.y # two wheels"
   ]
  },
  {
   "cell_type": "code",
   "execution_count": 18,
   "metadata": {
    "collapsed": false
   },
   "outputs": [
    {
     "data": {
      "text/latex": [
       "$0=- 2 A_{x} - l m \\operatorname{sin}\\left(\\theta\\right) \\left(\\dot{\\theta}\\right)^{2} + l m \\operatorname{cos}\\left(\\theta\\right) \\ddot{\\theta} - m \\ddot{x}$"
      ],
      "text/plain": [
       "<IPython.core.display.Latex at 0x564cb50>"
      ]
     },
     "execution_count": 18,
     "metadata": {},
     "output_type": "execute_result"
    }
   ],
   "source": [
    "eom_pend_1 = (F_pend - m*point_p.acc(frame_i)).dot(frame_i.x)\n",
    "custom_latex_labelled_eq('0',eom_pend_1)"
   ]
  },
  {
   "cell_type": "code",
   "execution_count": 19,
   "metadata": {
    "collapsed": false
   },
   "outputs": [
    {
     "data": {
      "text/latex": [
       "$0=- J \\ddot{\\theta} - 2 T + g l m \\operatorname{sin}\\left(\\theta\\right) - 2 w$"
      ],
      "text/plain": [
       "<IPython.core.display.Latex at 0x5700850>"
      ]
     },
     "execution_count": 19,
     "metadata": {},
     "output_type": "execute_result"
    }
   ],
   "source": [
    "eom_pend_2 = (M_a_pend - J*frame_b.ang_acc_in(frame_i)).dot(frame_b.y)\n",
    "custom_latex_labelled_eq('0',eom_pend_2)"
   ]
  },
  {
   "cell_type": "markdown",
   "metadata": {},
   "source": [
    "##Solve System of Equations"
   ]
  },
  {
   "cell_type": "markdown",
   "metadata": {},
   "source": [
    "There are 5 equations of motion (2 from the pendulum, 2 from wheel, and 1 from the motor) and 5 unknowns ($f$, $A_x$, $T$, $\\ddot{x}$, $\\ddot{\\theta}$)."
   ]
  },
  {
   "cell_type": "code",
   "execution_count": 20,
   "metadata": {
    "collapsed": false
   },
   "outputs": [],
   "source": [
    "sol = sympy.solve(\n",
    "    [eom_pend_1, eom_pend_2, eom_wheel_1, eom_wheel_2, eom_motor],\n",
    "    [f, A_x, T,  x(t).diff(t,2), theta(t).diff(t,2)])"
   ]
  },
  {
   "cell_type": "code",
   "execution_count": 21,
   "metadata": {
    "collapsed": false
   },
   "outputs": [],
   "source": [
    "simp_assump = {J_w:0, J_m:0, m_w:0}"
   ]
  },
  {
   "cell_type": "code",
   "execution_count": 22,
   "metadata": {
    "collapsed": false
   },
   "outputs": [
    {
     "data": {
      "image/png": "[encoded data removed]",
      "text/latex": [
       "$$\\ddot{\\theta} = \\frac{2 J_{m} l m r_{w}^{2} \\operatorname{sin}\\left(\\theta\\right) \\left(\\dot{\\theta}\\right)^{2} - 4 J_{m} r_{w}^{2} v + r_{w} \\left(g l m \\operatorname{sin}\\left(\\theta\\right) - 2 w\\right) \\left(2 J_{m} - 2 J_{w} + m r_{w}^{2} + 2 m_{w} r_{w}^{2}\\right) + 2 \\left(- 2 J_{w} + m r_{w}^{2} + 2 m_{w} r_{w}^{2}\\right) \\left(V k_{emf} r_{w} + k_{damp} r_{w} \\dot{\\theta} - k_{damp} \\dot{x}\\right)}{r_{w} \\left(2 J J_{m} - 2 J J_{w} + J m r_{w}^{2} + 2 J m_{w} r_{w}^{2} + 4 J_{m} J_{w} + 2 J_{m} l m r_{w} \\operatorname{cos}\\left(\\theta\\right) - 2 J_{m} m r_{w}^{2} - 4 J_{m} m_{w} r_{w}^{2}\\right)}$$"
      ],
      "text/plain": [
       "                  2          2            2                              ⎛    \n",
       "     2⋅J_m⋅l⋅m⋅r_w ⋅sin(θ)⋅θ̇  - 4⋅J_m⋅r_w ⋅v + r_w⋅(g⋅l⋅m⋅sin(θ) - 2⋅w)⋅⎝2⋅J_\n",
       "θ̈ = ─────────────────────────────────────────────────────────────────────────\n",
       "                                          ⎛                           2       \n",
       "                                      r_w⋅⎝2⋅J⋅J_m - 2⋅J⋅J_w + J⋅m⋅r_w  + 2⋅J⋅\n",
       "\n",
       "                 2            2⎞     ⎛              2            2⎞           \n",
       "m - 2⋅J_w + m⋅r_w  + 2⋅m_w⋅r_w ⎠ + 2⋅⎝-2⋅J_w + m⋅r_w  + 2⋅m_w⋅r_w ⎠⋅(V⋅k_emf⋅r\n",
       "──────────────────────────────────────────────────────────────────────────────\n",
       "       2                                                 2                2⎞  \n",
       "m_w⋅r_w  + 4⋅J_m⋅J_w + 2⋅J_m⋅l⋅m⋅r_w⋅cos(θ) - 2⋅J_m⋅m⋅r_w  - 4⋅J_m⋅m_w⋅r_w ⎠  \n",
       "\n",
       "                               \n",
       "_w + k_damp⋅r_w⋅θ̇ - k_damp⋅ẋ)\n",
       "───────────────────────────────\n",
       "                               \n",
       "                               "
      ]
     },
     "execution_count": 22,
     "metadata": {},
     "output_type": "execute_result"
    }
   ],
   "source": [
    "sympy.Eq(theta(t).diff(t,2), sol[theta(t).diff(t,2)])"
   ]
  },
  {
   "cell_type": "code",
   "execution_count": 23,
   "metadata": {
    "collapsed": false
   },
   "outputs": [
    {
     "data": {
      "image/png": "[encoded data removed]",
      "text/latex": [
       "$$\\ddot{\\theta} = \\frac{1}{J r_{w}} \\left(2 V k_{emf} r_{w} + 2 k_{damp} r_{w} \\dot{\\theta} - 2 k_{damp} \\dot{x} + r_{w} \\left(g l m \\operatorname{sin}\\left(\\theta\\right) - 2 w\\right)\\right)$$"
      ],
      "text/plain": [
       "     2⋅V⋅k_emf⋅r_w + 2⋅k_damp⋅r_w⋅θ̇ - 2⋅k_damp⋅ẋ + r_w⋅(g⋅l⋅m⋅sin(θ) - 2⋅w)\n",
       "θ̈ = ────────────────────────────────────────────────────────────────────────\n",
       "                                      J⋅r_w                                  "
      ]
     },
     "execution_count": 23,
     "metadata": {},
     "output_type": "execute_result"
    }
   ],
   "source": [
    "theta_ddot_eq = sol[theta(t).diff(t,2)].subs(simp_assump).simplify()\n",
    "sympy.Eq(theta(t).diff(t,2), theta_ddot_eq)"
   ]
  },
  {
   "cell_type": "code",
   "execution_count": 24,
   "metadata": {
    "collapsed": false
   },
   "outputs": [
    {
     "data": {
      "image/png": "[encoded data removed]",
      "text/latex": [
       "$$\\ddot{x} = \\frac{- l m r_{w}^{2} \\left(J - 2 J_{m}\\right) \\operatorname{sin}\\left(\\theta\\right) \\left(\\dot{\\theta}\\right)^{2} + 2 r_{w}^{2} v \\left(J - 2 J_{m}\\right) + r_{w} \\left(2 J_{m} + l m r_{w} \\operatorname{cos}\\left(\\theta\\right)\\right) \\left(g l m \\operatorname{sin}\\left(\\theta\\right) - 2 w\\right) + 2 \\left(J + l m r_{w} \\operatorname{cos}\\left(\\theta\\right)\\right) \\left(V k_{emf} r_{w} + k_{damp} r_{w} \\dot{\\theta} - k_{damp} \\dot{x}\\right)}{2 J J_{m} - 2 J J_{w} + J m r_{w}^{2} + 2 J m_{w} r_{w}^{2} + 4 J_{m} J_{w} + 2 J_{m} l m r_{w} \\operatorname{cos}\\left(\\theta\\right) - 2 J_{m} m r_{w}^{2} - 4 J_{m} m_{w} r_{w}^{2}}$$"
      ],
      "text/plain": [
       "              2                      2        2                               \n",
       "     - l⋅m⋅r_w ⋅(J - 2⋅J_m)⋅sin(θ)⋅θ̇  + 2⋅r_w ⋅v⋅(J - 2⋅J_m) + r_w⋅(2⋅J_m + l\n",
       "ẍ = ─────────────────────────────────────────────────────────────────────────\n",
       "                                                                 2            \n",
       "                                      2⋅J⋅J_m - 2⋅J⋅J_w + J⋅m⋅r_w  + 2⋅J⋅m_w⋅r\n",
       "\n",
       "                                                                              \n",
       "⋅m⋅r_w⋅cos(θ))⋅(g⋅l⋅m⋅sin(θ) - 2⋅w) + 2⋅(J + l⋅m⋅r_w⋅cos(θ))⋅(V⋅k_emf⋅r_w + k_\n",
       "──────────────────────────────────────────────────────────────────────────────\n",
       "  2                                                 2                2        \n",
       "_w  + 4⋅J_m⋅J_w + 2⋅J_m⋅l⋅m⋅r_w⋅cos(θ) - 2⋅J_m⋅m⋅r_w  - 4⋅J_m⋅m_w⋅r_w         \n",
       "\n",
       "                        \n",
       "damp⋅r_w⋅θ̇ - k_damp⋅ẋ)\n",
       "────────────────────────\n",
       "                        \n",
       "                        "
      ]
     },
     "execution_count": 24,
     "metadata": {},
     "output_type": "execute_result"
    }
   ],
   "source": [
    "sympy.Eq(x(t).diff(t,2), sol[x(t).diff(t,2)])"
   ]
  },
  {
   "cell_type": "code",
   "execution_count": 25,
   "metadata": {
    "collapsed": false
   },
   "outputs": [
    {
     "data": {
      "image/png": "[encoded data removed]",
      "text/latex": [
       "$$\\ddot{x} = \\frac{1}{J m r_{w}^{2}} \\left(- J l m r_{w}^{2} \\operatorname{sin}\\left(\\theta\\right) \\left(\\dot{\\theta}\\right)^{2} + 2 J r_{w}^{2} v + l m r_{w}^{2} \\left(g l m \\operatorname{sin}\\left(\\theta\\right) - 2 w\\right) \\operatorname{cos}\\left(\\theta\\right) + 2 \\left(J + l m r_{w} \\operatorname{cos}\\left(\\theta\\right)\\right) \\left(V k_{emf} r_{w} + k_{damp} r_{w} \\dot{\\theta} - k_{damp} \\dot{x}\\right)\\right)$$"
      ],
      "text/plain": [
       "                2          2          2            2                          \n",
       "     - J⋅l⋅m⋅r_w ⋅sin(θ)⋅θ̇  + 2⋅J⋅r_w ⋅v + l⋅m⋅r_w ⋅(g⋅l⋅m⋅sin(θ) - 2⋅w)⋅cos(\n",
       "ẍ = ─────────────────────────────────────────────────────────────────────────\n",
       "                                                                              \n",
       "                                                                        J⋅m⋅r_\n",
       "\n",
       "                                                                     \n",
       "θ) + 2⋅(J + l⋅m⋅r_w⋅cos(θ))⋅(V⋅k_emf⋅r_w + k_damp⋅r_w⋅θ̇ - k_damp⋅ẋ)\n",
       "─────────────────────────────────────────────────────────────────────\n",
       " 2                                                                   \n",
       "w                                                                    "
      ]
     },
     "execution_count": 25,
     "metadata": {},
     "output_type": "execute_result"
    }
   ],
   "source": [
    "x_ddot_eq = sol[x(t).diff(t,2)].subs(simp_assump).simplify()\n",
    "sympy.Eq(x(t).diff(t,2), x_ddot_eq)"
   ]
  },
  {
   "cell_type": "markdown",
   "metadata": {},
   "source": [
    "#Dynamic Inversion Controller"
   ]
  },
  {
   "cell_type": "markdown",
   "metadata": {},
   "source": [
    "##Dynamic Inversion for $\\theta$"
   ]
  },
  {
   "cell_type": "markdown",
   "metadata": {},
   "source": [
    "Now we extract the $\\theta$ dynamics to prepare for dynamic inversion:"
   ]
  },
  {
   "cell_type": "code",
   "execution_count": 26,
   "metadata": {
    "collapsed": false
   },
   "outputs": [],
   "source": [
    "x_ddot_d, theta_ddot_d = sympy.symbols(r'\\ddot{x}_d ,\\ddot{\\theta}_d')"
   ]
  },
  {
   "cell_type": "code",
   "execution_count": 27,
   "metadata": {
    "collapsed": false
   },
   "outputs": [
    {
     "data": {
      "image/png": "[encoded data removed]",
      "text/latex": [
       "$$\\ddot{\\theta}_{d} = - \\omega_{{\\theta}}^{2} \\left(- \\theta_{c} + \\theta\\right) - 2 \\omega_{{\\theta}} \\zeta_{\\theta} \\dot{\\theta}$$"
      ],
      "text/plain": [
       "                                   2                                          \n",
       "\\ddot{\\theta}_d = - \\omega_{\\theta} ⋅(-\\theta_c + θ) - 2⋅\\omega_{\\theta}⋅ζ_θ⋅θ\n",
       "\n",
       " \n",
       "̇"
      ]
     },
     "execution_count": 27,
     "metadata": {},
     "output_type": "execute_result"
    }
   ],
   "source": [
    "theta_ddot_d_eq = -2*zeta_theta*wn_theta*theta(t).diff(t) - wn_theta**2*(theta(t)-theta_c(t))\n",
    "sympy.Eq(theta_ddot_d, theta_ddot_d_eq)"
   ]
  },
  {
   "cell_type": "markdown",
   "metadata": {},
   "source": [
    "Note that $\\dot{\\theta_c}$ can also be included if it is an analytical function, taking the numerical derivative of the reference is problemetic."
   ]
  },
  {
   "cell_type": "code",
   "execution_count": 28,
   "metadata": {
    "collapsed": false
   },
   "outputs": [],
   "source": [
    "theta_ddot_V_inv= sympy.solve(theta_ddot_eq.subs(w,0) - theta_ddot_d, V)[0].expand().collect([theta_ddot_d, k_damp, J], sympy.factor)\n",
    "#sympy.Eq(V, theta_ddot_V_inv)"
   ]
  },
  {
   "cell_type": "code",
   "execution_count": 29,
   "metadata": {
    "collapsed": false
   },
   "outputs": [],
   "source": [
    "theta_ddot_V_inv_d = theta_ddot_V_inv.subs(theta_ddot_d, theta_ddot_d_eq).expand().\\\n",
    "    collect([k_damp, J], sympy.factor)\n",
    "#sympy.Eq(V, theta_ddot_V_inv_d)"
   ]
  },
  {
   "cell_type": "code",
   "execution_count": 30,
   "metadata": {
    "collapsed": false
   },
   "outputs": [
    {
     "data": {
      "image/png": "[encoded data removed]",
      "text/latex": [
       "$$V = - \\frac{J \\omega_{{\\theta}}}{2 k_{emf}} \\left(- \\omega_{{\\theta}} \\theta_{c} + \\omega_{{\\theta}} \\theta + 2 \\zeta_{\\theta} \\dot{\\theta}\\right) - \\frac{g l m \\operatorname{sin}\\left(\\theta\\right)}{2 k_{emf}} + \\frac{k_{damp} \\dot{\\alpha}}{k_{emf}}$$"
      ],
      "text/plain": [
       "      J⋅\\omega_{\\theta}⋅(-\\omega_{\\theta}⋅\\theta_c + \\omega_{\\theta}⋅θ + 2⋅ζ_θ\n",
       "V = - ────────────────────────────────────────────────────────────────────────\n",
       "                                        2⋅k_emf                               \n",
       "\n",
       "⋅θ̇)   g⋅l⋅m⋅sin(θ)   k_damp⋅α̇\n",
       "──── - ──────────── + ─────────\n",
       "         2⋅k_emf        k_emf  "
      ]
     },
     "execution_count": 30,
     "metadata": {},
     "output_type": "execute_result"
    }
   ],
   "source": [
    "sympy.Eq(V, theta_ddot_V_inv_d.subs((sympy.solve(no_slip_wheel_1, alpha(t).diff(t))[0]*r_w).simplify(),\n",
    "                                  alpha(t).diff(t)*r_w))"
   ]
  },
  {
   "cell_type": "code",
   "execution_count": 31,
   "metadata": {
    "collapsed": false
   },
   "outputs": [
    {
     "data": {
      "image/png": "[encoded data removed]",
      "text/latex": [
       "$$\\ddot{\\theta} = - \\frac{1}{J} \\left(- J \\omega_{{\\theta}}^{2} \\theta_{c} + J \\omega_{{\\theta}}^{2} \\theta + 2 J \\omega_{{\\theta}} \\zeta_{\\theta} \\dot{\\theta} + 2 w\\right)$$"
      ],
      "text/plain": [
       "      ⎛                   2                             2                     \n",
       "     -⎝- J⋅\\omega_{\\theta} ⋅\\theta_c + J⋅\\omega_{\\theta} ⋅θ + 2⋅J⋅\\omega_{\\the\n",
       "θ̈ = ─────────────────────────────────────────────────────────────────────────\n",
       "                                                  J                           \n",
       "\n",
       "                ⎞ \n",
       "ta}⋅ζ_θ⋅θ̇ + 2⋅w⎠ \n",
       "──────────────────\n",
       "                  "
      ]
     },
     "execution_count": 31,
     "metadata": {},
     "output_type": "execute_result"
    }
   ],
   "source": [
    "sympy.Eq(theta(t).diff(t,2), theta_ddot_eq.subs({V: theta_ddot_V_inv_d}).collect(w, sympy.factor))"
   ]
  },
  {
   "cell_type": "code",
   "execution_count": 32,
   "metadata": {
    "collapsed": false
   },
   "outputs": [
    {
     "data": {
      "image/png": "[encoded data removed]",
      "text/latex": [
       "$$\\omega_{{\\theta}}^{2} \\theta_{c} - \\omega_{{\\theta}}^{2} \\theta - 2 \\omega_{{\\theta}} \\zeta_{\\theta} \\dot{\\theta} - \\frac{2 w}{J}$$"
      ],
      "text/plain": [
       "               2                           2                                2⋅\n",
       "\\omega_{\\theta} ⋅\\theta_c - \\omega_{\\theta} ⋅θ - 2⋅\\omega_{\\theta}⋅ζ_θ⋅θ̇ - ──\n",
       "                                                                             J\n",
       "\n",
       "w\n",
       "─\n",
       " "
      ]
     },
     "execution_count": 32,
     "metadata": {},
     "output_type": "execute_result"
    }
   ],
   "source": [
    "theta_dyn = theta_ddot_eq.subs({V: theta_ddot_V_inv_d}).collect(w, sympy.factor).ratsimp()\n",
    "theta_dyn"
   ]
  },
  {
   "cell_type": "code",
   "execution_count": 33,
   "metadata": {
    "collapsed": false
   },
   "outputs": [
    {
     "data": {
      "text/latex": [
       "$d_{\\theta}=- \\frac{2 w}{J}$"
      ],
      "text/plain": [
       "<IPython.core.display.Latex at 0x57ccd90>"
      ]
     },
     "execution_count": 33,
     "metadata": {},
     "output_type": "execute_result"
    }
   ],
   "source": [
    "theta_ddot_dist = (theta_dyn - theta_ddot_d_eq).simplify().expand().simplify().collect([J,J_m], sympy.factor)\n",
    "custom_latex_labelled_eq(r'd_{\\theta}', theta_ddot_dist)"
   ]
  },
  {
   "cell_type": "markdown",
   "metadata": {},
   "source": [
    "The actual control input is duty cycle, so we must solve for the duty cycle required for the desired output Voltage."
   ]
  },
  {
   "cell_type": "code",
   "execution_count": 34,
   "metadata": {
    "collapsed": false
   },
   "outputs": [
    {
     "data": {
      "image/png": "[encoded data removed]",
      "text/latex": [
       "$$V = V_{batt} duty$$"
      ],
      "text/plain": [
       "V = V_batt⋅duty"
      ]
     },
     "execution_count": 34,
     "metadata": {},
     "output_type": "execute_result"
    }
   ],
   "source": [
    "V_batt, duty = sympy.symbols('V_batt, duty')\n",
    "V_eq = V - V_batt*duty\n",
    "sympy.Eq(V, sympy.solve(V_eq, V)[0])"
   ]
  },
  {
   "cell_type": "code",
   "execution_count": 35,
   "metadata": {
    "collapsed": false
   },
   "outputs": [
    {
     "data": {
      "image/png": "[encoded data removed]",
      "text/latex": [
       "$$duty = \\frac{V}{V_{batt}}$$"
      ],
      "text/plain": [
       "         V   \n",
       "duty = ──────\n",
       "       V_batt"
      ]
     },
     "execution_count": 35,
     "metadata": {},
     "output_type": "execute_result"
    }
   ],
   "source": [
    "sympy.Eq(duty, sympy.solve(V_eq, duty)[0])"
   ]
  },
  {
   "cell_type": "markdown",
   "metadata": {},
   "source": [
    "## Dynamic Inversion for x"
   ]
  },
  {
   "cell_type": "code",
   "execution_count": 36,
   "metadata": {
    "collapsed": false
   },
   "outputs": [
    {
     "data": {
      "image/png": "[encoded data removed]",
      "text/latex": [
       "$$\\ddot{x} = \\frac{1}{J m r_{w}} \\left(r_{w} \\left(- J l m \\operatorname{sin}\\left(\\theta\\right) \\left(\\dot{\\theta}\\right)^{2} + 2 J v + l m \\left(g l m \\operatorname{sin}\\left(\\theta\\right) - 2 w\\right) \\operatorname{cos}\\left(\\theta\\right)\\right) - \\left(J + l m r_{w} \\operatorname{cos}\\left(\\theta\\right)\\right) \\left(- J \\omega_{{\\theta}}^{2} \\theta_{c} + J \\omega_{{\\theta}}^{2} \\theta + 2 J \\omega_{{\\theta}} \\zeta_{\\theta} \\dot{\\theta} + g l m \\operatorname{sin}\\left(\\theta\\right)\\right)\\right)$$"
      ],
      "text/plain": [
       "         ⎛                 2                                          ⎞       \n",
       "     r_w⋅⎝- J⋅l⋅m⋅sin(θ)⋅θ̇  + 2⋅J⋅v + l⋅m⋅(g⋅l⋅m⋅sin(θ) - 2⋅w)⋅cos(θ)⎠ - (J +\n",
       "ẍ = ─────────────────────────────────────────────────────────────────────────\n",
       "                                                                              \n",
       "\n",
       "                 ⎛                   2                             2          \n",
       " l⋅m⋅r_w⋅cos(θ))⋅⎝- J⋅\\omega_{\\theta} ⋅\\theta_c + J⋅\\omega_{\\theta} ⋅θ + 2⋅J⋅\\\n",
       "──────────────────────────────────────────────────────────────────────────────\n",
       "                 J⋅m⋅r_w                                                      \n",
       "\n",
       "                                    ⎞\n",
       "omega_{\\theta}⋅ζ_θ⋅θ̇ + g⋅l⋅m⋅sin(θ)⎠\n",
       "─────────────────────────────────────\n",
       "                                     "
      ]
     },
     "execution_count": 36,
     "metadata": {},
     "output_type": "execute_result"
    }
   ],
   "source": [
    "x_ddot_eq2 = x_ddot_eq.subs(V, theta_ddot_V_inv_d).simplify()\n",
    "sympy.Eq(x(t).diff(t,2), x_ddot_eq2)"
   ]
  },
  {
   "cell_type": "code",
   "execution_count": 37,
   "metadata": {
    "collapsed": false
   },
   "outputs": [
    {
     "data": {
      "image/png": "[encoded data removed]",
      "text/latex": [
       "$$\\theta_{c} = \\frac{1}{\\omega_{{\\theta}}^{2} \\left(J + l m r_{w} \\operatorname{cos}\\left(\\theta\\right)\\right)} \\left(\\ddot{x}_{d} m r_{w} + \\omega_{{\\theta}}^{2} \\left(J + l m r_{w} \\operatorname{cos}\\left(\\theta\\right)\\right) \\theta + 2 \\omega_{{\\theta}} \\zeta_{\\theta} \\left(J + l m r_{w} \\operatorname{cos}\\left(\\theta\\right)\\right) \\dot{\\theta} + g l m \\operatorname{sin}\\left(\\theta\\right) + l m r_{w} \\operatorname{sin}\\left(\\theta\\right) \\left(\\dot{\\theta}\\right)^{2}\\right)$$"
      ],
      "text/plain": [
       "                                             2                                \n",
       "           \\ddot{x}_d⋅m⋅r_w + \\omega_{\\theta} ⋅(J + l⋅m⋅r_w⋅cos(θ))⋅θ + 2⋅\\ome\n",
       "\\theta_c = ───────────────────────────────────────────────────────────────────\n",
       "                                                                              \n",
       "                                                               \\omega_{\\theta}\n",
       "\n",
       "                                                                          2\n",
       "ga_{\\theta}⋅ζ_θ⋅(J + l⋅m⋅r_w⋅cos(θ))⋅θ̇ + g⋅l⋅m⋅sin(θ) + l⋅m⋅r_w⋅sin(θ)⋅θ̇ \n",
       "───────────────────────────────────────────────────────────────────────────\n",
       "2                                                                          \n",
       " ⋅(J + l⋅m⋅r_w⋅cos(θ))                                                     "
      ]
     },
     "execution_count": 37,
     "metadata": {},
     "output_type": "execute_result"
    }
   ],
   "source": [
    "x_ddot_theta_inv = sympy.solve(x_ddot_eq2.subs({w:0, v:0}) - x_ddot_d, theta_c(t))[0].collect([theta(t), sympy.sin(theta(t))], sympy.factor)\n",
    "sympy.Eq(theta_c(t), x_ddot_theta_inv)"
   ]
  },
  {
   "cell_type": "code",
   "execution_count": 38,
   "metadata": {
    "collapsed": false
   },
   "outputs": [
    {
     "data": {
      "image/png": "[encoded data removed]",
      "text/latex": [
       "$$\\ddot{x}_{d} = \\tau_{x} \\left(- \\dot{x}_{c} + \\dot{x}\\right)$$"
      ],
      "text/plain": [
       "\\ddot{x}_d = τₓ⋅(-\\dot{x}_c + ẋ)"
      ]
     },
     "execution_count": 38,
     "metadata": {},
     "output_type": "execute_result"
    }
   ],
   "source": [
    "x_dot_c, tau_x = sympy.symbols(r'\\dot{x}_c, tau_x')\n",
    "x_ddot_d_eq =  tau_x*(x(t).diff(t) - x_dot_c)\n",
    "sympy.Eq(x_ddot_d, x_ddot_d_eq)"
   ]
  },
  {
   "cell_type": "code",
   "execution_count": 39,
   "metadata": {
    "collapsed": false
   },
   "outputs": [
    {
     "data": {
      "image/png": "[encoded data removed]",
      "text/latex": [
       "$$\\ddot{x} = \\ddot{x}_{d} + \\frac{1}{J m} \\left(2 J v - 2 l m w \\operatorname{cos}\\left(\\theta\\right)\\right)$$"
      ],
      "text/plain": [
       "                  2⋅J⋅v - 2⋅l⋅m⋅w⋅cos(θ)\n",
       "ẍ = \\ddot{x}_d + ──────────────────────\n",
       "                           J⋅m          "
      ]
     },
     "execution_count": 39,
     "metadata": {},
     "output_type": "execute_result"
    }
   ],
   "source": [
    "x_ddot_dyn = x_ddot_eq2.subs(theta_c(t), x_ddot_theta_inv)\n",
    "x_ddot_dyn = x_ddot_d + (x_ddot_dyn - x_ddot_d).simplify().expand().\\\n",
    "    collect([w,v], sympy.factor).ratsimp().collect([w,v], sympy.factor)\n",
    "sympy.Eq(x(t).diff(t,2), x_ddot_dyn)"
   ]
  },
  {
   "cell_type": "code",
   "execution_count": 40,
   "metadata": {
    "collapsed": false
   },
   "outputs": [
    {
     "data": {
      "text/latex": [
       "$d_x=\\frac{1}{J m} \\left(2 J v - 2 l m w \\operatorname{cos}\\left(\\theta\\right)\\right)$"
      ],
      "text/plain": [
       "<IPython.core.display.Latex at 0x5b65f10>"
      ]
     },
     "execution_count": 40,
     "metadata": {},
     "output_type": "execute_result"
    }
   ],
   "source": [
    "x_ddot_dist = x_ddot_dyn - x_ddot_d\n",
    "custom_latex_labelled_eq('d_x', x_ddot_dist)"
   ]
  },
  {
   "cell_type": "markdown",
   "metadata": {},
   "source": [
    "How is disturbance term handled, want to make it appear as bounded input if possible."
   ]
  },
  {
   "cell_type": "markdown",
   "metadata": {},
   "source": [
    "# System Identification"
   ]
  },
  {
   "cell_type": "markdown",
   "metadata": {},
   "source": [
    "## Motor"
   ]
  },
  {
   "cell_type": "markdown",
   "metadata": {},
   "source": [
    "Several simple tests can be performed to find the motor coefficients using a simple dynamic inversion control law."
   ]
  },
  {
   "cell_type": "markdown",
   "metadata": {},
   "source": [
    "### Electromotive Force Coefficient ($k_{emf}$)"
   ]
  },
  {
   "cell_type": "markdown",
   "metadata": {},
   "source": [
    "To find the electromotive force coefficient, we can use the known gravitational torque of the pendulum. The center of mass of the pendulum, $l$, can be found by balancing the pendulum without the wheels attached. The mass of the pendulum component of the segway (without the wheels), can also be found. The gravitational torque is then $T=mgl\\sin(\\theta)$."
   ]
  },
  {
   "cell_type": "markdown",
   "metadata": {},
   "source": [
    "Identification Procedure:\n",
    "1. Measure the mass of the body of the segway without the wheels.\n",
    "2. Use a balancing point to find the center of mass of the segway without the wheels.\n",
    "3. Setup the controller to output $V=-mgl\\cos(\\theta)/c_{emf}$. Guess the initial value of $c_{emf}$ from the datasheet of the motor for the electromotive force constant or the max torque divided by the max voltage.\n",
    "4. Angle the segway to several degrees (5 or more), and try to find the value of $c$ such that the segway is in dynamics equilibrium (where $\\theta$ is approximately constant for a few seconds).\n",
    "5. Repeat 3-4 until an acceptable value of $c_{emf}$ is found."
   ]
  },
  {
   "cell_type": "markdown",
   "metadata": {},
   "source": [
    "We know that the motor equation of motion is:"
   ]
  },
  {
   "cell_type": "code",
   "execution_count": 41,
   "metadata": {
    "collapsed": false
   },
   "outputs": [
    {
     "data": {
      "text/latex": [
       "$0=- J_{m} \\ddot{\\alpha} + T + V k_{emf} - k_{damp} \\dot{\\alpha}$"
      ],
      "text/plain": [
       "<IPython.core.display.Latex at 0x564ccd0>"
      ]
     },
     "execution_count": 41,
     "metadata": {},
     "output_type": "execute_result"
    }
   ],
   "source": [
    "custom_latex_labelled_eq('0', eom_motor_alpha)"
   ]
  },
  {
   "cell_type": "markdown",
   "metadata": {},
   "source": [
    "We substitute in $T=mgl\\cos(\\theta)$, $V=-mgl\\cos(\\theta)/k_{emf}$, $\\dot{\\alpha}=0$, $\\ddot{\\alpha}=0$ to arrive at the equation for $k_{emf}$."
   ]
  },
  {
   "cell_type": "code",
   "execution_count": 42,
   "metadata": {
    "collapsed": false
   },
   "outputs": [
    {
     "data": {
      "image/png": "[encoded data removed]",
      "text/latex": [
       "$$k_{emf} = c_{{emf}}$$"
      ],
      "text/plain": [
       "k_emf = c_{emf}"
      ]
     },
     "execution_count": 42,
     "metadata": {},
     "output_type": "execute_result"
    }
   ],
   "source": [
    "k_emf_sysid_eq = sympy.solve(eom_motor_alpha.subs({alpha(t).diff(t):0, alpha(t).diff(t,2):0, \\\n",
    "                                  T:m*g*l*sympy.cos(theta(t)), V:-m*g*l*sympy.cos(theta(t))/sympy.Symbol('c_{emf}')}), k_emf)[0]\n",
    "sympy.Eq(k_emf, k_emf_sysid_eq)"
   ]
  },
  {
   "cell_type": "markdown",
   "metadata": {},
   "source": [
    "### Damping Coefficient ($k_{damp}$)"
   ]
  },
  {
   "cell_type": "markdown",
   "metadata": {},
   "source": [
    "Identification Procedure:\n",
    "1. Configure the feedback gains such that $V=c_{damp}\\dot{\\alpha}$. Choose a small value for $c$ initially so that the system remains stable. Take the system off the floor so that the external torque $T$  is zero.\n",
    "2. Manually spin the wheel.\n",
    "3. If the wheel doesn't continue spinning for several seconds, set $c_{damp}$ higher. If the wheel starts spinning faster, lower $c$. Then repeat starting at 2. If the wheel spins continually for several seconds without speeding up, then stop.\n",
    "4. The value of the feedback gain $c_{damp}$ times $k_{emf}$, is now approximately equal to the damping coefficient ($k_{damp}$)."
   ]
  },
  {
   "cell_type": "markdown",
   "metadata": {},
   "source": [
    "We know that the motor equation of motion is:"
   ]
  },
  {
   "cell_type": "code",
   "execution_count": 43,
   "metadata": {
    "collapsed": false
   },
   "outputs": [
    {
     "data": {
      "text/latex": [
       "$0=- J_{m} \\ddot{\\alpha} + T + V k_{emf} - k_{damp} \\dot{\\alpha}$"
      ],
      "text/plain": [
       "<IPython.core.display.Latex at 0x5639290>"
      ]
     },
     "execution_count": 43,
     "metadata": {},
     "output_type": "execute_result"
    }
   ],
   "source": [
    "custom_latex_labelled_eq('0', eom_motor_alpha)"
   ]
  },
  {
   "cell_type": "markdown",
   "metadata": {},
   "source": [
    "Since for the experiment $T=0$, $V=c\\dot{\\alpha}$, and $\\ddot{\\alpha}=0$, we see that the equation of motion results in the equation:"
   ]
  },
  {
   "cell_type": "code",
   "execution_count": 44,
   "metadata": {
    "collapsed": false
   },
   "outputs": [
    {
     "data": {
      "image/png": "[encoded data removed]",
      "text/latex": [
       "$$k_{damp} = c_{damp} k_{emf}$$"
      ],
      "text/plain": [
       "k_damp = c_damp⋅k_emf"
      ]
     },
     "execution_count": 44,
     "metadata": {},
     "output_type": "execute_result"
    }
   ],
   "source": [
    "k_damp_sysid_eq = sympy.solve(eom_motor_alpha.subs(\n",
    "    {alpha(t).diff(t,2):0, T:0, V:sympy.Symbol('c_damp')*alpha(t).diff(t)}), k_damp)[0]\n",
    "sympy.Eq(k_damp, k_damp_sysid_eq)"
   ]
  },
  {
   "cell_type": "markdown",
   "metadata": {},
   "source": [
    "where $c$ is the feedback gain found in the procedure."
   ]
  },
  {
   "cell_type": "markdown",
   "metadata": {},
   "source": [
    "### Motor Inertia ($J_m$)"
   ]
  },
  {
   "cell_type": "markdown",
   "metadata": {},
   "source": [
    "The inertia of the motor can be determined by the time constant of the motor with respect to a step response."
   ]
  },
  {
   "cell_type": "markdown",
   "metadata": {},
   "source": [
    "Identification Procedure:\n",
    "1. Set the segway on a platform so that the wheels can freely spin.\n",
    "2. Send a step response in voltage, the magnitude should be characteristic of typical motor voltages expected (e.g. (6V) on a 12V motor). We expect the time constant to be the same for all voltage steps if it is linear, but nonlinearities will cause some variation dependent on the magnitude of the step.\n",
    "3. Using log plots of motor voltage (QGroundControl Out1 packet), and the motor encoder packet, determine when the speed of the motor reaches 63.2% (1 - 1/e) of the maximum."
   ]
  },
  {
   "cell_type": "code",
   "execution_count": 45,
   "metadata": {
    "collapsed": false
   },
   "outputs": [
    {
     "data": {
      "image/png": "[encoded data removed]",
      "text/latex": [
       "$$0 = - J_{m} \\ddot{\\alpha} + T + V k_{emf} - k_{damp} \\dot{\\alpha}$$"
      ],
      "text/plain": [
       "0 = -J_m⋅α̈ + T + V⋅k_emf - k_damp⋅α̇"
      ]
     },
     "execution_count": 45,
     "metadata": {},
     "output_type": "execute_result"
    }
   ],
   "source": [
    "sympy.Eq(0,eom_motor_alpha)"
   ]
  },
  {
   "cell_type": "code",
   "execution_count": 46,
   "metadata": {
    "collapsed": false
   },
   "outputs": [
    {
     "data": {
      "image/png": "[encoded data removed]",
      "text/latex": [
       "$$0 = s^{2} \\operatorname{X}\\left(s\\right) + \\frac{k_{damp} s}{J_{m}} \\operatorname{X}\\left(s\\right) - \\frac{k_{emf} \\operatorname{V}\\left(s\\right)}{J_{m}}$$"
      ],
      "text/plain": [
       "     2        k_damp⋅s⋅X(s)   k_emf⋅V(s)\n",
       "0 = s ⋅X(s) + ───────────── - ──────────\n",
       "                   J_m           J_m    "
      ]
     },
     "execution_count": 46,
     "metadata": {},
     "output_type": "execute_result"
    }
   ],
   "source": [
    "s, X = sympy.symbols('s, X')\n",
    "fd_eom_motor = (eom_motor_alpha/(-J_m)).expand().subs(\n",
    "    {alpha(t).diff(t,2): s**2*X(s), alpha(t).diff(t): s*X(s), alpha(t): X, T:0, V:V(s)})\n",
    "sympy.Eq(0,fd_eom_motor)"
   ]
  },
  {
   "cell_type": "markdown",
   "metadata": {},
   "source": [
    "The transfer function for the position of the motor is then:"
   ]
  },
  {
   "cell_type": "code",
   "execution_count": 47,
   "metadata": {
    "collapsed": false
   },
   "outputs": [
    {
     "data": {
      "text/latex": [
       "$G_{m}(s) = X(s)/ V(s)=\\frac{k_{emf}}{s \\left(J_{m} s + k_{damp}\\right)}$"
      ],
      "text/plain": [
       "<IPython.core.display.Latex at 0x1e67590>"
      ]
     },
     "execution_count": 47,
     "metadata": {},
     "output_type": "execute_result"
    }
   ],
   "source": [
    "G_m = sympy.solve(fd_eom_motor, X(s))[0]/V(s)\n",
    "custom_latex_labelled_eq('G_{m}(s) = X(s)/ V(s)', G_m)"
   ]
  },
  {
   "cell_type": "markdown",
   "metadata": {},
   "source": [
    "The transfer function of the velocity of the motor is then:"
   ]
  },
  {
   "cell_type": "code",
   "execution_count": 48,
   "metadata": {
    "collapsed": false
   },
   "outputs": [
    {
     "data": {
      "text/latex": [
       "$G_{mv}(s) = sG_{m}(s)=\\frac{k_{emf}}{J_{m} s + k_{damp}}$"
      ],
      "text/plain": [
       "<IPython.core.display.Latex at 0x57090d0>"
      ]
     },
     "execution_count": 48,
     "metadata": {},
     "output_type": "execute_result"
    }
   ],
   "source": [
    "custom_latex_labelled_eq('G_{mv}(s) = sG_{m}(s)', s*G_m)"
   ]
  },
  {
   "cell_type": "markdown",
   "metadata": {},
   "source": [
    "This is a standard first order plant:\n",
    "\n",
    "$$G_{mv}(s) =\\frac{K_{m}}{1+ s\\tau_{m}}$$\n",
    "\n",
    "$$K_{m} = \\frac{k_{emf}}{k_{damp}}$$\n",
    "\n",
    "$$\\tau_{m} = \\frac{J_m}{k_{damp}}$$"
   ]
  },
  {
   "cell_type": "markdown",
   "metadata": {},
   "source": [
    "When the damping constant goes to zero, the equilibrium velocity of the motor is very high and it takes a long time to reach, thus increasing the time constant. When $J_m$ is very large, the response is sluggish so the time constant increases. Also note that this experiment can be coupled with the experiement for $k_{emf}$ to find $k_{damp}$ in place of the $k_{damp}$ experiement or to confirm the results."
   ]
  },
  {
   "cell_type": "markdown",
   "metadata": {},
   "source": [
    "# EKF Recursive System ID"
   ]
  },
  {
   "cell_type": "code",
   "execution_count": 49,
   "metadata": {
    "collapsed": false
   },
   "outputs": [],
   "source": [
    "x_vect = sympy.Matrix([theta(t), theta(t).diff(t), x(t), x(t).diff(t), m])\n",
    "y_vect = sympy.Matrix([theta(t), theta(t).diff(t), x(t), x(t).diff(t)])\n",
    "u_vect = sympy.Matrix([V])"
   ]
  },
  {
   "cell_type": "code",
   "execution_count": 50,
   "metadata": {
    "collapsed": false
   },
   "outputs": [
    {
     "data": {
      "text/latex": [
       "$\\dot{\\mathbf{x}}(t)=\\left[\\begin{matrix}\\dot{\\theta}\\\\\\frac{2 V}{J} k_{emf} + \\frac{g l}{J} m \\operatorname{sin}\\left(\\theta\\right) + \\frac{2 k_{damp}}{J r_{w}} \\left(r_{w} \\dot{\\theta} - \\dot{x}\\right)\\\\\\dot{x}\\\\\\frac{2 V k_{emf}}{J m r_{w}} \\left(J + l m r_{w} \\operatorname{cos}\\left(\\theta\\right)\\right) + \\frac{2 k_{damp}}{J m r_{w}^{2}} \\left(J + l m r_{w} \\operatorname{cos}\\left(\\theta\\right)\\right) \\left(r_{w} \\dot{\\theta} - \\dot{x}\\right) + \\frac{l \\operatorname{sin}\\left(\\theta\\right)}{J} \\left(- J \\left(\\dot{\\theta}\\right)^{2} + g l m \\operatorname{cos}\\left(\\theta\\right)\\right)\\\\0\\end{matrix}\\right]$"
      ],
      "text/plain": [
       "<IPython.core.display.Latex at 0x57cce10>"
      ]
     },
     "execution_count": 50,
     "metadata": {},
     "output_type": "execute_result"
    }
   ],
   "source": [
    "f_vect = sympy.Matrix([theta(t).diff(t), theta_ddot_eq, x(t).diff(t), x_ddot_eq, 0])\n",
    "f_vect = f_vect.subs({J_m:0, J_w:0, m_w:0, w:0, v:0}).\\\n",
    "    applyfunc(lambda e: e.expand().collect([sympy.sin(theta(t)), k_damp], sympy.factor))\n",
    "custom_latex_labelled_eq('\\dot{\\mathbf{x}}(t)', f_vect)"
   ]
  },
  {
   "cell_type": "code",
   "execution_count": 51,
   "metadata": {
    "collapsed": false
   },
   "outputs": [],
   "source": [
    "F = f_vect.jacobian(x_vect).applyfunc(lambda e: e.expand().collect([k_damp, sympy.sin(theta(t))], sympy.factor))\n",
    "#F"
   ]
  },
  {
   "cell_type": "code",
   "execution_count": 52,
   "metadata": {
    "collapsed": false
   },
   "outputs": [],
   "source": [
    "G = f_vect.jacobian(u_vect).applyfunc(lambda e: e.simplify())\n",
    "#G"
   ]
  },
  {
   "cell_type": "code",
   "execution_count": 53,
   "metadata": {
    "collapsed": false
   },
   "outputs": [],
   "source": [
    "H = x_vect[0:4,:].jacobian(x_vect)\n",
    "#H"
   ]
  },
  {
   "cell_type": "code",
   "execution_count": 54,
   "metadata": {
    "collapsed": false
   },
   "outputs": [],
   "source": [
    "x_def = sympy.DeferredVector('x')\n",
    "x_sub = {theta(t):x_def[0], theta(t).diff(t): x_def[1], x(t): x_def[2], x(t).diff(t): x_def[3]}"
   ]
  },
  {
   "cell_type": "code",
   "execution_count": 55,
   "metadata": {
    "collapsed": false
   },
   "outputs": [],
   "source": [
    "def lambdify_state_space(expr, x_vect, u_vect, const, *args):\n",
    "    x_sub = {}\n",
    "    u_sub = {}\n",
    "    x = sympy.DeferredVector('x')\n",
    "    u = sympy.DeferredVector('u')\n",
    "    for i in range(len(x_vect)):\n",
    "        x_sub[x_vect[i]] = x[i]\n",
    "    for i in range(len(u_vect)):\n",
    "        u_sub[u_vect[i]] = u[i]\n",
    "    expr = expr.subs(x_sub).subs(u_sub)\n",
    "    f = sympy.lambdify((sympy.Symbol('t'), x, u)+args, expr.subs(x_sub).subs(u_sub).subs(const), default_array=True)\n",
    "    return f"
   ]
  },
  {
   "cell_type": "code",
   "execution_count": 56,
   "metadata": {
    "collapsed": false
   },
   "outputs": [],
   "source": [
    "def linearize_state_space(f_vect, y_vect, x_vect, u_vect, segway_constants):\n",
    "    f_A = lambdify_state_space(f_vect.jacobian(x_vect), x_vect, u_vect, segway_constants)\n",
    "    f_B = lambdify_state_space(f_vect.jacobian(u_vect), x_vect, u_vect, segway_constants)\n",
    "    f_C = lambdify_state_space(y_vect.jacobian(x_vect), x_vect, u_vect, segway_constants)\n",
    "    f_D = lambdify_state_space(y_vect.jacobian(u_vect), x_vect, u_vect, segway_constants)\n",
    "    f_f = lambdify_state_space(f_vect, x_vect, u_vect, segway_constants)\n",
    "    f_g = lambdify_state_space(y_vect, x_vect, u_vect, segway_constants)\n",
    "    return f_A, f_B, f_C, f_D, f_f, f_g "
   ]
  },
  {
   "cell_type": "code",
   "execution_count": 57,
   "metadata": {
    "collapsed": false
   },
   "outputs": [],
   "source": [
    "with open('data/log_sysid_theta_closed/sess005/log001.csv') as f:\n",
    "    log = my_util.px4_logutil.px4_log_to_namedtuple(f)"
   ]
  },
  {
   "cell_type": "code",
   "execution_count": 58,
   "metadata": {
    "collapsed": false
   },
   "outputs": [],
   "source": [
    "def get_data_from_log(log, i_start, i_end, cpr=3200):\n",
    "    t = (log.TIME.StartTime[i_start:i_end] - log.TIME.StartTime[i_start])/1e6\n",
    "    dt = savitzky_golay(t, 21, 1, 1)\n",
    "    alpha0_dot = log.ENCD.vel0[i_start:i_end]*2*pi/cpr\n",
    "    alpha1_dot = log.ENCD.vel1[i_start:i_end]*2*pi/cpr\n",
    "    alpha0 = log.ENCD.cnt0[i_start:i_end]*2*pi/cpr\n",
    "    alpha1 = log.ENCD.cnt1[i_start:i_end]*2*pi/cpr\n",
    "    alpha = (alpha0 + alpha1)/2\n",
    "    alpha_dot = (alpha0_dot + alpha1_dot)/2\n",
    "    alpha_dot_smooth = savitzky_golay(alpha_dot, 21, 1)\n",
    "    \n",
    "    theta = log.ATT.Pitch[i_start:i_end]\n",
    "    theta_cmd = log.ATSP.PitchSP[i_start:i_end]\n",
    "    theta_dot = log.ATT.PitchRate[i_start:i_end]\n",
    "    theta_dot_from_theta =  savitzky_golay(theta, 21, 1, 1)/dt\n",
    "    \n",
    "    x = log.LPOS.X[i_start:i_end]\n",
    "    x_dot = log.LPOS.VX[i_start:i_end]\n",
    "    \n",
    "    alpha_dot_from_alpha = savitzky_golay(alpha, 21, 1, 1)/dt\n",
    "    alpha_ddot_from_alpha_dot = savitzky_golay(alpha_dot, 51, 1, 1)/dt\n",
    "    duty_pwm = (log.OUT1.Out0[i_start:i_end] + log.OUT1.Out1[i_start:i_end])/2\n",
    "    duty = (duty_pwm - 1500)/1500\n",
    "    V_batt = log.BATT.VFilt[i_start:i_end]\n",
    "    V = detrend(V_batt*duty)\n",
    "    return my_util.px4_logutil.dict_to_namedtuple('data', locals())"
   ]
  },
  {
   "cell_type": "code",
   "execution_count": 59,
   "metadata": {
    "collapsed": false
   },
   "outputs": [],
   "source": [
    "def do_ekf_fit(x0, data, P, Q, R, f_vect, y_vect, x_vect, u_vect, constants, show_percent=False):\n",
    "    f_A, f_B, f_C, f_D, f_f, f_g = linearize_state_space(f_vect, y_vect, x_vect, u_vect, segway_constants)\n",
    "    x_dot_smooth = savitzky_golay(data.x_dot, 11, 1)\n",
    "    get_y = lambda i: [data.theta[i], data.theta_dot[i], data.x[i], x_dot_smooth[i]]\n",
    "    x0[0:4] = get_y(0)\n",
    "    sim = scipy.integrate.ode(f_f, f_A)\n",
    "    sim.set_initial_value(x0, data.t[0])\n",
    "    n_t = len(data.t)\n",
    "    n_x = len(x0)\n",
    "    n_u = 1\n",
    "    x_hat = np.zeros((n_t, n_x))\n",
    "    u_data = np.zeros((n_t, n_u))\n",
    "    t_data = np.zeros(n_t)\n",
    "    x_hat[0,:] = x0\n",
    "    u_data[0,:] = data.V[0]\n",
    "    t_data[0] = data.t[0]\n",
    "    r_w_val = 0.1\n",
    "    g_val = 9.8\n",
    "    i_final = n_t\n",
    "    for i in range(1,i_final):\n",
    "        if show_percent and (i % 1000 == 0):\n",
    "            print float(100*i)/i_final\n",
    "\n",
    "        # current values\n",
    "        t = data.t[i]\n",
    "        dt = data.t[i] - data.t[i-1]\n",
    "        y = get_y(i)\n",
    "        u = [data.V[i]]\n",
    "\n",
    "        # predict\n",
    "        sim.set_f_params(u)\n",
    "        sim.set_jac_params(u)\n",
    "        sim.integrate(t)\n",
    "\n",
    "        # linearize\n",
    "        x = sim.y\n",
    "        F = f_A(t, x, u)\n",
    "        G = f_B(t, x, u)\n",
    "        H = f_C(t, x, u)\n",
    "        \n",
    "        P = P + (F.dot(P) + P.dot(F.T) + Q)*dt\n",
    "        S = H.dot(P).dot(H.T) + R\n",
    "        K = P.dot(H.T).dot(inv(S))\n",
    "        P = (np.eye(len(x)) - K.dot(H)).dot(P)\n",
    "\n",
    "        r = y - f_g(t, x, u)[:,0]\n",
    "        x = x +  K.dot(r)\n",
    "        \n",
    "        x_hat[i,:] = x\n",
    "        sim.set_initial_value(x, t)\n",
    "        u_data[i,:] = u\n",
    "        t_data[i] = sim.t\n",
    "    t_data = t_data[:i_final]\n",
    "    x_hat = x_hat[:i_final,:]\n",
    "    u_data = u_data[:i_final,:]\n",
    "    return  my_util.px4_logutil.dict_to_namedtuple(\n",
    "        'ekf_sim', {'t': t_data, 'x_hat': x_hat, 'u_data': u_data})"
   ]
  },
  {
   "cell_type": "code",
   "execution_count": 74,
   "metadata": {
    "collapsed": false
   },
   "outputs": [],
   "source": [
    "def comparison_plots(data, X):\n",
    "\n",
    "    subplot(511)\n",
    "    plot(data.t, X[:,2])\n",
    "    plot(data.t, data.x, '.')\n",
    "    #title('position')\n",
    "    #xlabel('t, sec')\n",
    "    ylabel('x, m')\n",
    "    ylabel(r'$x$, m')\n",
    "    legend(['estimated', 'measured'], loc='best')\n",
    "    grid()\n",
    "\n",
    "    subplot(512)\n",
    "    plot(data.t, X[:,3])\n",
    "    plot(data.t, data.x_dot, '.')\n",
    "    #title('velocity')\n",
    "    #xlabel('t, sec')\n",
    "    ylabel(r'$\\dot{x}$, m/s')\n",
    "    #legend(['estimated', 'measured'], loc='best')\n",
    "    grid()\n",
    "\n",
    "    subplot(513)\n",
    "    plot(data.t, rad2deg(X[:,0]))\n",
    "    plot(data.t, rad2deg(data.theta), '.')\n",
    "    #title('pitch')\n",
    "    #xlabel('t, sec')\n",
    "    ylabel(r'$\\theta$, deg')\n",
    "    #legend(['estimated', 'measured'], loc='best')\n",
    "    grid()\n",
    "\n",
    "    subplot(514)\n",
    "    plot(data.t, rad2deg(X[:,1]))\n",
    "    plot(data.t, rad2deg(data.theta_dot), '.')\n",
    "    #title('pitch rate')\n",
    "    #xlabel('t, sec')\n",
    "    ylabel(r'$\\dot{\\theta}$, deg/s')\n",
    "    #legend(['estimated', 'measured'], loc='best')\n",
    "    grid()\n",
    "    \n",
    "    subplot(515)\n",
    "    plot(ekf_sim.t, ekf_sim.x_hat[:,4:])\n",
    "    hlines(segway_constants['m'], ekf_sim.t[0], ekf_sim.t[-1], linestyles='dashed')\n",
    "    #title('mass convergence')\n",
    "    ylabel('m, kg')\n",
    "    xlabel('t, sec');\n",
    "    legend(['estimated', 'known'], loc='best')\n",
    "    grid()"
   ]
  },
  {
   "cell_type": "code",
   "execution_count": 75,
   "metadata": {
    "collapsed": false
   },
   "outputs": [],
   "source": [
    "data = get_data_from_log(log, 5000, 7000)"
   ]
  },
  {
   "cell_type": "code",
   "execution_count": 76,
   "metadata": {
    "collapsed": false
   },
   "outputs": [],
   "source": [
    "x0_std_dev = hstack((ones(4)*1e-1, ones(1)*5e-3))\n",
    "w_std_dev = hstack(([1e-5, 1e-1, 1e-5, 1e-3], ones(1)*0))\n",
    "v_std_dev = [1e-3, 1e-3, 1e-3, 1e-3]\n",
    "P = diag(x0_std_dev)**2\n",
    "Q = diag(w_std_dev)**2\n",
    "R = diag(v_std_dev)**2\n",
    "#P, Q, R"
   ]
  },
  {
   "cell_type": "code",
   "execution_count": 77,
   "metadata": {
    "collapsed": false,
    "figure": {
     "caption": "The mass estimate converges to approximately the known values."
    }
   },
   "outputs": [
    {
     "data": {
      "image/png": "[encoded data removed]",
      "text/plain": [
       "<matplotlib.figure.Figure at 0x62217d0>"
      ]
     },
     "metadata": {},
     "output_type": "display_data"
    }
   ],
   "source": [
    "segway_constants = {'r_w':0.1,\n",
    "                    'J': 0.45941763,\n",
    "                    'l': 0.3175,\n",
    "                    'k_damp': 0.050409123334297368,\n",
    "                    'k_emf': 0.09172392,\n",
    "                    'g': 9.8,\n",
    "                    'm': 2.243\n",
    "                    };\n",
    "ekf_sim = do_ekf_fit([0,0,0,0,5*2.243], data, P, Q, R, f_vect, y_vect, x_vect, u_vect, segway_constants);\n",
    "figure(figsize=(8,12))\n",
    "comparison_plots(data, ekf_sim.x_hat)\n",
    "savefig(os.path.join('figures', 'balance-online-m-identification.pdf'))"
   ]
  },
  {
   "cell_type": "code",
   "execution_count": 64,
   "metadata": {
    "collapsed": false
   },
   "outputs": [],
   "source": [
    "#check thata data is valid\n",
    "#plt.plot(data.t, data.theta_dot, '.')\n",
    "#plt.plot(data.t, data.theta_dot_from_theta)\n",
    "#data.theta_dot_from_theta.dot(data.theta_dot_from_theta)/ (data.theta_dot.dot(data.theta_dot))"
   ]
  },
  {
   "cell_type": "markdown",
   "metadata": {},
   "source": [
    "Note that a higher process error in the pitch rate was noted. This suggests that the torque model could be improved; however, the results are still accurate enough for the mass estimate to converge."
   ]
  },
  {
   "cell_type": "markdown",
   "metadata": {},
   "source": [
    "The rank of the linearized observability matrix is 5, which suggests that the mass parameter will be observable."
   ]
  },
  {
   "cell_type": "code",
   "execution_count": 65,
   "metadata": {
    "collapsed": false
   },
   "outputs": [
    {
     "data": {
      "text/latex": [
       "$rank(\\mathcal{O})=5$"
      ],
      "text/plain": [
       "<IPython.core.display.Latex at 0x60b3150>"
      ]
     },
     "execution_count": 65,
     "metadata": {},
     "output_type": "execute_result"
    }
   ],
   "source": [
    "f_A, f_B, f_C, f_D, f_f, f_g = linearize_state_space(f_vect, y_vect, x_vect, u_vect, segway_constants)\n",
    "x1 = [0.1,0.1,0.1,.1,2.2]\n",
    "u1 = [0]\n",
    "A = f_A(0, x1, u1)\n",
    "C = f_C(0, x1, u1)\n",
    "O = control.obsv(A, C)\n",
    "rank = matrix_rank(control.obsv(A, C))\n",
    "custom_latex_labelled_eq('rank(\\mathcal{O})', rank)"
   ]
  },
  {
   "cell_type": "code",
   "execution_count": 66,
   "metadata": {
    "collapsed": false
   },
   "outputs": [
    {
     "data": {
      "image/png": "[encoded data removed]",
      "text/latex": [
       "$$\\left[\\begin{matrix}\\theta & \\dot{\\theta} & x & \\dot{x} & m\\end{matrix}\\right]$$"
      ],
      "text/plain": [
       "[θ  θ̇  x  ẋ  m]"
      ]
     },
     "execution_count": 66,
     "metadata": {},
     "output_type": "execute_result"
    }
   ],
   "source": [
    "O_sv = svd(O)[1]\n",
    "O_sv_norm = O_sv/O_sv.max()\n",
    "x_vect.T"
   ]
  },
  {
   "cell_type": "code",
   "execution_count": 67,
   "metadata": {
    "collapsed": false
   },
   "outputs": [
    {
     "data": {
      "text/plain": [
       "array([  1.00000000e+00,   1.57784211e-01,   9.30122531e-02,\n",
       "         7.67613698e-04,   5.40236029e-05])"
      ]
     },
     "execution_count": 67,
     "metadata": {},
     "output_type": "execute_result"
    }
   ],
   "source": [
    "O_sv_norm"
   ]
  },
  {
   "cell_type": "code",
   "execution_count": 68,
   "metadata": {
    "collapsed": false
   },
   "outputs": [
    {
     "data": {
      "text/latex": [
       "$$m(t_{final})=      2.67 \\ \\text{kg}$$"
      ],
      "text/plain": [
       "<IPython.core.display.Latex at 0x1334bed0>"
      ]
     },
     "execution_count": 68,
     "metadata": {},
     "output_type": "execute_result"
    }
   ],
   "source": [
    "m_f =  ekf_sim.x_hat[-1,4:][0]\n",
    "\n",
    "Latex(r'$$m(t_{{final}})={:10.2f} \\ \\text{{kg}}$$'.format(m_f))"
   ]
  },
  {
   "cell_type": "code",
   "execution_count": 69,
   "metadata": {
    "collapsed": false
   },
   "outputs": [
    {
     "data": {
      "text/latex": [
       "$$m_{measured}=      2.24 \\ \\text{kg}$$"
      ],
      "text/plain": [
       "<IPython.core.display.Latex at 0x1334bc50>"
      ]
     },
     "execution_count": 69,
     "metadata": {},
     "output_type": "execute_result"
    }
   ],
   "source": [
    "Latex(r'$$m_{{measured}}={:10.2f} \\ \\text{{kg}}$$'.format(segway_constants['m']))"
   ]
  },
  {
   "cell_type": "markdown",
   "metadata": {},
   "source": [
    "##Identified Open Loop Linearized Dynamics"
   ]
  },
  {
   "cell_type": "code",
   "execution_count": 70,
   "metadata": {
    "collapsed": false
   },
   "outputs": [],
   "source": [
    "A = f_A(0, [0,0,0,0,m_f], [0])\n",
    "B = f_B(0, [0,0,0,0,m_f], [0])\n",
    "C = f_C(0, [0,0,0,0,m_f], [0])\n",
    "D = f_D(0, [0,0,0,0,m_f], [0])\n",
    "ss = control.ss(A,B,C,D);\n",
    "#control.lqr(A[:4,:4], B[:4], eye(4), eye(1));"
   ]
  },
  {
   "cell_type": "code",
   "execution_count": 71,
   "metadata": {
    "collapsed": false
   },
   "outputs": [
    {
     "data": {
      "text/plain": [
       "\n",
       "Input 1 to output 1:\n",
       "       0.3993 s^2 + 4.441e-16 s\n",
       "-------------------------------------\n",
       "s^4 + 4.256 s^3 - 18.07 s^2 - 68.28 s\n",
       "\n",
       "Input 1 to output 2:\n",
       "0.3993 s^3 - 1.11e-15 s^2 - 1.954e-14 s\n",
       "---------------------------------------\n",
       " s^4 + 4.256 s^3 - 18.07 s^2 - 68.28 s\n",
       "\n",
       "Input 1 to output 3:\n",
       "         0.8143 s^2 - 3.525e-15 s - 12.42\n",
       "-------------------------------------------------\n",
       "s^4 + 4.256 s^3 - 18.07 s^2 - 68.28 s + 2.345e-14\n",
       "\n",
       "Input 1 to output 4:\n",
       " 0.8143 s^3 - 3.83e-15 s^2 - 12.42 s\n",
       "-------------------------------------\n",
       "s^4 + 4.256 s^3 - 18.07 s^2 - 68.28 s"
      ]
     },
     "execution_count": 71,
     "metadata": {},
     "output_type": "execute_result"
    }
   ],
   "source": [
    "tfm = control.ss2tf(ss)\n",
    "tfm"
   ]
  },
  {
   "cell_type": "code",
   "execution_count": 72,
   "metadata": {
    "collapsed": false,
    "figure": {
     "caption": "The open loop root locus from Voltage to $\\theta$",
     "label": "sb-open-loop-theta"
    }
   },
   "outputs": [
    {
     "name": "stderr",
     "output_type": "stream",
     "text": [
      "/home/jgoppert/.virtualenvs/dev/local/lib/python2.7/site-packages/control/matlab.py:1136: FutureWarning: comparison to `None` will result in an elementwise object comparison in the future.\n",
      "  if klist == None:\n"
     ]
    },
    {
     "data": {
      "image/png": "[encoded data removed]",
      "text/plain": [
       "<matplotlib.figure.Figure at 0x60d8790>"
      ]
     },
     "metadata": {},
     "output_type": "display_data"
    }
   ],
   "source": [
    "control.rlocus(control.ss2tf(ss[0,0]), logspace(0,4, 1000));\n",
    "grid()"
   ]
  },
  {
   "cell_type": "markdown",
   "metadata": {},
   "source": [
    "Figure(\\ref{sb-open-loop-theta}) shows the open loop root locus from the Voltage to $\\theta$, linearized about the vertical equilibrium position."
   ]
  },
  {
   "cell_type": "code",
   "execution_count": 73,
   "metadata": {
    "collapsed": false,
    "figure": {
     "caption": "The open loop root locus from Voltage to $x$",
     "label": "sb-open-loop-x"
    }
   },
   "outputs": [
    {
     "data": {
      "image/png": "[encoded data removed]",
      "text/plain": [
       "<matplotlib.figure.Figure at 0xadf8a50>"
      ]
     },
     "metadata": {},
     "output_type": "display_data"
    }
   ],
   "source": [
    "control.rlocus(control.ss2tf(ss[2,0]), logspace(0,4, 1000));\n",
    "grid()"
   ]
  },
  {
   "cell_type": "markdown",
   "metadata": {},
   "source": [
    "Figure(\\ref{sb-open-loop-x}) shows the open loop root locus from the position, $x$, to the pitch angle, $\\theta$, linearized about the vertical equilibrium position."
   ]
  }
 ],
 "metadata": {
  "kernelspec": {
   "display_name": "phd27",
   "language": "python",
   "name": "phd27"
  },
  "language_info": {
   "codemirror_mode": {
    "name": "ipython",
    "version": 2
   },
   "file_extension": ".py",
   "mimetype": "text/x-python",
   "name": "python",
   "nbconvert_exporter": "python",
   "pygments_lexer": "ipython2",
   "version": "2.7.15"
  }
 },
 "nbformat": 4,
 "nbformat_minor": 2
}
