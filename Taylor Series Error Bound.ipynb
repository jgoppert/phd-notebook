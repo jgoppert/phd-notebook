{
 "metadata": {
  "name": "",
  "signature": "sha256:47afdedb19514133e96e3c6f23e731e26c147f4599a371d73718fa4b2f1b0821"
 },
 "nbformat": 3,
 "nbformat_minor": 0,
 "worksheets": [
  {
   "cells": [
    {
     "cell_type": "code",
     "collapsed": false,
     "input": [
      "%pylab inline\n",
      "import sympy"
     ],
     "language": "python",
     "metadata": {},
     "outputs": [
      {
       "output_type": "stream",
       "stream": "stdout",
       "text": [
        "Populating the interactive namespace from numpy and matplotlib\n"
       ]
      }
     ],
     "prompt_number": 1
    },
    {
     "cell_type": "code",
     "collapsed": false,
     "input": [
      "theta, theta_r, e, t = sympy.symbols('theta, theta_r, e, t')"
     ],
     "language": "python",
     "metadata": {},
     "outputs": [],
     "prompt_number": 2
    },
    {
     "cell_type": "code",
     "collapsed": false,
     "input": [
      "f = sympy.sin(theta) - sympy.sin(theta_r)\n",
      "f"
     ],
     "language": "python",
     "metadata": {},
     "outputs": [
      {
       "metadata": {},
       "output_type": "pyout",
       "prompt_number": 3,
       "text": [
        "sin(theta) - sin(theta_r)"
       ]
      }
     ],
     "prompt_number": 3
    },
    {
     "cell_type": "code",
     "collapsed": false,
     "input": [
      "(f.series(theta,n=4) + f.series(theta_r,n=4)).removeO().collect(theta-theta_r)"
     ],
     "language": "python",
     "metadata": {},
     "outputs": [
      {
       "metadata": {},
       "output_type": "pyout",
       "prompt_number": 4,
       "text": [
        "-theta**3/6 + theta + theta_r**3/6 - theta_r + sin(theta) - sin(theta_r)"
       ]
      }
     ],
     "prompt_number": 4
    },
    {
     "cell_type": "code",
     "collapsed": false,
     "input": [
      "(f.taylor_term(3, theta) + f.taylor_term(3, theta_r))"
     ],
     "language": "python",
     "metadata": {},
     "outputs": [
      {
       "metadata": {},
       "output_type": "pyout",
       "prompt_number": 5,
       "text": [
        "-theta**3/6 + theta_r**3/6"
       ]
      }
     ],
     "prompt_number": 5
    },
    {
     "cell_type": "code",
     "collapsed": false,
     "input": [
      "(theta-0)**3/6 + (theta_r-0)**3/6"
     ],
     "language": "python",
     "metadata": {},
     "outputs": [
      {
       "metadata": {},
       "output_type": "pyout",
       "prompt_number": 6,
       "text": [
        "theta**3/6 + theta_r**3/6"
       ]
      }
     ],
     "prompt_number": 6
    },
    {
     "cell_type": "code",
     "collapsed": false,
     "input": [
      "f.diff(theta), f.diff(theta,2)"
     ],
     "language": "python",
     "metadata": {},
     "outputs": [
      {
       "metadata": {},
       "output_type": "pyout",
       "prompt_number": 7,
       "text": [
        "(cos(theta), -sin(theta))"
       ]
      }
     ],
     "prompt_number": 7
    },
    {
     "cell_type": "code",
     "collapsed": false,
     "input": [
      "f.diff(theta_r), f.diff(theta_r,2)"
     ],
     "language": "python",
     "metadata": {},
     "outputs": [
      {
       "metadata": {},
       "output_type": "pyout",
       "prompt_number": 8,
       "text": [
        "(-cos(theta_r), sin(theta_r))"
       ]
      }
     ],
     "prompt_number": 8
    },
    {
     "cell_type": "markdown",
     "metadata": {},
     "source": [
      "know $|f^{n+1}(x)| \\leq M$\n",
      "over $x \\in [a,b]$\n",
      "\n",
      "source: https://www.khanacademy.org/math/integral-calculus/sequences_series_approx_calc/taylor-series/v/proof--bounding-the-error-or-remainder-of-a-taylor-polynomial-approximation\n",
      "\n",
      "$E(x-a) = f(x-a) - P(x-a) = 0$\n",
      "\n",
      "$E^{n+1}(x-a) = f^{n+1}(x-a) - P^{n+1}_{n}(x-a) = f^{n+1}(x-a)$\n",
      "\n",
      "If we can bound the $n+1^{th}$ derivative, then we can bound the error function.\n",
      "\n",
      "$|E^{n+1}(x)| \\leq M$\n",
      "\n",
      "$|\\int{E^{n+1}(x) dx}| \\leq \\int{|E^{n+1}(x)|dx} \\leq \\int{M dx}$\n",
      "\n",
      "$|E^{n}(x)| \\leq Mx + c$\n",
      "\n",
      "$|E^{n}(a)| = 0 \\leq Ma + c$\n",
      "\n",
      "$-Ma \\leq c$, so want to choose $c = -Ma$\n",
      "\n",
      "\n",
      "$|E^{n}(x)| \\leq M(x-a)$\n",
      "\n",
      "continue integrating to get\n",
      "\n",
      "$|E(x)| \\leq M(x-a)^{n+1}/(n+1)!$\n",
      "\n",
      "For our case $|E^{n+1}(x)| = |\\sin(\\theta)| \\leq |\\theta|$"
     ]
    },
    {
     "cell_type": "code",
     "collapsed": false,
     "input": [
      "n = 1"
     ],
     "language": "python",
     "metadata": {},
     "outputs": [],
     "prompt_number": 9
    },
    {
     "cell_type": "code",
     "collapsed": false,
     "input": [
      "(pi/6)**3"
     ],
     "language": "python",
     "metadata": {},
     "outputs": [
      {
       "metadata": {},
       "output_type": "pyout",
       "prompt_number": 10,
       "text": [
        "0.14354757722361022"
       ]
      }
     ],
     "prompt_number": 10
    },
    {
     "cell_type": "code",
     "collapsed": false,
     "input": [
      "pi/6"
     ],
     "language": "python",
     "metadata": {},
     "outputs": [
      {
       "metadata": {},
       "output_type": "pyout",
       "prompt_number": 11,
       "text": [
        "0.5235987755982988"
       ]
      }
     ],
     "prompt_number": 11
    },
    {
     "cell_type": "code",
     "collapsed": false,
     "input": [
      "f1 = sympy.sin(theta)\n",
      "f1"
     ],
     "language": "python",
     "metadata": {},
     "outputs": [
      {
       "metadata": {},
       "output_type": "pyout",
       "prompt_number": 12,
       "text": [
        "sin(theta)"
       ]
      }
     ],
     "prompt_number": 12
    },
    {
     "cell_type": "code",
     "collapsed": false,
     "input": [
      "f1.diff(theta,n)"
     ],
     "language": "python",
     "metadata": {},
     "outputs": [
      {
       "metadata": {},
       "output_type": "pyout",
       "prompt_number": 13,
       "text": [
        "cos(theta)"
       ]
      }
     ],
     "prompt_number": 13
    },
    {
     "cell_type": "code",
     "collapsed": false,
     "input": [
      "n = 1"
     ],
     "language": "python",
     "metadata": {},
     "outputs": [],
     "prompt_number": 14
    }
   ],
   "metadata": {}
  }
 ]
}